{
  "nbformat": 4,
  "nbformat_minor": 0,
  "metadata": {
    "colab": {
      "provenance": [],
      "gpuType": "T4",
      "toc_visible": true,
      "authorship_tag": "ABX9TyMByRRui36wSYjyG/tw7gT5",
      "include_colab_link": true
    },
    "kernelspec": {
      "name": "python3",
      "display_name": "Python 3"
    },
    "language_info": {
      "name": "python"
    },
    "widgets": {
      "application/vnd.jupyter.widget-state+json": {
        "cef4b8be92c9444a8d44ae2c5dc7f7b1": {
          "model_module": "@jupyter-widgets/controls",
          "model_name": "HBoxModel",
          "model_module_version": "1.5.0",
          "state": {
            "_dom_classes": [],
            "_model_module": "@jupyter-widgets/controls",
            "_model_module_version": "1.5.0",
            "_model_name": "HBoxModel",
            "_view_count": null,
            "_view_module": "@jupyter-widgets/controls",
            "_view_module_version": "1.5.0",
            "_view_name": "HBoxView",
            "box_style": "",
            "children": [
              "IPY_MODEL_d1da99b9e2f048b88149bdc92c66ba6b",
              "IPY_MODEL_3db04e7e88a049208d0dd8e3606ff6e8",
              "IPY_MODEL_01236c53cbb5458eb3cf670d5446157c"
            ],
            "layout": "IPY_MODEL_50921d0eb6564dbdbd3ffe097468e1a0"
          }
        },
        "d1da99b9e2f048b88149bdc92c66ba6b": {
          "model_module": "@jupyter-widgets/controls",
          "model_name": "HTMLModel",
          "model_module_version": "1.5.0",
          "state": {
            "_dom_classes": [],
            "_model_module": "@jupyter-widgets/controls",
            "_model_module_version": "1.5.0",
            "_model_name": "HTMLModel",
            "_view_count": null,
            "_view_module": "@jupyter-widgets/controls",
            "_view_module_version": "1.5.0",
            "_view_name": "HTMLView",
            "description": "",
            "description_tooltip": null,
            "layout": "IPY_MODEL_daaa4b0a01264d8d9312046ea0a9613f",
            "placeholder": "​",
            "style": "IPY_MODEL_d804660f34714212919115fc3ad87a88",
            "value": "100%"
          }
        },
        "3db04e7e88a049208d0dd8e3606ff6e8": {
          "model_module": "@jupyter-widgets/controls",
          "model_name": "FloatProgressModel",
          "model_module_version": "1.5.0",
          "state": {
            "_dom_classes": [],
            "_model_module": "@jupyter-widgets/controls",
            "_model_module_version": "1.5.0",
            "_model_name": "FloatProgressModel",
            "_view_count": null,
            "_view_module": "@jupyter-widgets/controls",
            "_view_module_version": "1.5.0",
            "_view_name": "ProgressView",
            "bar_style": "success",
            "description": "",
            "description_tooltip": null,
            "layout": "IPY_MODEL_8a12df8e919a443ab506c41a353d9de3",
            "max": 313,
            "min": 0,
            "orientation": "horizontal",
            "style": "IPY_MODEL_20b8f10054054b9cbb8cd7fefa7478ac",
            "value": 313
          }
        },
        "01236c53cbb5458eb3cf670d5446157c": {
          "model_module": "@jupyter-widgets/controls",
          "model_name": "HTMLModel",
          "model_module_version": "1.5.0",
          "state": {
            "_dom_classes": [],
            "_model_module": "@jupyter-widgets/controls",
            "_model_module_version": "1.5.0",
            "_model_name": "HTMLModel",
            "_view_count": null,
            "_view_module": "@jupyter-widgets/controls",
            "_view_module_version": "1.5.0",
            "_view_name": "HTMLView",
            "description": "",
            "description_tooltip": null,
            "layout": "IPY_MODEL_e1288d2d0b314951a3800b5133e9675d",
            "placeholder": "​",
            "style": "IPY_MODEL_07a90829248849d6a093b4658c277d81",
            "value": " 313/313 [00:01&lt;00:00, 172.06it/s]"
          }
        },
        "50921d0eb6564dbdbd3ffe097468e1a0": {
          "model_module": "@jupyter-widgets/base",
          "model_name": "LayoutModel",
          "model_module_version": "1.2.0",
          "state": {
            "_model_module": "@jupyter-widgets/base",
            "_model_module_version": "1.2.0",
            "_model_name": "LayoutModel",
            "_view_count": null,
            "_view_module": "@jupyter-widgets/base",
            "_view_module_version": "1.2.0",
            "_view_name": "LayoutView",
            "align_content": null,
            "align_items": null,
            "align_self": null,
            "border": null,
            "bottom": null,
            "display": null,
            "flex": null,
            "flex_flow": null,
            "grid_area": null,
            "grid_auto_columns": null,
            "grid_auto_flow": null,
            "grid_auto_rows": null,
            "grid_column": null,
            "grid_gap": null,
            "grid_row": null,
            "grid_template_areas": null,
            "grid_template_columns": null,
            "grid_template_rows": null,
            "height": null,
            "justify_content": null,
            "justify_items": null,
            "left": null,
            "margin": null,
            "max_height": null,
            "max_width": null,
            "min_height": null,
            "min_width": null,
            "object_fit": null,
            "object_position": null,
            "order": null,
            "overflow": null,
            "overflow_x": null,
            "overflow_y": null,
            "padding": null,
            "right": null,
            "top": null,
            "visibility": null,
            "width": null
          }
        },
        "daaa4b0a01264d8d9312046ea0a9613f": {
          "model_module": "@jupyter-widgets/base",
          "model_name": "LayoutModel",
          "model_module_version": "1.2.0",
          "state": {
            "_model_module": "@jupyter-widgets/base",
            "_model_module_version": "1.2.0",
            "_model_name": "LayoutModel",
            "_view_count": null,
            "_view_module": "@jupyter-widgets/base",
            "_view_module_version": "1.2.0",
            "_view_name": "LayoutView",
            "align_content": null,
            "align_items": null,
            "align_self": null,
            "border": null,
            "bottom": null,
            "display": null,
            "flex": null,
            "flex_flow": null,
            "grid_area": null,
            "grid_auto_columns": null,
            "grid_auto_flow": null,
            "grid_auto_rows": null,
            "grid_column": null,
            "grid_gap": null,
            "grid_row": null,
            "grid_template_areas": null,
            "grid_template_columns": null,
            "grid_template_rows": null,
            "height": null,
            "justify_content": null,
            "justify_items": null,
            "left": null,
            "margin": null,
            "max_height": null,
            "max_width": null,
            "min_height": null,
            "min_width": null,
            "object_fit": null,
            "object_position": null,
            "order": null,
            "overflow": null,
            "overflow_x": null,
            "overflow_y": null,
            "padding": null,
            "right": null,
            "top": null,
            "visibility": null,
            "width": null
          }
        },
        "d804660f34714212919115fc3ad87a88": {
          "model_module": "@jupyter-widgets/controls",
          "model_name": "DescriptionStyleModel",
          "model_module_version": "1.5.0",
          "state": {
            "_model_module": "@jupyter-widgets/controls",
            "_model_module_version": "1.5.0",
            "_model_name": "DescriptionStyleModel",
            "_view_count": null,
            "_view_module": "@jupyter-widgets/base",
            "_view_module_version": "1.2.0",
            "_view_name": "StyleView",
            "description_width": ""
          }
        },
        "8a12df8e919a443ab506c41a353d9de3": {
          "model_module": "@jupyter-widgets/base",
          "model_name": "LayoutModel",
          "model_module_version": "1.2.0",
          "state": {
            "_model_module": "@jupyter-widgets/base",
            "_model_module_version": "1.2.0",
            "_model_name": "LayoutModel",
            "_view_count": null,
            "_view_module": "@jupyter-widgets/base",
            "_view_module_version": "1.2.0",
            "_view_name": "LayoutView",
            "align_content": null,
            "align_items": null,
            "align_self": null,
            "border": null,
            "bottom": null,
            "display": null,
            "flex": null,
            "flex_flow": null,
            "grid_area": null,
            "grid_auto_columns": null,
            "grid_auto_flow": null,
            "grid_auto_rows": null,
            "grid_column": null,
            "grid_gap": null,
            "grid_row": null,
            "grid_template_areas": null,
            "grid_template_columns": null,
            "grid_template_rows": null,
            "height": null,
            "justify_content": null,
            "justify_items": null,
            "left": null,
            "margin": null,
            "max_height": null,
            "max_width": null,
            "min_height": null,
            "min_width": null,
            "object_fit": null,
            "object_position": null,
            "order": null,
            "overflow": null,
            "overflow_x": null,
            "overflow_y": null,
            "padding": null,
            "right": null,
            "top": null,
            "visibility": null,
            "width": null
          }
        },
        "20b8f10054054b9cbb8cd7fefa7478ac": {
          "model_module": "@jupyter-widgets/controls",
          "model_name": "ProgressStyleModel",
          "model_module_version": "1.5.0",
          "state": {
            "_model_module": "@jupyter-widgets/controls",
            "_model_module_version": "1.5.0",
            "_model_name": "ProgressStyleModel",
            "_view_count": null,
            "_view_module": "@jupyter-widgets/base",
            "_view_module_version": "1.2.0",
            "_view_name": "StyleView",
            "bar_color": null,
            "description_width": ""
          }
        },
        "e1288d2d0b314951a3800b5133e9675d": {
          "model_module": "@jupyter-widgets/base",
          "model_name": "LayoutModel",
          "model_module_version": "1.2.0",
          "state": {
            "_model_module": "@jupyter-widgets/base",
            "_model_module_version": "1.2.0",
            "_model_name": "LayoutModel",
            "_view_count": null,
            "_view_module": "@jupyter-widgets/base",
            "_view_module_version": "1.2.0",
            "_view_name": "LayoutView",
            "align_content": null,
            "align_items": null,
            "align_self": null,
            "border": null,
            "bottom": null,
            "display": null,
            "flex": null,
            "flex_flow": null,
            "grid_area": null,
            "grid_auto_columns": null,
            "grid_auto_flow": null,
            "grid_auto_rows": null,
            "grid_column": null,
            "grid_gap": null,
            "grid_row": null,
            "grid_template_areas": null,
            "grid_template_columns": null,
            "grid_template_rows": null,
            "height": null,
            "justify_content": null,
            "justify_items": null,
            "left": null,
            "margin": null,
            "max_height": null,
            "max_width": null,
            "min_height": null,
            "min_width": null,
            "object_fit": null,
            "object_position": null,
            "order": null,
            "overflow": null,
            "overflow_x": null,
            "overflow_y": null,
            "padding": null,
            "right": null,
            "top": null,
            "visibility": null,
            "width": null
          }
        },
        "07a90829248849d6a093b4658c277d81": {
          "model_module": "@jupyter-widgets/controls",
          "model_name": "DescriptionStyleModel",
          "model_module_version": "1.5.0",
          "state": {
            "_model_module": "@jupyter-widgets/controls",
            "_model_module_version": "1.5.0",
            "_model_name": "DescriptionStyleModel",
            "_view_count": null,
            "_view_module": "@jupyter-widgets/base",
            "_view_module_version": "1.2.0",
            "_view_name": "StyleView",
            "description_width": ""
          }
        },
        "99d2e855aab0482f9431309a2c00157d": {
          "model_module": "@jupyter-widgets/controls",
          "model_name": "HBoxModel",
          "model_module_version": "1.5.0",
          "state": {
            "_dom_classes": [],
            "_model_module": "@jupyter-widgets/controls",
            "_model_module_version": "1.5.0",
            "_model_name": "HBoxModel",
            "_view_count": null,
            "_view_module": "@jupyter-widgets/controls",
            "_view_module_version": "1.5.0",
            "_view_name": "HBoxView",
            "box_style": "",
            "children": [
              "IPY_MODEL_8c44d0de20684fb382a85c4acf78dc5b",
              "IPY_MODEL_424f5c79def047aea1e4e424229294b0",
              "IPY_MODEL_76a8f5faee8d42b9a544177f43ba0380"
            ],
            "layout": "IPY_MODEL_9d9409966bc944a69ef0225845ad6416"
          }
        },
        "8c44d0de20684fb382a85c4acf78dc5b": {
          "model_module": "@jupyter-widgets/controls",
          "model_name": "HTMLModel",
          "model_module_version": "1.5.0",
          "state": {
            "_dom_classes": [],
            "_model_module": "@jupyter-widgets/controls",
            "_model_module_version": "1.5.0",
            "_model_name": "HTMLModel",
            "_view_count": null,
            "_view_module": "@jupyter-widgets/controls",
            "_view_module_version": "1.5.0",
            "_view_name": "HTMLView",
            "description": "",
            "description_tooltip": null,
            "layout": "IPY_MODEL_d80044c63f8d4d8895f6ed48415f78c2",
            "placeholder": "​",
            "style": "IPY_MODEL_f2b0fe75ad1841ab8674ab997cec225c",
            "value": "100%"
          }
        },
        "424f5c79def047aea1e4e424229294b0": {
          "model_module": "@jupyter-widgets/controls",
          "model_name": "FloatProgressModel",
          "model_module_version": "1.5.0",
          "state": {
            "_dom_classes": [],
            "_model_module": "@jupyter-widgets/controls",
            "_model_module_version": "1.5.0",
            "_model_name": "FloatProgressModel",
            "_view_count": null,
            "_view_module": "@jupyter-widgets/controls",
            "_view_module_version": "1.5.0",
            "_view_name": "ProgressView",
            "bar_style": "success",
            "description": "",
            "description_tooltip": null,
            "layout": "IPY_MODEL_77a649b5772449d5ac8fe8e6a0b8c1dd",
            "max": 3,
            "min": 0,
            "orientation": "horizontal",
            "style": "IPY_MODEL_aad15ac14fac4c7bb6efa5a4b53c96a6",
            "value": 3
          }
        },
        "76a8f5faee8d42b9a544177f43ba0380": {
          "model_module": "@jupyter-widgets/controls",
          "model_name": "HTMLModel",
          "model_module_version": "1.5.0",
          "state": {
            "_dom_classes": [],
            "_model_module": "@jupyter-widgets/controls",
            "_model_module_version": "1.5.0",
            "_model_name": "HTMLModel",
            "_view_count": null,
            "_view_module": "@jupyter-widgets/controls",
            "_view_module_version": "1.5.0",
            "_view_name": "HTMLView",
            "description": "",
            "description_tooltip": null,
            "layout": "IPY_MODEL_8f77cfdbe44847188c64648a3bb18a08",
            "placeholder": "​",
            "style": "IPY_MODEL_bcaff2e3ca33407b9f02ec333aa9bd9e",
            "value": " 3/3 [00:46&lt;00:00, 14.41s/it]"
          }
        },
        "9d9409966bc944a69ef0225845ad6416": {
          "model_module": "@jupyter-widgets/base",
          "model_name": "LayoutModel",
          "model_module_version": "1.2.0",
          "state": {
            "_model_module": "@jupyter-widgets/base",
            "_model_module_version": "1.2.0",
            "_model_name": "LayoutModel",
            "_view_count": null,
            "_view_module": "@jupyter-widgets/base",
            "_view_module_version": "1.2.0",
            "_view_name": "LayoutView",
            "align_content": null,
            "align_items": null,
            "align_self": null,
            "border": null,
            "bottom": null,
            "display": null,
            "flex": null,
            "flex_flow": null,
            "grid_area": null,
            "grid_auto_columns": null,
            "grid_auto_flow": null,
            "grid_auto_rows": null,
            "grid_column": null,
            "grid_gap": null,
            "grid_row": null,
            "grid_template_areas": null,
            "grid_template_columns": null,
            "grid_template_rows": null,
            "height": null,
            "justify_content": null,
            "justify_items": null,
            "left": null,
            "margin": null,
            "max_height": null,
            "max_width": null,
            "min_height": null,
            "min_width": null,
            "object_fit": null,
            "object_position": null,
            "order": null,
            "overflow": null,
            "overflow_x": null,
            "overflow_y": null,
            "padding": null,
            "right": null,
            "top": null,
            "visibility": null,
            "width": null
          }
        },
        "d80044c63f8d4d8895f6ed48415f78c2": {
          "model_module": "@jupyter-widgets/base",
          "model_name": "LayoutModel",
          "model_module_version": "1.2.0",
          "state": {
            "_model_module": "@jupyter-widgets/base",
            "_model_module_version": "1.2.0",
            "_model_name": "LayoutModel",
            "_view_count": null,
            "_view_module": "@jupyter-widgets/base",
            "_view_module_version": "1.2.0",
            "_view_name": "LayoutView",
            "align_content": null,
            "align_items": null,
            "align_self": null,
            "border": null,
            "bottom": null,
            "display": null,
            "flex": null,
            "flex_flow": null,
            "grid_area": null,
            "grid_auto_columns": null,
            "grid_auto_flow": null,
            "grid_auto_rows": null,
            "grid_column": null,
            "grid_gap": null,
            "grid_row": null,
            "grid_template_areas": null,
            "grid_template_columns": null,
            "grid_template_rows": null,
            "height": null,
            "justify_content": null,
            "justify_items": null,
            "left": null,
            "margin": null,
            "max_height": null,
            "max_width": null,
            "min_height": null,
            "min_width": null,
            "object_fit": null,
            "object_position": null,
            "order": null,
            "overflow": null,
            "overflow_x": null,
            "overflow_y": null,
            "padding": null,
            "right": null,
            "top": null,
            "visibility": null,
            "width": null
          }
        },
        "f2b0fe75ad1841ab8674ab997cec225c": {
          "model_module": "@jupyter-widgets/controls",
          "model_name": "DescriptionStyleModel",
          "model_module_version": "1.5.0",
          "state": {
            "_model_module": "@jupyter-widgets/controls",
            "_model_module_version": "1.5.0",
            "_model_name": "DescriptionStyleModel",
            "_view_count": null,
            "_view_module": "@jupyter-widgets/base",
            "_view_module_version": "1.2.0",
            "_view_name": "StyleView",
            "description_width": ""
          }
        },
        "77a649b5772449d5ac8fe8e6a0b8c1dd": {
          "model_module": "@jupyter-widgets/base",
          "model_name": "LayoutModel",
          "model_module_version": "1.2.0",
          "state": {
            "_model_module": "@jupyter-widgets/base",
            "_model_module_version": "1.2.0",
            "_model_name": "LayoutModel",
            "_view_count": null,
            "_view_module": "@jupyter-widgets/base",
            "_view_module_version": "1.2.0",
            "_view_name": "LayoutView",
            "align_content": null,
            "align_items": null,
            "align_self": null,
            "border": null,
            "bottom": null,
            "display": null,
            "flex": null,
            "flex_flow": null,
            "grid_area": null,
            "grid_auto_columns": null,
            "grid_auto_flow": null,
            "grid_auto_rows": null,
            "grid_column": null,
            "grid_gap": null,
            "grid_row": null,
            "grid_template_areas": null,
            "grid_template_columns": null,
            "grid_template_rows": null,
            "height": null,
            "justify_content": null,
            "justify_items": null,
            "left": null,
            "margin": null,
            "max_height": null,
            "max_width": null,
            "min_height": null,
            "min_width": null,
            "object_fit": null,
            "object_position": null,
            "order": null,
            "overflow": null,
            "overflow_x": null,
            "overflow_y": null,
            "padding": null,
            "right": null,
            "top": null,
            "visibility": null,
            "width": null
          }
        },
        "aad15ac14fac4c7bb6efa5a4b53c96a6": {
          "model_module": "@jupyter-widgets/controls",
          "model_name": "ProgressStyleModel",
          "model_module_version": "1.5.0",
          "state": {
            "_model_module": "@jupyter-widgets/controls",
            "_model_module_version": "1.5.0",
            "_model_name": "ProgressStyleModel",
            "_view_count": null,
            "_view_module": "@jupyter-widgets/base",
            "_view_module_version": "1.2.0",
            "_view_name": "StyleView",
            "bar_color": null,
            "description_width": ""
          }
        },
        "8f77cfdbe44847188c64648a3bb18a08": {
          "model_module": "@jupyter-widgets/base",
          "model_name": "LayoutModel",
          "model_module_version": "1.2.0",
          "state": {
            "_model_module": "@jupyter-widgets/base",
            "_model_module_version": "1.2.0",
            "_model_name": "LayoutModel",
            "_view_count": null,
            "_view_module": "@jupyter-widgets/base",
            "_view_module_version": "1.2.0",
            "_view_name": "LayoutView",
            "align_content": null,
            "align_items": null,
            "align_self": null,
            "border": null,
            "bottom": null,
            "display": null,
            "flex": null,
            "flex_flow": null,
            "grid_area": null,
            "grid_auto_columns": null,
            "grid_auto_flow": null,
            "grid_auto_rows": null,
            "grid_column": null,
            "grid_gap": null,
            "grid_row": null,
            "grid_template_areas": null,
            "grid_template_columns": null,
            "grid_template_rows": null,
            "height": null,
            "justify_content": null,
            "justify_items": null,
            "left": null,
            "margin": null,
            "max_height": null,
            "max_width": null,
            "min_height": null,
            "min_width": null,
            "object_fit": null,
            "object_position": null,
            "order": null,
            "overflow": null,
            "overflow_x": null,
            "overflow_y": null,
            "padding": null,
            "right": null,
            "top": null,
            "visibility": null,
            "width": null
          }
        },
        "bcaff2e3ca33407b9f02ec333aa9bd9e": {
          "model_module": "@jupyter-widgets/controls",
          "model_name": "DescriptionStyleModel",
          "model_module_version": "1.5.0",
          "state": {
            "_model_module": "@jupyter-widgets/controls",
            "_model_module_version": "1.5.0",
            "_model_name": "DescriptionStyleModel",
            "_view_count": null,
            "_view_module": "@jupyter-widgets/base",
            "_view_module_version": "1.2.0",
            "_view_name": "StyleView",
            "description_width": ""
          }
        },
        "00f2aaee39184c54876da2121660fe21": {
          "model_module": "@jupyter-widgets/controls",
          "model_name": "HBoxModel",
          "model_module_version": "1.5.0",
          "state": {
            "_dom_classes": [],
            "_model_module": "@jupyter-widgets/controls",
            "_model_module_version": "1.5.0",
            "_model_name": "HBoxModel",
            "_view_count": null,
            "_view_module": "@jupyter-widgets/controls",
            "_view_module_version": "1.5.0",
            "_view_name": "HBoxView",
            "box_style": "",
            "children": [
              "IPY_MODEL_76fc6df25b434c0892324c3df92c29bf",
              "IPY_MODEL_d41ac9e5fac842998b21e3670536a868",
              "IPY_MODEL_3ef6f7917f204c28926e63abdafebc96"
            ],
            "layout": "IPY_MODEL_5045400183154e9b9fa8344f46473df5"
          }
        },
        "76fc6df25b434c0892324c3df92c29bf": {
          "model_module": "@jupyter-widgets/controls",
          "model_name": "HTMLModel",
          "model_module_version": "1.5.0",
          "state": {
            "_dom_classes": [],
            "_model_module": "@jupyter-widgets/controls",
            "_model_module_version": "1.5.0",
            "_model_name": "HTMLModel",
            "_view_count": null,
            "_view_module": "@jupyter-widgets/controls",
            "_view_module_version": "1.5.0",
            "_view_name": "HTMLView",
            "description": "",
            "description_tooltip": null,
            "layout": "IPY_MODEL_3d282f668e8f4415abcd3e09bc508b1a",
            "placeholder": "​",
            "style": "IPY_MODEL_5eef8ab13362455183a366e2febfbada",
            "value": "100%"
          }
        },
        "d41ac9e5fac842998b21e3670536a868": {
          "model_module": "@jupyter-widgets/controls",
          "model_name": "FloatProgressModel",
          "model_module_version": "1.5.0",
          "state": {
            "_dom_classes": [],
            "_model_module": "@jupyter-widgets/controls",
            "_model_module_version": "1.5.0",
            "_model_name": "FloatProgressModel",
            "_view_count": null,
            "_view_module": "@jupyter-widgets/controls",
            "_view_module_version": "1.5.0",
            "_view_name": "ProgressView",
            "bar_style": "success",
            "description": "",
            "description_tooltip": null,
            "layout": "IPY_MODEL_dcf930ec8e5844ba937c0d62bb13c4de",
            "max": 313,
            "min": 0,
            "orientation": "horizontal",
            "style": "IPY_MODEL_c1c2b5e4a16d4e18b908ddb83c3e6bcd",
            "value": 313
          }
        },
        "3ef6f7917f204c28926e63abdafebc96": {
          "model_module": "@jupyter-widgets/controls",
          "model_name": "HTMLModel",
          "model_module_version": "1.5.0",
          "state": {
            "_dom_classes": [],
            "_model_module": "@jupyter-widgets/controls",
            "_model_module_version": "1.5.0",
            "_model_name": "HTMLModel",
            "_view_count": null,
            "_view_module": "@jupyter-widgets/controls",
            "_view_module_version": "1.5.0",
            "_view_name": "HTMLView",
            "description": "",
            "description_tooltip": null,
            "layout": "IPY_MODEL_9eeeac0c7e3842c0a2ed0917a25e23a4",
            "placeholder": "​",
            "style": "IPY_MODEL_9faeec161641479d9832ce5de37b0feb",
            "value": " 313/313 [00:01&lt;00:00, 180.99it/s]"
          }
        },
        "5045400183154e9b9fa8344f46473df5": {
          "model_module": "@jupyter-widgets/base",
          "model_name": "LayoutModel",
          "model_module_version": "1.2.0",
          "state": {
            "_model_module": "@jupyter-widgets/base",
            "_model_module_version": "1.2.0",
            "_model_name": "LayoutModel",
            "_view_count": null,
            "_view_module": "@jupyter-widgets/base",
            "_view_module_version": "1.2.0",
            "_view_name": "LayoutView",
            "align_content": null,
            "align_items": null,
            "align_self": null,
            "border": null,
            "bottom": null,
            "display": null,
            "flex": null,
            "flex_flow": null,
            "grid_area": null,
            "grid_auto_columns": null,
            "grid_auto_flow": null,
            "grid_auto_rows": null,
            "grid_column": null,
            "grid_gap": null,
            "grid_row": null,
            "grid_template_areas": null,
            "grid_template_columns": null,
            "grid_template_rows": null,
            "height": null,
            "justify_content": null,
            "justify_items": null,
            "left": null,
            "margin": null,
            "max_height": null,
            "max_width": null,
            "min_height": null,
            "min_width": null,
            "object_fit": null,
            "object_position": null,
            "order": null,
            "overflow": null,
            "overflow_x": null,
            "overflow_y": null,
            "padding": null,
            "right": null,
            "top": null,
            "visibility": null,
            "width": null
          }
        },
        "3d282f668e8f4415abcd3e09bc508b1a": {
          "model_module": "@jupyter-widgets/base",
          "model_name": "LayoutModel",
          "model_module_version": "1.2.0",
          "state": {
            "_model_module": "@jupyter-widgets/base",
            "_model_module_version": "1.2.0",
            "_model_name": "LayoutModel",
            "_view_count": null,
            "_view_module": "@jupyter-widgets/base",
            "_view_module_version": "1.2.0",
            "_view_name": "LayoutView",
            "align_content": null,
            "align_items": null,
            "align_self": null,
            "border": null,
            "bottom": null,
            "display": null,
            "flex": null,
            "flex_flow": null,
            "grid_area": null,
            "grid_auto_columns": null,
            "grid_auto_flow": null,
            "grid_auto_rows": null,
            "grid_column": null,
            "grid_gap": null,
            "grid_row": null,
            "grid_template_areas": null,
            "grid_template_columns": null,
            "grid_template_rows": null,
            "height": null,
            "justify_content": null,
            "justify_items": null,
            "left": null,
            "margin": null,
            "max_height": null,
            "max_width": null,
            "min_height": null,
            "min_width": null,
            "object_fit": null,
            "object_position": null,
            "order": null,
            "overflow": null,
            "overflow_x": null,
            "overflow_y": null,
            "padding": null,
            "right": null,
            "top": null,
            "visibility": null,
            "width": null
          }
        },
        "5eef8ab13362455183a366e2febfbada": {
          "model_module": "@jupyter-widgets/controls",
          "model_name": "DescriptionStyleModel",
          "model_module_version": "1.5.0",
          "state": {
            "_model_module": "@jupyter-widgets/controls",
            "_model_module_version": "1.5.0",
            "_model_name": "DescriptionStyleModel",
            "_view_count": null,
            "_view_module": "@jupyter-widgets/base",
            "_view_module_version": "1.2.0",
            "_view_name": "StyleView",
            "description_width": ""
          }
        },
        "dcf930ec8e5844ba937c0d62bb13c4de": {
          "model_module": "@jupyter-widgets/base",
          "model_name": "LayoutModel",
          "model_module_version": "1.2.0",
          "state": {
            "_model_module": "@jupyter-widgets/base",
            "_model_module_version": "1.2.0",
            "_model_name": "LayoutModel",
            "_view_count": null,
            "_view_module": "@jupyter-widgets/base",
            "_view_module_version": "1.2.0",
            "_view_name": "LayoutView",
            "align_content": null,
            "align_items": null,
            "align_self": null,
            "border": null,
            "bottom": null,
            "display": null,
            "flex": null,
            "flex_flow": null,
            "grid_area": null,
            "grid_auto_columns": null,
            "grid_auto_flow": null,
            "grid_auto_rows": null,
            "grid_column": null,
            "grid_gap": null,
            "grid_row": null,
            "grid_template_areas": null,
            "grid_template_columns": null,
            "grid_template_rows": null,
            "height": null,
            "justify_content": null,
            "justify_items": null,
            "left": null,
            "margin": null,
            "max_height": null,
            "max_width": null,
            "min_height": null,
            "min_width": null,
            "object_fit": null,
            "object_position": null,
            "order": null,
            "overflow": null,
            "overflow_x": null,
            "overflow_y": null,
            "padding": null,
            "right": null,
            "top": null,
            "visibility": null,
            "width": null
          }
        },
        "c1c2b5e4a16d4e18b908ddb83c3e6bcd": {
          "model_module": "@jupyter-widgets/controls",
          "model_name": "ProgressStyleModel",
          "model_module_version": "1.5.0",
          "state": {
            "_model_module": "@jupyter-widgets/controls",
            "_model_module_version": "1.5.0",
            "_model_name": "ProgressStyleModel",
            "_view_count": null,
            "_view_module": "@jupyter-widgets/base",
            "_view_module_version": "1.2.0",
            "_view_name": "StyleView",
            "bar_color": null,
            "description_width": ""
          }
        },
        "9eeeac0c7e3842c0a2ed0917a25e23a4": {
          "model_module": "@jupyter-widgets/base",
          "model_name": "LayoutModel",
          "model_module_version": "1.2.0",
          "state": {
            "_model_module": "@jupyter-widgets/base",
            "_model_module_version": "1.2.0",
            "_model_name": "LayoutModel",
            "_view_count": null,
            "_view_module": "@jupyter-widgets/base",
            "_view_module_version": "1.2.0",
            "_view_name": "LayoutView",
            "align_content": null,
            "align_items": null,
            "align_self": null,
            "border": null,
            "bottom": null,
            "display": null,
            "flex": null,
            "flex_flow": null,
            "grid_area": null,
            "grid_auto_columns": null,
            "grid_auto_flow": null,
            "grid_auto_rows": null,
            "grid_column": null,
            "grid_gap": null,
            "grid_row": null,
            "grid_template_areas": null,
            "grid_template_columns": null,
            "grid_template_rows": null,
            "height": null,
            "justify_content": null,
            "justify_items": null,
            "left": null,
            "margin": null,
            "max_height": null,
            "max_width": null,
            "min_height": null,
            "min_width": null,
            "object_fit": null,
            "object_position": null,
            "order": null,
            "overflow": null,
            "overflow_x": null,
            "overflow_y": null,
            "padding": null,
            "right": null,
            "top": null,
            "visibility": null,
            "width": null
          }
        },
        "9faeec161641479d9832ce5de37b0feb": {
          "model_module": "@jupyter-widgets/controls",
          "model_name": "DescriptionStyleModel",
          "model_module_version": "1.5.0",
          "state": {
            "_model_module": "@jupyter-widgets/controls",
            "_model_module_version": "1.5.0",
            "_model_name": "DescriptionStyleModel",
            "_view_count": null,
            "_view_module": "@jupyter-widgets/base",
            "_view_module_version": "1.2.0",
            "_view_name": "StyleView",
            "description_width": ""
          }
        },
        "45c5fe7cf6f045dcb4d102cd7f57b71e": {
          "model_module": "@jupyter-widgets/controls",
          "model_name": "HBoxModel",
          "model_module_version": "1.5.0",
          "state": {
            "_dom_classes": [],
            "_model_module": "@jupyter-widgets/controls",
            "_model_module_version": "1.5.0",
            "_model_name": "HBoxModel",
            "_view_count": null,
            "_view_module": "@jupyter-widgets/controls",
            "_view_module_version": "1.5.0",
            "_view_name": "HBoxView",
            "box_style": "",
            "children": [
              "IPY_MODEL_ebdd61037c804347832e6f49e8ee7c89",
              "IPY_MODEL_c13e8450e33349d9a365c2e7ee7b4224",
              "IPY_MODEL_572e6295d12848b1836cc0d7900e0316"
            ],
            "layout": "IPY_MODEL_ac0bf084c6b24a46a97e8343d66d2fd8"
          }
        },
        "ebdd61037c804347832e6f49e8ee7c89": {
          "model_module": "@jupyter-widgets/controls",
          "model_name": "HTMLModel",
          "model_module_version": "1.5.0",
          "state": {
            "_dom_classes": [],
            "_model_module": "@jupyter-widgets/controls",
            "_model_module_version": "1.5.0",
            "_model_name": "HTMLModel",
            "_view_count": null,
            "_view_module": "@jupyter-widgets/controls",
            "_view_module_version": "1.5.0",
            "_view_name": "HTMLView",
            "description": "",
            "description_tooltip": null,
            "layout": "IPY_MODEL_5a57e10d03a24e8b856865a50cc31d34",
            "placeholder": "​",
            "style": "IPY_MODEL_3fd285a1d8bc42508c60da7f7ade8364",
            "value": "100%"
          }
        },
        "c13e8450e33349d9a365c2e7ee7b4224": {
          "model_module": "@jupyter-widgets/controls",
          "model_name": "FloatProgressModel",
          "model_module_version": "1.5.0",
          "state": {
            "_dom_classes": [],
            "_model_module": "@jupyter-widgets/controls",
            "_model_module_version": "1.5.0",
            "_model_name": "FloatProgressModel",
            "_view_count": null,
            "_view_module": "@jupyter-widgets/controls",
            "_view_module_version": "1.5.0",
            "_view_name": "ProgressView",
            "bar_style": "success",
            "description": "",
            "description_tooltip": null,
            "layout": "IPY_MODEL_2acff447b2f14350a3196b2b3723d35a",
            "max": 3,
            "min": 0,
            "orientation": "horizontal",
            "style": "IPY_MODEL_15f3ce8f3f1e4012b42c5b3087f43839",
            "value": 3
          }
        },
        "572e6295d12848b1836cc0d7900e0316": {
          "model_module": "@jupyter-widgets/controls",
          "model_name": "HTMLModel",
          "model_module_version": "1.5.0",
          "state": {
            "_dom_classes": [],
            "_model_module": "@jupyter-widgets/controls",
            "_model_module_version": "1.5.0",
            "_model_name": "HTMLModel",
            "_view_count": null,
            "_view_module": "@jupyter-widgets/controls",
            "_view_module_version": "1.5.0",
            "_view_name": "HTMLView",
            "description": "",
            "description_tooltip": null,
            "layout": "IPY_MODEL_6ac0949577ff46bc93c5061f9233ea13",
            "placeholder": "​",
            "style": "IPY_MODEL_5a0ff33fac034990aad09ad090f3ffcd",
            "value": " 3/3 [00:53&lt;00:00, 16.72s/it]"
          }
        },
        "ac0bf084c6b24a46a97e8343d66d2fd8": {
          "model_module": "@jupyter-widgets/base",
          "model_name": "LayoutModel",
          "model_module_version": "1.2.0",
          "state": {
            "_model_module": "@jupyter-widgets/base",
            "_model_module_version": "1.2.0",
            "_model_name": "LayoutModel",
            "_view_count": null,
            "_view_module": "@jupyter-widgets/base",
            "_view_module_version": "1.2.0",
            "_view_name": "LayoutView",
            "align_content": null,
            "align_items": null,
            "align_self": null,
            "border": null,
            "bottom": null,
            "display": null,
            "flex": null,
            "flex_flow": null,
            "grid_area": null,
            "grid_auto_columns": null,
            "grid_auto_flow": null,
            "grid_auto_rows": null,
            "grid_column": null,
            "grid_gap": null,
            "grid_row": null,
            "grid_template_areas": null,
            "grid_template_columns": null,
            "grid_template_rows": null,
            "height": null,
            "justify_content": null,
            "justify_items": null,
            "left": null,
            "margin": null,
            "max_height": null,
            "max_width": null,
            "min_height": null,
            "min_width": null,
            "object_fit": null,
            "object_position": null,
            "order": null,
            "overflow": null,
            "overflow_x": null,
            "overflow_y": null,
            "padding": null,
            "right": null,
            "top": null,
            "visibility": null,
            "width": null
          }
        },
        "5a57e10d03a24e8b856865a50cc31d34": {
          "model_module": "@jupyter-widgets/base",
          "model_name": "LayoutModel",
          "model_module_version": "1.2.0",
          "state": {
            "_model_module": "@jupyter-widgets/base",
            "_model_module_version": "1.2.0",
            "_model_name": "LayoutModel",
            "_view_count": null,
            "_view_module": "@jupyter-widgets/base",
            "_view_module_version": "1.2.0",
            "_view_name": "LayoutView",
            "align_content": null,
            "align_items": null,
            "align_self": null,
            "border": null,
            "bottom": null,
            "display": null,
            "flex": null,
            "flex_flow": null,
            "grid_area": null,
            "grid_auto_columns": null,
            "grid_auto_flow": null,
            "grid_auto_rows": null,
            "grid_column": null,
            "grid_gap": null,
            "grid_row": null,
            "grid_template_areas": null,
            "grid_template_columns": null,
            "grid_template_rows": null,
            "height": null,
            "justify_content": null,
            "justify_items": null,
            "left": null,
            "margin": null,
            "max_height": null,
            "max_width": null,
            "min_height": null,
            "min_width": null,
            "object_fit": null,
            "object_position": null,
            "order": null,
            "overflow": null,
            "overflow_x": null,
            "overflow_y": null,
            "padding": null,
            "right": null,
            "top": null,
            "visibility": null,
            "width": null
          }
        },
        "3fd285a1d8bc42508c60da7f7ade8364": {
          "model_module": "@jupyter-widgets/controls",
          "model_name": "DescriptionStyleModel",
          "model_module_version": "1.5.0",
          "state": {
            "_model_module": "@jupyter-widgets/controls",
            "_model_module_version": "1.5.0",
            "_model_name": "DescriptionStyleModel",
            "_view_count": null,
            "_view_module": "@jupyter-widgets/base",
            "_view_module_version": "1.2.0",
            "_view_name": "StyleView",
            "description_width": ""
          }
        },
        "2acff447b2f14350a3196b2b3723d35a": {
          "model_module": "@jupyter-widgets/base",
          "model_name": "LayoutModel",
          "model_module_version": "1.2.0",
          "state": {
            "_model_module": "@jupyter-widgets/base",
            "_model_module_version": "1.2.0",
            "_model_name": "LayoutModel",
            "_view_count": null,
            "_view_module": "@jupyter-widgets/base",
            "_view_module_version": "1.2.0",
            "_view_name": "LayoutView",
            "align_content": null,
            "align_items": null,
            "align_self": null,
            "border": null,
            "bottom": null,
            "display": null,
            "flex": null,
            "flex_flow": null,
            "grid_area": null,
            "grid_auto_columns": null,
            "grid_auto_flow": null,
            "grid_auto_rows": null,
            "grid_column": null,
            "grid_gap": null,
            "grid_row": null,
            "grid_template_areas": null,
            "grid_template_columns": null,
            "grid_template_rows": null,
            "height": null,
            "justify_content": null,
            "justify_items": null,
            "left": null,
            "margin": null,
            "max_height": null,
            "max_width": null,
            "min_height": null,
            "min_width": null,
            "object_fit": null,
            "object_position": null,
            "order": null,
            "overflow": null,
            "overflow_x": null,
            "overflow_y": null,
            "padding": null,
            "right": null,
            "top": null,
            "visibility": null,
            "width": null
          }
        },
        "15f3ce8f3f1e4012b42c5b3087f43839": {
          "model_module": "@jupyter-widgets/controls",
          "model_name": "ProgressStyleModel",
          "model_module_version": "1.5.0",
          "state": {
            "_model_module": "@jupyter-widgets/controls",
            "_model_module_version": "1.5.0",
            "_model_name": "ProgressStyleModel",
            "_view_count": null,
            "_view_module": "@jupyter-widgets/base",
            "_view_module_version": "1.2.0",
            "_view_name": "StyleView",
            "bar_color": null,
            "description_width": ""
          }
        },
        "6ac0949577ff46bc93c5061f9233ea13": {
          "model_module": "@jupyter-widgets/base",
          "model_name": "LayoutModel",
          "model_module_version": "1.2.0",
          "state": {
            "_model_module": "@jupyter-widgets/base",
            "_model_module_version": "1.2.0",
            "_model_name": "LayoutModel",
            "_view_count": null,
            "_view_module": "@jupyter-widgets/base",
            "_view_module_version": "1.2.0",
            "_view_name": "LayoutView",
            "align_content": null,
            "align_items": null,
            "align_self": null,
            "border": null,
            "bottom": null,
            "display": null,
            "flex": null,
            "flex_flow": null,
            "grid_area": null,
            "grid_auto_columns": null,
            "grid_auto_flow": null,
            "grid_auto_rows": null,
            "grid_column": null,
            "grid_gap": null,
            "grid_row": null,
            "grid_template_areas": null,
            "grid_template_columns": null,
            "grid_template_rows": null,
            "height": null,
            "justify_content": null,
            "justify_items": null,
            "left": null,
            "margin": null,
            "max_height": null,
            "max_width": null,
            "min_height": null,
            "min_width": null,
            "object_fit": null,
            "object_position": null,
            "order": null,
            "overflow": null,
            "overflow_x": null,
            "overflow_y": null,
            "padding": null,
            "right": null,
            "top": null,
            "visibility": null,
            "width": null
          }
        },
        "5a0ff33fac034990aad09ad090f3ffcd": {
          "model_module": "@jupyter-widgets/controls",
          "model_name": "DescriptionStyleModel",
          "model_module_version": "1.5.0",
          "state": {
            "_model_module": "@jupyter-widgets/controls",
            "_model_module_version": "1.5.0",
            "_model_name": "DescriptionStyleModel",
            "_view_count": null,
            "_view_module": "@jupyter-widgets/base",
            "_view_module_version": "1.2.0",
            "_view_name": "StyleView",
            "description_width": ""
          }
        },
        "6c0e5dae404247189d22947a88077dcb": {
          "model_module": "@jupyter-widgets/controls",
          "model_name": "HBoxModel",
          "model_module_version": "1.5.0",
          "state": {
            "_dom_classes": [],
            "_model_module": "@jupyter-widgets/controls",
            "_model_module_version": "1.5.0",
            "_model_name": "HBoxModel",
            "_view_count": null,
            "_view_module": "@jupyter-widgets/controls",
            "_view_module_version": "1.5.0",
            "_view_name": "HBoxView",
            "box_style": "",
            "children": [
              "IPY_MODEL_23329f17483b45c19a0be76a01172017",
              "IPY_MODEL_132d1c5e034f4412b42b0fbfa8c28c01",
              "IPY_MODEL_7365111b8df34df18cf42b8fb8264651"
            ],
            "layout": "IPY_MODEL_de256c8832334796ba62855f473319da"
          }
        },
        "23329f17483b45c19a0be76a01172017": {
          "model_module": "@jupyter-widgets/controls",
          "model_name": "HTMLModel",
          "model_module_version": "1.5.0",
          "state": {
            "_dom_classes": [],
            "_model_module": "@jupyter-widgets/controls",
            "_model_module_version": "1.5.0",
            "_model_name": "HTMLModel",
            "_view_count": null,
            "_view_module": "@jupyter-widgets/controls",
            "_view_module_version": "1.5.0",
            "_view_name": "HTMLView",
            "description": "",
            "description_tooltip": null,
            "layout": "IPY_MODEL_454e16b1393e4ee1a2acae5806f04dfb",
            "placeholder": "​",
            "style": "IPY_MODEL_676522fbab4d4731a4c194274e25837c",
            "value": "100%"
          }
        },
        "132d1c5e034f4412b42b0fbfa8c28c01": {
          "model_module": "@jupyter-widgets/controls",
          "model_name": "FloatProgressModel",
          "model_module_version": "1.5.0",
          "state": {
            "_dom_classes": [],
            "_model_module": "@jupyter-widgets/controls",
            "_model_module_version": "1.5.0",
            "_model_name": "FloatProgressModel",
            "_view_count": null,
            "_view_module": "@jupyter-widgets/controls",
            "_view_module_version": "1.5.0",
            "_view_name": "ProgressView",
            "bar_style": "success",
            "description": "",
            "description_tooltip": null,
            "layout": "IPY_MODEL_dc9ff8b61baf459cb6b8830d666d2805",
            "max": 313,
            "min": 0,
            "orientation": "horizontal",
            "style": "IPY_MODEL_9642388f7d65488ca803ce6583e04637",
            "value": 313
          }
        },
        "7365111b8df34df18cf42b8fb8264651": {
          "model_module": "@jupyter-widgets/controls",
          "model_name": "HTMLModel",
          "model_module_version": "1.5.0",
          "state": {
            "_dom_classes": [],
            "_model_module": "@jupyter-widgets/controls",
            "_model_module_version": "1.5.0",
            "_model_name": "HTMLModel",
            "_view_count": null,
            "_view_module": "@jupyter-widgets/controls",
            "_view_module_version": "1.5.0",
            "_view_name": "HTMLView",
            "description": "",
            "description_tooltip": null,
            "layout": "IPY_MODEL_0c5e0fcd469b450783a0bb6c89ecc42f",
            "placeholder": "​",
            "style": "IPY_MODEL_b0f946cf4c2d4665ad99761bb7d30324",
            "value": " 313/313 [00:01&lt;00:00, 180.55it/s]"
          }
        },
        "de256c8832334796ba62855f473319da": {
          "model_module": "@jupyter-widgets/base",
          "model_name": "LayoutModel",
          "model_module_version": "1.2.0",
          "state": {
            "_model_module": "@jupyter-widgets/base",
            "_model_module_version": "1.2.0",
            "_model_name": "LayoutModel",
            "_view_count": null,
            "_view_module": "@jupyter-widgets/base",
            "_view_module_version": "1.2.0",
            "_view_name": "LayoutView",
            "align_content": null,
            "align_items": null,
            "align_self": null,
            "border": null,
            "bottom": null,
            "display": null,
            "flex": null,
            "flex_flow": null,
            "grid_area": null,
            "grid_auto_columns": null,
            "grid_auto_flow": null,
            "grid_auto_rows": null,
            "grid_column": null,
            "grid_gap": null,
            "grid_row": null,
            "grid_template_areas": null,
            "grid_template_columns": null,
            "grid_template_rows": null,
            "height": null,
            "justify_content": null,
            "justify_items": null,
            "left": null,
            "margin": null,
            "max_height": null,
            "max_width": null,
            "min_height": null,
            "min_width": null,
            "object_fit": null,
            "object_position": null,
            "order": null,
            "overflow": null,
            "overflow_x": null,
            "overflow_y": null,
            "padding": null,
            "right": null,
            "top": null,
            "visibility": null,
            "width": null
          }
        },
        "454e16b1393e4ee1a2acae5806f04dfb": {
          "model_module": "@jupyter-widgets/base",
          "model_name": "LayoutModel",
          "model_module_version": "1.2.0",
          "state": {
            "_model_module": "@jupyter-widgets/base",
            "_model_module_version": "1.2.0",
            "_model_name": "LayoutModel",
            "_view_count": null,
            "_view_module": "@jupyter-widgets/base",
            "_view_module_version": "1.2.0",
            "_view_name": "LayoutView",
            "align_content": null,
            "align_items": null,
            "align_self": null,
            "border": null,
            "bottom": null,
            "display": null,
            "flex": null,
            "flex_flow": null,
            "grid_area": null,
            "grid_auto_columns": null,
            "grid_auto_flow": null,
            "grid_auto_rows": null,
            "grid_column": null,
            "grid_gap": null,
            "grid_row": null,
            "grid_template_areas": null,
            "grid_template_columns": null,
            "grid_template_rows": null,
            "height": null,
            "justify_content": null,
            "justify_items": null,
            "left": null,
            "margin": null,
            "max_height": null,
            "max_width": null,
            "min_height": null,
            "min_width": null,
            "object_fit": null,
            "object_position": null,
            "order": null,
            "overflow": null,
            "overflow_x": null,
            "overflow_y": null,
            "padding": null,
            "right": null,
            "top": null,
            "visibility": null,
            "width": null
          }
        },
        "676522fbab4d4731a4c194274e25837c": {
          "model_module": "@jupyter-widgets/controls",
          "model_name": "DescriptionStyleModel",
          "model_module_version": "1.5.0",
          "state": {
            "_model_module": "@jupyter-widgets/controls",
            "_model_module_version": "1.5.0",
            "_model_name": "DescriptionStyleModel",
            "_view_count": null,
            "_view_module": "@jupyter-widgets/base",
            "_view_module_version": "1.2.0",
            "_view_name": "StyleView",
            "description_width": ""
          }
        },
        "dc9ff8b61baf459cb6b8830d666d2805": {
          "model_module": "@jupyter-widgets/base",
          "model_name": "LayoutModel",
          "model_module_version": "1.2.0",
          "state": {
            "_model_module": "@jupyter-widgets/base",
            "_model_module_version": "1.2.0",
            "_model_name": "LayoutModel",
            "_view_count": null,
            "_view_module": "@jupyter-widgets/base",
            "_view_module_version": "1.2.0",
            "_view_name": "LayoutView",
            "align_content": null,
            "align_items": null,
            "align_self": null,
            "border": null,
            "bottom": null,
            "display": null,
            "flex": null,
            "flex_flow": null,
            "grid_area": null,
            "grid_auto_columns": null,
            "grid_auto_flow": null,
            "grid_auto_rows": null,
            "grid_column": null,
            "grid_gap": null,
            "grid_row": null,
            "grid_template_areas": null,
            "grid_template_columns": null,
            "grid_template_rows": null,
            "height": null,
            "justify_content": null,
            "justify_items": null,
            "left": null,
            "margin": null,
            "max_height": null,
            "max_width": null,
            "min_height": null,
            "min_width": null,
            "object_fit": null,
            "object_position": null,
            "order": null,
            "overflow": null,
            "overflow_x": null,
            "overflow_y": null,
            "padding": null,
            "right": null,
            "top": null,
            "visibility": null,
            "width": null
          }
        },
        "9642388f7d65488ca803ce6583e04637": {
          "model_module": "@jupyter-widgets/controls",
          "model_name": "ProgressStyleModel",
          "model_module_version": "1.5.0",
          "state": {
            "_model_module": "@jupyter-widgets/controls",
            "_model_module_version": "1.5.0",
            "_model_name": "ProgressStyleModel",
            "_view_count": null,
            "_view_module": "@jupyter-widgets/base",
            "_view_module_version": "1.2.0",
            "_view_name": "StyleView",
            "bar_color": null,
            "description_width": ""
          }
        },
        "0c5e0fcd469b450783a0bb6c89ecc42f": {
          "model_module": "@jupyter-widgets/base",
          "model_name": "LayoutModel",
          "model_module_version": "1.2.0",
          "state": {
            "_model_module": "@jupyter-widgets/base",
            "_model_module_version": "1.2.0",
            "_model_name": "LayoutModel",
            "_view_count": null,
            "_view_module": "@jupyter-widgets/base",
            "_view_module_version": "1.2.0",
            "_view_name": "LayoutView",
            "align_content": null,
            "align_items": null,
            "align_self": null,
            "border": null,
            "bottom": null,
            "display": null,
            "flex": null,
            "flex_flow": null,
            "grid_area": null,
            "grid_auto_columns": null,
            "grid_auto_flow": null,
            "grid_auto_rows": null,
            "grid_column": null,
            "grid_gap": null,
            "grid_row": null,
            "grid_template_areas": null,
            "grid_template_columns": null,
            "grid_template_rows": null,
            "height": null,
            "justify_content": null,
            "justify_items": null,
            "left": null,
            "margin": null,
            "max_height": null,
            "max_width": null,
            "min_height": null,
            "min_width": null,
            "object_fit": null,
            "object_position": null,
            "order": null,
            "overflow": null,
            "overflow_x": null,
            "overflow_y": null,
            "padding": null,
            "right": null,
            "top": null,
            "visibility": null,
            "width": null
          }
        },
        "b0f946cf4c2d4665ad99761bb7d30324": {
          "model_module": "@jupyter-widgets/controls",
          "model_name": "DescriptionStyleModel",
          "model_module_version": "1.5.0",
          "state": {
            "_model_module": "@jupyter-widgets/controls",
            "_model_module_version": "1.5.0",
            "_model_name": "DescriptionStyleModel",
            "_view_count": null,
            "_view_module": "@jupyter-widgets/base",
            "_view_module_version": "1.2.0",
            "_view_name": "StyleView",
            "description_width": ""
          }
        },
        "ea114c0ddb7a47ed94b9d053d5c9a79c": {
          "model_module": "@jupyter-widgets/controls",
          "model_name": "HBoxModel",
          "model_module_version": "1.5.0",
          "state": {
            "_dom_classes": [],
            "_model_module": "@jupyter-widgets/controls",
            "_model_module_version": "1.5.0",
            "_model_name": "HBoxModel",
            "_view_count": null,
            "_view_module": "@jupyter-widgets/controls",
            "_view_module_version": "1.5.0",
            "_view_name": "HBoxView",
            "box_style": "",
            "children": [
              "IPY_MODEL_aa4d2cd4a59b431083854e6b3a2f205f",
              "IPY_MODEL_998221a09bbc4b6cbbf2e00716fc590a",
              "IPY_MODEL_e694a6cf96d4491fb50d029e38028305"
            ],
            "layout": "IPY_MODEL_c77e601acdb64022ac277c68bcb16b16"
          }
        },
        "aa4d2cd4a59b431083854e6b3a2f205f": {
          "model_module": "@jupyter-widgets/controls",
          "model_name": "HTMLModel",
          "model_module_version": "1.5.0",
          "state": {
            "_dom_classes": [],
            "_model_module": "@jupyter-widgets/controls",
            "_model_module_version": "1.5.0",
            "_model_name": "HTMLModel",
            "_view_count": null,
            "_view_module": "@jupyter-widgets/controls",
            "_view_module_version": "1.5.0",
            "_view_name": "HTMLView",
            "description": "",
            "description_tooltip": null,
            "layout": "IPY_MODEL_2d97615cbad5497092e055bd3e87c6f7",
            "placeholder": "​",
            "style": "IPY_MODEL_984588de129a458d8406b47c9f7cffa5",
            "value": "Making predictions...: 100%"
          }
        },
        "998221a09bbc4b6cbbf2e00716fc590a": {
          "model_module": "@jupyter-widgets/controls",
          "model_name": "FloatProgressModel",
          "model_module_version": "1.5.0",
          "state": {
            "_dom_classes": [],
            "_model_module": "@jupyter-widgets/controls",
            "_model_module_version": "1.5.0",
            "_model_name": "FloatProgressModel",
            "_view_count": null,
            "_view_module": "@jupyter-widgets/controls",
            "_view_module_version": "1.5.0",
            "_view_name": "ProgressView",
            "bar_style": "success",
            "description": "",
            "description_tooltip": null,
            "layout": "IPY_MODEL_03f088535138460cbfe70ce2cc2f2c58",
            "max": 313,
            "min": 0,
            "orientation": "horizontal",
            "style": "IPY_MODEL_0b36b8031f894c1cb629c67ceaba01f8",
            "value": 313
          }
        },
        "e694a6cf96d4491fb50d029e38028305": {
          "model_module": "@jupyter-widgets/controls",
          "model_name": "HTMLModel",
          "model_module_version": "1.5.0",
          "state": {
            "_dom_classes": [],
            "_model_module": "@jupyter-widgets/controls",
            "_model_module_version": "1.5.0",
            "_model_name": "HTMLModel",
            "_view_count": null,
            "_view_module": "@jupyter-widgets/controls",
            "_view_module_version": "1.5.0",
            "_view_name": "HTMLView",
            "description": "",
            "description_tooltip": null,
            "layout": "IPY_MODEL_714a73b2763f4e68a104824b4b1bf485",
            "placeholder": "​",
            "style": "IPY_MODEL_8b23b833777d4291aa441de7d7949e7b",
            "value": " 313/313 [00:01&lt;00:00, 272.50it/s]"
          }
        },
        "c77e601acdb64022ac277c68bcb16b16": {
          "model_module": "@jupyter-widgets/base",
          "model_name": "LayoutModel",
          "model_module_version": "1.2.0",
          "state": {
            "_model_module": "@jupyter-widgets/base",
            "_model_module_version": "1.2.0",
            "_model_name": "LayoutModel",
            "_view_count": null,
            "_view_module": "@jupyter-widgets/base",
            "_view_module_version": "1.2.0",
            "_view_name": "LayoutView",
            "align_content": null,
            "align_items": null,
            "align_self": null,
            "border": null,
            "bottom": null,
            "display": null,
            "flex": null,
            "flex_flow": null,
            "grid_area": null,
            "grid_auto_columns": null,
            "grid_auto_flow": null,
            "grid_auto_rows": null,
            "grid_column": null,
            "grid_gap": null,
            "grid_row": null,
            "grid_template_areas": null,
            "grid_template_columns": null,
            "grid_template_rows": null,
            "height": null,
            "justify_content": null,
            "justify_items": null,
            "left": null,
            "margin": null,
            "max_height": null,
            "max_width": null,
            "min_height": null,
            "min_width": null,
            "object_fit": null,
            "object_position": null,
            "order": null,
            "overflow": null,
            "overflow_x": null,
            "overflow_y": null,
            "padding": null,
            "right": null,
            "top": null,
            "visibility": null,
            "width": null
          }
        },
        "2d97615cbad5497092e055bd3e87c6f7": {
          "model_module": "@jupyter-widgets/base",
          "model_name": "LayoutModel",
          "model_module_version": "1.2.0",
          "state": {
            "_model_module": "@jupyter-widgets/base",
            "_model_module_version": "1.2.0",
            "_model_name": "LayoutModel",
            "_view_count": null,
            "_view_module": "@jupyter-widgets/base",
            "_view_module_version": "1.2.0",
            "_view_name": "LayoutView",
            "align_content": null,
            "align_items": null,
            "align_self": null,
            "border": null,
            "bottom": null,
            "display": null,
            "flex": null,
            "flex_flow": null,
            "grid_area": null,
            "grid_auto_columns": null,
            "grid_auto_flow": null,
            "grid_auto_rows": null,
            "grid_column": null,
            "grid_gap": null,
            "grid_row": null,
            "grid_template_areas": null,
            "grid_template_columns": null,
            "grid_template_rows": null,
            "height": null,
            "justify_content": null,
            "justify_items": null,
            "left": null,
            "margin": null,
            "max_height": null,
            "max_width": null,
            "min_height": null,
            "min_width": null,
            "object_fit": null,
            "object_position": null,
            "order": null,
            "overflow": null,
            "overflow_x": null,
            "overflow_y": null,
            "padding": null,
            "right": null,
            "top": null,
            "visibility": null,
            "width": null
          }
        },
        "984588de129a458d8406b47c9f7cffa5": {
          "model_module": "@jupyter-widgets/controls",
          "model_name": "DescriptionStyleModel",
          "model_module_version": "1.5.0",
          "state": {
            "_model_module": "@jupyter-widgets/controls",
            "_model_module_version": "1.5.0",
            "_model_name": "DescriptionStyleModel",
            "_view_count": null,
            "_view_module": "@jupyter-widgets/base",
            "_view_module_version": "1.2.0",
            "_view_name": "StyleView",
            "description_width": ""
          }
        },
        "03f088535138460cbfe70ce2cc2f2c58": {
          "model_module": "@jupyter-widgets/base",
          "model_name": "LayoutModel",
          "model_module_version": "1.2.0",
          "state": {
            "_model_module": "@jupyter-widgets/base",
            "_model_module_version": "1.2.0",
            "_model_name": "LayoutModel",
            "_view_count": null,
            "_view_module": "@jupyter-widgets/base",
            "_view_module_version": "1.2.0",
            "_view_name": "LayoutView",
            "align_content": null,
            "align_items": null,
            "align_self": null,
            "border": null,
            "bottom": null,
            "display": null,
            "flex": null,
            "flex_flow": null,
            "grid_area": null,
            "grid_auto_columns": null,
            "grid_auto_flow": null,
            "grid_auto_rows": null,
            "grid_column": null,
            "grid_gap": null,
            "grid_row": null,
            "grid_template_areas": null,
            "grid_template_columns": null,
            "grid_template_rows": null,
            "height": null,
            "justify_content": null,
            "justify_items": null,
            "left": null,
            "margin": null,
            "max_height": null,
            "max_width": null,
            "min_height": null,
            "min_width": null,
            "object_fit": null,
            "object_position": null,
            "order": null,
            "overflow": null,
            "overflow_x": null,
            "overflow_y": null,
            "padding": null,
            "right": null,
            "top": null,
            "visibility": null,
            "width": null
          }
        },
        "0b36b8031f894c1cb629c67ceaba01f8": {
          "model_module": "@jupyter-widgets/controls",
          "model_name": "ProgressStyleModel",
          "model_module_version": "1.5.0",
          "state": {
            "_model_module": "@jupyter-widgets/controls",
            "_model_module_version": "1.5.0",
            "_model_name": "ProgressStyleModel",
            "_view_count": null,
            "_view_module": "@jupyter-widgets/base",
            "_view_module_version": "1.2.0",
            "_view_name": "StyleView",
            "bar_color": null,
            "description_width": ""
          }
        },
        "714a73b2763f4e68a104824b4b1bf485": {
          "model_module": "@jupyter-widgets/base",
          "model_name": "LayoutModel",
          "model_module_version": "1.2.0",
          "state": {
            "_model_module": "@jupyter-widgets/base",
            "_model_module_version": "1.2.0",
            "_model_name": "LayoutModel",
            "_view_count": null,
            "_view_module": "@jupyter-widgets/base",
            "_view_module_version": "1.2.0",
            "_view_name": "LayoutView",
            "align_content": null,
            "align_items": null,
            "align_self": null,
            "border": null,
            "bottom": null,
            "display": null,
            "flex": null,
            "flex_flow": null,
            "grid_area": null,
            "grid_auto_columns": null,
            "grid_auto_flow": null,
            "grid_auto_rows": null,
            "grid_column": null,
            "grid_gap": null,
            "grid_row": null,
            "grid_template_areas": null,
            "grid_template_columns": null,
            "grid_template_rows": null,
            "height": null,
            "justify_content": null,
            "justify_items": null,
            "left": null,
            "margin": null,
            "max_height": null,
            "max_width": null,
            "min_height": null,
            "min_width": null,
            "object_fit": null,
            "object_position": null,
            "order": null,
            "overflow": null,
            "overflow_x": null,
            "overflow_y": null,
            "padding": null,
            "right": null,
            "top": null,
            "visibility": null,
            "width": null
          }
        },
        "8b23b833777d4291aa441de7d7949e7b": {
          "model_module": "@jupyter-widgets/controls",
          "model_name": "DescriptionStyleModel",
          "model_module_version": "1.5.0",
          "state": {
            "_model_module": "@jupyter-widgets/controls",
            "_model_module_version": "1.5.0",
            "_model_name": "DescriptionStyleModel",
            "_view_count": null,
            "_view_module": "@jupyter-widgets/base",
            "_view_module_version": "1.2.0",
            "_view_name": "StyleView",
            "description_width": ""
          }
        },
        "26cbcf26db1949bfae7b15daf9d9d47c": {
          "model_module": "@jupyter-widgets/controls",
          "model_name": "HBoxModel",
          "model_module_version": "1.5.0",
          "state": {
            "_dom_classes": [],
            "_model_module": "@jupyter-widgets/controls",
            "_model_module_version": "1.5.0",
            "_model_name": "HBoxModel",
            "_view_count": null,
            "_view_module": "@jupyter-widgets/controls",
            "_view_module_version": "1.5.0",
            "_view_name": "HBoxView",
            "box_style": "",
            "children": [
              "IPY_MODEL_54b17872853b44d6b3cf04908e61042d",
              "IPY_MODEL_ab7fb4dba25a419988c4eb28d315f8dd",
              "IPY_MODEL_39ce9281658f476495822ac7b006dbe8"
            ],
            "layout": "IPY_MODEL_0da844211a214415ad0ae52d9b08da73"
          }
        },
        "54b17872853b44d6b3cf04908e61042d": {
          "model_module": "@jupyter-widgets/controls",
          "model_name": "HTMLModel",
          "model_module_version": "1.5.0",
          "state": {
            "_dom_classes": [],
            "_model_module": "@jupyter-widgets/controls",
            "_model_module_version": "1.5.0",
            "_model_name": "HTMLModel",
            "_view_count": null,
            "_view_module": "@jupyter-widgets/controls",
            "_view_module_version": "1.5.0",
            "_view_name": "HTMLView",
            "description": "",
            "description_tooltip": null,
            "layout": "IPY_MODEL_611d9e04cb0644889f43bff992bafeb8",
            "placeholder": "​",
            "style": "IPY_MODEL_df5ddc20c85a4581b2dbf8b7371e5e10",
            "value": "100%"
          }
        },
        "ab7fb4dba25a419988c4eb28d315f8dd": {
          "model_module": "@jupyter-widgets/controls",
          "model_name": "FloatProgressModel",
          "model_module_version": "1.5.0",
          "state": {
            "_dom_classes": [],
            "_model_module": "@jupyter-widgets/controls",
            "_model_module_version": "1.5.0",
            "_model_name": "FloatProgressModel",
            "_view_count": null,
            "_view_module": "@jupyter-widgets/controls",
            "_view_module_version": "1.5.0",
            "_view_name": "ProgressView",
            "bar_style": "success",
            "description": "",
            "description_tooltip": null,
            "layout": "IPY_MODEL_4301489e7a914d538a9396eff16fb3de",
            "max": 313,
            "min": 0,
            "orientation": "horizontal",
            "style": "IPY_MODEL_aa4677d8d0a44c4c83d41624140dd212",
            "value": 313
          }
        },
        "39ce9281658f476495822ac7b006dbe8": {
          "model_module": "@jupyter-widgets/controls",
          "model_name": "HTMLModel",
          "model_module_version": "1.5.0",
          "state": {
            "_dom_classes": [],
            "_model_module": "@jupyter-widgets/controls",
            "_model_module_version": "1.5.0",
            "_model_name": "HTMLModel",
            "_view_count": null,
            "_view_module": "@jupyter-widgets/controls",
            "_view_module_version": "1.5.0",
            "_view_name": "HTMLView",
            "description": "",
            "description_tooltip": null,
            "layout": "IPY_MODEL_4ac8f251f4934cc887b1352fc6bf598e",
            "placeholder": "​",
            "style": "IPY_MODEL_f1ae9359fab345b2a018e0e079c7cca1",
            "value": " 313/313 [00:01&lt;00:00, 198.79it/s]"
          }
        },
        "0da844211a214415ad0ae52d9b08da73": {
          "model_module": "@jupyter-widgets/base",
          "model_name": "LayoutModel",
          "model_module_version": "1.2.0",
          "state": {
            "_model_module": "@jupyter-widgets/base",
            "_model_module_version": "1.2.0",
            "_model_name": "LayoutModel",
            "_view_count": null,
            "_view_module": "@jupyter-widgets/base",
            "_view_module_version": "1.2.0",
            "_view_name": "LayoutView",
            "align_content": null,
            "align_items": null,
            "align_self": null,
            "border": null,
            "bottom": null,
            "display": null,
            "flex": null,
            "flex_flow": null,
            "grid_area": null,
            "grid_auto_columns": null,
            "grid_auto_flow": null,
            "grid_auto_rows": null,
            "grid_column": null,
            "grid_gap": null,
            "grid_row": null,
            "grid_template_areas": null,
            "grid_template_columns": null,
            "grid_template_rows": null,
            "height": null,
            "justify_content": null,
            "justify_items": null,
            "left": null,
            "margin": null,
            "max_height": null,
            "max_width": null,
            "min_height": null,
            "min_width": null,
            "object_fit": null,
            "object_position": null,
            "order": null,
            "overflow": null,
            "overflow_x": null,
            "overflow_y": null,
            "padding": null,
            "right": null,
            "top": null,
            "visibility": null,
            "width": null
          }
        },
        "611d9e04cb0644889f43bff992bafeb8": {
          "model_module": "@jupyter-widgets/base",
          "model_name": "LayoutModel",
          "model_module_version": "1.2.0",
          "state": {
            "_model_module": "@jupyter-widgets/base",
            "_model_module_version": "1.2.0",
            "_model_name": "LayoutModel",
            "_view_count": null,
            "_view_module": "@jupyter-widgets/base",
            "_view_module_version": "1.2.0",
            "_view_name": "LayoutView",
            "align_content": null,
            "align_items": null,
            "align_self": null,
            "border": null,
            "bottom": null,
            "display": null,
            "flex": null,
            "flex_flow": null,
            "grid_area": null,
            "grid_auto_columns": null,
            "grid_auto_flow": null,
            "grid_auto_rows": null,
            "grid_column": null,
            "grid_gap": null,
            "grid_row": null,
            "grid_template_areas": null,
            "grid_template_columns": null,
            "grid_template_rows": null,
            "height": null,
            "justify_content": null,
            "justify_items": null,
            "left": null,
            "margin": null,
            "max_height": null,
            "max_width": null,
            "min_height": null,
            "min_width": null,
            "object_fit": null,
            "object_position": null,
            "order": null,
            "overflow": null,
            "overflow_x": null,
            "overflow_y": null,
            "padding": null,
            "right": null,
            "top": null,
            "visibility": null,
            "width": null
          }
        },
        "df5ddc20c85a4581b2dbf8b7371e5e10": {
          "model_module": "@jupyter-widgets/controls",
          "model_name": "DescriptionStyleModel",
          "model_module_version": "1.5.0",
          "state": {
            "_model_module": "@jupyter-widgets/controls",
            "_model_module_version": "1.5.0",
            "_model_name": "DescriptionStyleModel",
            "_view_count": null,
            "_view_module": "@jupyter-widgets/base",
            "_view_module_version": "1.2.0",
            "_view_name": "StyleView",
            "description_width": ""
          }
        },
        "4301489e7a914d538a9396eff16fb3de": {
          "model_module": "@jupyter-widgets/base",
          "model_name": "LayoutModel",
          "model_module_version": "1.2.0",
          "state": {
            "_model_module": "@jupyter-widgets/base",
            "_model_module_version": "1.2.0",
            "_model_name": "LayoutModel",
            "_view_count": null,
            "_view_module": "@jupyter-widgets/base",
            "_view_module_version": "1.2.0",
            "_view_name": "LayoutView",
            "align_content": null,
            "align_items": null,
            "align_self": null,
            "border": null,
            "bottom": null,
            "display": null,
            "flex": null,
            "flex_flow": null,
            "grid_area": null,
            "grid_auto_columns": null,
            "grid_auto_flow": null,
            "grid_auto_rows": null,
            "grid_column": null,
            "grid_gap": null,
            "grid_row": null,
            "grid_template_areas": null,
            "grid_template_columns": null,
            "grid_template_rows": null,
            "height": null,
            "justify_content": null,
            "justify_items": null,
            "left": null,
            "margin": null,
            "max_height": null,
            "max_width": null,
            "min_height": null,
            "min_width": null,
            "object_fit": null,
            "object_position": null,
            "order": null,
            "overflow": null,
            "overflow_x": null,
            "overflow_y": null,
            "padding": null,
            "right": null,
            "top": null,
            "visibility": null,
            "width": null
          }
        },
        "aa4677d8d0a44c4c83d41624140dd212": {
          "model_module": "@jupyter-widgets/controls",
          "model_name": "ProgressStyleModel",
          "model_module_version": "1.5.0",
          "state": {
            "_model_module": "@jupyter-widgets/controls",
            "_model_module_version": "1.5.0",
            "_model_name": "ProgressStyleModel",
            "_view_count": null,
            "_view_module": "@jupyter-widgets/base",
            "_view_module_version": "1.2.0",
            "_view_name": "StyleView",
            "bar_color": null,
            "description_width": ""
          }
        },
        "4ac8f251f4934cc887b1352fc6bf598e": {
          "model_module": "@jupyter-widgets/base",
          "model_name": "LayoutModel",
          "model_module_version": "1.2.0",
          "state": {
            "_model_module": "@jupyter-widgets/base",
            "_model_module_version": "1.2.0",
            "_model_name": "LayoutModel",
            "_view_count": null,
            "_view_module": "@jupyter-widgets/base",
            "_view_module_version": "1.2.0",
            "_view_name": "LayoutView",
            "align_content": null,
            "align_items": null,
            "align_self": null,
            "border": null,
            "bottom": null,
            "display": null,
            "flex": null,
            "flex_flow": null,
            "grid_area": null,
            "grid_auto_columns": null,
            "grid_auto_flow": null,
            "grid_auto_rows": null,
            "grid_column": null,
            "grid_gap": null,
            "grid_row": null,
            "grid_template_areas": null,
            "grid_template_columns": null,
            "grid_template_rows": null,
            "height": null,
            "justify_content": null,
            "justify_items": null,
            "left": null,
            "margin": null,
            "max_height": null,
            "max_width": null,
            "min_height": null,
            "min_width": null,
            "object_fit": null,
            "object_position": null,
            "order": null,
            "overflow": null,
            "overflow_x": null,
            "overflow_y": null,
            "padding": null,
            "right": null,
            "top": null,
            "visibility": null,
            "width": null
          }
        },
        "f1ae9359fab345b2a018e0e079c7cca1": {
          "model_module": "@jupyter-widgets/controls",
          "model_name": "DescriptionStyleModel",
          "model_module_version": "1.5.0",
          "state": {
            "_model_module": "@jupyter-widgets/controls",
            "_model_module_version": "1.5.0",
            "_model_name": "DescriptionStyleModel",
            "_view_count": null,
            "_view_module": "@jupyter-widgets/base",
            "_view_module_version": "1.2.0",
            "_view_name": "StyleView",
            "description_width": ""
          }
        }
      }
    },
    "accelerator": "GPU"
  },
  "cells": [
    {
      "cell_type": "markdown",
      "metadata": {
        "id": "view-in-github",
        "colab_type": "text"
      },
      "source": [
        "<a href=\"https://colab.research.google.com/github/BMugo84/pytorch_in_25_hours/blob/main/pytorch03ComputerVision.ipynb\" target=\"_parent\"><img src=\"https://colab.research.google.com/assets/colab-badge.svg\" alt=\"Open In Colab\"/></a>"
      ]
    },
    {
      "cell_type": "markdown",
      "source": [
        "# PyTorch Computer-vision"
      ],
      "metadata": {
        "id": "mzPiF7G7BCvR"
      }
    },
    {
      "cell_type": "markdown",
      "source": [
        "![a PyTorch workflow with a computer vision focus](https://raw.githubusercontent.com/mrdbourke/pytorch-deep-learning/main/images/03-pytorch-computer-vision-workflow.png)"
      ],
      "metadata": {
        "id": "Aj2SC26ZeN-Y"
      }
    },
    {
      "cell_type": "markdown",
      "source": [
        "## 0. Computer vision libraries in PyTorch\n",
        "\n",
        "Before we get started writing code, let's talk about some PyTorch computer vision libraries you should be aware of.\n",
        "\n",
        "| PyTorch module | What does it do? |\n",
        "| ----- | ----- |\n",
        "| [`torchvision`](https://pytorch.org/vision/stable/index.html) | Contains datasets, model architectures and image transformations often used for computer vision problems. |\n",
        "| [`torchvision.datasets`](https://pytorch.org/vision/stable/datasets.html) | Here you'll find many example computer vision datasets for a range of problems from image classification, object detection, image captioning, video classification and more. It also contains [a series of base classes for making custom datasets](https://pytorch.org/vision/stable/datasets.html#base-classes-for-custom-datasets). |\n",
        "| [`torchvision.models`](https://pytorch.org/vision/stable/models.html) | This module contains well-performing and commonly used computer vision model architectures implemented in PyTorch, you can use these with your own problems. |\n",
        "| [`torchvision.transforms`](https://pytorch.org/vision/stable/transforms.html) | Often images need to be transformed (turned into numbers/processed/augmented) before being used with a model, common image transformations are found here. |\n",
        "| [`torch.utils.data.Dataset`](https://pytorch.org/docs/stable/data.html#torch.utils.data.Dataset) | Base dataset class for PyTorch.  |\n",
        "| [`torch.utils.data.DataLoader`](https://pytorch.org/docs/stable/data.html#module-torch.utils.data) | Creates a Python iterable over a dataset (created with `torch.utils.data.Dataset`). |\n",
        "\n",
        "> **Note:** The `torch.utils.data.Dataset` and `torch.utils.data.DataLoader` classes aren't only for computer vision in PyTorch, they are capable of dealing with many different types of data.\n",
        "\n",
        "Now we've covered some of the most important PyTorch computer vision libraries, let's import the relevant dependencies.\n",
        "\n"
      ],
      "metadata": {
        "id": "XDky41hajSwL"
      }
    },
    {
      "cell_type": "code",
      "source": [
        "# import pytorch\n",
        "import torch\n",
        "from torch import nn\n",
        "\n",
        "# import torchvision\n",
        "import torchvision\n",
        "from torchvision import datasets\n",
        "from torchvision import transforms\n",
        "from torchvision.transforms import ToTensor\n",
        "\n",
        "# import matplotlib for visualization\n",
        "import matplotlib.pyplot as plt\n",
        "\n",
        "# check versions\n",
        "print(torch.__version__)\n",
        "print(torchvision.__version__)"
      ],
      "metadata": {
        "colab": {
          "base_uri": "https://localhost:8080/"
        },
        "id": "6A8MANeRbRGr",
        "outputId": "24bf06ec-adf6-4c30-dce2-834ab8606a76"
      },
      "execution_count": null,
      "outputs": [
        {
          "output_type": "stream",
          "name": "stdout",
          "text": [
            "2.3.0+cu121\n",
            "0.18.0+cu121\n"
          ]
        }
      ]
    },
    {
      "cell_type": "markdown",
      "source": [
        "## 01. Getting a Dataset from FashionMNIST"
      ],
      "metadata": {
        "id": "5stsPKArcZUz"
      }
    },
    {
      "cell_type": "markdown",
      "source": [
        "\n",
        "\n",
        "To begin working on a computer vision problem, let's get a computer vision dataset.\n",
        "\n",
        "We're going to start with FashionMNIST.\n",
        "\n",
        "MNIST stands for Modified National Institute of Standards and Technology.\n",
        "\n",
        "The [original MNIST dataset](https://en.wikipedia.org/wiki/MNIST_database) contains thousands of examples of handwritten digits (from 0 to 9) and was used to build computer vision models to identify numbers for postal services.\n",
        "\n",
        "[FashionMNIST](https://github.com/zalandoresearch/fashion-mnist), made by Zalando Research, is a similar setup.\n",
        "\n",
        "Except it contains grayscale images of 10 different kinds of clothing.\n",
        "\n",
        "![example image of FashionMNIST](https://raw.githubusercontent.com/mrdbourke/pytorch-deep-learning/main/images/03-fashion-mnist-slide.png)\n",
        "*`torchvision.datasets` contains a lot of example datasets you can use to practice writing computer vision code on. FashionMNIST is one of those datasets. And since it has 10 different image classes (different types of clothing), it's a multi-class classification problem.*\n",
        "\n",
        "Later, we'll be building a computer vision neural network to identify the different styles of clothing in these images.\n",
        "\n",
        "PyTorch has a bunch of common computer vision datasets stored in `torchvision.datasets`.\n",
        "\n",
        "Including FashionMNIST in [`torchvision.datasets.FashionMNIST()`](https://pytorch.org/vision/main/generated/torchvision.datasets.FashionMNIST.html).\n",
        "\n",
        "To download it, we provide the following parameters:\n",
        "* `root: str` - which folder do you want to download the data to?\n",
        "* `train: Bool` - do you want the training or test split?\n",
        "* `download: Bool` - should the data be downloaded?\n",
        "* `transform: torchvision.transforms` - what transformations would you like to do on the data?\n",
        "* `target_transform` - you can transform the targets (labels) if you like too.\n",
        "\n",
        "Many other datasets in `torchvision` have these parameter options."
      ],
      "metadata": {
        "id": "Sm4VQ-8ke43x"
      }
    },
    {
      "cell_type": "code",
      "source": [
        "# setup training data\n",
        "from torchvision import datasets\n",
        "train_data = datasets.FashionMNIST(\n",
        "    root=\"data\",    # where to donload data\n",
        "    train=True,     # train or test dataset\n",
        "    download=True,  # download now?\n",
        "    transform=torchvision.transforms.ToTensor(),    # How to transform the data\n",
        "    target_transform=None   # how do we want to transform the labels\n",
        ")\n",
        "\n",
        "test_data = datasets.FashionMNIST(\n",
        "    root=\"data\",\n",
        "    train=False,\n",
        "    download=True,\n",
        "    transform=ToTensor(),\n",
        "    target_transform=None\n",
        ")"
      ],
      "metadata": {
        "colab": {
          "base_uri": "https://localhost:8080/"
        },
        "id": "vv2wi_mMdeuT",
        "outputId": "21ad2132-7a2e-47f2-d914-95180c9128ac"
      },
      "execution_count": null,
      "outputs": [
        {
          "output_type": "stream",
          "name": "stdout",
          "text": [
            "Downloading http://fashion-mnist.s3-website.eu-central-1.amazonaws.com/train-images-idx3-ubyte.gz\n",
            "Downloading http://fashion-mnist.s3-website.eu-central-1.amazonaws.com/train-images-idx3-ubyte.gz to data/FashionMNIST/raw/train-images-idx3-ubyte.gz\n"
          ]
        },
        {
          "output_type": "stream",
          "name": "stderr",
          "text": [
            "100%|██████████| 26421880/26421880 [00:05<00:00, 4892723.34it/s]\n"
          ]
        },
        {
          "output_type": "stream",
          "name": "stdout",
          "text": [
            "Extracting data/FashionMNIST/raw/train-images-idx3-ubyte.gz to data/FashionMNIST/raw\n",
            "\n",
            "Downloading http://fashion-mnist.s3-website.eu-central-1.amazonaws.com/train-labels-idx1-ubyte.gz\n",
            "Downloading http://fashion-mnist.s3-website.eu-central-1.amazonaws.com/train-labels-idx1-ubyte.gz to data/FashionMNIST/raw/train-labels-idx1-ubyte.gz\n"
          ]
        },
        {
          "output_type": "stream",
          "name": "stderr",
          "text": [
            "100%|██████████| 29515/29515 [00:00<00:00, 146152.05it/s]\n"
          ]
        },
        {
          "output_type": "stream",
          "name": "stdout",
          "text": [
            "Extracting data/FashionMNIST/raw/train-labels-idx1-ubyte.gz to data/FashionMNIST/raw\n",
            "\n",
            "Downloading http://fashion-mnist.s3-website.eu-central-1.amazonaws.com/t10k-images-idx3-ubyte.gz\n",
            "Downloading http://fashion-mnist.s3-website.eu-central-1.amazonaws.com/t10k-images-idx3-ubyte.gz to data/FashionMNIST/raw/t10k-images-idx3-ubyte.gz\n"
          ]
        },
        {
          "output_type": "stream",
          "name": "stderr",
          "text": [
            "100%|██████████| 4422102/4422102 [00:01<00:00, 2723051.04it/s]\n"
          ]
        },
        {
          "output_type": "stream",
          "name": "stdout",
          "text": [
            "Extracting data/FashionMNIST/raw/t10k-images-idx3-ubyte.gz to data/FashionMNIST/raw\n",
            "\n",
            "Downloading http://fashion-mnist.s3-website.eu-central-1.amazonaws.com/t10k-labels-idx1-ubyte.gz\n",
            "Downloading http://fashion-mnist.s3-website.eu-central-1.amazonaws.com/t10k-labels-idx1-ubyte.gz to data/FashionMNIST/raw/t10k-labels-idx1-ubyte.gz\n"
          ]
        },
        {
          "output_type": "stream",
          "name": "stderr",
          "text": [
            "100%|██████████| 5148/5148 [00:00<00:00, 6192221.68it/s]"
          ]
        },
        {
          "output_type": "stream",
          "name": "stdout",
          "text": [
            "Extracting data/FashionMNIST/raw/t10k-labels-idx1-ubyte.gz to data/FashionMNIST/raw\n",
            "\n"
          ]
        },
        {
          "output_type": "stream",
          "name": "stderr",
          "text": [
            "\n"
          ]
        }
      ]
    },
    {
      "cell_type": "code",
      "source": [
        "len(train_data), len(test_data)"
      ],
      "metadata": {
        "colab": {
          "base_uri": "https://localhost:8080/"
        },
        "id": "WErSZVASiQUu",
        "outputId": "dc8e5459-f21d-4a73-a21b-a81c37c996ac"
      },
      "execution_count": null,
      "outputs": [
        {
          "output_type": "execute_result",
          "data": {
            "text/plain": [
              "(60000, 10000)"
            ]
          },
          "metadata": {},
          "execution_count": 3
        }
      ]
    },
    {
      "cell_type": "code",
      "source": [
        "# See first training sample\n",
        "image, label = train_data[0]\n",
        "image, label"
      ],
      "metadata": {
        "colab": {
          "base_uri": "https://localhost:8080/"
        },
        "id": "hOQpvyxis7yL",
        "outputId": "7f001680-ee16-4136-f65a-b1f04022ecb9",
        "collapsed": true
      },
      "execution_count": null,
      "outputs": [
        {
          "output_type": "execute_result",
          "data": {
            "text/plain": [
              "(tensor([[[0.0000, 0.0000, 0.0000, 0.0000, 0.0000, 0.0000, 0.0000, 0.0000,\n",
              "           0.0000, 0.0000, 0.0000, 0.0000, 0.0000, 0.0000, 0.0000, 0.0000,\n",
              "           0.0000, 0.0000, 0.0000, 0.0000, 0.0000, 0.0000, 0.0000, 0.0000,\n",
              "           0.0000, 0.0000, 0.0000, 0.0000],\n",
              "          [0.0000, 0.0000, 0.0000, 0.0000, 0.0000, 0.0000, 0.0000, 0.0000,\n",
              "           0.0000, 0.0000, 0.0000, 0.0000, 0.0000, 0.0000, 0.0000, 0.0000,\n",
              "           0.0000, 0.0000, 0.0000, 0.0000, 0.0000, 0.0000, 0.0000, 0.0000,\n",
              "           0.0000, 0.0000, 0.0000, 0.0000],\n",
              "          [0.0000, 0.0000, 0.0000, 0.0000, 0.0000, 0.0000, 0.0000, 0.0000,\n",
              "           0.0000, 0.0000, 0.0000, 0.0000, 0.0000, 0.0000, 0.0000, 0.0000,\n",
              "           0.0000, 0.0000, 0.0000, 0.0000, 0.0000, 0.0000, 0.0000, 0.0000,\n",
              "           0.0000, 0.0000, 0.0000, 0.0000],\n",
              "          [0.0000, 0.0000, 0.0000, 0.0000, 0.0000, 0.0000, 0.0000, 0.0000,\n",
              "           0.0000, 0.0000, 0.0000, 0.0000, 0.0039, 0.0000, 0.0000, 0.0510,\n",
              "           0.2863, 0.0000, 0.0000, 0.0039, 0.0157, 0.0000, 0.0000, 0.0000,\n",
              "           0.0000, 0.0039, 0.0039, 0.0000],\n",
              "          [0.0000, 0.0000, 0.0000, 0.0000, 0.0000, 0.0000, 0.0000, 0.0000,\n",
              "           0.0000, 0.0000, 0.0000, 0.0000, 0.0118, 0.0000, 0.1412, 0.5333,\n",
              "           0.4980, 0.2431, 0.2118, 0.0000, 0.0000, 0.0000, 0.0039, 0.0118,\n",
              "           0.0157, 0.0000, 0.0000, 0.0118],\n",
              "          [0.0000, 0.0000, 0.0000, 0.0000, 0.0000, 0.0000, 0.0000, 0.0000,\n",
              "           0.0000, 0.0000, 0.0000, 0.0000, 0.0235, 0.0000, 0.4000, 0.8000,\n",
              "           0.6902, 0.5255, 0.5647, 0.4824, 0.0902, 0.0000, 0.0000, 0.0000,\n",
              "           0.0000, 0.0471, 0.0392, 0.0000],\n",
              "          [0.0000, 0.0000, 0.0000, 0.0000, 0.0000, 0.0000, 0.0000, 0.0000,\n",
              "           0.0000, 0.0000, 0.0000, 0.0000, 0.0000, 0.0000, 0.6078, 0.9255,\n",
              "           0.8118, 0.6980, 0.4196, 0.6118, 0.6314, 0.4275, 0.2510, 0.0902,\n",
              "           0.3020, 0.5098, 0.2824, 0.0588],\n",
              "          [0.0000, 0.0000, 0.0000, 0.0000, 0.0000, 0.0000, 0.0000, 0.0000,\n",
              "           0.0000, 0.0000, 0.0000, 0.0039, 0.0000, 0.2706, 0.8118, 0.8745,\n",
              "           0.8549, 0.8471, 0.8471, 0.6392, 0.4980, 0.4745, 0.4784, 0.5725,\n",
              "           0.5529, 0.3451, 0.6745, 0.2588],\n",
              "          [0.0000, 0.0000, 0.0000, 0.0000, 0.0000, 0.0000, 0.0000, 0.0000,\n",
              "           0.0000, 0.0039, 0.0039, 0.0039, 0.0000, 0.7843, 0.9098, 0.9098,\n",
              "           0.9137, 0.8980, 0.8745, 0.8745, 0.8431, 0.8353, 0.6431, 0.4980,\n",
              "           0.4824, 0.7686, 0.8980, 0.0000],\n",
              "          [0.0000, 0.0000, 0.0000, 0.0000, 0.0000, 0.0000, 0.0000, 0.0000,\n",
              "           0.0000, 0.0000, 0.0000, 0.0000, 0.0000, 0.7176, 0.8824, 0.8471,\n",
              "           0.8745, 0.8941, 0.9216, 0.8902, 0.8784, 0.8706, 0.8784, 0.8667,\n",
              "           0.8745, 0.9608, 0.6784, 0.0000],\n",
              "          [0.0000, 0.0000, 0.0000, 0.0000, 0.0000, 0.0000, 0.0000, 0.0000,\n",
              "           0.0000, 0.0000, 0.0000, 0.0000, 0.0000, 0.7569, 0.8941, 0.8549,\n",
              "           0.8353, 0.7765, 0.7059, 0.8314, 0.8235, 0.8275, 0.8353, 0.8745,\n",
              "           0.8627, 0.9529, 0.7922, 0.0000],\n",
              "          [0.0000, 0.0000, 0.0000, 0.0000, 0.0000, 0.0000, 0.0000, 0.0000,\n",
              "           0.0000, 0.0039, 0.0118, 0.0000, 0.0471, 0.8588, 0.8627, 0.8314,\n",
              "           0.8549, 0.7529, 0.6627, 0.8902, 0.8157, 0.8549, 0.8784, 0.8314,\n",
              "           0.8863, 0.7725, 0.8196, 0.2039],\n",
              "          [0.0000, 0.0000, 0.0000, 0.0000, 0.0000, 0.0000, 0.0000, 0.0000,\n",
              "           0.0000, 0.0000, 0.0235, 0.0000, 0.3882, 0.9569, 0.8706, 0.8627,\n",
              "           0.8549, 0.7961, 0.7765, 0.8667, 0.8431, 0.8353, 0.8706, 0.8627,\n",
              "           0.9608, 0.4667, 0.6549, 0.2196],\n",
              "          [0.0000, 0.0000, 0.0000, 0.0000, 0.0000, 0.0000, 0.0000, 0.0000,\n",
              "           0.0000, 0.0157, 0.0000, 0.0000, 0.2157, 0.9255, 0.8941, 0.9020,\n",
              "           0.8941, 0.9412, 0.9098, 0.8353, 0.8549, 0.8745, 0.9176, 0.8510,\n",
              "           0.8510, 0.8196, 0.3608, 0.0000],\n",
              "          [0.0000, 0.0000, 0.0039, 0.0157, 0.0235, 0.0275, 0.0078, 0.0000,\n",
              "           0.0000, 0.0000, 0.0000, 0.0000, 0.9294, 0.8863, 0.8510, 0.8745,\n",
              "           0.8706, 0.8588, 0.8706, 0.8667, 0.8471, 0.8745, 0.8980, 0.8431,\n",
              "           0.8549, 1.0000, 0.3020, 0.0000],\n",
              "          [0.0000, 0.0118, 0.0000, 0.0000, 0.0000, 0.0000, 0.0000, 0.0000,\n",
              "           0.0000, 0.2431, 0.5686, 0.8000, 0.8941, 0.8118, 0.8353, 0.8667,\n",
              "           0.8549, 0.8157, 0.8275, 0.8549, 0.8784, 0.8745, 0.8588, 0.8431,\n",
              "           0.8784, 0.9569, 0.6235, 0.0000],\n",
              "          [0.0000, 0.0000, 0.0000, 0.0000, 0.0706, 0.1725, 0.3216, 0.4196,\n",
              "           0.7412, 0.8941, 0.8627, 0.8706, 0.8510, 0.8863, 0.7843, 0.8039,\n",
              "           0.8275, 0.9020, 0.8784, 0.9176, 0.6902, 0.7373, 0.9804, 0.9725,\n",
              "           0.9137, 0.9333, 0.8431, 0.0000],\n",
              "          [0.0000, 0.2235, 0.7333, 0.8157, 0.8784, 0.8667, 0.8784, 0.8157,\n",
              "           0.8000, 0.8392, 0.8157, 0.8196, 0.7843, 0.6235, 0.9608, 0.7569,\n",
              "           0.8078, 0.8745, 1.0000, 1.0000, 0.8667, 0.9176, 0.8667, 0.8275,\n",
              "           0.8627, 0.9098, 0.9647, 0.0000],\n",
              "          [0.0118, 0.7922, 0.8941, 0.8784, 0.8667, 0.8275, 0.8275, 0.8392,\n",
              "           0.8039, 0.8039, 0.8039, 0.8627, 0.9412, 0.3137, 0.5882, 1.0000,\n",
              "           0.8980, 0.8667, 0.7373, 0.6039, 0.7490, 0.8235, 0.8000, 0.8196,\n",
              "           0.8706, 0.8941, 0.8824, 0.0000],\n",
              "          [0.3843, 0.9137, 0.7765, 0.8235, 0.8706, 0.8980, 0.8980, 0.9176,\n",
              "           0.9765, 0.8627, 0.7608, 0.8431, 0.8510, 0.9451, 0.2549, 0.2863,\n",
              "           0.4157, 0.4588, 0.6588, 0.8588, 0.8667, 0.8431, 0.8510, 0.8745,\n",
              "           0.8745, 0.8784, 0.8980, 0.1137],\n",
              "          [0.2941, 0.8000, 0.8314, 0.8000, 0.7569, 0.8039, 0.8275, 0.8824,\n",
              "           0.8471, 0.7255, 0.7725, 0.8078, 0.7765, 0.8353, 0.9412, 0.7647,\n",
              "           0.8902, 0.9608, 0.9373, 0.8745, 0.8549, 0.8314, 0.8196, 0.8706,\n",
              "           0.8627, 0.8667, 0.9020, 0.2627],\n",
              "          [0.1882, 0.7961, 0.7176, 0.7608, 0.8353, 0.7725, 0.7255, 0.7451,\n",
              "           0.7608, 0.7529, 0.7922, 0.8392, 0.8588, 0.8667, 0.8627, 0.9255,\n",
              "           0.8824, 0.8471, 0.7804, 0.8078, 0.7294, 0.7098, 0.6941, 0.6745,\n",
              "           0.7098, 0.8039, 0.8078, 0.4510],\n",
              "          [0.0000, 0.4784, 0.8588, 0.7569, 0.7020, 0.6706, 0.7176, 0.7686,\n",
              "           0.8000, 0.8235, 0.8353, 0.8118, 0.8275, 0.8235, 0.7843, 0.7686,\n",
              "           0.7608, 0.7490, 0.7647, 0.7490, 0.7765, 0.7529, 0.6902, 0.6118,\n",
              "           0.6549, 0.6941, 0.8235, 0.3608],\n",
              "          [0.0000, 0.0000, 0.2902, 0.7412, 0.8314, 0.7490, 0.6863, 0.6745,\n",
              "           0.6863, 0.7098, 0.7255, 0.7373, 0.7412, 0.7373, 0.7569, 0.7765,\n",
              "           0.8000, 0.8196, 0.8235, 0.8235, 0.8275, 0.7373, 0.7373, 0.7608,\n",
              "           0.7529, 0.8471, 0.6667, 0.0000],\n",
              "          [0.0078, 0.0000, 0.0000, 0.0000, 0.2588, 0.7843, 0.8706, 0.9294,\n",
              "           0.9373, 0.9490, 0.9647, 0.9529, 0.9569, 0.8667, 0.8627, 0.7569,\n",
              "           0.7490, 0.7020, 0.7137, 0.7137, 0.7098, 0.6902, 0.6510, 0.6588,\n",
              "           0.3882, 0.2275, 0.0000, 0.0000],\n",
              "          [0.0000, 0.0000, 0.0000, 0.0000, 0.0000, 0.0000, 0.0000, 0.1569,\n",
              "           0.2392, 0.1725, 0.2824, 0.1608, 0.1373, 0.0000, 0.0000, 0.0000,\n",
              "           0.0000, 0.0000, 0.0000, 0.0000, 0.0000, 0.0000, 0.0000, 0.0000,\n",
              "           0.0000, 0.0000, 0.0000, 0.0000],\n",
              "          [0.0000, 0.0000, 0.0000, 0.0000, 0.0000, 0.0000, 0.0000, 0.0000,\n",
              "           0.0000, 0.0000, 0.0000, 0.0000, 0.0000, 0.0000, 0.0000, 0.0000,\n",
              "           0.0000, 0.0000, 0.0000, 0.0000, 0.0000, 0.0000, 0.0000, 0.0000,\n",
              "           0.0000, 0.0000, 0.0000, 0.0000],\n",
              "          [0.0000, 0.0000, 0.0000, 0.0000, 0.0000, 0.0000, 0.0000, 0.0000,\n",
              "           0.0000, 0.0000, 0.0000, 0.0000, 0.0000, 0.0000, 0.0000, 0.0000,\n",
              "           0.0000, 0.0000, 0.0000, 0.0000, 0.0000, 0.0000, 0.0000, 0.0000,\n",
              "           0.0000, 0.0000, 0.0000, 0.0000]]]),\n",
              " 9)"
            ]
          },
          "metadata": {},
          "execution_count": 4
        }
      ]
    },
    {
      "cell_type": "code",
      "source": [
        "class_names = train_data.classes\n",
        "class_names\n"
      ],
      "metadata": {
        "colab": {
          "base_uri": "https://localhost:8080/"
        },
        "id": "-o-TVDeMtM46",
        "outputId": "40069458-5fcf-4651-cb98-aa259b5baf4a"
      },
      "execution_count": null,
      "outputs": [
        {
          "output_type": "execute_result",
          "data": {
            "text/plain": [
              "['T-shirt/top',\n",
              " 'Trouser',\n",
              " 'Pullover',\n",
              " 'Dress',\n",
              " 'Coat',\n",
              " 'Sandal',\n",
              " 'Shirt',\n",
              " 'Sneaker',\n",
              " 'Bag',\n",
              " 'Ankle boot']"
            ]
          },
          "metadata": {},
          "execution_count": 5
        }
      ]
    },
    {
      "cell_type": "code",
      "source": [
        "class_to_idx = train_data.class_to_idx\n",
        "class_to_idx"
      ],
      "metadata": {
        "colab": {
          "base_uri": "https://localhost:8080/"
        },
        "id": "u5IhQvnytn_r",
        "outputId": "f014a334-4520-4ea1-de17-deb9291276d2"
      },
      "execution_count": null,
      "outputs": [
        {
          "output_type": "execute_result",
          "data": {
            "text/plain": [
              "{'T-shirt/top': 0,\n",
              " 'Trouser': 1,\n",
              " 'Pullover': 2,\n",
              " 'Dress': 3,\n",
              " 'Coat': 4,\n",
              " 'Sandal': 5,\n",
              " 'Shirt': 6,\n",
              " 'Sneaker': 7,\n",
              " 'Bag': 8,\n",
              " 'Ankle boot': 9}"
            ]
          },
          "metadata": {},
          "execution_count": 6
        }
      ]
    },
    {
      "cell_type": "code",
      "source": [
        "# check the shape of our data\n",
        "print(\"Image shape ie [color channel, height, width]: \",image.shape)"
      ],
      "metadata": {
        "colab": {
          "base_uri": "https://localhost:8080/"
        },
        "id": "tmvldBbDt8pc",
        "outputId": "0d9d5c65-aba6-48b5-b4db-031dbed9f780"
      },
      "execution_count": null,
      "outputs": [
        {
          "output_type": "stream",
          "name": "stdout",
          "text": [
            "Image shape ie [color channel, height, width]:  torch.Size([1, 28, 28])\n"
          ]
        }
      ]
    },
    {
      "cell_type": "markdown",
      "source": [
        "###  Visualizing our data\n"
      ],
      "metadata": {
        "id": "elGbg3jJutnN"
      }
    },
    {
      "cell_type": "markdown",
      "source": [
        "![example input and output shapes of the fashionMNIST problem](https://raw.githubusercontent.com/mrdbourke/pytorch-deep-learning/main/images/03-computer-vision-input-and-output-shapes.png)"
      ],
      "metadata": {
        "id": "06ttZ3RJfYK1"
      }
    },
    {
      "cell_type": "code",
      "source": [
        "import matplotlib.pyplot as plt\n",
        "\n",
        "image, label = train_data[0]\n",
        "# plt.imshow(image)# causes an eror since it is an ivalid shape as per matplotlib\n",
        "plt.imshow(image.squeeze())"
      ],
      "metadata": {
        "colab": {
          "base_uri": "https://localhost:8080/",
          "height": 448
        },
        "id": "KQfEEiRbxE_Q",
        "outputId": "27a6d5fe-ee57-4fac-8630-634907bcdf0e"
      },
      "execution_count": null,
      "outputs": [
        {
          "output_type": "execute_result",
          "data": {
            "text/plain": [
              "<matplotlib.image.AxesImage at 0x7bfe1c4d42b0>"
            ]
          },
          "metadata": {},
          "execution_count": 8
        },
        {
          "output_type": "display_data",
          "data": {
            "text/plain": [
              "<Figure size 640x480 with 1 Axes>"
            ],
            "image/png": "[encoded data removed]"
          },
          "metadata": {}
        }
      ]
    },
    {
      "cell_type": "code",
      "source": [
        "plt.imshow(image.squeeze(), cmap=\"gray\")\n",
        "plt.title(class_names[label])\n"
      ],
      "metadata": {
        "colab": {
          "base_uri": "https://localhost:8080/",
          "height": 470
        },
        "id": "40GfIvXxxVkA",
        "outputId": "ef6af8d0-999e-45b9-f0cf-51de7967f4e0"
      },
      "execution_count": null,
      "outputs": [
        {
          "output_type": "execute_result",
          "data": {
            "text/plain": [
              "Text(0.5, 1.0, 'Ankle boot')"
            ]
          },
          "metadata": {},
          "execution_count": 9
        },
        {
          "output_type": "display_data",
          "data": {
            "text/plain": [
              "<Figure size 640x480 with 1 Axes>"
            ],
            "image/png": "[encoded data removed]"
          },
          "metadata": {}
        }
      ]
    },
    {
      "cell_type": "code",
      "source": [
        "# plot more images at random\n",
        "torch.manual_seed(42)\n",
        "fig = plt.figure(figsize=(9,9))\n",
        "rows, cols = 4, 4\n",
        "for i in range(1, rows*cols+1):\n",
        "    random_idx = torch.randint(0, len(train_data), size=[1]).item()\n",
        "    img, label = train_data[random_idx]\n",
        "    fig.add_subplot(rows, cols, i)\n",
        "    plt.imshow(img.squeeze(), cmap=\"gray\")\n",
        "    plt.title(class_names[label])\n",
        "    plt.axis(False);"
      ],
      "metadata": {
        "colab": {
          "base_uri": "https://localhost:8080/",
          "height": 752
        },
        "id": "G_ozE-f2y80W",
        "outputId": "657cce15-dd52-4331-a6f0-49eba770f751"
      },
      "execution_count": null,
      "outputs": [
        {
          "output_type": "display_data",
          "data": {
            "text/plain": [
              "<Figure size 900x900 with 16 Axes>"
            ],
            "image/png": "[encoded data removed]"
          },
          "metadata": {}
        }
      ]
    },
    {
      "cell_type": "markdown",
      "source": [
        "## 02. Preparing Dataloader"
      ],
      "metadata": {
        "id": "mbYQjN721zLu"
      }
    },
    {
      "cell_type": "markdown",
      "source": [
        "\n",
        "\n",
        "Now we've got a dataset ready to go.\n",
        "\n",
        "The next step is to prepare it with a [`torch.utils.data.DataLoader`](https://pytorch.org/docs/stable/data.html#torch.utils.data.Dataset) or `DataLoader` for short.\n",
        "\n",
        "The `DataLoader` does what you think it might do.\n",
        "\n",
        "It helps load data into a model.\n",
        "\n",
        "For training and for inference.\n",
        "\n",
        "It turns a large `Dataset` into a Python iterable of smaller chunks.\n",
        "\n",
        "These smaller chunks are called **batches** or **mini-batches** and can be set by the `batch_size` parameter.\n",
        "\n",
        "Why do this?\n",
        "\n",
        "Because it's more computationally efficient.\n",
        "\n",
        "In an ideal world you could do the forward pass and backward pass across all of your data at once.\n",
        "\n",
        "But once you start using really large datasets, unless you've got infinite computing power, it's easier to break them up into batches.\n",
        "\n",
        "It also gives your model more opportunities to improve.\n",
        "\n",
        "With **mini-batches** (small portions of the data), gradient descent is performed more often per epoch (once per mini-batch rather than once per epoch).\n",
        "\n",
        "What's a good batch size?\n",
        "\n",
        "[32 is a good place to start](https://twitter.com/ylecun/status/989610208497360896?s=20&t=N96J_jotN--PYuJk2WcjMw) for a fair amount of problems.\n",
        "\n",
        "But since this is a value you can set (a **hyperparameter**) you can try all different kinds of values, though generally powers of 2 are used most often (e.g. 32, 64, 128, 256, 512).\n",
        "\n",
        "![an example of what a batched dataset looks like](https://raw.githubusercontent.com/mrdbourke/pytorch-deep-learning/main/images/03-batching-fashionmnist.png)\n",
        "*Batching FashionMNIST with a batch size of 32 and shuffle turned on. A similar batching process will occur for other datasets but will differ depending on the batch size.*\n",
        "\n",
        "Let's create `DataLoader`'s for our training and test sets."
      ],
      "metadata": {
        "id": "NgdKbjGvf1xy"
      }
    },
    {
      "cell_type": "markdown",
      "source": [
        "**Why Do We Turn Our Data into Batches?**\n",
        "\n",
        "Batching is the process of dividing our data into smaller subsets, allowing us to process multiple samples simultaneously. This is akin to viewing multiple memes in a grid on your phone's gallery and selecting the funniest one.\n",
        "\n",
        "**Advantages of Batching:**\n",
        "1. **Computational Efficiency:** Processing data in batches is more efficient than handling one sample at a time.\n",
        "2. **Gradient Updates:** Batching allows our neural network to update its gradients multiple times per epoch, leading to more stable and faster convergence.\n",
        "\n",
        "**Example:**\n",
        "When training a neural network, sending batches of images to the computing hardware enables the model to learn from multiple samples simultaneously, improving performance and speed."
      ],
      "metadata": {
        "id": "WFmVK1zQ4AAE"
      }
    },
    {
      "cell_type": "code",
      "source": [
        "from torch.utils.data import DataLoader\n",
        "\n",
        "# create batch size hyperparameter\n",
        "BATCH_SIZE = 32\n",
        "\n",
        "# turn train dataset into dataloader\n",
        "train_dataloader = DataLoader(dataset=train_data,\n",
        "                              batch_size=BATCH_SIZE,\n",
        "                              shuffle=True)\n",
        "test_dataloader = DataLoader(dataset=test_data,\n",
        "                             batch_size=BATCH_SIZE,\n",
        "                             shuffle=False)\n",
        "len(train_dataloader)"
      ],
      "metadata": {
        "colab": {
          "base_uri": "https://localhost:8080/"
        },
        "id": "HZvZuq2gDjMG",
        "outputId": "1714e434-529c-4ae6-b2a4-bd6481c53b9a"
      },
      "execution_count": null,
      "outputs": [
        {
          "output_type": "execute_result",
          "data": {
            "text/plain": [
              "1875"
            ]
          },
          "metadata": {},
          "execution_count": 11
        }
      ]
    },
    {
      "cell_type": "code",
      "source": [
        "# check out the images inside the batches\n",
        "train_features_batch, train_labels_batch = next(iter(train_dataloader)) #  retrieves the next batch of data from this iterator.\n",
        "train_features_batch.shape, train_labels_batch.shape"
      ],
      "metadata": {
        "colab": {
          "base_uri": "https://localhost:8080/"
        },
        "id": "a9WZobOSFePz",
        "outputId": "7c9cb4f2-0f0c-4d7f-cdb9-9005dd2dc61a"
      },
      "execution_count": null,
      "outputs": [
        {
          "output_type": "execute_result",
          "data": {
            "text/plain": [
              "(torch.Size([32, 1, 28, 28]), torch.Size([32]))"
            ]
          },
          "metadata": {},
          "execution_count": 12
        }
      ]
    },
    {
      "cell_type": "code",
      "source": [
        "# visualize\n",
        "len(train_dataloader)\n",
        "# show a sample\n",
        "torch.manual_seed(42)\n",
        "random_idx = torch.randint(low=0,\n",
        "                           high=len(train_features_batch),\n",
        "                           size=[1]).item()\n",
        "img, label = train_features_batch[random_idx], train_labels_batch[random_idx]\n",
        "plt.imshow(img.squeeze(), cmap='gray')\n",
        "print(img.shape, label.item())\n",
        "\n"
      ],
      "metadata": {
        "colab": {
          "base_uri": "https://localhost:8080/",
          "height": 448
        },
        "id": "EFDNvfVtEOlc",
        "outputId": "266e19ea-ccae-454b-c720-88f5f89af3e1"
      },
      "execution_count": null,
      "outputs": [
        {
          "output_type": "stream",
          "name": "stdout",
          "text": [
            "torch.Size([1, 28, 28]) 6\n"
          ]
        },
        {
          "output_type": "display_data",
          "data": {
            "text/plain": [
              "<Figure size 640x480 with 1 Axes>"
            ],
            "image/png": "[encoded data removed]"
          },
          "metadata": {}
        }
      ]
    },
    {
      "cell_type": "markdown",
      "source": [
        "## 03. Model 0: Build a baseline model"
      ],
      "metadata": {
        "id": "8PNb0ovrGLJb"
      }
    },
    {
      "cell_type": "markdown",
      "source": [
        "### 03. Baseline model"
      ],
      "metadata": {
        "id": "KzvORjoZEjpt"
      }
    },
    {
      "cell_type": "markdown",
      "source": [
        "**What is a baseline model?**\n",
        "\n",
        "A baseline model is a simple, initial model used to measure the performance of\n",
        " more complex models. It serves as a reference point to see if subsequent models\n",
        "  improve. Start with a simple model and gradually add complexity as you go."
      ],
      "metadata": {
        "id": "e6N_QZ5JKXOb"
      }
    },
    {
      "cell_type": "code",
      "source": [
        "# create a flatten layer\n",
        "flatten_model = nn.Flatten()\n",
        "\n",
        "# get a simple sample\n",
        "x = train_features_batch[0]\n",
        "\n",
        "# flatten the sample\n",
        "output = flatten_model(x)\n",
        "\n",
        "print(f\"Shape before flattening: {x.shape}\")\n",
        "print(f\"Shape after flattening: {output.shape}\")"
      ],
      "metadata": {
        "colab": {
          "base_uri": "https://localhost:8080/"
        },
        "id": "Mb-i0C5gKagb",
        "outputId": "17f4fb74-eb31-44e6-a0ce-c4af6ba3301c"
      },
      "execution_count": null,
      "outputs": [
        {
          "output_type": "stream",
          "name": "stdout",
          "text": [
            "Shape before flattening: torch.Size([1, 28, 28])\n",
            "Shape after flattening: torch.Size([1, 784])\n"
          ]
        }
      ]
    },
    {
      "cell_type": "code",
      "source": [
        "class FashionMNISTModelV0(nn.Module):\n",
        "    def __init__(self, input_features, output_features, hidden_units=8):\n",
        "        super().__init__()\n",
        "        self.layer_stack = nn.Sequential(\n",
        "            nn.Flatten(),\n",
        "            nn.Linear(in_features=input_features,\n",
        "                      out_features=hidden_units\n",
        "                      ),\n",
        "            nn.Linear(in_features=hidden_units,\n",
        "                      out_features=output_features\n",
        "                      )\n",
        "        )\n",
        "    def forward(self, x):\n",
        "        return self.layer_stack(x)"
      ],
      "metadata": {
        "id": "k2YiZlPUYeu-"
      },
      "execution_count": null,
      "outputs": []
    },
    {
      "cell_type": "code",
      "source": [
        "model_0 = FashionMNISTModelV0(\n",
        "    input_features=784,\n",
        "    output_features=len(class_names),\n",
        "    hidden_units=10\n",
        ").to(\"cpu\")\n",
        "model_0"
      ],
      "metadata": {
        "colab": {
          "base_uri": "https://localhost:8080/"
        },
        "id": "WntQxohYXysc",
        "outputId": "0ce79852-8440-4e62-ae3e-5f359712ed21"
      },
      "execution_count": null,
      "outputs": [
        {
          "output_type": "execute_result",
          "data": {
            "text/plain": [
              "FashionMNISTModelV0(\n",
              "  (layer_stack): Sequential(\n",
              "    (0): Flatten(start_dim=1, end_dim=-1)\n",
              "    (1): Linear(in_features=784, out_features=10, bias=True)\n",
              "    (2): Linear(in_features=10, out_features=10, bias=True)\n",
              "  )\n",
              ")"
            ]
          },
          "metadata": {},
          "execution_count": 16
        }
      ]
    },
    {
      "cell_type": "code",
      "source": [
        "dummy_x = torch.rand([1,1,28,28])\n",
        "model_0(dummy_x)"
      ],
      "metadata": {
        "colab": {
          "base_uri": "https://localhost:8080/"
        },
        "id": "6PIdxl9_b2w2",
        "outputId": "d1891486-52cd-4ded-f5bb-2805132d7cfa"
      },
      "execution_count": null,
      "outputs": [
        {
          "output_type": "execute_result",
          "data": {
            "text/plain": [
              "tensor([[ 0.4283,  0.1136, -0.3903, -0.0246, -0.0698,  0.2508,  0.4007, -0.4172,\n",
              "         -0.0264, -0.2463]], grad_fn=<AddmmBackward0>)"
            ]
          },
          "metadata": {},
          "execution_count": 17
        }
      ]
    },
    {
      "cell_type": "markdown",
      "source": [
        "### 3.1. Set up loss function and evaluation metrics"
      ],
      "metadata": {
        "id": "6sMQ0bKdcLcW"
      }
    },
    {
      "cell_type": "markdown",
      "source": [
        "We will use `nn.CrossEntropyLoss` since we are dealing with multiclass data.\n",
        "\n",
        "- **Optimizer**: Stochastic Gradient Descent (SGD)\n",
        "- **Evaluation Metric**: Accuracy"
      ],
      "metadata": {
        "id": "pAGaAZz70Fob"
      }
    },
    {
      "cell_type": "code",
      "source": [
        "!pip install torchmetrics\n",
        "from torchmetrics import Accuracy\n",
        "accuracy_fn = Accuracy(task=\"multiclass\", num_classes=len(class_names))"
      ],
      "metadata": {
        "colab": {
          "base_uri": "https://localhost:8080/"
        },
        "id": "-xd9ZQpb0t0E",
        "outputId": "2daa7d09-6f1f-4f15-9975-cdb7b4b2bc8b",
        "collapsed": true
      },
      "execution_count": null,
      "outputs": [
        {
          "output_type": "stream",
          "name": "stdout",
          "text": [
            "Collecting torchmetrics\n",
            "  Downloading torchmetrics-1.4.0.post0-py3-none-any.whl (868 kB)\n",
            "\u001b[?25l     \u001b[90m━━━━━━━━━━━━━━━━━━━━━━━━━━━━━━━━━━━━━━━━\u001b[0m \u001b[32m0.0/868.8 kB\u001b[0m \u001b[31m?\u001b[0m eta \u001b[36m-:--:--\u001b[0m\r\u001b[2K     \u001b[91m━━━━━━━━━━━\u001b[0m\u001b[90m╺\u001b[0m\u001b[90m━━━━━━━━━━━━━━━━━━━━━━━━━━━━\u001b[0m \u001b[32m245.8/868.8 kB\u001b[0m \u001b[31m8.2 MB/s\u001b[0m eta \u001b[36m0:00:01\u001b[0m\r\u001b[2K     \u001b[90m━━━━━━━━━━━━━━━━━━━━━━━━━━━━━━━━━━━━━━━━\u001b[0m \u001b[32m868.8/868.8 kB\u001b[0m \u001b[31m18.4 MB/s\u001b[0m eta \u001b[36m0:00:00\u001b[0m\n",
            "\u001b[?25hRequirement already satisfied: numpy>1.20.0 in /usr/local/lib/python3.10/dist-packages (from torchmetrics) (1.25.2)\n",
            "Requirement already satisfied: packaging>17.1 in /usr/local/lib/python3.10/dist-packages (from torchmetrics) (24.1)\n",
            "Requirement already satisfied: torch>=1.10.0 in /usr/local/lib/python3.10/dist-packages (from torchmetrics) (2.3.0+cu121)\n",
            "Collecting lightning-utilities>=0.8.0 (from torchmetrics)\n",
            "  Downloading lightning_utilities-0.11.2-py3-none-any.whl (26 kB)\n",
            "Requirement already satisfied: setuptools in /usr/local/lib/python3.10/dist-packages (from lightning-utilities>=0.8.0->torchmetrics) (67.7.2)\n",
            "Requirement already satisfied: typing-extensions in /usr/local/lib/python3.10/dist-packages (from lightning-utilities>=0.8.0->torchmetrics) (4.12.2)\n",
            "Requirement already satisfied: filelock in /usr/local/lib/python3.10/dist-packages (from torch>=1.10.0->torchmetrics) (3.15.1)\n",
            "Requirement already satisfied: sympy in /usr/local/lib/python3.10/dist-packages (from torch>=1.10.0->torchmetrics) (1.12.1)\n",
            "Requirement already satisfied: networkx in /usr/local/lib/python3.10/dist-packages (from torch>=1.10.0->torchmetrics) (3.3)\n",
            "Requirement already satisfied: jinja2 in /usr/local/lib/python3.10/dist-packages (from torch>=1.10.0->torchmetrics) (3.1.4)\n",
            "Requirement already satisfied: fsspec in /usr/local/lib/python3.10/dist-packages (from torch>=1.10.0->torchmetrics) (2023.6.0)\n",
            "Collecting nvidia-cuda-nvrtc-cu12==12.1.105 (from torch>=1.10.0->torchmetrics)\n",
            "  Using cached nvidia_cuda_nvrtc_cu12-12.1.105-py3-none-manylinux1_x86_64.whl (23.7 MB)\n",
            "Collecting nvidia-cuda-runtime-cu12==12.1.105 (from torch>=1.10.0->torchmetrics)\n",
            "  Using cached nvidia_cuda_runtime_cu12-12.1.105-py3-none-manylinux1_x86_64.whl (823 kB)\n",
            "Collecting nvidia-cuda-cupti-cu12==12.1.105 (from torch>=1.10.0->torchmetrics)\n",
            "  Using cached nvidia_cuda_cupti_cu12-12.1.105-py3-none-manylinux1_x86_64.whl (14.1 MB)\n",
            "Collecting nvidia-cudnn-cu12==8.9.2.26 (from torch>=1.10.0->torchmetrics)\n",
            "  Using cached nvidia_cudnn_cu12-8.9.2.26-py3-none-manylinux1_x86_64.whl (731.7 MB)\n",
            "Collecting nvidia-cublas-cu12==12.1.3.1 (from torch>=1.10.0->torchmetrics)\n",
            "  Using cached nvidia_cublas_cu12-12.1.3.1-py3-none-manylinux1_x86_64.whl (410.6 MB)\n",
            "Collecting nvidia-cufft-cu12==11.0.2.54 (from torch>=1.10.0->torchmetrics)\n",
            "  Using cached nvidia_cufft_cu12-11.0.2.54-py3-none-manylinux1_x86_64.whl (121.6 MB)\n",
            "Collecting nvidia-curand-cu12==10.3.2.106 (from torch>=1.10.0->torchmetrics)\n",
            "  Using cached nvidia_curand_cu12-10.3.2.106-py3-none-manylinux1_x86_64.whl (56.5 MB)\n",
            "Collecting nvidia-cusolver-cu12==11.4.5.107 (from torch>=1.10.0->torchmetrics)\n",
            "  Using cached nvidia_cusolver_cu12-11.4.5.107-py3-none-manylinux1_x86_64.whl (124.2 MB)\n",
            "Collecting nvidia-cusparse-cu12==12.1.0.106 (from torch>=1.10.0->torchmetrics)\n",
            "  Using cached nvidia_cusparse_cu12-12.1.0.106-py3-none-manylinux1_x86_64.whl (196.0 MB)\n",
            "Collecting nvidia-nccl-cu12==2.20.5 (from torch>=1.10.0->torchmetrics)\n",
            "  Using cached nvidia_nccl_cu12-2.20.5-py3-none-manylinux2014_x86_64.whl (176.2 MB)\n",
            "Collecting nvidia-nvtx-cu12==12.1.105 (from torch>=1.10.0->torchmetrics)\n",
            "  Using cached nvidia_nvtx_cu12-12.1.105-py3-none-manylinux1_x86_64.whl (99 kB)\n",
            "Requirement already satisfied: triton==2.3.0 in /usr/local/lib/python3.10/dist-packages (from torch>=1.10.0->torchmetrics) (2.3.0)\n",
            "Collecting nvidia-nvjitlink-cu12 (from nvidia-cusolver-cu12==11.4.5.107->torch>=1.10.0->torchmetrics)\n",
            "  Downloading nvidia_nvjitlink_cu12-12.5.40-py3-none-manylinux2014_x86_64.whl (21.3 MB)\n",
            "\u001b[2K     \u001b[90m━━━━━━━━━━━━━━━━━━━━━━━━━━━━━━━━━━━━━━━━\u001b[0m \u001b[32m21.3/21.3 MB\u001b[0m \u001b[31m70.5 MB/s\u001b[0m eta \u001b[36m0:00:00\u001b[0m\n",
            "\u001b[?25hRequirement already satisfied: MarkupSafe>=2.0 in /usr/local/lib/python3.10/dist-packages (from jinja2->torch>=1.10.0->torchmetrics) (2.1.5)\n",
            "Requirement already satisfied: mpmath<1.4.0,>=1.1.0 in /usr/local/lib/python3.10/dist-packages (from sympy->torch>=1.10.0->torchmetrics) (1.3.0)\n",
            "Installing collected packages: nvidia-nvtx-cu12, nvidia-nvjitlink-cu12, nvidia-nccl-cu12, nvidia-curand-cu12, nvidia-cufft-cu12, nvidia-cuda-runtime-cu12, nvidia-cuda-nvrtc-cu12, nvidia-cuda-cupti-cu12, nvidia-cublas-cu12, lightning-utilities, nvidia-cusparse-cu12, nvidia-cudnn-cu12, nvidia-cusolver-cu12, torchmetrics\n",
            "Successfully installed lightning-utilities-0.11.2 nvidia-cublas-cu12-12.1.3.1 nvidia-cuda-cupti-cu12-12.1.105 nvidia-cuda-nvrtc-cu12-12.1.105 nvidia-cuda-runtime-cu12-12.1.105 nvidia-cudnn-cu12-8.9.2.26 nvidia-cufft-cu12-11.0.2.54 nvidia-curand-cu12-10.3.2.106 nvidia-cusolver-cu12-11.4.5.107 nvidia-cusparse-cu12-12.1.0.106 nvidia-nccl-cu12-2.20.5 nvidia-nvjitlink-cu12-12.5.40 nvidia-nvtx-cu12-12.1.105 torchmetrics-1.4.0.post0\n"
          ]
        }
      ]
    },
    {
      "cell_type": "code",
      "source": [
        "# setup loss fn and optimizer\n",
        "loss_fn = nn.CrossEntropyLoss()\n",
        "optimizer = torch.optim.SGD(params=model_0.parameters(),\n",
        "                            lr=0.1)\n"
      ],
      "metadata": {
        "id": "YgDTAVs612pH"
      },
      "execution_count": null,
      "outputs": []
    },
    {
      "cell_type": "markdown",
      "source": [
        "### 3.2. Timing our experiments ie how fast it runs"
      ],
      "metadata": {
        "id": "sgsVgyhT2ye2"
      }
    },
    {
      "cell_type": "code",
      "source": [
        "from timeit import default_timer as timer\n",
        "\n",
        "def print_train_time(start: float, end: float, device: torch.device = None):\n",
        "    \"\"\"\n",
        "    Calculates and prints the total training time.\n",
        "\n",
        "    Args:\n",
        "    start (float): The start time of the training.\n",
        "    end (float): The end time of the training.\n",
        "    device (torch.device, optional): The device on which the training was run.\n",
        "\n",
        "    Returns:\n",
        "    float: The total training time in seconds.\n",
        "    \"\"\"\n",
        "    total_time = end - start  # Calculate total training time\n",
        "    print(f\"Train time on {device}: {total_time:.3f} seconds\")  # Print the training time\n",
        "    return total_time  # Return the total training time\n"
      ],
      "metadata": {
        "id": "xyg-yU6e3zPY"
      },
      "execution_count": null,
      "outputs": []
    },
    {
      "cell_type": "markdown",
      "source": [
        "### 3.3. creating a training loop and a training model"
      ],
      "metadata": {
        "id": "2u62eoTD5Gty"
      }
    },
    {
      "cell_type": "markdown",
      "source": [
        "* Loop through epochs\n",
        "* Loop through training batches\n",
        "* Loop through testing batches\n",
        "* Print out what's happening\n",
        "* Time it all\n"
      ],
      "metadata": {
        "id": "5l65T4L3538N"
      }
    },
    {
      "cell_type": "code",
      "source": [
        "# import tqdm for progress bar\n",
        "from tqdm.auto import tqdm\n",
        "\n",
        "# set the seed and start the timer\n",
        "torch.manual_seed(42)\n",
        "train_timer_start_on_cpu = timer()\n",
        "\n",
        "# set the number of epochs\n",
        "epochs = 3\n",
        "\n",
        "# create training and testing loop\n",
        "# for an epoch in a range:\n",
        "for epoch in range(epochs):\n",
        "    print(f\"Epoch: {epoch}\\n---------\")\n",
        "    train_loss = 0\n",
        "    # add aloop to trainthrough the batches\n",
        "    for batch, (X, y) in enumerate(train_dataloader):\n",
        "        # in model.train\n",
        "        model_0.train()\n",
        "        # do the forward pass\n",
        "        y_pred = model_0(X)\n",
        "        # calculate the loss\n",
        "        loss = loss_fn(y_pred, y)\n",
        "        train_loss += loss\n",
        "        # optimizer zero grad\n",
        "        optimizer.zero_grad()\n",
        "        # loss backwards\n",
        "        loss.backward()\n",
        "        # optimizer step step\n",
        "        optimizer.step()\n",
        "        # print out whats happening\n",
        "        if batch % 400 == 0:\n",
        "            print(f\"Looked at {batch * len(X)}/{len(train_dataloader.dataset)} samples\")\n",
        "    # divide total train loss by length of train dataloader\n",
        "    train_loss /= len(train_dataloader)\n",
        "    # lets test it\n",
        "    test_loss, test_acc = 0, 0\n",
        "    # in model.eval\n",
        "    model_0.eval()\n",
        "    # with torch.inference_mode:\n",
        "    with torch.inference_mode():\n",
        "        for X_test, y_test in test_dataloader:\n",
        "            # do the forward pass\n",
        "            test_pred = model_0(X_test)\n",
        "            # calculate the loss\n",
        "            test_loss += loss_fn(test_pred, y_test)\n",
        "            test_acc += accuracy_fn(preds=test_pred.argmax(dim=1),\n",
        "                                    target=y_test)\n",
        "        # calculate test loss average per batch\n",
        "        test_loss /= len(test_dataloader)\n",
        "        # calculate accuracy\n",
        "        test_acc /= len(test_dataloader)\n",
        "    # print out whats happening\n",
        "    print(f\"\\nTrain loss: {train_loss:.4f}  |   Test loss:{test_loss:.4f}, Test acc: {(test_acc*100):.4f}\")\n",
        "\n",
        "# Calculate training time\n",
        "train_timer_end_on_cpu = timer()\n",
        "total_train_time_model_0 = print_train_time(start=train_timer_start_on_cpu,\n",
        "                                            end=train_timer_end_on_cpu,\n",
        "                                            device=str(next(model_0.parameters()).device))\n"
      ],
      "metadata": {
        "id": "N3D7hhEE6tLE",
        "colab": {
          "base_uri": "https://localhost:8080/"
        },
        "outputId": "39003762-1f67-4518-9cfa-963f45e0a031"
      },
      "execution_count": null,
      "outputs": [
        {
          "output_type": "stream",
          "name": "stdout",
          "text": [
            "Epoch: 0\n",
            "---------\n",
            "Looked at 0/60000 samples\n",
            "Looked at 12800/60000 samples\n",
            "Looked at 25600/60000 samples\n",
            "Looked at 38400/60000 samples\n",
            "Looked at 51200/60000 samples\n",
            "\n",
            "Train loss: 0.5948  |   Test loss:0.5164, Test acc: 81.8391\n",
            "Epoch: 1\n",
            "---------\n",
            "Looked at 0/60000 samples\n",
            "Looked at 12800/60000 samples\n",
            "Looked at 25600/60000 samples\n",
            "Looked at 38400/60000 samples\n",
            "Looked at 51200/60000 samples\n",
            "\n",
            "Train loss: 0.4795  |   Test loss:0.4814, Test acc: 83.1769\n",
            "Epoch: 2\n",
            "---------\n",
            "Looked at 0/60000 samples\n",
            "Looked at 12800/60000 samples\n",
            "Looked at 25600/60000 samples\n",
            "Looked at 38400/60000 samples\n",
            "Looked at 51200/60000 samples\n",
            "\n",
            "Train loss: 0.4570  |   Test loss:0.4777, Test acc: 83.4964\n",
            "Train time on cpu: 38.232 seconds\n"
          ]
        }
      ]
    },
    {
      "cell_type": "markdown",
      "source": [
        "### 3.4. Make predictions and get Model 0 results"
      ],
      "metadata": {
        "id": "SxBP3GAHQ20W"
      }
    },
    {
      "cell_type": "code",
      "source": [
        "torch.manual_seed(42)\n",
        "def eval_model(model: torch.nn.Module,\n",
        "               data_loader: torch.utils.data.DataLoader,\n",
        "               loss_fn: torch.nn.Module,\n",
        "               accuracy_fn):\n",
        "    \"\"\"\n",
        "    Evaluates the given model on the provided data loader using the specified loss and accuracy functions.\n",
        "\n",
        "    Args:\n",
        "    model (torch.nn.Module): The model to be evaluated.\n",
        "    data_loader (torch.utils.data.DataLoader): DataLoader containing the data to evaluate the model on.\n",
        "    loss_fn (torch.nn.Module): The loss function to use for evaluation.\n",
        "    accuracy_fn: The function to calculate accuracy.\n",
        "\n",
        "    Returns:\n",
        "    dict: A dictionary containing the model name, average loss, and average accuracy.\n",
        "    \"\"\"\n",
        "    loss, acc = 0, 0\n",
        "    model.eval()\n",
        "    with torch.inference_mode():\n",
        "        for X, y in tqdm(data_loader):\n",
        "            # Forward pass\n",
        "            y_pred = model(X)\n",
        "\n",
        "            # Calculate loss and accuracy\n",
        "            loss += loss_fn(y_pred, y)\n",
        "            acc += accuracy_fn(preds=y_pred.argmax(dim=1), target=y)\n",
        "\n",
        "        # Average the loss and accuracy\n",
        "        loss /= len(data_loader)\n",
        "        acc /= len(data_loader)\n",
        "\n",
        "    return {\n",
        "        \"model_name\": model.__class__.__name__,\n",
        "        \"model_loss\": loss.item(),\n",
        "        \"model_acc\": acc.item()*100\n",
        "    }\n",
        "\n",
        "\n",
        "# calculate model 0 results on test datasets\n",
        "model_0_results = eval_model(model=model_0,\n",
        "                             data_loader=test_dataloader,\n",
        "                             loss_fn=loss_fn,\n",
        "                             accuracy_fn=accuracy_fn)\n",
        "model_0_results\n"
      ],
      "metadata": {
        "colab": {
          "base_uri": "https://localhost:8080/",
          "height": 104,
          "referenced_widgets": [
            "cef4b8be92c9444a8d44ae2c5dc7f7b1",
            "d1da99b9e2f048b88149bdc92c66ba6b",
            "3db04e7e88a049208d0dd8e3606ff6e8",
            "01236c53cbb5458eb3cf670d5446157c",
            "50921d0eb6564dbdbd3ffe097468e1a0",
            "daaa4b0a01264d8d9312046ea0a9613f",
            "d804660f34714212919115fc3ad87a88",
            "8a12df8e919a443ab506c41a353d9de3",
            "20b8f10054054b9cbb8cd7fefa7478ac",
            "e1288d2d0b314951a3800b5133e9675d",
            "07a90829248849d6a093b4658c277d81"
          ]
        },
        "id": "Z4Odv9SFRky3",
        "outputId": "f219d9fb-9bdc-4c77-dec7-f1ff2718757a"
      },
      "execution_count": null,
      "outputs": [
        {
          "output_type": "display_data",
          "data": {
            "text/plain": [
              "  0%|          | 0/313 [00:00<?, ?it/s]"
            ],
            "application/vnd.jupyter.widget-view+json": {
              "version_major": 2,
              "version_minor": 0,
              "model_id": "cef4b8be92c9444a8d44ae2c5dc7f7b1"
            }
          },
          "metadata": {}
        },
        {
          "output_type": "execute_result",
          "data": {
            "text/plain": [
              "{'model_name': 'FashionMNISTModelV0',\n",
              " 'model_loss': 0.4777321219444275,\n",
              " 'model_acc': 83.49640369415283}"
            ]
          },
          "metadata": {},
          "execution_count": 23
        }
      ]
    },
    {
      "cell_type": "markdown",
      "source": [
        "## 4. Setup device agnostic code"
      ],
      "metadata": {
        "id": "g2-GcyecVI1W"
      }
    },
    {
      "cell_type": "code",
      "source": [
        "import torch\n",
        "device = \"cuda\" if torch.cuda.is_available() else \"cpu\"\n",
        "device"
      ],
      "metadata": {
        "colab": {
          "base_uri": "https://localhost:8080/",
          "height": 36
        },
        "id": "0wrtEyjKbZ3d",
        "outputId": "65785543-52b0-414d-b9a6-8372ed15e2ab"
      },
      "execution_count": null,
      "outputs": [
        {
          "output_type": "execute_result",
          "data": {
            "text/plain": [
              "'cuda'"
            ],
            "application/vnd.google.colaboratory.intrinsic+json": {
              "type": "string"
            }
          },
          "metadata": {},
          "execution_count": 24
        }
      ]
    },
    {
      "cell_type": "code",
      "source": [
        "torch.cuda.is_available()"
      ],
      "metadata": {
        "colab": {
          "base_uri": "https://localhost:8080/"
        },
        "id": "_4CakEp4Dwz9",
        "outputId": "7da52330-e999-49c5-ed85-ed5a61ee5183"
      },
      "execution_count": null,
      "outputs": [
        {
          "output_type": "execute_result",
          "data": {
            "text/plain": [
              "True"
            ]
          },
          "metadata": {},
          "execution_count": 25
        }
      ]
    },
    {
      "cell_type": "markdown",
      "source": [
        "## 5. Model_1: building a better model with non-linearity"
      ],
      "metadata": {
        "id": "bo7ZcETZcYXI"
      }
    },
    {
      "cell_type": "code",
      "source": [
        "# create a model with non-linear+ relu\n",
        "class FashionMNISTModelV1(nn.Module):\n",
        "    def __init__(self,\n",
        "                 input_shape: int,\n",
        "                 hidden_units: int,\n",
        "                 output_shape: int):\n",
        "        super().__init__()\n",
        "        self.layer_stack = nn.Sequential(\n",
        "            nn.Flatten(),\n",
        "            nn.Linear(in_features=input_shape,\n",
        "                      out_features=hidden_units),\n",
        "            # nn.ReLU(),\n",
        "            nn.Linear(in_features=hidden_units,\n",
        "                      out_features=output_shape),\n",
        "            # nn.ReLU()\n",
        "        )\n",
        "    def forward(self, x: torch.Tensor):\n",
        "        return self.layer_stack(x)\n",
        "\n"
      ],
      "metadata": {
        "id": "L8ykASoCcfoH"
      },
      "execution_count": null,
      "outputs": []
    },
    {
      "cell_type": "code",
      "source": [
        "torch.manual_seed(42)\n",
        "torch.cuda.manual_seed(42)\n",
        "\n",
        "model_1 = FashionMNISTModelV1(input_shape=784,\n",
        "                             hidden_units=10,\n",
        "                             output_shape=len(class_names)\n",
        ").to(device)\n",
        "next(model_1.parameters()).device"
      ],
      "metadata": {
        "colab": {
          "base_uri": "https://localhost:8080/"
        },
        "id": "e0BuJrpqeAkI",
        "outputId": "deae77e9-6f2b-452a-b37d-0c85aeca4c98"
      },
      "execution_count": null,
      "outputs": [
        {
          "output_type": "execute_result",
          "data": {
            "text/plain": [
              "device(type='cuda', index=0)"
            ]
          },
          "metadata": {},
          "execution_count": 27
        }
      ]
    },
    {
      "cell_type": "markdown",
      "source": [
        "### 5.1. setup loss, optimizer and evaluation metrics"
      ],
      "metadata": {
        "id": "6xwTpRd7fQ1w"
      }
    },
    {
      "cell_type": "code",
      "source": [
        "# setup loss fn and optimizer\n",
        "loss_fn = nn.CrossEntropyLoss()\n",
        "optimizer = torch.optim.SGD(params=model_1.parameters(),\n",
        "                            lr=0.1)"
      ],
      "metadata": {
        "id": "BuJxsVEAfhTP"
      },
      "execution_count": null,
      "outputs": []
    },
    {
      "cell_type": "code",
      "source": [
        "!pip install torchmetrics\n",
        "from torchmetrics import Accuracy\n",
        "accuracy_fn = Accuracy(task=\"multiclass\", num_classes=len(class_names)).to(device)"
      ],
      "metadata": {
        "collapsed": true,
        "id": "EYQ-qmuRfx6H",
        "colab": {
          "base_uri": "https://localhost:8080/"
        },
        "outputId": "6d74e1ca-95e5-4784-d097-fae8c8a36a36"
      },
      "execution_count": null,
      "outputs": [
        {
          "output_type": "stream",
          "name": "stdout",
          "text": [
            "Requirement already satisfied: torchmetrics in /usr/local/lib/python3.10/dist-packages (1.4.0.post0)\n",
            "Requirement already satisfied: numpy>1.20.0 in /usr/local/lib/python3.10/dist-packages (from torchmetrics) (1.25.2)\n",
            "Requirement already satisfied: packaging>17.1 in /usr/local/lib/python3.10/dist-packages (from torchmetrics) (24.1)\n",
            "Requirement already satisfied: torch>=1.10.0 in /usr/local/lib/python3.10/dist-packages (from torchmetrics) (2.3.0+cu121)\n",
            "Requirement already satisfied: lightning-utilities>=0.8.0 in /usr/local/lib/python3.10/dist-packages (from torchmetrics) (0.11.2)\n",
            "Requirement already satisfied: setuptools in /usr/local/lib/python3.10/dist-packages (from lightning-utilities>=0.8.0->torchmetrics) (67.7.2)\n",
            "Requirement already satisfied: typing-extensions in /usr/local/lib/python3.10/dist-packages (from lightning-utilities>=0.8.0->torchmetrics) (4.12.2)\n",
            "Requirement already satisfied: filelock in /usr/local/lib/python3.10/dist-packages (from torch>=1.10.0->torchmetrics) (3.15.1)\n",
            "Requirement already satisfied: sympy in /usr/local/lib/python3.10/dist-packages (from torch>=1.10.0->torchmetrics) (1.12.1)\n",
            "Requirement already satisfied: networkx in /usr/local/lib/python3.10/dist-packages (from torch>=1.10.0->torchmetrics) (3.3)\n",
            "Requirement already satisfied: jinja2 in /usr/local/lib/python3.10/dist-packages (from torch>=1.10.0->torchmetrics) (3.1.4)\n",
            "Requirement already satisfied: fsspec in /usr/local/lib/python3.10/dist-packages (from torch>=1.10.0->torchmetrics) (2023.6.0)\n",
            "Requirement already satisfied: nvidia-cuda-nvrtc-cu12==12.1.105 in /usr/local/lib/python3.10/dist-packages (from torch>=1.10.0->torchmetrics) (12.1.105)\n",
            "Requirement already satisfied: nvidia-cuda-runtime-cu12==12.1.105 in /usr/local/lib/python3.10/dist-packages (from torch>=1.10.0->torchmetrics) (12.1.105)\n",
            "Requirement already satisfied: nvidia-cuda-cupti-cu12==12.1.105 in /usr/local/lib/python3.10/dist-packages (from torch>=1.10.0->torchmetrics) (12.1.105)\n",
            "Requirement already satisfied: nvidia-cudnn-cu12==8.9.2.26 in /usr/local/lib/python3.10/dist-packages (from torch>=1.10.0->torchmetrics) (8.9.2.26)\n",
            "Requirement already satisfied: nvidia-cublas-cu12==12.1.3.1 in /usr/local/lib/python3.10/dist-packages (from torch>=1.10.0->torchmetrics) (12.1.3.1)\n",
            "Requirement already satisfied: nvidia-cufft-cu12==11.0.2.54 in /usr/local/lib/python3.10/dist-packages (from torch>=1.10.0->torchmetrics) (11.0.2.54)\n",
            "Requirement already satisfied: nvidia-curand-cu12==10.3.2.106 in /usr/local/lib/python3.10/dist-packages (from torch>=1.10.0->torchmetrics) (10.3.2.106)\n",
            "Requirement already satisfied: nvidia-cusolver-cu12==11.4.5.107 in /usr/local/lib/python3.10/dist-packages (from torch>=1.10.0->torchmetrics) (11.4.5.107)\n",
            "Requirement already satisfied: nvidia-cusparse-cu12==12.1.0.106 in /usr/local/lib/python3.10/dist-packages (from torch>=1.10.0->torchmetrics) (12.1.0.106)\n",
            "Requirement already satisfied: nvidia-nccl-cu12==2.20.5 in /usr/local/lib/python3.10/dist-packages (from torch>=1.10.0->torchmetrics) (2.20.5)\n",
            "Requirement already satisfied: nvidia-nvtx-cu12==12.1.105 in /usr/local/lib/python3.10/dist-packages (from torch>=1.10.0->torchmetrics) (12.1.105)\n",
            "Requirement already satisfied: triton==2.3.0 in /usr/local/lib/python3.10/dist-packages (from torch>=1.10.0->torchmetrics) (2.3.0)\n",
            "Requirement already satisfied: nvidia-nvjitlink-cu12 in /usr/local/lib/python3.10/dist-packages (from nvidia-cusolver-cu12==11.4.5.107->torch>=1.10.0->torchmetrics) (12.5.40)\n",
            "Requirement already satisfied: MarkupSafe>=2.0 in /usr/local/lib/python3.10/dist-packages (from jinja2->torch>=1.10.0->torchmetrics) (2.1.5)\n",
            "Requirement already satisfied: mpmath<1.4.0,>=1.1.0 in /usr/local/lib/python3.10/dist-packages (from sympy->torch>=1.10.0->torchmetrics) (1.3.0)\n"
          ]
        }
      ]
    },
    {
      "cell_type": "markdown",
      "source": [
        "### 5.2. make a function for our training and testin loop ie train step and test step"
      ],
      "metadata": {
        "id": "fKpVJXsNfx3K"
      }
    },
    {
      "cell_type": "code",
      "source": [
        "def train_step(model: torch.nn.Module,\n",
        "               data_loader: torch.utils.data.DataLoader,\n",
        "               loss_fn: torch.nn.Module,\n",
        "               optimizer: torch.optim.Optimizer,\n",
        "               accuracy_fn,\n",
        "               device: torch.device = device):\n",
        "    \"\"\"\n",
        "    Performs a single training step (epoch) for a given model.\n",
        "\n",
        "    Args:\n",
        "    model (torch.nn.Module): The model to be trained.\n",
        "    data_loader (torch.utils.data.DataLoader): DataLoader containing the training data.\n",
        "    loss_fn (torch.nn.Module): The loss function to be used during training.\n",
        "    optimizer (torch.optim.Optimizer): The optimizer to update the model parameters.\n",
        "    accuracy_fn (function): Function to calculate the accuracy of the model's predictions.\n",
        "    device (torch.device): The device on which the training will be performed (default is the current device).\n",
        "\n",
        "    Returns:\n",
        "    None: Prints the average training loss and accuracy after the epoch.\n",
        "    \"\"\"\n",
        "    train_loss, train_acc = 0, 0\n",
        "    model.to(device)\n",
        "    # model.train()\n",
        "\n",
        "    # Loop through the training batches\n",
        "    for batch, (X, y) in enumerate(data_loader):\n",
        "        # Move data to the target device\n",
        "        X, y = X.to(device), y.to(device)\n",
        "        # Perform the forward pass\n",
        "        y_pred = model(X)\n",
        "        # Calculate the loss\n",
        "        loss = loss_fn(y_pred, y)\n",
        "        train_loss += loss\n",
        "        train_acc += accuracy_fn(preds=y_pred.argmax(dim=1), target=y)\n",
        "        # Zero the gradients\n",
        "        optimizer.zero_grad()\n",
        "        # Perform backpropagation\n",
        "        loss.backward()\n",
        "        # Update the model parameters\n",
        "        optimizer.step()\n",
        "\n",
        "    # Compute the average training loss and accuracy\n",
        "    train_loss /= len(data_loader)\n",
        "    train_acc /= len(data_loader)\n",
        "    print(f\" Train loss: {train_loss:.5f}   |    Train acc: {train_acc:.2f}\")\n"
      ],
      "metadata": {
        "id": "iePkTh-t0gap"
      },
      "execution_count": null,
      "outputs": []
    },
    {
      "cell_type": "code",
      "source": [
        "def test_step(model: torch.nn.Module,\n",
        "              data_loader: torch.utils.data.DataLoader,\n",
        "              loss_fn: torch.nn.Module,\n",
        "              accuracy_fn,\n",
        "              device: torch.device = device):\n",
        "    \"\"\"\n",
        "    Performs a single evaluation step on the test dataset for a given model.\n",
        "\n",
        "    Args:\n",
        "    model (torch.nn.Module): The model to be evaluated.\n",
        "    data_loader (torch.utils.data.DataLoader): DataLoader containing the test data.\n",
        "    loss_fn (torch.nn.Module): The loss function to be used during evaluation.\n",
        "    accuracy_fn (function): Function to calculate the accuracy of the model's predictions.\n",
        "    device (torch.device): The device on which the evaluation will be performed (default is the current device).\n",
        "\n",
        "    Returns:\n",
        "    None: Prints the average test loss and accuracy after the evaluation.\n",
        "    \"\"\"\n",
        "\n",
        "    test_loss, test_acc = 0, 0\n",
        "    model.to(device)\n",
        "    # Set the model to evaluation mode\n",
        "    model.eval()\n",
        "    # Disable gradient calculation for inference\n",
        "    with torch.inference_mode():\n",
        "        for X, y in data_loader:\n",
        "            # Move data to the target device\n",
        "            X, y = X.to(device), y.to(device)\n",
        "            # Perform the forward pass\n",
        "            test_pred = model(X)\n",
        "            # Calculate the loss\n",
        "            test_loss += loss_fn(test_pred, y)\n",
        "            # Calculate the accuracy\n",
        "            test_acc += accuracy_fn(preds=test_pred.argmax(dim=1), target=y)\n",
        "        # Compute the average test loss\n",
        "        test_loss /= len(data_loader)\n",
        "        # Compute the average test accuracy\n",
        "        test_acc /= len(data_loader)\n",
        "    # Print the test loss and accuracy\n",
        "    print(f\" Test loss: {test_loss:.5f}   |    Test acc: {test_acc:.2f}\")\n"
      ],
      "metadata": {
        "id": "9QGtMTiY0vCD"
      },
      "execution_count": null,
      "outputs": []
    },
    {
      "cell_type": "code",
      "source": [
        "!nvidia-smi"
      ],
      "metadata": {
        "id": "46JKjnr8EtXU",
        "colab": {
          "base_uri": "https://localhost:8080/"
        },
        "outputId": "a6169e16-a290-407a-ebc9-a5a29480075d"
      },
      "execution_count": null,
      "outputs": [
        {
          "output_type": "stream",
          "name": "stdout",
          "text": [
            "Fri Jun 21 23:23:54 2024       \n",
            "+---------------------------------------------------------------------------------------+\n",
            "| NVIDIA-SMI 535.104.05             Driver Version: 535.104.05   CUDA Version: 12.2     |\n",
            "|-----------------------------------------+----------------------+----------------------+\n",
            "| GPU  Name                 Persistence-M | Bus-Id        Disp.A | Volatile Uncorr. ECC |\n",
            "| Fan  Temp   Perf          Pwr:Usage/Cap |         Memory-Usage | GPU-Util  Compute M. |\n",
            "|                                         |                      |               MIG M. |\n",
            "|=========================================+======================+======================|\n",
            "|   0  Tesla T4                       Off | 00000000:00:04.0 Off |                    0 |\n",
            "| N/A   51C    P0              28W /  70W |    105MiB / 15360MiB |      0%      Default |\n",
            "|                                         |                      |                  N/A |\n",
            "+-----------------------------------------+----------------------+----------------------+\n",
            "                                                                                         \n",
            "+---------------------------------------------------------------------------------------+\n",
            "| Processes:                                                                            |\n",
            "|  GPU   GI   CI        PID   Type   Process name                            GPU Memory |\n",
            "|        ID   ID                                                             Usage      |\n",
            "|=======================================================================================|\n",
            "+---------------------------------------------------------------------------------------+\n"
          ]
        }
      ]
    },
    {
      "cell_type": "code",
      "source": [
        "# import tqdm for progress bar\n",
        "from tqdm.auto import tqdm\n",
        "\n",
        "# set the seed and start the timer\n",
        "torch.manual_seed(42)\n",
        "torch.cuda.manual_seed(42)\n",
        "# Measure time\n",
        "from timeit import default_timer as timer\n",
        "train_timer_start_on_gpu = timer()\n",
        "\n",
        "# set the number of epochs\n",
        "epochs = 3\n",
        "\n",
        "# create training and testing loop\n",
        "# for an epoch in a range:\n",
        "for epoch in tqdm(range(epochs)):\n",
        "    print(f\"Epoch: {epoch}\\n---------\")\n",
        "    # train the model\n",
        "    train_step(model=model_1,\n",
        "               data_loader=train_dataloader,\n",
        "               loss_fn=loss_fn,\n",
        "               optimizer=optimizer,\n",
        "               accuracy_fn=accuracy_fn,\n",
        "               )\n",
        "    # test the model\n",
        "    test_step(model=model_1,\n",
        "               data_loader=test_dataloader,\n",
        "               loss_fn=loss_fn,\n",
        "               accuracy_fn=accuracy_fn,\n",
        "               )\n",
        "\n",
        "train_timer_end_on_gpu = timer()\n",
        "total_train_time_model_1 = print_train_time(start=train_timer_start_on_gpu,\n",
        "                                            end=train_timer_end_on_gpu,\n",
        "                                            device=device)"
      ],
      "metadata": {
        "id": "-TOdbrL-3DFy",
        "colab": {
          "base_uri": "https://localhost:8080/",
          "height": 286,
          "referenced_widgets": [
            "99d2e855aab0482f9431309a2c00157d",
            "8c44d0de20684fb382a85c4acf78dc5b",
            "424f5c79def047aea1e4e424229294b0",
            "76a8f5faee8d42b9a544177f43ba0380",
            "9d9409966bc944a69ef0225845ad6416",
            "d80044c63f8d4d8895f6ed48415f78c2",
            "f2b0fe75ad1841ab8674ab997cec225c",
            "77a649b5772449d5ac8fe8e6a0b8c1dd",
            "aad15ac14fac4c7bb6efa5a4b53c96a6",
            "8f77cfdbe44847188c64648a3bb18a08",
            "bcaff2e3ca33407b9f02ec333aa9bd9e"
          ]
        },
        "outputId": "c0592156-38fb-41cb-de78-51e4fe01e993"
      },
      "execution_count": null,
      "outputs": [
        {
          "output_type": "display_data",
          "data": {
            "text/plain": [
              "  0%|          | 0/3 [00:00<?, ?it/s]"
            ],
            "application/vnd.jupyter.widget-view+json": {
              "version_major": 2,
              "version_minor": 0,
              "model_id": "99d2e855aab0482f9431309a2c00157d"
            }
          },
          "metadata": {}
        },
        {
          "output_type": "stream",
          "name": "stdout",
          "text": [
            "Epoch: 0\n",
            "---------\n",
            " Train loss: 0.59039   |    Train acc: 0.79\n",
            " Test loss: 0.50954   |    Test acc: 0.82\n",
            "Epoch: 1\n",
            "---------\n",
            " Train loss: 0.47633   |    Train acc: 0.83\n",
            " Test loss: 0.47989   |    Test acc: 0.83\n",
            "Epoch: 2\n",
            "---------\n",
            " Train loss: 0.45503   |    Train acc: 0.84\n",
            " Test loss: 0.47664   |    Test acc: 0.83\n",
            "Train time on cuda: 46.998 seconds\n"
          ]
        }
      ]
    },
    {
      "cell_type": "code",
      "source": [],
      "metadata": {
        "id": "jkdrAyku8P0_"
      },
      "execution_count": null,
      "outputs": []
    },
    {
      "cell_type": "code",
      "source": [
        "# evaluating model_1\n",
        "torch.manual_seed(42)\n",
        "def eval_model(model: torch.nn.Module,\n",
        "               data_loader: torch.utils.data.DataLoader,\n",
        "               loss_fn: torch.nn.Module,\n",
        "               accuracy_fn,\n",
        "               device=device):\n",
        "    \"\"\"\n",
        "    Evaluates the given model on the provided data loader using the specified loss and accuracy functions.\n",
        "\n",
        "    Args:\n",
        "    model (torch.nn.Module): The model to be evaluated.\n",
        "    data_loader (torch.utils.data.DataLoader): DataLoader containing the data to evaluate the model on.\n",
        "    loss_fn (torch.nn.Module): The loss function to use for evaluation.\n",
        "    accuracy_fn: The function to calculate accuracy.\n",
        "\n",
        "    Returns:\n",
        "    dict: A dictionary containing the model name, average loss, and average accuracy.\n",
        "    \"\"\"\n",
        "    loss, acc = 0, 0\n",
        "    model.to(device)\n",
        "    model.eval()\n",
        "    with torch.inference_mode():\n",
        "        for X, y in tqdm(data_loader):\n",
        "            X, y  = X.to(device), y.to(device)\n",
        "            # Forward pass\n",
        "            y_pred = model(X)\n",
        "\n",
        "            # Calculate loss and accuracy\n",
        "            loss += loss_fn(y_pred, y)\n",
        "            acc += accuracy_fn(preds=y_pred.argmax(dim=1), target=y)\n",
        "\n",
        "        # Average the loss and accuracy\n",
        "        loss /= len(data_loader)\n",
        "        acc /= len(data_loader)\n",
        "\n",
        "    return {\n",
        "        \"model_name\": model.__class__.__name__,\n",
        "        \"model_loss\": loss.item(),\n",
        "        \"model_acc\": acc.item()*100\n",
        "    }\n"
      ],
      "metadata": {
        "id": "FBGDPOE8-e5r"
      },
      "execution_count": null,
      "outputs": []
    },
    {
      "cell_type": "code",
      "source": [
        "\n",
        "\n",
        "# calculate model 0 results on test datasets\n",
        "model_1_results = eval_model(model=model_1,\n",
        "                             data_loader=test_dataloader,\n",
        "                             loss_fn=loss_fn,\n",
        "                             accuracy_fn=accuracy_fn)\n",
        "model_1_results\n"
      ],
      "metadata": {
        "colab": {
          "base_uri": "https://localhost:8080/",
          "height": 104,
          "referenced_widgets": [
            "00f2aaee39184c54876da2121660fe21",
            "76fc6df25b434c0892324c3df92c29bf",
            "d41ac9e5fac842998b21e3670536a868",
            "3ef6f7917f204c28926e63abdafebc96",
            "5045400183154e9b9fa8344f46473df5",
            "3d282f668e8f4415abcd3e09bc508b1a",
            "5eef8ab13362455183a366e2febfbada",
            "dcf930ec8e5844ba937c0d62bb13c4de",
            "c1c2b5e4a16d4e18b908ddb83c3e6bcd",
            "9eeeac0c7e3842c0a2ed0917a25e23a4",
            "9faeec161641479d9832ce5de37b0feb"
          ]
        },
        "id": "S8qJIWxeaVn3",
        "outputId": "9c7779a2-1b43-44ac-d157-7baa334c4433"
      },
      "execution_count": null,
      "outputs": [
        {
          "output_type": "display_data",
          "data": {
            "text/plain": [
              "  0%|          | 0/313 [00:00<?, ?it/s]"
            ],
            "application/vnd.jupyter.widget-view+json": {
              "version_major": 2,
              "version_minor": 0,
              "model_id": "00f2aaee39184c54876da2121660fe21"
            }
          },
          "metadata": {}
        },
        {
          "output_type": "execute_result",
          "data": {
            "text/plain": [
              "{'model_name': 'FashionMNISTModelV1',\n",
              " 'model_loss': 0.47663894295692444,\n",
              " 'model_acc': 83.42651724815369}"
            ]
          },
          "metadata": {},
          "execution_count": 35
        }
      ]
    },
    {
      "cell_type": "markdown",
      "source": [
        "## 6. Convolution Neural Network Model"
      ],
      "metadata": {
        "id": "5kJqFl3h-2rn"
      }
    },
    {
      "cell_type": "markdown",
      "metadata": {
        "id": "9c358955-1d20-4903-b872-a239d2753d88"
      },
      "source": [
        "### What model should I use?\n",
        "\n",
        "> **Question:** Wait, you say CNN's are good for images, are there any other model types I should be aware of?\n",
        "\n",
        "Good question.\n",
        "\n",
        "This table is a good general guide for which model to use (though there are exceptions).\n",
        "\n",
        "| **Problem type** | **Model to use (generally)** | **Code example** |\n",
        "| ----- | ----- | ----- |\n",
        "| Structured data (Excel spreadsheets, row and column data) | Gradient boosted models, Random Forests, XGBoost | [`sklearn.ensemble`](https://scikit-learn.org/stable/modules/classes.html#module-sklearn.ensemble), [XGBoost library](https://xgboost.readthedocs.io/en/stable/) |\n",
        "| Unstructured data (images, audio, language) | Convolutional Neural Networks, Transformers | [`torchvision.models`](https://pytorch.org/vision/stable/models.html), [HuggingFace Transformers](https://huggingface.co/docs/transformers/index) |\n",
        "\n",
        "> **Note:** The table above is only for reference, the model you end up using will be highly dependant on the problem you're working on and the constraints you have (amount of data, latency requirements).\n",
        "\n",
        "Enough talking about models, let's now build a CNN that replicates the model on the [CNN Explainer website](https://poloclub.github.io/cnn-explainer/).\n",
        "\n",
        "![TinyVGG architecture, as setup by CNN explainer website](https://raw.githubusercontent.com/mrdbourke/pytorch-deep-learning/main/images/03-cnn-explainer-model.png)\n",
        "\n",
        "To do so, we'll leverage the [`nn.Conv2d()`](https://pytorch.org/docs/stable/generated/torch.nn.Conv2d.html) and [`nn.MaxPool2d()`](https://pytorch.org/docs/stable/generated/torch.nn.MaxPool2d.html) layers from `torch.nn`.\n"
      ]
    },
    {
      "cell_type": "markdown",
      "source": [
        "https://poloclub.github.io/cnn-explainer/"
      ],
      "metadata": {
        "id": "RqvLHJ8U_SaI"
      }
    },
    {
      "cell_type": "markdown",
      "source": [
        "\n",
        "1. **Padding**: Padding adds extra pixels around the edges of the input image, allowing the kernel to process edge pixels better. This helps preserve the spatial dimensions of the input image after convolution.\n",
        "\n",
        "2. **Kernel Size**: The kernel (or filter) is the small matrix that slides over the image to extract features. A larger kernel covers more area, potentially capturing more context but may lose finer details. Smaller kernels capture more details but may require more computational resources.\n",
        "\n",
        "3. **Stride**: Stride defines the number of pixels the kernel moves each step. A stride of 1 means the kernel moves one pixel at a time, which provides a detailed feature map. A stride of 2 or more moves the kernel faster, producing a smaller feature map and potentially speeding up computation but losing some detail.\n",
        "\n",
        "### Summary\n",
        "\n",
        "- **Padding**: Preserves border information by adding extra pixels around the input.\n",
        "- **Kernel Size**: Determines the area covered by the filter, affecting the level of detail captured.\n",
        "- **Stride**: Defines the movement step of the kernel, impacting the feature map size and computation speed."
      ],
      "metadata": {
        "id": "d1PGypxTTlBl"
      }
    },
    {
      "cell_type": "code",
      "source": [
        "# Create a CNN model\n",
        "class FashionMNISTModelV2(nn.Module):\n",
        "    \"\"\"\n",
        "    A Convolutional Neural Network (CNN) model inspired by TinyVGG architecture.\n",
        "\n",
        "    Args:\n",
        "    input_shape (int): Number of input channels (e.g., 1 for grayscale images).\n",
        "    hidden_units (int): Number of hidden units for the convolutional layers.\n",
        "    output_units (int): Number of output units (e.g., number of classes).\n",
        "\n",
        "    The model consists of:\n",
        "    - Two convolutional blocks, each containing:\n",
        "        - Two Conv2d layers followed by ReLU activation\n",
        "        - A MaxPool2d layer for downsampling\n",
        "    - A classifier block with:\n",
        "        - A Flatten layer\n",
        "        - A Linear layer mapping to the output units\n",
        "\n",
        "    Forward Pass:\n",
        "    - Passes input through conv_block_1 and conv_block_2\n",
        "    - Flattens the output and passes through the classifier\n",
        "    \"\"\"\n",
        "    def __init__(self, input_shape: int, hidden_units: int, output_units: int):\n",
        "        super().__init__()\n",
        "        self.conv_block_1 = nn.Sequential(\n",
        "            nn.Conv2d(in_channels=input_shape,\n",
        "                      out_channels=hidden_units,\n",
        "                      kernel_size=3,\n",
        "                      stride=1,\n",
        "                      padding=1),\n",
        "            nn.ReLU(),\n",
        "            nn.Conv2d(in_channels=hidden_units,\n",
        "                      out_channels=hidden_units,\n",
        "                      kernel_size=3,\n",
        "                      stride=1,\n",
        "                      padding=1),\n",
        "            nn.ReLU(),\n",
        "            nn.MaxPool2d(kernel_size=2)\n",
        "        )\n",
        "        self.conv_block_2 = nn.Sequential(\n",
        "            nn.Conv2d(in_channels=hidden_units,\n",
        "                      out_channels=hidden_units,\n",
        "                      kernel_size=3,\n",
        "                      stride=1,\n",
        "                      padding=1),\n",
        "            nn.ReLU(),\n",
        "            nn.Conv2d(in_channels=hidden_units,\n",
        "                      out_channels=hidden_units,\n",
        "                      kernel_size=3,\n",
        "                      stride=1,\n",
        "                      padding=1),\n",
        "            nn.ReLU(),\n",
        "            nn.MaxPool2d(kernel_size=2)\n",
        "        )\n",
        "        self.classifier = nn.Sequential(\n",
        "            nn.Flatten(),\n",
        "            nn.Linear(in_features=hidden_units*7*7,\n",
        "                      out_features=output_units)\n",
        "        )\n",
        "\n",
        "    def forward(self, x):\n",
        "        x = self.conv_block_1(x)\n",
        "        # print(x.shape)\n",
        "        x = self.conv_block_2(x)\n",
        "        # print(x.shape)\n",
        "        x = self.classifier(x)\n",
        "        return x\n"
      ],
      "metadata": {
        "id": "4KNW7yIzEqDw"
      },
      "execution_count": null,
      "outputs": []
    },
    {
      "cell_type": "code",
      "source": [
        "model_2 = FashionMNISTModelV2(input_shape=1 ,\n",
        " hidden_units=10 ,\n",
        " output_units=len(class_names))\n",
        "model_2\n"
      ],
      "metadata": {
        "colab": {
          "base_uri": "https://localhost:8080/"
        },
        "id": "J8sluXaqmPNM",
        "outputId": "676586b8-bae6-4481-d220-07f1c7ef16e7"
      },
      "execution_count": null,
      "outputs": [
        {
          "output_type": "execute_result",
          "data": {
            "text/plain": [
              "FashionMNISTModelV2(\n",
              "  (conv_block_1): Sequential(\n",
              "    (0): Conv2d(1, 10, kernel_size=(3, 3), stride=(1, 1), padding=(1, 1))\n",
              "    (1): ReLU()\n",
              "    (2): Conv2d(10, 10, kernel_size=(3, 3), stride=(1, 1), padding=(1, 1))\n",
              "    (3): ReLU()\n",
              "    (4): MaxPool2d(kernel_size=2, stride=2, padding=0, dilation=1, ceil_mode=False)\n",
              "  )\n",
              "  (conv_block_2): Sequential(\n",
              "    (0): Conv2d(10, 10, kernel_size=(3, 3), stride=(1, 1), padding=(1, 1))\n",
              "    (1): ReLU()\n",
              "    (2): Conv2d(10, 10, kernel_size=(3, 3), stride=(1, 1), padding=(1, 1))\n",
              "    (3): ReLU()\n",
              "    (4): MaxPool2d(kernel_size=2, stride=2, padding=0, dilation=1, ceil_mode=False)\n",
              "  )\n",
              "  (classifier): Sequential(\n",
              "    (0): Flatten(start_dim=1, end_dim=-1)\n",
              "    (1): Linear(in_features=490, out_features=10, bias=True)\n",
              "  )\n",
              ")"
            ]
          },
          "metadata": {},
          "execution_count": 37
        }
      ]
    },
    {
      "cell_type": "markdown",
      "source": [
        "### 6.1 Stepping through conv2d"
      ],
      "metadata": {
        "id": "B0GzEprAmvko"
      }
    },
    {
      "cell_type": "code",
      "source": [
        "torch.manual_seed(42)\n",
        "\n",
        "# create a batch of images\n",
        "images = torch.randn(size=(32, 3, 64, 64))\n",
        "images.shape"
      ],
      "metadata": {
        "colab": {
          "base_uri": "https://localhost:8080/"
        },
        "id": "9wy55JnR3eBI",
        "outputId": "85253356-c27d-4f4d-d856-3524b22601b5"
      },
      "execution_count": null,
      "outputs": [
        {
          "output_type": "execute_result",
          "data": {
            "text/plain": [
              "torch.Size([32, 3, 64, 64])"
            ]
          },
          "metadata": {},
          "execution_count": 38
        }
      ]
    },
    {
      "cell_type": "code",
      "source": [
        "test_image= images[0]\n",
        "test_image.shape"
      ],
      "metadata": {
        "colab": {
          "base_uri": "https://localhost:8080/"
        },
        "id": "lyl3_Bm49Rjw",
        "outputId": "253d8105-4da9-40d7-c602-6cc3b48f2fef"
      },
      "execution_count": null,
      "outputs": [
        {
          "output_type": "execute_result",
          "data": {
            "text/plain": [
              "torch.Size([3, 64, 64])"
            ]
          },
          "metadata": {},
          "execution_count": 39
        }
      ]
    },
    {
      "cell_type": "code",
      "source": [
        "# create a single conv2d layer\n",
        "conv_layer = nn.Conv2d(in_channels=3,\n",
        "                       out_channels=10,\n",
        "                       kernel_size=3,\n",
        "                       stride=1,\n",
        "                       padding=1)\n",
        "# pass data through the convolution layer\n",
        "conv_output = conv_layer(test_image)\n",
        "conv_output.shape"
      ],
      "metadata": {
        "colab": {
          "base_uri": "https://localhost:8080/"
        },
        "id": "T-W_IA_R3_2K",
        "outputId": "90416861-fb85-4221-ea58-5d0abbf5e259"
      },
      "execution_count": null,
      "outputs": [
        {
          "output_type": "execute_result",
          "data": {
            "text/plain": [
              "torch.Size([10, 64, 64])"
            ]
          },
          "metadata": {},
          "execution_count": 40
        }
      ]
    },
    {
      "cell_type": "markdown",
      "source": [
        "### 6.2 stepping through MaxPool"
      ],
      "metadata": {
        "id": "Nq3qaYq_9x4o"
      }
    },
    {
      "cell_type": "code",
      "source": [
        "test_image"
      ],
      "metadata": {
        "colab": {
          "base_uri": "https://localhost:8080/"
        },
        "id": "e26ZweXyZgGa",
        "outputId": "c7157eb6-5de3-4d35-c146-b9c01488b918"
      },
      "execution_count": null,
      "outputs": [
        {
          "output_type": "execute_result",
          "data": {
            "text/plain": [
              "tensor([[[ 1.9269,  1.4873,  0.9007,  ...,  1.8446, -1.1845,  1.3835],\n",
              "         [ 1.4451,  0.8564,  2.2181,  ...,  0.3399,  0.7200,  0.4114],\n",
              "         [ 1.9312,  1.0119, -1.4364,  ..., -0.5558,  0.7043,  0.7099],\n",
              "         ...,\n",
              "         [-0.5610, -0.4830,  0.4770,  ..., -0.2713, -0.9537, -0.6737],\n",
              "         [ 0.3076, -0.1277,  0.0366,  ..., -2.0060,  0.2824, -0.8111],\n",
              "         [-1.5486,  0.0485, -0.7712,  ..., -0.1403,  0.9416, -0.0118]],\n",
              "\n",
              "        [[-0.5197,  1.8524,  1.8365,  ...,  0.8935, -1.5114, -0.8515],\n",
              "         [ 2.0818,  1.0677, -1.4277,  ...,  1.6612, -2.6223, -0.4319],\n",
              "         [-0.1010, -0.4388, -1.9775,  ...,  0.2106,  0.2536, -0.7318],\n",
              "         ...,\n",
              "         [ 0.2779,  0.7342, -0.3736,  ..., -0.4601,  0.1815,  0.1850],\n",
              "         [ 0.7205, -0.2833,  0.0937,  ..., -0.1002, -2.3609,  2.2465],\n",
              "         [-1.3242, -0.1973,  0.2920,  ...,  0.5409,  0.6940,  1.8563]],\n",
              "\n",
              "        [[-0.7978,  1.0261,  1.1465,  ...,  1.2134,  0.9354, -0.0780],\n",
              "         [-1.4647, -1.9571,  0.1017,  ..., -1.9986, -0.7409,  0.7011],\n",
              "         [-1.3938,  0.8466, -1.7191,  ..., -1.1867,  0.1320,  0.3407],\n",
              "         ...,\n",
              "         [ 0.8206, -0.3745,  1.2499,  ..., -0.0676,  0.0385,  0.6335],\n",
              "         [-0.5589, -0.3393,  0.2347,  ...,  2.1181,  2.4569,  1.3083],\n",
              "         [-0.4092,  1.5199,  0.2401,  ..., -0.2558,  0.7870,  0.9924]]])"
            ]
          },
          "metadata": {},
          "execution_count": 41
        }
      ]
    },
    {
      "cell_type": "code",
      "source": [
        "# create a single maxpool layer\n",
        "maxpool_layer = nn.MaxPool2d(kernel_size=2)\n",
        "# pass image through conv layer\n",
        "test_image_conv2d = conv_layer(test_image)\n",
        "print(test_image_conv2d.shape)\n",
        "test_image_conv2d_maxpool = maxpool_layer(test_image_conv2d)\n",
        "print(test_image_conv2d_maxpool.shape)"
      ],
      "metadata": {
        "colab": {
          "base_uri": "https://localhost:8080/"
        },
        "id": "8hweWQJ4Zn4L",
        "outputId": "c95c0b8d-77ba-42b9-e13d-546d74491f9a"
      },
      "execution_count": null,
      "outputs": [
        {
          "output_type": "stream",
          "name": "stdout",
          "text": [
            "torch.Size([10, 64, 64])\n",
            "torch.Size([10, 32, 32])\n"
          ]
        }
      ]
    },
    {
      "cell_type": "code",
      "source": [
        "# pass dummy image through our model\n",
        "rand_image_tensor = torch.randn(size=(1, 28, 28))\n",
        "rand_image_tensor.shape\n",
        "\n",
        "\n",
        "test_image_vgg = model_2(rand_image_tensor.unsqueeze(0))\n",
        "test_image_vgg"
      ],
      "metadata": {
        "colab": {
          "base_uri": "https://localhost:8080/"
        },
        "id": "gbJnMYBeamO8",
        "outputId": "e8b79f7d-34b2-4fe8-a427-1f33a071f242"
      },
      "execution_count": null,
      "outputs": [
        {
          "output_type": "execute_result",
          "data": {
            "text/plain": [
              "tensor([[-0.0422,  0.0013,  0.0288, -0.0926,  0.0885,  0.0093, -0.0636,  0.0927,\n",
              "         -0.0401,  0.0259]], grad_fn=<AddmmBackward0>)"
            ]
          },
          "metadata": {},
          "execution_count": 43
        }
      ]
    },
    {
      "cell_type": "code",
      "source": [
        "model_2.state_dict()"
      ],
      "metadata": {
        "id": "SFTJr8nId5ZG",
        "colab": {
          "base_uri": "https://localhost:8080/"
        },
        "outputId": "c4279db1-4a84-480f-8a21-d2aff71de6d6"
      },
      "execution_count": null,
      "outputs": [
        {
          "output_type": "execute_result",
          "data": {
            "text/plain": [
              "OrderedDict([('conv_block_1.0.weight',\n",
              "              tensor([[[[-0.0730,  0.0673, -0.1623],\n",
              "                        [ 0.1958,  0.2938, -0.2445],\n",
              "                        [ 0.2897,  0.0624,  0.2463]]],\n",
              "              \n",
              "              \n",
              "                      [[[ 0.0451,  0.1607, -0.0471],\n",
              "                        [ 0.2570,  0.0493, -0.1556],\n",
              "                        [ 0.0850, -0.1536, -0.0391]]],\n",
              "              \n",
              "              \n",
              "                      [[[-0.1354,  0.2211, -0.2631],\n",
              "                        [-0.1537, -0.0941, -0.2004],\n",
              "                        [ 0.0315, -0.3292,  0.3010]]],\n",
              "              \n",
              "              \n",
              "                      [[[-0.2832,  0.2573,  0.0555],\n",
              "                        [-0.1082,  0.2060,  0.0520],\n",
              "                        [ 0.2693,  0.0364, -0.1051]]],\n",
              "              \n",
              "              \n",
              "                      [[[ 0.0896, -0.0904,  0.1403],\n",
              "                        [ 0.2976,  0.1927, -0.1457],\n",
              "                        [ 0.1924,  0.0596,  0.1693]]],\n",
              "              \n",
              "              \n",
              "                      [[[-0.2032, -0.3300, -0.1288],\n",
              "                        [-0.2557,  0.2735,  0.0960],\n",
              "                        [ 0.1381,  0.1054, -0.0058]]],\n",
              "              \n",
              "              \n",
              "                      [[[ 0.2609, -0.2368,  0.0210],\n",
              "                        [-0.2275,  0.1028, -0.1148],\n",
              "                        [ 0.1021, -0.0694,  0.2765]]],\n",
              "              \n",
              "              \n",
              "                      [[[-0.1976, -0.1988, -0.1988],\n",
              "                        [ 0.2998,  0.1111,  0.3208],\n",
              "                        [-0.2751, -0.3306, -0.2608]]],\n",
              "              \n",
              "              \n",
              "                      [[[-0.2242,  0.1350,  0.1194],\n",
              "                        [ 0.2770, -0.1721, -0.2272],\n",
              "                        [ 0.1769, -0.1347,  0.2023]]],\n",
              "              \n",
              "              \n",
              "                      [[[-0.0791,  0.1907, -0.2590],\n",
              "                        [-0.1682,  0.1016,  0.0705],\n",
              "                        [-0.0850,  0.1987,  0.2266]]]])),\n",
              "             ('conv_block_1.0.bias',\n",
              "              tensor([-0.2417, -0.1780,  0.3052, -0.1125, -0.1182, -0.3225, -0.1909,  0.0833,\n",
              "                      -0.0440, -0.2420])),\n",
              "             ('conv_block_1.2.weight',\n",
              "              tensor([[[[ 0.0025, -0.0720, -0.0894],\n",
              "                        [-0.0580, -0.0923, -0.0671],\n",
              "                        [ 0.1054,  0.0199,  0.0325]],\n",
              "              \n",
              "                       [[-0.0983, -0.0692, -0.0351],\n",
              "                        [ 0.0165, -0.0928, -0.0454],\n",
              "                        [-0.0631,  0.0003, -0.0392]],\n",
              "              \n",
              "                       [[-0.0073, -0.0714, -0.0724],\n",
              "                        [-0.0615, -0.0361, -0.0832],\n",
              "                        [ 0.0884, -0.0209,  0.0907]],\n",
              "              \n",
              "                       [[ 0.0328, -0.0893,  0.0729],\n",
              "                        [-0.0290, -0.0404, -0.0875],\n",
              "                        [-0.1048,  0.0302, -0.0230]],\n",
              "              \n",
              "                       [[ 0.0410, -0.0865,  0.0783],\n",
              "                        [-0.0774, -0.0182,  0.0220],\n",
              "                        [ 0.0544,  0.0851,  0.0960]],\n",
              "              \n",
              "                       [[-0.0836,  0.0265, -0.0453],\n",
              "                        [-0.0116, -0.0789,  0.0960],\n",
              "                        [-0.0774,  0.0563,  0.0370]],\n",
              "              \n",
              "                       [[ 0.0343, -0.0570,  0.0958],\n",
              "                        [ 0.0232,  0.0136, -0.0929],\n",
              "                        [ 0.0442, -0.0158, -0.0483]],\n",
              "              \n",
              "                       [[ 0.0905,  0.0235, -0.0583],\n",
              "                        [-0.0534, -0.0050,  0.0589],\n",
              "                        [-0.0269, -0.0601, -0.0361]],\n",
              "              \n",
              "                       [[-0.0787,  0.0376,  0.0816],\n",
              "                        [-0.0992,  0.0245,  0.0545],\n",
              "                        [ 0.0191, -0.0375,  0.0550]],\n",
              "              \n",
              "                       [[ 0.0554,  0.0394, -0.0185],\n",
              "                        [-0.0279,  0.0113, -0.0186],\n",
              "                        [-0.0314,  0.0674,  0.0906]]],\n",
              "              \n",
              "              \n",
              "                      [[[-0.0104, -0.0236,  0.0015],\n",
              "                        [-0.0063,  0.0253,  0.0295],\n",
              "                        [-0.0957, -0.0389,  0.0888]],\n",
              "              \n",
              "                       [[ 0.0411, -0.0052, -0.0636],\n",
              "                        [-0.0645, -0.0944, -0.0344],\n",
              "                        [ 0.0356,  0.0672,  0.0487]],\n",
              "              \n",
              "                       [[-0.0932, -0.0634, -0.0166],\n",
              "                        [ 0.1020,  0.0152, -0.0273],\n",
              "                        [ 0.0436, -0.0401, -0.0682]],\n",
              "              \n",
              "                       [[ 0.0769, -0.0479, -0.0211],\n",
              "                        [-0.1049,  0.0705,  0.0799],\n",
              "                        [ 0.0384, -0.0735, -0.1040]],\n",
              "              \n",
              "                       [[-0.0856,  0.0786,  0.0506],\n",
              "                        [ 0.0887,  0.0552,  0.0267],\n",
              "                        [-0.0010, -0.0802, -0.0903]],\n",
              "              \n",
              "                       [[-0.0986,  0.0432, -0.0518],\n",
              "                        [-0.0212, -0.0607, -0.0192],\n",
              "                        [-0.0742, -0.0689,  0.0350]],\n",
              "              \n",
              "                       [[-0.0313,  0.0651, -0.0338],\n",
              "                        [-0.0773, -0.0186, -0.0511],\n",
              "                        [-0.0322, -0.1003,  0.0590]],\n",
              "              \n",
              "                       [[-0.0734,  0.0530,  0.0478],\n",
              "                        [ 0.0753, -0.0809,  0.0758],\n",
              "                        [-0.0498,  0.0391,  0.0990]],\n",
              "              \n",
              "                       [[-0.0149, -0.0008, -0.0243],\n",
              "                        [-0.0880,  0.0506, -0.1046],\n",
              "                        [ 0.0654,  0.0789,  0.0997]],\n",
              "              \n",
              "                       [[-0.0249, -0.0866,  0.0237],\n",
              "                        [ 0.0582, -0.1049, -0.0239],\n",
              "                        [-0.0632, -0.0092, -0.0519]]],\n",
              "              \n",
              "              \n",
              "                      [[[-0.0431, -0.0335, -0.1002],\n",
              "                        [ 0.0865,  0.0884, -0.0165],\n",
              "                        [-0.0120, -0.0430, -0.0952]],\n",
              "              \n",
              "                       [[-0.1026,  0.0392, -0.0579],\n",
              "                        [-0.0678, -0.0082, -0.0351],\n",
              "                        [-0.0341,  0.0034, -0.0224]],\n",
              "              \n",
              "                       [[-0.0363, -0.0505, -0.0858],\n",
              "                        [ 0.0884, -0.0422,  0.0279],\n",
              "                        [-0.0366,  0.0086,  0.0983]],\n",
              "              \n",
              "                       [[ 0.0486, -0.0913,  0.0418],\n",
              "                        [ 0.1001,  0.0277,  0.0707],\n",
              "                        [ 0.1039, -0.0162,  0.0219]],\n",
              "              \n",
              "                       [[-0.0733, -0.0217,  0.0781],\n",
              "                        [ 0.0540, -0.0667, -0.0845],\n",
              "                        [-0.0720, -0.1040, -0.0813]],\n",
              "              \n",
              "                       [[-0.0261,  0.0711,  0.0176],\n",
              "                        [-0.0802, -0.0846,  0.0524],\n",
              "                        [-0.0784, -0.0130,  0.0506]],\n",
              "              \n",
              "                       [[-0.0488, -0.0115, -0.0092],\n",
              "                        [-0.0249, -0.0534, -0.0940],\n",
              "                        [-0.0852, -0.0564,  0.1018]],\n",
              "              \n",
              "                       [[-0.0509, -0.0708,  0.0256],\n",
              "                        [ 0.0291,  0.0578,  0.0801],\n",
              "                        [ 0.0587, -0.1045,  0.0093]],\n",
              "              \n",
              "                       [[ 0.0639, -0.0097, -0.0621],\n",
              "                        [ 0.1005, -0.0394, -0.0600],\n",
              "                        [-0.0950,  0.0047,  0.0467]],\n",
              "              \n",
              "                       [[ 0.0233,  0.0208, -0.0799],\n",
              "                        [-0.0984,  0.0019,  0.0961],\n",
              "                        [ 0.0608, -0.0614, -0.0137]]],\n",
              "              \n",
              "              \n",
              "                      [[[-0.0777, -0.0509,  0.0191],\n",
              "                        [ 0.0574,  0.0873, -0.0968],\n",
              "                        [ 0.0705, -0.0743,  0.0395]],\n",
              "              \n",
              "                       [[ 0.0892,  0.0015,  0.0959],\n",
              "                        [-0.0898, -0.0403,  0.0615],\n",
              "                        [-0.0230, -0.0216, -0.0439]],\n",
              "              \n",
              "                       [[ 0.0727,  0.0517,  0.0338],\n",
              "                        [-0.0592, -0.0856,  0.0114],\n",
              "                        [ 0.0312, -0.0487, -0.0295]],\n",
              "              \n",
              "                       [[ 0.0712,  0.0084,  0.0048],\n",
              "                        [-0.0259, -0.0955, -0.0991],\n",
              "                        [-0.0504, -0.0536,  0.0328]],\n",
              "              \n",
              "                       [[-0.0307, -0.0412,  0.1005],\n",
              "                        [ 0.0367,  0.0751, -0.0510],\n",
              "                        [-0.0431,  0.0387, -0.0702]],\n",
              "              \n",
              "                       [[-0.0689, -0.0051, -0.0386],\n",
              "                        [-0.0790,  0.0625,  0.0848],\n",
              "                        [ 0.0171, -0.0184, -0.0976]],\n",
              "              \n",
              "                       [[-0.0384,  0.0268,  0.0497],\n",
              "                        [-0.0133, -0.0417,  0.0587],\n",
              "                        [-0.0839,  0.0666, -0.0409]],\n",
              "              \n",
              "                       [[ 0.0016, -0.0208,  0.0128],\n",
              "                        [-0.0319,  0.0766, -0.0027],\n",
              "                        [ 0.0823,  0.1013, -0.0514]],\n",
              "              \n",
              "                       [[-0.0769,  0.0846,  0.0826],\n",
              "                        [-0.0805, -0.0081, -0.1039],\n",
              "                        [-0.0863,  0.0204,  0.0280]],\n",
              "              \n",
              "                       [[ 0.0223, -0.0287,  0.0972],\n",
              "                        [ 0.0151, -0.0622, -0.0060],\n",
              "                        [ 0.0253,  0.0369, -0.0745]]],\n",
              "              \n",
              "              \n",
              "                      [[[ 0.0395, -0.0539, -0.0876],\n",
              "                        [-0.0576,  0.1017,  0.0901],\n",
              "                        [ 0.0944,  0.0619,  0.0796]],\n",
              "              \n",
              "                       [[-0.0141, -0.0580,  0.0527],\n",
              "                        [-0.0546, -0.0711, -0.0337],\n",
              "                        [ 0.0221,  0.0543, -0.0409]],\n",
              "              \n",
              "                       [[-0.0620,  0.0142, -0.0621],\n",
              "                        [-0.0686,  0.0549, -0.0177],\n",
              "                        [ 0.0963,  0.1025,  0.0315]],\n",
              "              \n",
              "                       [[ 0.0363,  0.0243,  0.0017],\n",
              "                        [-0.0077,  0.0014,  0.0394],\n",
              "                        [ 0.0980, -0.0273, -0.0446]],\n",
              "              \n",
              "                       [[-0.0255, -0.0509,  0.0179],\n",
              "                        [ 0.0787,  0.0824,  0.0484],\n",
              "                        [-0.0776, -0.0566, -0.0232]],\n",
              "              \n",
              "                       [[-0.0194,  0.0087, -0.0968],\n",
              "                        [ 0.0328, -0.0804, -0.0667],\n",
              "                        [-0.0876,  0.0918, -0.0998]],\n",
              "              \n",
              "                       [[ 0.0795, -0.0035, -0.0123],\n",
              "                        [ 0.0659, -0.0097,  0.0661],\n",
              "                        [ 0.0762, -0.0915,  0.0406]],\n",
              "              \n",
              "                       [[ 0.0199,  0.0227,  0.0154],\n",
              "                        [ 0.0288, -0.0507, -0.0135],\n",
              "                        [ 0.1002,  0.0708, -0.0040]],\n",
              "              \n",
              "                       [[-0.0991,  0.0046, -0.0718],\n",
              "                        [ 0.0857, -0.0640, -0.0076],\n",
              "                        [-0.0234,  0.0188,  0.0992]],\n",
              "              \n",
              "                       [[ 0.0100,  0.0610,  0.0818],\n",
              "                        [ 0.0851, -0.0364, -0.0236],\n",
              "                        [ 0.0508, -0.0288,  0.0494]]],\n",
              "              \n",
              "              \n",
              "                      [[[-0.0230, -0.0715,  0.0429],\n",
              "                        [ 0.0162,  0.0470,  0.1047],\n",
              "                        [ 0.0720,  0.0999,  0.0056]],\n",
              "              \n",
              "                       [[-0.0907, -0.0739, -0.0655],\n",
              "                        [-0.0929, -0.0528, -0.0970],\n",
              "                        [-0.0973, -0.0630, -0.1039]],\n",
              "              \n",
              "                       [[-0.0647,  0.0402,  0.0879],\n",
              "                        [-0.0314, -0.0307,  0.0563],\n",
              "                        [-0.0520, -0.0498,  0.0649]],\n",
              "              \n",
              "                       [[-0.0918,  0.0129,  0.0931],\n",
              "                        [ 0.0181,  0.0287, -0.0614],\n",
              "                        [-0.0015,  0.0058,  0.0259]],\n",
              "              \n",
              "                       [[ 0.0410,  0.0916, -0.0805],\n",
              "                        [ 0.0032, -0.0527, -0.0834],\n",
              "                        [-0.0084, -0.0928,  0.0736]],\n",
              "              \n",
              "                       [[ 0.0122, -0.0568,  0.0551],\n",
              "                        [-0.0998, -0.0408, -0.0205],\n",
              "                        [-0.0896, -0.0670, -0.0172]],\n",
              "              \n",
              "                       [[ 0.0800,  0.1018,  0.0671],\n",
              "                        [-0.0629, -0.0690,  0.0920],\n",
              "                        [ 0.0373,  0.0028,  0.0143]],\n",
              "              \n",
              "                       [[-0.0847, -0.0352,  0.1015],\n",
              "                        [-0.0260, -0.0053, -0.0875],\n",
              "                        [-0.0590, -0.0022, -0.0655]],\n",
              "              \n",
              "                       [[-0.0131,  0.0429, -0.1031],\n",
              "                        [ 0.0313, -0.0697, -0.0514],\n",
              "                        [ 0.0405,  0.0838, -0.0288]],\n",
              "              \n",
              "                       [[-0.0433, -0.0953, -0.0544],\n",
              "                        [-0.0923, -0.0241,  0.0215],\n",
              "                        [-0.0988,  0.0920,  0.0661]]],\n",
              "              \n",
              "              \n",
              "                      [[[-0.1032, -0.0503,  0.0344],\n",
              "                        [-0.0217, -0.0115, -0.0476],\n",
              "                        [ 0.0847, -0.0589,  0.0874]],\n",
              "              \n",
              "                       [[ 0.0068,  0.0212,  0.0822],\n",
              "                        [-0.0174, -0.0600, -0.0170],\n",
              "                        [ 0.0855, -0.0782,  0.0239]],\n",
              "              \n",
              "                       [[-0.1036,  0.0553,  0.0389],\n",
              "                        [ 0.0045,  0.0452,  0.0001],\n",
              "                        [ 0.0583, -0.0834, -0.0155]],\n",
              "              \n",
              "                       [[ 0.0468,  0.1050,  0.0537],\n",
              "                        [-0.0767,  0.0811, -0.0235],\n",
              "                        [-0.0225, -0.0958, -0.0166]],\n",
              "              \n",
              "                       [[ 0.0746,  0.0147, -0.0614],\n",
              "                        [ 0.0324, -0.0338,  0.0962],\n",
              "                        [-0.0915, -0.0333, -0.1018]],\n",
              "              \n",
              "                       [[-0.0415,  0.0332,  0.1015],\n",
              "                        [ 0.0177,  0.1033,  0.0206],\n",
              "                        [ 0.0609,  0.0845,  0.0881]],\n",
              "              \n",
              "                       [[-0.0590,  0.0969,  0.0639],\n",
              "                        [-0.0493, -0.0503, -0.0884],\n",
              "                        [ 0.0265, -0.0854,  0.0445]],\n",
              "              \n",
              "                       [[ 0.0333, -0.0916,  0.0287],\n",
              "                        [-0.0086,  0.0482,  0.0605],\n",
              "                        [-0.1048,  0.0967,  0.0884]],\n",
              "              \n",
              "                       [[ 0.0419, -0.0963, -0.0377],\n",
              "                        [-0.0305, -0.0271,  0.0594],\n",
              "                        [ 0.0383,  0.0835, -0.0395]],\n",
              "              \n",
              "                       [[ 0.0355,  0.0375, -0.0878],\n",
              "                        [-0.1022, -0.0547,  0.0722],\n",
              "                        [-0.0992, -0.0918,  0.0591]]],\n",
              "              \n",
              "              \n",
              "                      [[[ 0.0569,  0.0867, -0.0796],\n",
              "                        [-0.0771,  0.0541,  0.0917],\n",
              "                        [ 0.0631,  0.0165,  0.0347]],\n",
              "              \n",
              "                       [[ 0.1000, -0.0680, -0.0479],\n",
              "                        [ 0.0737, -0.0721, -0.0581],\n",
              "                        [ 0.0769,  0.0333,  0.0341]],\n",
              "              \n",
              "                       [[-0.0447, -0.0015,  0.0965],\n",
              "                        [-0.0633,  0.0008,  0.0501],\n",
              "                        [-0.0728,  0.1024, -0.0527]],\n",
              "              \n",
              "                       [[-0.0253, -0.0285, -0.0687],\n",
              "                        [-0.1034,  0.0594,  0.0280],\n",
              "                        [-0.0987, -0.0678,  0.1042]],\n",
              "              \n",
              "                       [[ 0.0403,  0.0423, -0.0631],\n",
              "                        [-0.0462, -0.0159, -0.0193],\n",
              "                        [-0.0722,  0.0087,  0.0105]],\n",
              "              \n",
              "                       [[-0.0133,  0.0146, -0.0418],\n",
              "                        [ 0.0274,  0.0398, -0.0555],\n",
              "                        [-0.1045,  0.0552,  0.0251]],\n",
              "              \n",
              "                       [[-0.0536,  0.1016, -0.0477],\n",
              "                        [ 0.0712,  0.0535, -0.0884],\n",
              "                        [ 0.0680, -0.0969, -0.0584]],\n",
              "              \n",
              "                       [[-0.0176, -0.0711,  0.1030],\n",
              "                        [-0.0211,  0.0419, -0.0941],\n",
              "                        [ 0.0607, -0.0328, -0.0802]],\n",
              "              \n",
              "                       [[ 0.0154,  0.0511,  0.0912],\n",
              "                        [-0.0644, -0.0519,  0.0203],\n",
              "                        [ 0.0286,  0.0405,  0.0579]],\n",
              "              \n",
              "                       [[-0.0239,  0.0586,  0.0777],\n",
              "                        [-0.0275,  0.0750,  0.0515],\n",
              "                        [ 0.0930, -0.0599, -0.0521]]],\n",
              "              \n",
              "              \n",
              "                      [[[-0.0305,  0.0053,  0.0633],\n",
              "                        [-0.0602,  0.0528, -0.0378],\n",
              "                        [ 0.0637, -0.0050, -0.0923]],\n",
              "              \n",
              "                       [[-0.0580, -0.0763,  0.0523],\n",
              "                        [-0.0707, -0.0088,  0.0227],\n",
              "                        [-0.0578,  0.0304, -0.1029]],\n",
              "              \n",
              "                       [[-0.0754, -0.0955, -0.0319],\n",
              "                        [-0.0384,  0.0151, -0.0195],\n",
              "                        [ 0.0496,  0.0966,  0.0378]],\n",
              "              \n",
              "                       [[-0.0415, -0.0987,  0.0382],\n",
              "                        [-0.0522,  0.0536,  0.0705],\n",
              "                        [ 0.0407,  0.0989,  0.1001]],\n",
              "              \n",
              "                       [[ 0.0223, -0.0768,  0.0942],\n",
              "                        [-0.0500, -0.0498,  0.0882],\n",
              "                        [ 0.0817,  0.0318,  0.0066]],\n",
              "              \n",
              "                       [[-0.0887, -0.0109,  0.1011],\n",
              "                        [ 0.0268,  0.0090, -0.0219],\n",
              "                        [-0.0368,  0.0628,  0.0065]],\n",
              "              \n",
              "                       [[ 0.0686, -0.0187,  0.0461],\n",
              "                        [ 0.0435,  0.0168,  0.0662],\n",
              "                        [ 0.0661,  0.0977,  0.0810]],\n",
              "              \n",
              "                       [[-0.0270, -0.0892,  0.0193],\n",
              "                        [-0.0009, -0.0275, -0.0177],\n",
              "                        [ 0.0050,  0.0769,  0.0329]],\n",
              "              \n",
              "                       [[-0.0374, -0.0433, -0.0261],\n",
              "                        [-0.0407,  0.0948,  0.0558],\n",
              "                        [ 0.0952,  0.0003,  0.0213]],\n",
              "              \n",
              "                       [[ 0.0366, -0.0998,  0.0094],\n",
              "                        [-0.0071, -0.0591, -0.0818],\n",
              "                        [ 0.0933,  0.0857,  0.0489]]],\n",
              "              \n",
              "              \n",
              "                      [[[ 0.1006, -0.0428, -0.0182],\n",
              "                        [ 0.0399, -0.0174, -0.0207],\n",
              "                        [-0.0871,  0.0283, -0.0637]],\n",
              "              \n",
              "                       [[ 0.0038,  0.1028, -0.0324],\n",
              "                        [-0.0332,  0.0636, -0.0388],\n",
              "                        [-0.0091,  0.0984, -0.0432]],\n",
              "              \n",
              "                       [[-0.0754, -0.0590, -0.0292],\n",
              "                        [-0.0500, -0.0547,  0.0426],\n",
              "                        [ 0.0179, -0.0337, -0.0819]],\n",
              "              \n",
              "                       [[-0.0332, -0.0445, -0.0343],\n",
              "                        [-0.0951,  0.0227, -0.0774],\n",
              "                        [-0.0821, -0.0861,  0.0440]],\n",
              "              \n",
              "                       [[-0.0635, -0.0435,  0.0826],\n",
              "                        [ 0.0560,  0.0604, -0.1001],\n",
              "                        [-0.0756, -0.0398,  0.0871]],\n",
              "              \n",
              "                       [[ 0.0108, -0.0788,  0.0007],\n",
              "                        [-0.0819, -0.0231, -0.0290],\n",
              "                        [ 0.0912,  0.0326, -0.0184]],\n",
              "              \n",
              "                       [[ 0.0178, -0.0304,  0.0414],\n",
              "                        [ 0.0417,  0.0283, -0.0411],\n",
              "                        [ 0.0899, -0.0152, -0.0410]],\n",
              "              \n",
              "                       [[ 0.0660,  0.0859,  0.1049],\n",
              "                        [ 0.0312, -0.0359,  0.0535],\n",
              "                        [ 0.0904, -0.1034, -0.0131]],\n",
              "              \n",
              "                       [[-0.0719,  0.0196,  0.0436],\n",
              "                        [-0.0218, -0.0088,  0.0474],\n",
              "                        [-0.0177, -0.0885,  0.0843]],\n",
              "              \n",
              "                       [[-0.0531, -0.0116,  0.0099],\n",
              "                        [-0.0063, -0.0992,  0.0484],\n",
              "                        [-0.0479, -0.0547,  0.0252]]]])),\n",
              "             ('conv_block_1.2.bias',\n",
              "              tensor([-0.0550, -0.0487, -0.0355, -0.0396, -0.0440, -0.0284,  0.0274, -0.0853,\n",
              "                      -0.0638,  0.0015])),\n",
              "             ('conv_block_2.0.weight',\n",
              "              tensor([[[[ 1.4659e-02,  5.8217e-02, -7.4044e-02],\n",
              "                        [ 3.3646e-02,  5.9914e-02,  5.8530e-02],\n",
              "                        [-9.8180e-02, -4.0225e-02, -9.0606e-02]],\n",
              "              \n",
              "                       [[-6.6704e-02,  5.8711e-02, -1.5740e-02],\n",
              "                        [ 4.4769e-02, -6.1876e-02,  1.6018e-02],\n",
              "                        [-6.3758e-02,  5.2693e-02, -4.6104e-02]],\n",
              "              \n",
              "                       [[-2.6432e-02, -9.1456e-02,  3.4822e-04],\n",
              "                        [ 1.0008e-01,  5.1163e-02, -5.6240e-02],\n",
              "                        [ 1.4176e-03, -1.1558e-02, -8.4862e-02]],\n",
              "              \n",
              "                       [[ 8.2650e-02,  1.6993e-03,  2.2199e-02],\n",
              "                        [-4.2567e-02, -4.9323e-02,  1.7381e-02],\n",
              "                        [ 3.8971e-02,  2.3643e-02, -5.0801e-02]],\n",
              "              \n",
              "                       [[ 1.0234e-01, -1.5517e-02, -6.4554e-02],\n",
              "                        [-4.9301e-02,  1.0377e-01,  5.0766e-06],\n",
              "                        [-1.4309e-02, -4.3867e-02, -2.7633e-02]],\n",
              "              \n",
              "                       [[-8.8779e-02, -8.3767e-02,  6.1695e-02],\n",
              "                        [ 9.0172e-02,  1.0059e-01, -7.6099e-02],\n",
              "                        [ 5.7012e-02, -6.5245e-02,  6.2883e-02]],\n",
              "              \n",
              "                       [[ 7.6058e-02,  8.1573e-02,  7.5900e-02],\n",
              "                        [ 6.5941e-02,  2.0516e-03,  4.8434e-02],\n",
              "                        [-3.7712e-02,  4.5899e-02, -3.3879e-02]],\n",
              "              \n",
              "                       [[-1.7700e-03, -9.1746e-02, -2.7562e-02],\n",
              "                        [-5.5432e-02, -3.5557e-02, -6.7313e-02],\n",
              "                        [-9.4810e-02,  6.8639e-03,  6.8408e-02]],\n",
              "              \n",
              "                       [[ 9.6001e-02,  6.1512e-02, -5.4638e-02],\n",
              "                        [-1.0425e-01,  3.9983e-02,  5.9062e-02],\n",
              "                        [-9.0495e-02,  3.7798e-02,  8.9121e-02]],\n",
              "              \n",
              "                       [[ 6.3853e-03, -6.3505e-02,  8.6423e-02],\n",
              "                        [ 4.5011e-02,  6.9802e-02, -7.1287e-02],\n",
              "                        [ 6.1342e-02, -7.2002e-02,  1.0430e-01]]],\n",
              "              \n",
              "              \n",
              "                      [[[-4.4662e-02,  6.3516e-02,  2.1107e-02],\n",
              "                        [ 2.7935e-02, -1.6165e-02,  4.3295e-02],\n",
              "                        [-4.3932e-02, -9.9357e-02, -4.0499e-02]],\n",
              "              \n",
              "                       [[ 8.2592e-02, -2.7751e-02,  3.3132e-02],\n",
              "                        [-3.8973e-02,  7.9073e-02,  6.3086e-02],\n",
              "                        [ 3.7211e-02, -5.3881e-02, -8.6133e-02]],\n",
              "              \n",
              "                       [[ 3.9686e-03, -6.1839e-02,  8.6667e-02],\n",
              "                        [-1.0130e-01,  4.7104e-02,  1.0508e-01],\n",
              "                        [ 5.2792e-02,  3.5942e-02, -1.0142e-01]],\n",
              "              \n",
              "                       [[ 1.0139e-01, -1.8030e-02, -9.8495e-02],\n",
              "                        [ 1.0406e-01, -4.2894e-02, -7.4575e-03],\n",
              "                        [ 9.6479e-02, -7.3070e-02, -7.4576e-02]],\n",
              "              \n",
              "                       [[ 1.7141e-02, -1.4109e-02,  2.4280e-02],\n",
              "                        [-8.8407e-02,  3.1524e-03, -4.6882e-02],\n",
              "                        [-5.1820e-02, -9.6517e-02,  5.5890e-02]],\n",
              "              \n",
              "                       [[ 2.0306e-02, -8.9118e-02,  8.3648e-02],\n",
              "                        [ 3.1794e-02,  1.9560e-02, -6.1890e-02],\n",
              "                        [ 1.5896e-02,  1.0157e-01,  7.2299e-02]],\n",
              "              \n",
              "                       [[-8.2100e-02,  9.6220e-02,  8.1702e-03],\n",
              "                        [ 5.0698e-02,  8.1869e-02,  8.9862e-02],\n",
              "                        [-8.2170e-02,  9.2303e-02, -7.1591e-02]],\n",
              "              \n",
              "                       [[ 7.9021e-03, -7.3656e-02, -2.3109e-02],\n",
              "                        [-4.7901e-03, -1.2611e-02, -1.6652e-02],\n",
              "                        [ 8.3137e-03,  1.0398e-01,  6.1244e-02]],\n",
              "              \n",
              "                       [[ 5.8973e-02,  4.2190e-02,  8.1606e-02],\n",
              "                        [-4.8645e-03,  8.3813e-03,  2.1693e-02],\n",
              "                        [-9.1931e-02, -8.4913e-02,  1.2923e-02]],\n",
              "              \n",
              "                       [[-4.1241e-02, -1.9342e-03, -2.4187e-02],\n",
              "                        [ 1.6408e-02,  6.8581e-02, -3.4958e-02],\n",
              "                        [ 8.4418e-02,  8.3227e-02, -8.0901e-02]]],\n",
              "              \n",
              "              \n",
              "                      [[[-8.1400e-02, -8.5284e-02, -5.7766e-02],\n",
              "                        [-4.1033e-02, -7.9341e-03, -2.5635e-02],\n",
              "                        [-5.3258e-02, -3.3488e-02, -3.8131e-02]],\n",
              "              \n",
              "                       [[ 1.0341e-01, -3.9068e-02, -7.5473e-02],\n",
              "                        [ 4.3818e-02, -6.0886e-03,  8.0698e-02],\n",
              "                        [ 6.5863e-02,  9.6843e-02, -7.7197e-02]],\n",
              "              \n",
              "                       [[ 6.7764e-02,  8.8464e-02, -5.2054e-02],\n",
              "                        [ 9.6890e-02,  7.9019e-02,  1.1544e-03],\n",
              "                        [ 5.0823e-02, -3.6853e-02, -9.1936e-02]],\n",
              "              \n",
              "                       [[ 2.6645e-02,  3.1425e-02, -6.8891e-02],\n",
              "                        [ 5.1123e-02, -9.0043e-02,  9.0718e-02],\n",
              "                        [ 1.0208e-01,  2.8699e-02, -6.6137e-02]],\n",
              "              \n",
              "                       [[ 5.1300e-02,  1.7963e-02,  2.8663e-02],\n",
              "                        [ 3.4643e-02,  8.0254e-02, -4.5309e-02],\n",
              "                        [-2.3711e-02,  2.8746e-02,  1.1486e-02]],\n",
              "              \n",
              "                       [[ 8.5000e-02, -5.5365e-02, -3.8387e-03],\n",
              "                        [ 1.9696e-02, -2.7996e-02,  7.1859e-02],\n",
              "                        [ 1.1530e-02, -9.7422e-02, -1.1420e-02]],\n",
              "              \n",
              "                       [[-4.7809e-02,  1.0243e-02, -1.2250e-02],\n",
              "                        [-1.0456e-01, -1.9208e-02, -1.0096e-02],\n",
              "                        [-3.1083e-02,  9.6848e-02, -2.3000e-02]],\n",
              "              \n",
              "                       [[ 6.7717e-02,  2.6112e-02, -8.8979e-02],\n",
              "                        [ 2.4770e-02,  8.7356e-02, -6.8948e-02],\n",
              "                        [-6.8134e-02,  1.0318e-01,  8.4697e-02]],\n",
              "              \n",
              "                       [[-5.8807e-02,  6.3429e-02, -1.3485e-02],\n",
              "                        [-1.0393e-01,  7.9198e-03,  3.4057e-02],\n",
              "                        [-3.1619e-02,  3.6670e-02, -9.0136e-02]],\n",
              "              \n",
              "                       [[ 7.3050e-02,  8.9865e-02,  5.8130e-02],\n",
              "                        [ 1.7866e-02,  3.4716e-02, -7.6269e-02],\n",
              "                        [-2.6339e-02, -1.0063e-02, -5.8659e-02]]],\n",
              "              \n",
              "              \n",
              "                      [[[-7.7857e-02,  7.0900e-02,  7.1535e-02],\n",
              "                        [-9.5731e-02,  3.3542e-02,  4.2881e-02],\n",
              "                        [ 1.0014e-01,  6.0985e-02,  9.6907e-02]],\n",
              "              \n",
              "                       [[-3.4510e-02,  7.3827e-02,  8.5740e-02],\n",
              "                        [-9.9541e-02, -8.4613e-02,  2.1335e-02],\n",
              "                        [ 5.7557e-02, -5.2369e-02,  1.1609e-02]],\n",
              "              \n",
              "                       [[-1.5303e-04,  2.6680e-02, -5.6642e-02],\n",
              "                        [ 5.9455e-02,  7.0098e-02, -7.3139e-02],\n",
              "                        [ 1.0211e-03,  2.9247e-04,  3.3849e-02]],\n",
              "              \n",
              "                       [[ 9.8198e-02,  3.0913e-02, -2.3951e-02],\n",
              "                        [ 9.4672e-02, -4.0112e-02, -3.0608e-02],\n",
              "                        [ 7.1969e-03, -8.0270e-02,  1.1470e-02]],\n",
              "              \n",
              "                       [[-7.1518e-02,  1.0838e-02,  1.0099e-02],\n",
              "                        [ 1.4591e-02, -8.8891e-02, -1.0012e-01],\n",
              "                        [ 4.8501e-02,  9.0399e-02, -9.3537e-02]],\n",
              "              \n",
              "                       [[ 3.9043e-02, -7.7594e-02,  6.6082e-03],\n",
              "                        [ 9.8068e-02,  7.9965e-02, -7.7069e-02],\n",
              "                        [ 6.5203e-02,  5.5057e-02, -1.6168e-04]],\n",
              "              \n",
              "                       [[ 1.0211e-01, -4.1866e-02, -2.4530e-02],\n",
              "                        [-5.3275e-02,  1.5168e-02,  2.7911e-02],\n",
              "                        [ 8.3990e-03, -5.9307e-02, -4.7452e-02]],\n",
              "              \n",
              "                       [[ 3.5855e-02, -9.2426e-02, -1.6416e-02],\n",
              "                        [-2.3350e-03, -4.2708e-02,  3.8360e-02],\n",
              "                        [ 6.7940e-03,  7.4004e-02, -9.3616e-03]],\n",
              "              \n",
              "                       [[-6.6528e-02,  7.4477e-02,  1.4720e-02],\n",
              "                        [-3.0189e-02, -6.9476e-02,  2.4707e-02],\n",
              "                        [-1.0053e-01,  2.7762e-02,  5.2119e-02]],\n",
              "              \n",
              "                       [[-9.2465e-02, -6.9009e-02, -7.5781e-02],\n",
              "                        [ 8.8597e-02,  8.9611e-02,  6.5987e-03],\n",
              "                        [ 9.8959e-02, -3.5239e-02, -1.0233e-01]]],\n",
              "              \n",
              "              \n",
              "                      [[[ 3.6819e-02,  3.7343e-02,  1.0334e-01],\n",
              "                        [-3.0510e-05,  8.0785e-02,  6.4612e-02],\n",
              "                        [ 7.6292e-02, -1.0460e-01,  8.6800e-02]],\n",
              "              \n",
              "                       [[-8.9856e-02,  9.4501e-02, -4.3682e-03],\n",
              "                        [-9.3415e-02,  2.9314e-02, -2.1456e-02],\n",
              "                        [-9.4678e-02, -3.8215e-02,  1.0868e-02]],\n",
              "              \n",
              "                       [[ 8.2098e-02, -3.2406e-02,  6.2610e-02],\n",
              "                        [ 1.3200e-02,  3.5531e-03,  2.0170e-02],\n",
              "                        [-6.9177e-02, -8.7616e-02, -3.3121e-02]],\n",
              "              \n",
              "                       [[-9.8226e-02, -4.9158e-02,  4.8494e-03],\n",
              "                        [-6.9424e-02, -4.3723e-02, -1.8941e-02],\n",
              "                        [-1.2144e-02, -5.8187e-02,  5.0650e-03]],\n",
              "              \n",
              "                       [[-1.4795e-02,  3.0147e-02,  4.7611e-03],\n",
              "                        [-5.2638e-02, -3.6291e-02, -1.2149e-03],\n",
              "                        [-6.5774e-02,  8.2520e-03, -7.4425e-03]],\n",
              "              \n",
              "                       [[ 4.0897e-02,  2.4947e-02,  7.8887e-02],\n",
              "                        [-3.4749e-03, -7.7887e-02,  4.7119e-02],\n",
              "                        [-7.1240e-02, -1.4489e-02, -3.4132e-02]],\n",
              "              \n",
              "                       [[-3.9997e-02, -3.9000e-02,  9.6863e-02],\n",
              "                        [ 6.0342e-02,  2.9213e-02,  9.8975e-02],\n",
              "                        [-9.5524e-02,  1.7010e-02,  6.7481e-02]],\n",
              "              \n",
              "                       [[ 7.0022e-02, -8.3890e-02,  3.7514e-02],\n",
              "                        [-6.0050e-02, -4.1187e-03, -2.1996e-02],\n",
              "                        [-8.8013e-02, -1.0055e-01, -6.9349e-02]],\n",
              "              \n",
              "                       [[ 4.7832e-02,  4.8218e-02, -9.1681e-02],\n",
              "                        [-3.9586e-02,  1.7218e-03, -9.1135e-02],\n",
              "                        [ 5.9393e-02,  9.5473e-02,  1.8643e-02]],\n",
              "              \n",
              "                       [[-7.8321e-02,  2.4580e-02,  3.8265e-02],\n",
              "                        [ 8.3468e-02, -5.6085e-02, -9.4437e-02],\n",
              "                        [ 4.6312e-02,  6.5624e-03, -3.4345e-02]]],\n",
              "              \n",
              "              \n",
              "                      [[[-4.4169e-02, -5.4351e-02,  8.5328e-02],\n",
              "                        [-1.8187e-02,  7.6022e-02,  9.4094e-02],\n",
              "                        [ 1.3353e-02,  2.2454e-02, -7.1789e-03]],\n",
              "              \n",
              "                       [[ 7.2397e-02, -9.4983e-02,  4.1919e-02],\n",
              "                        [-1.7174e-02,  4.8132e-02, -4.6949e-04],\n",
              "                        [-3.9029e-02, -1.1379e-02,  5.6920e-02]],\n",
              "              \n",
              "                       [[-7.3210e-02, -6.6629e-02, -2.3611e-02],\n",
              "                        [-3.8235e-02,  4.1409e-02,  7.0937e-02],\n",
              "                        [-1.1289e-02,  9.9672e-02, -4.4042e-02]],\n",
              "              \n",
              "                       [[-5.9151e-02, -4.7191e-02, -7.2624e-02],\n",
              "                        [-7.3885e-02, -9.3921e-02, -9.3422e-02],\n",
              "                        [ 2.7512e-02,  6.4284e-02,  9.8963e-02]],\n",
              "              \n",
              "                       [[ 8.9787e-02, -6.0709e-03,  2.0454e-02],\n",
              "                        [-6.3068e-02,  4.0743e-02, -1.0107e-01],\n",
              "                        [ 4.9719e-02,  1.9334e-02,  3.2393e-02]],\n",
              "              \n",
              "                       [[ 3.8595e-02, -4.8394e-02,  9.0452e-02],\n",
              "                        [ 5.0307e-02,  6.9243e-02,  1.3922e-02],\n",
              "                        [ 6.6196e-02,  7.0941e-02,  4.7775e-02]],\n",
              "              \n",
              "                       [[ 8.0297e-02, -1.9119e-02,  6.9310e-02],\n",
              "                        [ 2.4286e-02,  6.3424e-02,  1.0267e-01],\n",
              "                        [ 2.3869e-02, -3.9124e-02, -1.0488e-02]],\n",
              "              \n",
              "                       [[ 2.9676e-02,  1.7773e-02, -2.8795e-02],\n",
              "                        [ 8.2590e-02,  6.3331e-02, -6.5475e-02],\n",
              "                        [-8.5889e-03, -1.0119e-02, -6.6063e-02]],\n",
              "              \n",
              "                       [[ 1.5374e-02, -3.2360e-02, -5.4419e-02],\n",
              "                        [-3.3894e-02, -3.7584e-02,  1.0084e-01],\n",
              "                        [ 4.0432e-02,  1.0373e-01,  2.8903e-02]],\n",
              "              \n",
              "                       [[ 2.3868e-02,  4.3333e-02,  1.8092e-02],\n",
              "                        [-8.2722e-02, -6.2334e-02, -2.5538e-02],\n",
              "                        [ 1.5846e-03,  3.9709e-02,  4.0588e-02]]],\n",
              "              \n",
              "              \n",
              "                      [[[ 8.3623e-02,  2.1458e-02, -3.5975e-02],\n",
              "                        [-7.9271e-02, -7.7203e-02, -6.2965e-02],\n",
              "                        [ 3.1792e-02,  5.6950e-02,  9.2224e-02]],\n",
              "              \n",
              "                       [[-3.3342e-02, -8.3150e-03, -3.1303e-02],\n",
              "                        [-3.8517e-04,  3.3837e-02, -2.3160e-03],\n",
              "                        [ 4.8799e-03,  1.3354e-02,  3.9256e-02]],\n",
              "              \n",
              "                       [[-3.1981e-02, -6.2855e-02,  2.4869e-02],\n",
              "                        [-1.2481e-02, -4.7753e-02,  4.4268e-02],\n",
              "                        [ 9.5597e-04, -1.5333e-02, -5.1027e-02]],\n",
              "              \n",
              "                       [[-1.3868e-02, -8.9632e-02,  2.3980e-02],\n",
              "                        [ 1.5818e-03,  6.3966e-02,  6.8063e-03],\n",
              "                        [ 8.4277e-03,  2.8715e-02,  8.0210e-02]],\n",
              "              \n",
              "                       [[-4.9812e-02,  6.2930e-02,  2.5779e-02],\n",
              "                        [-7.0320e-02,  3.6702e-02, -6.3217e-02],\n",
              "                        [-3.3181e-02, -5.0245e-02, -7.1711e-02]],\n",
              "              \n",
              "                       [[ 8.3017e-02, -9.4217e-02,  5.2706e-02],\n",
              "                        [-9.4870e-02, -1.2829e-02,  6.2868e-03],\n",
              "                        [ 7.4937e-02, -3.8147e-02,  3.0340e-02]],\n",
              "              \n",
              "                       [[ 1.6329e-02,  6.2021e-02,  6.2667e-03],\n",
              "                        [ 3.9470e-02, -6.3677e-02, -7.3250e-02],\n",
              "                        [ 9.3928e-02, -7.6808e-02, -1.7945e-02]],\n",
              "              \n",
              "                       [[-1.2742e-02,  1.0308e-01, -2.2780e-02],\n",
              "                        [-8.0249e-02, -2.6721e-02,  5.4372e-02],\n",
              "                        [ 4.1773e-02,  8.7204e-02, -2.1579e-02]],\n",
              "              \n",
              "                       [[ 4.9653e-02, -9.9194e-02,  4.0787e-02],\n",
              "                        [ 4.8432e-02,  6.7998e-02, -6.0446e-02],\n",
              "                        [-2.8142e-02,  2.5502e-02, -7.4905e-02]],\n",
              "              \n",
              "                       [[-8.3851e-02, -1.0141e-01,  5.8842e-03],\n",
              "                        [ 6.5458e-02,  2.7075e-02,  6.4263e-03],\n",
              "                        [ 3.6727e-02, -6.6240e-02,  1.1113e-02]]],\n",
              "              \n",
              "              \n",
              "                      [[[-2.6186e-02, -5.2193e-02,  9.0902e-02],\n",
              "                        [-8.1550e-02,  1.5448e-02, -9.2624e-02],\n",
              "                        [-3.5762e-03, -4.6840e-02,  3.4695e-02]],\n",
              "              \n",
              "                       [[-5.9191e-02,  6.7466e-02, -8.5536e-02],\n",
              "                        [ 6.3313e-02, -7.9181e-02,  5.6456e-02],\n",
              "                        [-4.4384e-02, -2.4556e-04, -1.9238e-02]],\n",
              "              \n",
              "                       [[ 6.8414e-02,  3.4546e-02, -9.2887e-02],\n",
              "                        [ 9.6914e-03, -7.2718e-02,  7.8800e-02],\n",
              "                        [ 1.7319e-02, -2.7109e-02, -5.3777e-02]],\n",
              "              \n",
              "                       [[ 3.6485e-02, -6.3129e-02,  4.9992e-02],\n",
              "                        [ 5.7519e-02,  6.4701e-02,  2.7537e-02],\n",
              "                        [-9.2272e-02,  7.5823e-02, -3.2700e-02]],\n",
              "              \n",
              "                       [[-3.1163e-02, -1.1325e-02,  7.7068e-02],\n",
              "                        [ 8.1052e-02,  1.6276e-02,  5.0296e-02],\n",
              "                        [-9.8241e-02,  2.4900e-04, -9.3254e-02]],\n",
              "              \n",
              "                       [[ 3.5876e-02, -7.5099e-02, -3.7568e-02],\n",
              "                        [ 7.3684e-02,  1.0074e-01, -6.3286e-02],\n",
              "                        [-5.8503e-02,  1.3055e-02,  4.1437e-02]],\n",
              "              \n",
              "                       [[-1.7168e-02, -3.2918e-02, -6.9237e-02],\n",
              "                        [ 4.4997e-02,  1.0328e-01, -5.1026e-02],\n",
              "                        [ 4.9718e-02,  5.1481e-02,  8.4728e-02]],\n",
              "              \n",
              "                       [[-1.2001e-02,  3.3202e-03,  7.7444e-02],\n",
              "                        [ 6.6631e-02,  1.0411e-01, -3.0207e-02],\n",
              "                        [ 4.1709e-02,  7.3605e-02, -7.1553e-02]],\n",
              "              \n",
              "                       [[ 2.0940e-02, -2.3586e-02,  6.7760e-02],\n",
              "                        [-4.7342e-02,  7.3933e-03,  6.3067e-02],\n",
              "                        [-9.6567e-02, -8.9004e-02, -5.3989e-02]],\n",
              "              \n",
              "                       [[ 6.7611e-02,  7.0680e-02, -7.1991e-02],\n",
              "                        [ 2.0100e-02, -5.5854e-02, -4.8926e-02],\n",
              "                        [ 9.0907e-02,  5.0914e-02, -2.8828e-02]]],\n",
              "              \n",
              "              \n",
              "                      [[[ 1.5516e-02,  2.0424e-02,  2.4691e-02],\n",
              "                        [-3.6079e-02, -6.2074e-02,  6.9788e-02],\n",
              "                        [ 1.4164e-02,  4.4119e-02, -3.9922e-02]],\n",
              "              \n",
              "                       [[ 5.1057e-02,  7.6713e-02,  6.4107e-02],\n",
              "                        [ 2.8660e-02,  1.0371e-01, -2.3053e-04],\n",
              "                        [ 2.2441e-02,  1.0015e-01,  1.0245e-01]],\n",
              "              \n",
              "                       [[-4.4506e-02,  9.4953e-02,  3.8902e-02],\n",
              "                        [-1.1799e-02,  9.2038e-02, -5.4605e-02],\n",
              "                        [ 6.8490e-02,  1.0445e-01, -7.2701e-02]],\n",
              "              \n",
              "                       [[-6.2201e-02, -1.0445e-01, -1.8970e-02],\n",
              "                        [-9.5733e-02, -3.5304e-02,  3.2002e-02],\n",
              "                        [ 7.4511e-02,  5.8717e-02,  5.8511e-02]],\n",
              "              \n",
              "                       [[ 4.3730e-02, -6.5378e-02, -8.3694e-02],\n",
              "                        [ 4.3696e-03,  1.0009e-01,  5.9351e-03],\n",
              "                        [-9.0662e-03, -7.1545e-02, -5.2266e-02]],\n",
              "              \n",
              "                       [[-8.1256e-02,  8.4398e-02, -1.7174e-02],\n",
              "                        [-9.3119e-02,  1.1308e-02,  7.6494e-03],\n",
              "                        [-1.3023e-02,  3.7733e-02,  5.6687e-02]],\n",
              "              \n",
              "                       [[-9.9128e-02, -8.0753e-02, -5.0639e-03],\n",
              "                        [-9.7729e-02, -9.5750e-02,  9.3067e-02],\n",
              "                        [-8.0174e-03, -5.2113e-02, -3.6157e-02]],\n",
              "              \n",
              "                       [[-8.2295e-02,  8.2258e-02, -2.2857e-02],\n",
              "                        [-5.9265e-02, -7.9944e-02,  6.1611e-02],\n",
              "                        [-1.4571e-02, -1.1074e-02, -2.7473e-02]],\n",
              "              \n",
              "                       [[-5.0883e-02,  1.8751e-02,  8.1099e-02],\n",
              "                        [-6.1093e-02,  5.0504e-03, -8.0165e-02],\n",
              "                        [-4.9426e-02,  9.2525e-02,  1.1052e-03]],\n",
              "              \n",
              "                       [[ 1.0154e-01, -1.8468e-02, -5.7453e-02],\n",
              "                        [-6.2981e-02,  9.3426e-02, -8.1058e-02],\n",
              "                        [ 5.5318e-02,  2.6203e-02,  3.1107e-02]]],\n",
              "              \n",
              "              \n",
              "                      [[[ 5.9476e-02, -2.7577e-02,  6.5223e-02],\n",
              "                        [-8.3982e-02, -3.7087e-02,  7.7164e-02],\n",
              "                        [ 3.1283e-02, -1.4038e-02, -2.4616e-02]],\n",
              "              \n",
              "                       [[-6.4364e-02,  6.4098e-02, -3.3520e-03],\n",
              "                        [-3.5664e-03,  2.4929e-02,  7.7787e-02],\n",
              "                        [-5.3778e-02, -3.6303e-02,  7.1429e-02]],\n",
              "              \n",
              "                       [[ 5.9532e-02, -5.1855e-02, -1.0428e-01],\n",
              "                        [ 1.9555e-02,  5.5434e-02,  2.5178e-02],\n",
              "                        [ 7.4768e-02, -8.3640e-02,  5.3156e-02]],\n",
              "              \n",
              "                       [[-6.5531e-02,  5.9325e-02,  7.8394e-02],\n",
              "                        [ 3.3385e-02,  8.5284e-02, -6.9481e-02],\n",
              "                        [-9.4275e-02, -1.0135e-01,  6.6179e-02]],\n",
              "              \n",
              "                       [[ 3.6926e-02, -7.7188e-02,  5.1048e-02],\n",
              "                        [ 9.6177e-02, -1.0394e-01,  7.6466e-02],\n",
              "                        [ 1.6167e-02,  9.8053e-03,  9.4847e-02]],\n",
              "              \n",
              "                       [[ 9.5458e-02,  4.4414e-02,  8.3288e-02],\n",
              "                        [ 4.3853e-02,  1.7176e-02, -9.2656e-02],\n",
              "                        [ 1.9689e-02, -7.4993e-02,  3.2452e-02]],\n",
              "              \n",
              "                       [[ 1.8598e-02,  2.3681e-03, -7.2071e-02],\n",
              "                        [-6.3899e-02,  7.7912e-02,  5.1336e-02],\n",
              "                        [ 5.5576e-02, -3.1410e-02, -1.8151e-02]],\n",
              "              \n",
              "                       [[-2.7014e-02,  7.2489e-02, -4.5504e-02],\n",
              "                        [ 6.6394e-02,  7.2679e-02, -9.6403e-02],\n",
              "                        [ 6.4369e-04, -2.0076e-02, -5.8273e-02]],\n",
              "              \n",
              "                       [[ 4.5507e-02, -1.2807e-02,  9.2287e-02],\n",
              "                        [-6.5976e-02,  4.8976e-02, -8.9998e-02],\n",
              "                        [-5.2833e-02,  7.1903e-03,  8.3283e-02]],\n",
              "              \n",
              "                       [[ 5.5521e-02, -8.6550e-02,  1.1676e-02],\n",
              "                        [-6.2138e-02,  4.5674e-03, -8.7814e-02],\n",
              "                        [-3.0924e-02,  7.2297e-02, -9.6717e-02]]]])),\n",
              "             ('conv_block_2.0.bias',\n",
              "              tensor([-0.1005,  0.0192,  0.0144, -0.0193,  0.0920, -0.0635, -0.0640, -0.0788,\n",
              "                      -0.0196, -0.0269])),\n",
              "             ('conv_block_2.2.weight',\n",
              "              tensor([[[[ 6.5222e-02, -5.9186e-03,  3.3663e-02],\n",
              "                        [-4.3804e-02,  8.5507e-02,  8.8862e-02],\n",
              "                        [-9.4401e-02, -2.7090e-02, -8.9439e-02]],\n",
              "              \n",
              "                       [[ 4.4781e-02, -9.2094e-02, -4.9839e-02],\n",
              "                        [ 1.0532e-01, -1.0066e-01,  7.7771e-02],\n",
              "                        [ 8.9049e-03,  8.4289e-02, -5.3494e-02]],\n",
              "              \n",
              "                       [[ 6.9236e-02,  1.2718e-02,  8.1073e-03],\n",
              "                        [ 7.1945e-02, -1.0019e-01, -8.4902e-02],\n",
              "                        [ 1.0180e-01, -6.3298e-02, -7.5980e-02]],\n",
              "              \n",
              "                       [[-5.1539e-03, -3.3742e-02, -1.4421e-02],\n",
              "                        [-7.0623e-02,  3.8034e-02, -9.0703e-02],\n",
              "                        [ 8.5374e-03,  6.1510e-02,  2.0253e-02]],\n",
              "              \n",
              "                       [[ 1.4006e-02,  1.5418e-02, -3.0880e-02],\n",
              "                        [-2.0080e-02, -4.4450e-02, -7.1207e-02],\n",
              "                        [-5.5810e-02,  1.0420e-01, -1.7641e-02]],\n",
              "              \n",
              "                       [[ 3.6924e-02,  7.2896e-02, -8.2343e-03],\n",
              "                        [-5.6707e-02, -7.1419e-02, -3.8833e-02],\n",
              "                        [ 3.7624e-02, -8.8771e-02, -1.2870e-02]],\n",
              "              \n",
              "                       [[ 4.0096e-02,  8.5999e-02,  3.1721e-02],\n",
              "                        [ 2.0846e-02,  7.2162e-02,  4.8708e-02],\n",
              "                        [ 3.5661e-02, -3.2682e-02, -8.4528e-02]],\n",
              "              \n",
              "                       [[-2.2769e-02, -1.9117e-02,  7.7410e-03],\n",
              "                        [-1.1593e-02,  4.2616e-02,  7.0050e-02],\n",
              "                        [-4.2735e-02, -1.0002e-01, -5.4081e-02]],\n",
              "              \n",
              "                       [[-5.0436e-02,  5.9750e-02, -6.7994e-02],\n",
              "                        [-9.9145e-03, -2.2340e-02, -6.3976e-02],\n",
              "                        [ 4.7780e-02, -4.3909e-02, -5.4531e-03]],\n",
              "              \n",
              "                       [[-7.4112e-02, -1.0632e-02,  1.4977e-02],\n",
              "                        [-4.2894e-03, -3.9386e-02,  3.1315e-02],\n",
              "                        [-2.7311e-02, -5.8439e-02, -7.7732e-02]]],\n",
              "              \n",
              "              \n",
              "                      [[[-2.2329e-02, -9.9578e-02,  8.7492e-02],\n",
              "                        [-5.0357e-02, -4.3684e-02,  9.7439e-03],\n",
              "                        [ 2.7326e-02, -9.9393e-03,  7.2313e-02]],\n",
              "              \n",
              "                       [[-6.1448e-02,  3.7777e-02, -2.3773e-04],\n",
              "                        [-8.5747e-02, -4.0824e-02,  2.6825e-02],\n",
              "                        [ 2.0138e-02,  7.6647e-02,  7.0518e-02]],\n",
              "              \n",
              "                       [[-5.7493e-02, -4.5013e-02, -2.2351e-02],\n",
              "                        [-7.5517e-02, -2.8459e-02, -8.6258e-02],\n",
              "                        [ 4.0092e-02,  7.4583e-02,  8.3459e-03]],\n",
              "              \n",
              "                       [[-7.5460e-02, -7.9827e-02, -4.1036e-02],\n",
              "                        [ 3.0659e-02,  2.5711e-03,  1.9166e-02],\n",
              "                        [ 9.9346e-02,  4.8956e-02,  2.2665e-02]],\n",
              "              \n",
              "                       [[-2.1327e-02,  4.9864e-02,  3.8563e-02],\n",
              "                        [-9.4879e-02, -6.2266e-02,  3.5381e-03],\n",
              "                        [ 3.9997e-02,  5.1282e-02, -6.2748e-02]],\n",
              "              \n",
              "                       [[-1.0458e-01, -5.4909e-03, -1.2050e-02],\n",
              "                        [ 3.0588e-02, -2.8988e-02,  8.0588e-02],\n",
              "                        [ 7.0333e-03,  7.6975e-02, -7.3398e-02]],\n",
              "              \n",
              "                       [[ 4.2167e-02,  1.2560e-02, -5.2720e-02],\n",
              "                        [ 5.2256e-02, -1.0372e-01,  8.5220e-02],\n",
              "                        [ 8.4947e-03,  1.0178e-02,  4.8746e-02]],\n",
              "              \n",
              "                       [[ 8.7503e-03,  4.5184e-02,  6.7063e-02],\n",
              "                        [-8.2268e-02,  6.9735e-02, -1.5784e-02],\n",
              "                        [-2.4513e-02,  2.1217e-02,  8.2446e-02]],\n",
              "              \n",
              "                       [[-5.7302e-02, -7.1039e-02,  6.5418e-02],\n",
              "                        [-4.9507e-02,  3.3937e-02, -1.5530e-02],\n",
              "                        [ 2.9014e-02,  8.0439e-02, -5.3421e-02]],\n",
              "              \n",
              "                       [[-5.1151e-02,  5.1716e-02,  5.7714e-03],\n",
              "                        [-1.1601e-02, -9.2590e-02,  8.9309e-02],\n",
              "                        [-3.9919e-03, -1.9415e-02, -4.3269e-02]]],\n",
              "              \n",
              "              \n",
              "                      [[[-2.0801e-02,  5.1233e-02, -2.4227e-03],\n",
              "                        [ 9.0147e-02, -6.0858e-03, -1.5122e-02],\n",
              "                        [ 5.9498e-02, -2.7275e-03, -2.1039e-02]],\n",
              "              \n",
              "                       [[ 3.5231e-02,  8.3129e-02,  2.6305e-02],\n",
              "                        [ 7.3398e-02,  6.8309e-02,  2.9810e-02],\n",
              "                        [ 3.6650e-02,  3.4014e-02,  1.0934e-02]],\n",
              "              \n",
              "                       [[ 8.9675e-02,  9.7308e-02,  3.7524e-02],\n",
              "                        [-5.2640e-03,  9.4509e-02, -8.2042e-02],\n",
              "                        [ 7.7453e-02,  5.5849e-02,  6.7687e-02]],\n",
              "              \n",
              "                       [[-8.0992e-03, -7.8646e-02,  7.5193e-02],\n",
              "                        [-4.6091e-02,  2.7734e-02,  5.9719e-02],\n",
              "                        [-9.8508e-02,  6.9954e-03, -3.7444e-02]],\n",
              "              \n",
              "                       [[ 7.4815e-02, -6.7114e-02,  6.4001e-02],\n",
              "                        [ 6.5730e-02,  5.8156e-02,  1.0119e-01],\n",
              "                        [ 1.5964e-02, -9.5541e-02,  7.5248e-02]],\n",
              "              \n",
              "                       [[ 9.6499e-03,  2.0918e-03, -1.0041e-01],\n",
              "                        [-2.3691e-02, -5.1162e-02,  1.0324e-01],\n",
              "                        [ 7.5054e-02,  7.8634e-02,  7.2188e-02]],\n",
              "              \n",
              "                       [[-6.5340e-02, -4.5270e-02, -4.1252e-02],\n",
              "                        [-4.2257e-02,  8.2054e-02,  3.5815e-02],\n",
              "                        [ 8.4470e-02, -4.9309e-03, -9.3965e-02]],\n",
              "              \n",
              "                       [[-3.0582e-02,  7.4081e-02,  6.4174e-02],\n",
              "                        [ 3.2632e-02, -3.0919e-02, -9.8386e-02],\n",
              "                        [-5.6639e-02,  5.4958e-02, -4.2518e-02]],\n",
              "              \n",
              "                       [[ 5.0421e-02,  2.8781e-02, -4.0486e-02],\n",
              "                        [ 6.4202e-02, -3.3871e-02, -3.5020e-03],\n",
              "                        [-4.0152e-02, -9.9988e-02,  1.6996e-02]],\n",
              "              \n",
              "                       [[ 3.0460e-02, -5.3072e-02,  6.4663e-02],\n",
              "                        [-9.4558e-02, -1.0161e-01, -6.5106e-02],\n",
              "                        [-3.6430e-02, -1.1707e-02, -2.0370e-02]]],\n",
              "              \n",
              "              \n",
              "                      [[[ 4.8108e-02, -9.2510e-02,  1.5521e-02],\n",
              "                        [ 1.8254e-03,  2.7842e-02,  1.0479e-01],\n",
              "                        [ 6.4874e-02, -5.8366e-02, -8.6378e-02]],\n",
              "              \n",
              "                       [[-2.5520e-02, -5.2876e-02,  3.6820e-02],\n",
              "                        [ 9.6628e-04,  8.4783e-02,  4.1405e-02],\n",
              "                        [-1.9382e-02,  3.6229e-03,  2.5244e-02]],\n",
              "              \n",
              "                       [[-1.3080e-02,  8.5058e-02, -8.2420e-02],\n",
              "                        [ 5.1377e-02, -6.7192e-02, -9.2347e-02],\n",
              "                        [-2.1640e-02,  5.1366e-02,  7.4478e-02]],\n",
              "              \n",
              "                       [[ 2.6452e-02, -9.1104e-03, -5.9092e-03],\n",
              "                        [-4.2731e-02, -9.4592e-03, -7.2831e-03],\n",
              "                        [ 8.9699e-02,  6.1690e-02, -8.4351e-02]],\n",
              "              \n",
              "                       [[ 4.3604e-04, -6.4834e-02, -1.6733e-02],\n",
              "                        [-8.3776e-02,  2.7402e-02, -7.6008e-02],\n",
              "                        [ 1.0406e-01,  7.9605e-02, -7.2559e-02]],\n",
              "              \n",
              "                       [[-9.9239e-02,  4.1128e-03, -2.9425e-02],\n",
              "                        [ 3.0945e-02, -7.1353e-02,  4.3148e-02],\n",
              "                        [-9.1047e-02, -5.5632e-02, -5.5414e-02]],\n",
              "              \n",
              "                       [[ 5.1007e-02, -2.7597e-03, -1.0130e-01],\n",
              "                        [-6.0201e-02, -4.8781e-02, -9.7802e-02],\n",
              "                        [ 1.3497e-02,  3.7561e-02, -1.9340e-02]],\n",
              "              \n",
              "                       [[-4.1947e-02, -6.3926e-04, -8.3725e-02],\n",
              "                        [-6.4184e-02, -2.4040e-03,  9.3643e-02],\n",
              "                        [-3.2414e-02,  5.2247e-02, -4.1484e-02]],\n",
              "              \n",
              "                       [[-2.8060e-02, -1.0034e-01,  8.7330e-02],\n",
              "                        [ 1.0264e-01, -2.2139e-03,  6.6974e-02],\n",
              "                        [ 8.6219e-02,  5.2359e-02,  5.4288e-02]],\n",
              "              \n",
              "                       [[-1.0035e-01, -9.9050e-02, -8.0906e-02],\n",
              "                        [ 3.2970e-02, -9.1177e-02, -8.0464e-02],\n",
              "                        [-5.1092e-02, -9.7154e-02,  1.4203e-04]]],\n",
              "              \n",
              "              \n",
              "                      [[[ 1.5207e-02, -6.1686e-02,  6.9018e-02],\n",
              "                        [-4.0018e-02, -2.9676e-02,  8.0309e-02],\n",
              "                        [ 9.0499e-02, -1.2093e-02, -7.5671e-02]],\n",
              "              \n",
              "                       [[-5.2881e-02,  1.3423e-02,  6.1790e-02],\n",
              "                        [ 5.2477e-02, -4.6547e-02, -9.9650e-02],\n",
              "                        [-9.2249e-02, -3.3537e-02,  1.3223e-03]],\n",
              "              \n",
              "                       [[-4.7347e-02, -8.3348e-02,  1.1109e-02],\n",
              "                        [-8.3668e-02, -8.0946e-02, -8.5692e-02],\n",
              "                        [-2.8563e-02,  9.3104e-02,  4.1207e-02]],\n",
              "              \n",
              "                       [[-1.2498e-02,  2.1694e-02,  4.1975e-02],\n",
              "                        [ 6.1414e-04, -8.5020e-02, -6.4944e-02],\n",
              "                        [-7.1610e-02, -2.6766e-03, -9.6492e-02]],\n",
              "              \n",
              "                       [[-1.9166e-02, -3.8545e-02,  1.0345e-01],\n",
              "                        [ 8.5679e-02,  6.1227e-02,  5.9116e-03],\n",
              "                        [-3.4129e-02,  2.6887e-02, -7.2830e-02]],\n",
              "              \n",
              "                       [[-4.4957e-02, -2.1175e-02, -2.4766e-02],\n",
              "                        [-9.9854e-02,  4.1903e-02,  8.6803e-02],\n",
              "                        [-5.8141e-02,  2.8415e-02, -1.2225e-02]],\n",
              "              \n",
              "                       [[-3.8445e-03,  6.1443e-03,  9.1346e-02],\n",
              "                        [ 1.4124e-02, -6.6690e-02, -3.7917e-02],\n",
              "                        [ 5.1495e-02,  3.2893e-02,  2.0487e-03]],\n",
              "              \n",
              "                       [[-1.3912e-02, -4.1012e-02, -3.7413e-02],\n",
              "                        [-5.5602e-02,  1.7273e-02,  2.9603e-02],\n",
              "                        [ 8.0717e-02, -2.3813e-02,  7.5461e-03]],\n",
              "              \n",
              "                       [[ 6.8125e-02,  4.5852e-02,  1.3544e-02],\n",
              "                        [ 3.2390e-02,  5.4714e-03, -9.0419e-02],\n",
              "                        [ 4.0636e-03, -2.3040e-02,  9.5123e-02]],\n",
              "              \n",
              "                       [[ 9.5145e-02,  2.0912e-02,  9.4215e-02],\n",
              "                        [-5.4288e-02,  9.1619e-02,  9.0756e-02],\n",
              "                        [-4.0288e-03, -8.4592e-02, -3.4015e-02]]],\n",
              "              \n",
              "              \n",
              "                      [[[-2.8189e-02,  1.7411e-03, -9.5569e-02],\n",
              "                        [ 1.9535e-02, -4.3839e-02, -2.6989e-02],\n",
              "                        [-5.4443e-02, -2.2255e-02, -9.7896e-02]],\n",
              "              \n",
              "                       [[-5.5885e-02,  9.7108e-03,  6.9072e-02],\n",
              "                        [ 9.5790e-02, -7.9737e-02,  4.4264e-02],\n",
              "                        [-5.9419e-02, -8.1498e-02, -4.6417e-03]],\n",
              "              \n",
              "                       [[-6.0468e-02, -9.0783e-02, -9.8509e-02],\n",
              "                        [-7.0556e-02,  8.6619e-02,  5.8788e-02],\n",
              "                        [-4.1726e-02, -7.0553e-02, -8.1085e-02]],\n",
              "              \n",
              "                       [[-6.2246e-02, -4.3376e-02,  6.3308e-02],\n",
              "                        [ 3.4496e-02, -4.0622e-02,  7.2567e-02],\n",
              "                        [-6.5484e-02, -8.5876e-02,  2.3006e-02]],\n",
              "              \n",
              "                       [[-5.8123e-02,  2.9987e-02,  8.9306e-02],\n",
              "                        [-4.9849e-02, -7.3556e-02,  3.9676e-02],\n",
              "                        [-9.5200e-02,  9.4044e-02, -4.9780e-02]],\n",
              "              \n",
              "                       [[ 5.0961e-02, -8.3818e-02, -7.1348e-02],\n",
              "                        [ 1.1611e-02,  3.7463e-02,  8.1734e-02],\n",
              "                        [ 8.8158e-02, -6.0623e-03, -1.3552e-02]],\n",
              "              \n",
              "                       [[ 1.7424e-02, -2.4486e-02,  3.5882e-03],\n",
              "                        [-9.9828e-02, -8.6531e-02,  7.2233e-02],\n",
              "                        [-6.1597e-02,  8.3008e-02,  1.1568e-02]],\n",
              "              \n",
              "                       [[ 2.5676e-02,  9.5804e-02, -5.8628e-02],\n",
              "                        [-1.6640e-02,  1.8675e-02,  3.6012e-02],\n",
              "                        [-1.0259e-01,  3.7464e-02, -6.2163e-02]],\n",
              "              \n",
              "                       [[ 1.3846e-02,  7.1315e-02, -1.0500e-02],\n",
              "                        [-3.3346e-03, -7.8757e-03,  8.7962e-02],\n",
              "                        [ 5.9907e-02,  1.7727e-02, -6.3437e-02]],\n",
              "              \n",
              "                       [[-5.7241e-02,  8.3964e-02,  7.5834e-02],\n",
              "                        [ 6.1033e-02, -8.2189e-02,  8.2092e-02],\n",
              "                        [-1.0076e-02,  7.7661e-02,  9.1553e-02]]],\n",
              "              \n",
              "              \n",
              "                      [[[ 1.1554e-02, -4.3863e-02,  9.9153e-02],\n",
              "                        [-5.4931e-02,  6.8876e-02, -1.0108e-01],\n",
              "                        [-3.3153e-02, -9.1902e-02, -4.7284e-02]],\n",
              "              \n",
              "                       [[ 4.4759e-02, -7.5529e-02, -9.1158e-02],\n",
              "                        [ 7.5371e-02,  5.6270e-02, -1.1527e-03],\n",
              "                        [-7.4309e-02, -2.7927e-02, -3.4129e-02]],\n",
              "              \n",
              "                       [[ 6.5100e-02, -3.4478e-02, -3.0360e-02],\n",
              "                        [-7.4720e-02, -4.9646e-02,  5.7074e-02],\n",
              "                        [ 6.7914e-02,  1.5315e-02, -3.9549e-02]],\n",
              "              \n",
              "                       [[ 1.0124e-01,  2.0806e-02, -4.0688e-02],\n",
              "                        [-3.6535e-02, -1.4752e-02,  4.9974e-02],\n",
              "                        [ 3.8555e-02,  7.6418e-02, -4.7494e-03]],\n",
              "              \n",
              "                       [[ 8.7183e-02, -4.2816e-02, -4.8547e-02],\n",
              "                        [-3.8927e-02, -9.8896e-02, -6.9195e-02],\n",
              "                        [-9.5382e-02, -6.2294e-03,  9.9374e-04]],\n",
              "              \n",
              "                       [[-2.7358e-02, -7.2035e-02,  9.5637e-02],\n",
              "                        [-3.4926e-02,  5.0233e-02,  7.3408e-02],\n",
              "                        [-6.9291e-02, -1.3179e-02,  6.0923e-02]],\n",
              "              \n",
              "                       [[ 1.0218e-01, -1.3299e-02,  7.6382e-02],\n",
              "                        [-8.2732e-02, -6.8489e-02,  8.6682e-02],\n",
              "                        [-9.9801e-03,  1.0414e-01,  7.6651e-03]],\n",
              "              \n",
              "                       [[-4.3714e-02,  1.0011e-01,  9.2179e-02],\n",
              "                        [ 9.7826e-03, -6.3900e-02, -4.5639e-03],\n",
              "                        [-5.0693e-02,  7.6810e-02,  4.8829e-03]],\n",
              "              \n",
              "                       [[ 2.2191e-02,  6.3927e-02,  3.4916e-02],\n",
              "                        [-6.5803e-02,  8.7566e-02,  6.4758e-02],\n",
              "                        [-6.5073e-02,  7.9700e-02,  2.9905e-02]],\n",
              "              \n",
              "                       [[-2.0750e-02, -7.5385e-02, -1.7490e-02],\n",
              "                        [-1.0335e-01,  6.0163e-02,  7.6343e-02],\n",
              "                        [-3.0347e-02,  9.7720e-02, -3.9032e-02]]],\n",
              "              \n",
              "              \n",
              "                      [[[ 1.8051e-02, -7.3459e-02, -4.4565e-03],\n",
              "                        [ 4.2610e-02,  4.5403e-02, -3.5346e-03],\n",
              "                        [-5.3154e-02,  7.3680e-02,  6.9788e-02]],\n",
              "              \n",
              "                       [[ 1.6916e-02, -4.8475e-02,  2.2349e-02],\n",
              "                        [ 2.8186e-04,  9.6302e-02,  1.5621e-02],\n",
              "                        [ 8.1301e-03,  7.2057e-03,  5.6079e-02]],\n",
              "              \n",
              "                       [[-1.3024e-03,  9.0351e-02,  5.4917e-02],\n",
              "                        [-7.9650e-02, -1.2063e-06, -8.9472e-02],\n",
              "                        [-8.0934e-02,  2.0480e-02,  2.3687e-02]],\n",
              "              \n",
              "                       [[-9.2246e-03,  1.0019e-01, -5.6627e-02],\n",
              "                        [-4.4176e-02, -1.6881e-02,  6.3911e-04],\n",
              "                        [-8.9284e-03,  9.4909e-02, -4.4519e-02]],\n",
              "              \n",
              "                       [[-5.5137e-02,  9.0599e-03,  7.9171e-02],\n",
              "                        [ 2.5019e-02,  5.6787e-02,  2.0406e-02],\n",
              "                        [ 8.9839e-02,  6.3311e-02,  7.5428e-02]],\n",
              "              \n",
              "                       [[-1.4198e-02, -8.7268e-02, -5.0002e-02],\n",
              "                        [ 3.5910e-02,  7.3950e-02, -4.1184e-02],\n",
              "                        [ 8.7218e-02,  1.5150e-02,  4.1869e-04]],\n",
              "              \n",
              "                       [[ 4.1093e-03, -1.8623e-02,  9.8683e-02],\n",
              "                        [ 4.5784e-03,  6.4564e-02, -8.8967e-02],\n",
              "                        [-5.4309e-02,  1.1852e-02,  8.4169e-02]],\n",
              "              \n",
              "                       [[ 5.0184e-02,  2.0076e-02, -1.0414e-01],\n",
              "                        [ 1.9816e-03, -6.9581e-02, -9.0006e-02],\n",
              "                        [ 1.4414e-02, -6.6693e-02,  9.5674e-02]],\n",
              "              \n",
              "                       [[-5.7294e-02,  3.3970e-02,  6.1871e-02],\n",
              "                        [-8.1928e-02,  5.3946e-02, -1.4114e-02],\n",
              "                        [ 5.4619e-02,  1.0201e-01, -4.4922e-02]],\n",
              "              \n",
              "                       [[-4.5653e-02,  8.3753e-02,  1.1722e-02],\n",
              "                        [-1.0513e-02,  7.9971e-02, -5.0928e-02],\n",
              "                        [-5.2047e-03,  7.2403e-02,  4.1195e-02]]],\n",
              "              \n",
              "              \n",
              "                      [[[-6.8180e-02,  2.7398e-02, -8.0368e-02],\n",
              "                        [-5.7245e-02,  6.7779e-02, -2.8093e-02],\n",
              "                        [-5.3691e-02,  7.4717e-03,  2.5759e-02]],\n",
              "              \n",
              "                       [[-6.5524e-02, -7.1084e-02, -1.0209e-01],\n",
              "                        [ 2.7236e-02, -6.8013e-02,  8.0331e-03],\n",
              "                        [-2.3576e-02, -6.8923e-02, -3.3636e-02]],\n",
              "              \n",
              "                       [[-8.1027e-02, -5.5797e-02, -3.2857e-03],\n",
              "                        [-9.0116e-02, -9.2447e-02,  7.8958e-02],\n",
              "                        [ 9.9188e-03, -4.6618e-02, -3.5047e-03]],\n",
              "              \n",
              "                       [[ 7.8168e-02, -8.7939e-02, -5.5886e-02],\n",
              "                        [-7.6226e-02, -7.6634e-03, -3.6274e-03],\n",
              "                        [-8.2146e-02,  7.3163e-02, -8.0946e-02]],\n",
              "              \n",
              "                       [[ 9.8414e-02, -7.2560e-02, -1.4446e-02],\n",
              "                        [ 1.9710e-02, -4.6852e-02,  9.6939e-02],\n",
              "                        [-7.2673e-02, -5.8427e-03, -7.7398e-02]],\n",
              "              \n",
              "                       [[ 2.9261e-02,  8.9871e-02,  9.7776e-02],\n",
              "                        [ 1.2514e-02, -5.2773e-02,  1.0244e-01],\n",
              "                        [ 7.8667e-03,  7.1317e-02, -5.4751e-02]],\n",
              "              \n",
              "                       [[-4.8920e-02, -8.7504e-02,  9.6990e-02],\n",
              "                        [ 1.7486e-02, -7.5704e-02,  9.0535e-03],\n",
              "                        [-4.5211e-02,  5.2659e-03,  3.4988e-02]],\n",
              "              \n",
              "                       [[-5.2308e-02,  1.8394e-02, -6.6553e-02],\n",
              "                        [ 2.0312e-02, -1.0178e-01,  1.6797e-02],\n",
              "                        [ 1.0473e-01,  9.7094e-02,  3.8451e-02]],\n",
              "              \n",
              "                       [[ 7.7563e-02,  1.0248e-01,  2.9870e-02],\n",
              "                        [ 3.5156e-02,  1.3707e-02,  9.3322e-02],\n",
              "                        [ 9.0551e-02, -4.9570e-02, -4.3333e-03]],\n",
              "              \n",
              "                       [[-5.3110e-02,  3.7824e-02, -1.0214e-01],\n",
              "                        [ 3.7301e-02, -2.8929e-02,  3.8227e-02],\n",
              "                        [ 3.2899e-02, -5.2454e-02,  5.4687e-02]]],\n",
              "              \n",
              "              \n",
              "                      [[[ 4.4762e-02, -8.9602e-02,  1.0517e-01],\n",
              "                        [ 9.0731e-02,  6.5584e-02, -1.0699e-02],\n",
              "                        [ 3.7345e-02, -5.7028e-02, -3.5818e-02]],\n",
              "              \n",
              "                       [[ 4.9749e-02,  4.6925e-02,  4.1741e-02],\n",
              "                        [-1.0053e-01,  8.7350e-02, -4.4028e-02],\n",
              "                        [ 9.1223e-02,  8.6852e-02,  3.9070e-02]],\n",
              "              \n",
              "                       [[ 1.0502e-01,  6.0528e-02,  6.1821e-02],\n",
              "                        [-3.5794e-02,  9.7766e-02,  2.7627e-02],\n",
              "                        [ 6.2280e-02, -2.3834e-02,  7.6340e-02]],\n",
              "              \n",
              "                       [[ 9.3509e-02, -8.0770e-02,  8.6415e-02],\n",
              "                        [-6.9664e-02, -7.2571e-02, -8.8089e-02],\n",
              "                        [ 3.0459e-02, -7.9144e-02, -3.9680e-02]],\n",
              "              \n",
              "                       [[-5.2988e-02,  2.8172e-02, -1.0349e-01],\n",
              "                        [-4.8324e-02,  7.7112e-04,  9.4660e-03],\n",
              "                        [-4.7605e-02,  3.7764e-02, -6.9544e-02]],\n",
              "              \n",
              "                       [[-8.9270e-02, -1.4986e-02, -5.6989e-02],\n",
              "                        [ 6.6443e-02, -7.2049e-02, -8.8494e-03],\n",
              "                        [ 4.3782e-02, -9.2311e-02,  8.1599e-02]],\n",
              "              \n",
              "                       [[-4.7895e-02, -2.8684e-02, -6.4480e-02],\n",
              "                        [-3.9279e-02, -4.0645e-02, -9.3801e-02],\n",
              "                        [ 3.6019e-02, -3.3768e-04,  1.0311e-01]],\n",
              "              \n",
              "                       [[ 7.1117e-02,  9.1699e-02,  3.1014e-02],\n",
              "                        [ 5.5388e-02,  9.8704e-02,  8.6545e-02],\n",
              "                        [-8.0996e-02, -2.3636e-02, -1.0166e-01]],\n",
              "              \n",
              "                       [[ 3.9877e-03, -3.7229e-02,  9.1486e-02],\n",
              "                        [ 1.6666e-02,  1.1601e-03, -7.6248e-02],\n",
              "                        [-8.2718e-02,  1.6594e-02, -5.2376e-02]],\n",
              "              \n",
              "                       [[-4.8409e-02,  7.3938e-02, -5.4952e-02],\n",
              "                        [-4.6918e-02,  8.0934e-02,  4.1183e-02],\n",
              "                        [-5.9894e-02,  3.1923e-02,  5.3141e-02]]]])),\n",
              "             ('conv_block_2.2.bias',\n",
              "              tensor([-0.0936,  0.0197,  0.0241, -0.0041,  0.1011, -0.0697,  0.0571, -0.0560,\n",
              "                      -0.0902,  0.0718])),\n",
              "             ('classifier.1.weight',\n",
              "              tensor([[-0.0217,  0.0021,  0.0238,  ...,  0.0067, -0.0439, -0.0080],\n",
              "                      [-0.0123, -0.0193, -0.0251,  ...,  0.0347, -0.0211, -0.0252],\n",
              "                      [-0.0278,  0.0149,  0.0176,  ...,  0.0010, -0.0015,  0.0046],\n",
              "                      ...,\n",
              "                      [ 0.0247,  0.0024, -0.0154,  ..., -0.0316,  0.0251,  0.0204],\n",
              "                      [-0.0400, -0.0093,  0.0114,  ..., -0.0035, -0.0046,  0.0160],\n",
              "                      [ 0.0326, -0.0326,  0.0237,  ..., -0.0445,  0.0246, -0.0357]])),\n",
              "             ('classifier.1.bias',\n",
              "              tensor([-0.0442,  0.0156, -0.0010, -0.0277,  0.0404,  0.0037, -0.0283,  0.0207,\n",
              "                       0.0032, -0.0072]))])"
            ]
          },
          "metadata": {},
          "execution_count": 44
        }
      ]
    },
    {
      "cell_type": "markdown",
      "source": [
        "### 6.3 Loss Function and optimizer for model_2 cnn"
      ],
      "metadata": {
        "id": "4HUPI88yBITn"
      }
    },
    {
      "cell_type": "code",
      "source": [
        "# setup loss fn and optimizer\n",
        "loss_fn = nn.CrossEntropyLoss()\n",
        "optimizer = torch.optim.SGD(params=model_2.parameters(),\n",
        "                            lr=0.1)"
      ],
      "metadata": {
        "id": "qEim7LjyDOTN"
      },
      "execution_count": null,
      "outputs": []
    },
    {
      "cell_type": "code",
      "source": [
        "!pip install torchmetrics\n",
        "from torchmetrics import Accuracy\n",
        "accuracy_fn = Accuracy(task=\"multiclass\", num_classes=len(class_names)).to(device)"
      ],
      "metadata": {
        "collapsed": true,
        "colab": {
          "base_uri": "https://localhost:8080/"
        },
        "outputId": "65e0c280-6592-4aa6-a79b-4f55e1bf69f8",
        "id": "6EDALF8wDOTN"
      },
      "execution_count": null,
      "outputs": [
        {
          "output_type": "stream",
          "name": "stdout",
          "text": [
            "Requirement already satisfied: torchmetrics in /usr/local/lib/python3.10/dist-packages (1.4.0.post0)\n",
            "Requirement already satisfied: numpy>1.20.0 in /usr/local/lib/python3.10/dist-packages (from torchmetrics) (1.25.2)\n",
            "Requirement already satisfied: packaging>17.1 in /usr/local/lib/python3.10/dist-packages (from torchmetrics) (24.1)\n",
            "Requirement already satisfied: torch>=1.10.0 in /usr/local/lib/python3.10/dist-packages (from torchmetrics) (2.3.0+cu121)\n",
            "Requirement already satisfied: lightning-utilities>=0.8.0 in /usr/local/lib/python3.10/dist-packages (from torchmetrics) (0.11.2)\n",
            "Requirement already satisfied: setuptools in /usr/local/lib/python3.10/dist-packages (from lightning-utilities>=0.8.0->torchmetrics) (67.7.2)\n",
            "Requirement already satisfied: typing-extensions in /usr/local/lib/python3.10/dist-packages (from lightning-utilities>=0.8.0->torchmetrics) (4.12.2)\n",
            "Requirement already satisfied: filelock in /usr/local/lib/python3.10/dist-packages (from torch>=1.10.0->torchmetrics) (3.15.1)\n",
            "Requirement already satisfied: sympy in /usr/local/lib/python3.10/dist-packages (from torch>=1.10.0->torchmetrics) (1.12.1)\n",
            "Requirement already satisfied: networkx in /usr/local/lib/python3.10/dist-packages (from torch>=1.10.0->torchmetrics) (3.3)\n",
            "Requirement already satisfied: jinja2 in /usr/local/lib/python3.10/dist-packages (from torch>=1.10.0->torchmetrics) (3.1.4)\n",
            "Requirement already satisfied: fsspec in /usr/local/lib/python3.10/dist-packages (from torch>=1.10.0->torchmetrics) (2023.6.0)\n",
            "Requirement already satisfied: nvidia-cuda-nvrtc-cu12==12.1.105 in /usr/local/lib/python3.10/dist-packages (from torch>=1.10.0->torchmetrics) (12.1.105)\n",
            "Requirement already satisfied: nvidia-cuda-runtime-cu12==12.1.105 in /usr/local/lib/python3.10/dist-packages (from torch>=1.10.0->torchmetrics) (12.1.105)\n",
            "Requirement already satisfied: nvidia-cuda-cupti-cu12==12.1.105 in /usr/local/lib/python3.10/dist-packages (from torch>=1.10.0->torchmetrics) (12.1.105)\n",
            "Requirement already satisfied: nvidia-cudnn-cu12==8.9.2.26 in /usr/local/lib/python3.10/dist-packages (from torch>=1.10.0->torchmetrics) (8.9.2.26)\n",
            "Requirement already satisfied: nvidia-cublas-cu12==12.1.3.1 in /usr/local/lib/python3.10/dist-packages (from torch>=1.10.0->torchmetrics) (12.1.3.1)\n",
            "Requirement already satisfied: nvidia-cufft-cu12==11.0.2.54 in /usr/local/lib/python3.10/dist-packages (from torch>=1.10.0->torchmetrics) (11.0.2.54)\n",
            "Requirement already satisfied: nvidia-curand-cu12==10.3.2.106 in /usr/local/lib/python3.10/dist-packages (from torch>=1.10.0->torchmetrics) (10.3.2.106)\n",
            "Requirement already satisfied: nvidia-cusolver-cu12==11.4.5.107 in /usr/local/lib/python3.10/dist-packages (from torch>=1.10.0->torchmetrics) (11.4.5.107)\n",
            "Requirement already satisfied: nvidia-cusparse-cu12==12.1.0.106 in /usr/local/lib/python3.10/dist-packages (from torch>=1.10.0->torchmetrics) (12.1.0.106)\n",
            "Requirement already satisfied: nvidia-nccl-cu12==2.20.5 in /usr/local/lib/python3.10/dist-packages (from torch>=1.10.0->torchmetrics) (2.20.5)\n",
            "Requirement already satisfied: nvidia-nvtx-cu12==12.1.105 in /usr/local/lib/python3.10/dist-packages (from torch>=1.10.0->torchmetrics) (12.1.105)\n",
            "Requirement already satisfied: triton==2.3.0 in /usr/local/lib/python3.10/dist-packages (from torch>=1.10.0->torchmetrics) (2.3.0)\n",
            "Requirement already satisfied: nvidia-nvjitlink-cu12 in /usr/local/lib/python3.10/dist-packages (from nvidia-cusolver-cu12==11.4.5.107->torch>=1.10.0->torchmetrics) (12.5.40)\n",
            "Requirement already satisfied: MarkupSafe>=2.0 in /usr/local/lib/python3.10/dist-packages (from jinja2->torch>=1.10.0->torchmetrics) (2.1.5)\n",
            "Requirement already satisfied: mpmath<1.4.0,>=1.1.0 in /usr/local/lib/python3.10/dist-packages (from sympy->torch>=1.10.0->torchmetrics) (1.3.0)\n"
          ]
        }
      ]
    },
    {
      "cell_type": "markdown",
      "source": [
        "### 6.4 Training and testing model_2 using our training and test functions"
      ],
      "metadata": {
        "id": "76Fp9plji6B3"
      }
    },
    {
      "cell_type": "code",
      "source": [
        "from timeit import default_timer as timer\n",
        "\n",
        "def print_train_time(start: float, end: float, device: torch.device = None):\n",
        "    \"\"\"\n",
        "    Calculates and prints the total training time.\n",
        "\n",
        "    Args:\n",
        "    start (float): The start time of the training.\n",
        "    end (float): The end time of the training.\n",
        "    device (torch.device, optional): The device on which the training was run.\n",
        "\n",
        "    Returns:\n",
        "    float: The total training time in seconds.\n",
        "    \"\"\"\n",
        "    total_time = end - start  # Calculate total training time\n",
        "    print(f\"Train time on {device}: {total_time:.3f} seconds\")  # Print the training time\n",
        "    return total_time  # Return the total training time"
      ],
      "metadata": {
        "id": "kN7eKMWQGOfm"
      },
      "execution_count": null,
      "outputs": []
    },
    {
      "cell_type": "code",
      "source": [
        "# import tqdm for progress bar\n",
        "from tqdm.auto import tqdm\n",
        "torch.manual_seed(42)\n",
        "torch.cuda.manual_seed(42)\n",
        "\n",
        "# measure time\n",
        "from timeit import default_timer as timer\n",
        "train_timer_start_model_2 = timer()\n",
        "\n",
        "epochs = 3\n",
        "for epoch in tqdm(range(epochs)):\n",
        "    print(f\"Epoch: {epoch}\\n---------\")\n",
        "    train_step(model=model_2,\n",
        "               data_loader=train_dataloader,\n",
        "               loss_fn=loss_fn,\n",
        "               optimizer=optimizer,\n",
        "               accuracy_fn=accuracy_fn,\n",
        "               device=device)\n",
        "    test_step(model=model_2,\n",
        "              data_loader=test_dataloader,\n",
        "              loss_fn=loss_fn,\n",
        "              accuracy_fn=accuracy_fn,\n",
        "              device=device)\n",
        "train_timer_end_model_2 = timer()\n",
        "total_train_time_model_2 = print_train_time(end=train_timer_end_model_2,start=train_timer_start_model_2)"
      ],
      "metadata": {
        "colab": {
          "base_uri": "https://localhost:8080/",
          "height": 286,
          "referenced_widgets": [
            "45c5fe7cf6f045dcb4d102cd7f57b71e",
            "ebdd61037c804347832e6f49e8ee7c89",
            "c13e8450e33349d9a365c2e7ee7b4224",
            "572e6295d12848b1836cc0d7900e0316",
            "ac0bf084c6b24a46a97e8343d66d2fd8",
            "5a57e10d03a24e8b856865a50cc31d34",
            "3fd285a1d8bc42508c60da7f7ade8364",
            "2acff447b2f14350a3196b2b3723d35a",
            "15f3ce8f3f1e4012b42c5b3087f43839",
            "6ac0949577ff46bc93c5061f9233ea13",
            "5a0ff33fac034990aad09ad090f3ffcd"
          ]
        },
        "id": "EAdZn7a5BdDa",
        "outputId": "dda99783-87f9-4f01-eb36-0ff323bcc02d"
      },
      "execution_count": null,
      "outputs": [
        {
          "output_type": "display_data",
          "data": {
            "text/plain": [
              "  0%|          | 0/3 [00:00<?, ?it/s]"
            ],
            "application/vnd.jupyter.widget-view+json": {
              "version_major": 2,
              "version_minor": 0,
              "model_id": "45c5fe7cf6f045dcb4d102cd7f57b71e"
            }
          },
          "metadata": {}
        },
        {
          "output_type": "stream",
          "name": "stdout",
          "text": [
            "Epoch: 0\n",
            "---------\n",
            " Train loss: 0.65864   |    Train acc: 0.76\n",
            " Test loss: 0.39039   |    Test acc: 0.86\n",
            "Epoch: 1\n",
            "---------\n",
            " Train loss: 0.36227   |    Train acc: 0.87\n",
            " Test loss: 0.34215   |    Test acc: 0.88\n",
            "Epoch: 2\n",
            "---------\n",
            " Train loss: 0.32664   |    Train acc: 0.88\n",
            " Test loss: 0.34149   |    Test acc: 0.88\n",
            "Train time on None: 53.405 seconds\n"
          ]
        }
      ]
    },
    {
      "cell_type": "code",
      "source": [
        "# get model_2 results\n",
        "model_2_results = eval_model(model=model_2,\n",
        "                             data_loader=test_dataloader,\n",
        "                             loss_fn=loss_fn,\n",
        "                             accuracy_fn=accuracy_fn,\n",
        "                             device=device)\n",
        "model_2_results\n"
      ],
      "metadata": {
        "colab": {
          "base_uri": "https://localhost:8080/",
          "height": 104,
          "referenced_widgets": [
            "6c0e5dae404247189d22947a88077dcb",
            "23329f17483b45c19a0be76a01172017",
            "132d1c5e034f4412b42b0fbfa8c28c01",
            "7365111b8df34df18cf42b8fb8264651",
            "de256c8832334796ba62855f473319da",
            "454e16b1393e4ee1a2acae5806f04dfb",
            "676522fbab4d4731a4c194274e25837c",
            "dc9ff8b61baf459cb6b8830d666d2805",
            "9642388f7d65488ca803ce6583e04637",
            "0c5e0fcd469b450783a0bb6c89ecc42f",
            "b0f946cf4c2d4665ad99761bb7d30324"
          ]
        },
        "id": "xwPwaffYBtnn",
        "outputId": "bb22bf6c-c104-426e-c114-8aa8ef586212"
      },
      "execution_count": null,
      "outputs": [
        {
          "output_type": "display_data",
          "data": {
            "text/plain": [
              "  0%|          | 0/313 [00:00<?, ?it/s]"
            ],
            "application/vnd.jupyter.widget-view+json": {
              "version_major": 2,
              "version_minor": 0,
              "model_id": "6c0e5dae404247189d22947a88077dcb"
            }
          },
          "metadata": {}
        },
        {
          "output_type": "execute_result",
          "data": {
            "text/plain": [
              "{'model_name': 'FashionMNISTModelV2',\n",
              " 'model_loss': 0.3414860665798187,\n",
              " 'model_acc': 87.77955174446106}"
            ]
          },
          "metadata": {},
          "execution_count": 49
        }
      ]
    },
    {
      "cell_type": "markdown",
      "source": [
        "## 7. Comparing results\n"
      ],
      "metadata": {
        "id": "4Id6XuMADC0b"
      }
    },
    {
      "cell_type": "code",
      "source": [
        "import pandas as pd\n",
        "compare_results = pd.DataFrame([model_0_results,\n",
        "                                model_1_results,\n",
        "                                model_2_results])\n",
        "compare_results"
      ],
      "metadata": {
        "colab": {
          "base_uri": "https://localhost:8080/",
          "height": 143
        },
        "id": "PQBRU8_5a8rR",
        "outputId": "4c1d21e1-60f6-429a-900c-b0d812b62c9b"
      },
      "execution_count": null,
      "outputs": [
        {
          "output_type": "execute_result",
          "data": {
            "text/plain": [
              "            model_name  model_loss  model_acc\n",
              "0  FashionMNISTModelV0    0.477732  83.496404\n",
              "1  FashionMNISTModelV1    0.476639  83.426517\n",
              "2  FashionMNISTModelV2    0.341486  87.779552"
            ],
            "text/html": [
              "\n",
              "  <div id=\"df-85b838f2-49de-4931-ace8-7a74e89f8e86\" class=\"colab-df-container\">\n",
              "    <div>\n",
              "<style scoped>\n",
              "    .dataframe tbody tr th:only-of-type {\n",
              "        vertical-align: middle;\n",
              "    }\n",
              "\n",
              "    .dataframe tbody tr th {\n",
              "        vertical-align: top;\n",
              "    }\n",
              "\n",
              "    .dataframe thead th {\n",
              "        text-align: right;\n",
              "    }\n",
              "</style>\n",
              "<table border=\"1\" class=\"dataframe\">\n",
              "  <thead>\n",
              "    <tr style=\"text-align: right;\">\n",
              "      <th></th>\n",
              "      <th>model_name</th>\n",
              "      <th>model_loss</th>\n",
              "      <th>model_acc</th>\n",
              "    </tr>\n",
              "  </thead>\n",
              "  <tbody>\n",
              "    <tr>\n",
              "      <th>0</th>\n",
              "      <td>FashionMNISTModelV0</td>\n",
              "      <td>0.477732</td>\n",
              "      <td>83.496404</td>\n",
              "    </tr>\n",
              "    <tr>\n",
              "      <th>1</th>\n",
              "      <td>FashionMNISTModelV1</td>\n",
              "      <td>0.476639</td>\n",
              "      <td>83.426517</td>\n",
              "    </tr>\n",
              "    <tr>\n",
              "      <th>2</th>\n",
              "      <td>FashionMNISTModelV2</td>\n",
              "      <td>0.341486</td>\n",
              "      <td>87.779552</td>\n",
              "    </tr>\n",
              "  </tbody>\n",
              "</table>\n",
              "</div>\n",
              "    <div class=\"colab-df-buttons\">\n",
              "\n",
              "  <div class=\"colab-df-container\">\n",
              "    <button class=\"colab-df-convert\" onclick=\"convertToInteractive('df-85b838f2-49de-4931-ace8-7a74e89f8e86')\"\n",
              "            title=\"Convert this dataframe to an interactive table.\"\n",
              "            style=\"display:none;\">\n",
              "\n",
              "  <svg xmlns=\"http://www.w3.org/2000/svg\" height=\"24px\" viewBox=\"0 -960 960 960\">\n",
              "    <path d=\"M120-120v-720h720v720H120Zm60-500h600v-160H180v160Zm220 220h160v-160H400v160Zm0 220h160v-160H400v160ZM180-400h160v-160H180v160Zm440 0h160v-160H620v160ZM180-180h160v-160H180v160Zm440 0h160v-160H620v160Z\"/>\n",
              "  </svg>\n",
              "    </button>\n",
              "\n",
              "  <style>\n",
              "    .colab-df-container {\n",
              "      display:flex;\n",
              "      gap: 12px;\n",
              "    }\n",
              "\n",
              "    .colab-df-convert {\n",
              "      background-color: #E8F0FE;\n",
              "      border: none;\n",
              "      border-radius: 50%;\n",
              "      cursor: pointer;\n",
              "      display: none;\n",
              "      fill: #1967D2;\n",
              "      height: 32px;\n",
              "      padding: 0 0 0 0;\n",
              "      width: 32px;\n",
              "    }\n",
              "\n",
              "    .colab-df-convert:hover {\n",
              "      background-color: #E2EBFA;\n",
              "      box-shadow: 0px 1px 2px rgba(60, 64, 67, 0.3), 0px 1px 3px 1px rgba(60, 64, 67, 0.15);\n",
              "      fill: #174EA6;\n",
              "    }\n",
              "\n",
              "    .colab-df-buttons div {\n",
              "      margin-bottom: 4px;\n",
              "    }\n",
              "\n",
              "    [theme=dark] .colab-df-convert {\n",
              "      background-color: #3B4455;\n",
              "      fill: #D2E3FC;\n",
              "    }\n",
              "\n",
              "    [theme=dark] .colab-df-convert:hover {\n",
              "      background-color: #434B5C;\n",
              "      box-shadow: 0px 1px 3px 1px rgba(0, 0, 0, 0.15);\n",
              "      filter: drop-shadow(0px 1px 2px rgba(0, 0, 0, 0.3));\n",
              "      fill: #FFFFFF;\n",
              "    }\n",
              "  </style>\n",
              "\n",
              "    <script>\n",
              "      const buttonEl =\n",
              "        document.querySelector('#df-85b838f2-49de-4931-ace8-7a74e89f8e86 button.colab-df-convert');\n",
              "      buttonEl.style.display =\n",
              "        google.colab.kernel.accessAllowed ? 'block' : 'none';\n",
              "\n",
              "      async function convertToInteractive(key) {\n",
              "        const element = document.querySelector('#df-85b838f2-49de-4931-ace8-7a74e89f8e86');\n",
              "        const dataTable =\n",
              "          await google.colab.kernel.invokeFunction('convertToInteractive',\n",
              "                                                    [key], {});\n",
              "        if (!dataTable) return;\n",
              "\n",
              "        const docLinkHtml = 'Like what you see? Visit the ' +\n",
              "          '<a target=\"_blank\" href=https://colab.research.google.com/notebooks/data_table.ipynb>data table notebook</a>'\n",
              "          + ' to learn more about interactive tables.';\n",
              "        element.innerHTML = '';\n",
              "        dataTable['output_type'] = 'display_data';\n",
              "        await google.colab.output.renderOutput(dataTable, element);\n",
              "        const docLink = document.createElement('div');\n",
              "        docLink.innerHTML = docLinkHtml;\n",
              "        element.appendChild(docLink);\n",
              "      }\n",
              "    </script>\n",
              "  </div>\n",
              "\n",
              "\n",
              "<div id=\"df-7e2e4b79-0ecc-43c1-a9e6-6a478b5a5edf\">\n",
              "  <button class=\"colab-df-quickchart\" onclick=\"quickchart('df-7e2e4b79-0ecc-43c1-a9e6-6a478b5a5edf')\"\n",
              "            title=\"Suggest charts\"\n",
              "            style=\"display:none;\">\n",
              "\n",
              "<svg xmlns=\"http://www.w3.org/2000/svg\" height=\"24px\"viewBox=\"0 0 24 24\"\n",
              "     width=\"24px\">\n",
              "    <g>\n",
              "        <path d=\"M19 3H5c-1.1 0-2 .9-2 2v14c0 1.1.9 2 2 2h14c1.1 0 2-.9 2-2V5c0-1.1-.9-2-2-2zM9 17H7v-7h2v7zm4 0h-2V7h2v10zm4 0h-2v-4h2v4z\"/>\n",
              "    </g>\n",
              "</svg>\n",
              "  </button>\n",
              "\n",
              "<style>\n",
              "  .colab-df-quickchart {\n",
              "      --bg-color: #E8F0FE;\n",
              "      --fill-color: #1967D2;\n",
              "      --hover-bg-color: #E2EBFA;\n",
              "      --hover-fill-color: #174EA6;\n",
              "      --disabled-fill-color: #AAA;\n",
              "      --disabled-bg-color: #DDD;\n",
              "  }\n",
              "\n",
              "  [theme=dark] .colab-df-quickchart {\n",
              "      --bg-color: #3B4455;\n",
              "      --fill-color: #D2E3FC;\n",
              "      --hover-bg-color: #434B5C;\n",
              "      --hover-fill-color: #FFFFFF;\n",
              "      --disabled-bg-color: #3B4455;\n",
              "      --disabled-fill-color: #666;\n",
              "  }\n",
              "\n",
              "  .colab-df-quickchart {\n",
              "    background-color: var(--bg-color);\n",
              "    border: none;\n",
              "    border-radius: 50%;\n",
              "    cursor: pointer;\n",
              "    display: none;\n",
              "    fill: var(--fill-color);\n",
              "    height: 32px;\n",
              "    padding: 0;\n",
              "    width: 32px;\n",
              "  }\n",
              "\n",
              "  .colab-df-quickchart:hover {\n",
              "    background-color: var(--hover-bg-color);\n",
              "    box-shadow: 0 1px 2px rgba(60, 64, 67, 0.3), 0 1px 3px 1px rgba(60, 64, 67, 0.15);\n",
              "    fill: var(--button-hover-fill-color);\n",
              "  }\n",
              "\n",
              "  .colab-df-quickchart-complete:disabled,\n",
              "  .colab-df-quickchart-complete:disabled:hover {\n",
              "    background-color: var(--disabled-bg-color);\n",
              "    fill: var(--disabled-fill-color);\n",
              "    box-shadow: none;\n",
              "  }\n",
              "\n",
              "  .colab-df-spinner {\n",
              "    border: 2px solid var(--fill-color);\n",
              "    border-color: transparent;\n",
              "    border-bottom-color: var(--fill-color);\n",
              "    animation:\n",
              "      spin 1s steps(1) infinite;\n",
              "  }\n",
              "\n",
              "  @keyframes spin {\n",
              "    0% {\n",
              "      border-color: transparent;\n",
              "      border-bottom-color: var(--fill-color);\n",
              "      border-left-color: var(--fill-color);\n",
              "    }\n",
              "    20% {\n",
              "      border-color: transparent;\n",
              "      border-left-color: var(--fill-color);\n",
              "      border-top-color: var(--fill-color);\n",
              "    }\n",
              "    30% {\n",
              "      border-color: transparent;\n",
              "      border-left-color: var(--fill-color);\n",
              "      border-top-color: var(--fill-color);\n",
              "      border-right-color: var(--fill-color);\n",
              "    }\n",
              "    40% {\n",
              "      border-color: transparent;\n",
              "      border-right-color: var(--fill-color);\n",
              "      border-top-color: var(--fill-color);\n",
              "    }\n",
              "    60% {\n",
              "      border-color: transparent;\n",
              "      border-right-color: var(--fill-color);\n",
              "    }\n",
              "    80% {\n",
              "      border-color: transparent;\n",
              "      border-right-color: var(--fill-color);\n",
              "      border-bottom-color: var(--fill-color);\n",
              "    }\n",
              "    90% {\n",
              "      border-color: transparent;\n",
              "      border-bottom-color: var(--fill-color);\n",
              "    }\n",
              "  }\n",
              "</style>\n",
              "\n",
              "  <script>\n",
              "    async function quickchart(key) {\n",
              "      const quickchartButtonEl =\n",
              "        document.querySelector('#' + key + ' button');\n",
              "      quickchartButtonEl.disabled = true;  // To prevent multiple clicks.\n",
              "      quickchartButtonEl.classList.add('colab-df-spinner');\n",
              "      try {\n",
              "        const charts = await google.colab.kernel.invokeFunction(\n",
              "            'suggestCharts', [key], {});\n",
              "      } catch (error) {\n",
              "        console.error('Error during call to suggestCharts:', error);\n",
              "      }\n",
              "      quickchartButtonEl.classList.remove('colab-df-spinner');\n",
              "      quickchartButtonEl.classList.add('colab-df-quickchart-complete');\n",
              "    }\n",
              "    (() => {\n",
              "      let quickchartButtonEl =\n",
              "        document.querySelector('#df-7e2e4b79-0ecc-43c1-a9e6-6a478b5a5edf button');\n",
              "      quickchartButtonEl.style.display =\n",
              "        google.colab.kernel.accessAllowed ? 'block' : 'none';\n",
              "    })();\n",
              "  </script>\n",
              "</div>\n",
              "\n",
              "  <div id=\"id_4a7f12ae-ed56-4495-b08a-12f0f47c6dbd\">\n",
              "    <style>\n",
              "      .colab-df-generate {\n",
              "        background-color: #E8F0FE;\n",
              "        border: none;\n",
              "        border-radius: 50%;\n",
              "        cursor: pointer;\n",
              "        display: none;\n",
              "        fill: #1967D2;\n",
              "        height: 32px;\n",
              "        padding: 0 0 0 0;\n",
              "        width: 32px;\n",
              "      }\n",
              "\n",
              "      .colab-df-generate:hover {\n",
              "        background-color: #E2EBFA;\n",
              "        box-shadow: 0px 1px 2px rgba(60, 64, 67, 0.3), 0px 1px 3px 1px rgba(60, 64, 67, 0.15);\n",
              "        fill: #174EA6;\n",
              "      }\n",
              "\n",
              "      [theme=dark] .colab-df-generate {\n",
              "        background-color: #3B4455;\n",
              "        fill: #D2E3FC;\n",
              "      }\n",
              "\n",
              "      [theme=dark] .colab-df-generate:hover {\n",
              "        background-color: #434B5C;\n",
              "        box-shadow: 0px 1px 3px 1px rgba(0, 0, 0, 0.15);\n",
              "        filter: drop-shadow(0px 1px 2px rgba(0, 0, 0, 0.3));\n",
              "        fill: #FFFFFF;\n",
              "      }\n",
              "    </style>\n",
              "    <button class=\"colab-df-generate\" onclick=\"generateWithVariable('compare_results')\"\n",
              "            title=\"Generate code using this dataframe.\"\n",
              "            style=\"display:none;\">\n",
              "\n",
              "  <svg xmlns=\"http://www.w3.org/2000/svg\" height=\"24px\"viewBox=\"0 0 24 24\"\n",
              "       width=\"24px\">\n",
              "    <path d=\"M7,19H8.4L18.45,9,17,7.55,7,17.6ZM5,21V16.75L18.45,3.32a2,2,0,0,1,2.83,0l1.4,1.43a1.91,1.91,0,0,1,.58,1.4,1.91,1.91,0,0,1-.58,1.4L9.25,21ZM18.45,9,17,7.55Zm-12,3A5.31,5.31,0,0,0,4.9,8.1,5.31,5.31,0,0,0,1,6.5,5.31,5.31,0,0,0,4.9,4.9,5.31,5.31,0,0,0,6.5,1,5.31,5.31,0,0,0,8.1,4.9,5.31,5.31,0,0,0,12,6.5,5.46,5.46,0,0,0,6.5,12Z\"/>\n",
              "  </svg>\n",
              "    </button>\n",
              "    <script>\n",
              "      (() => {\n",
              "      const buttonEl =\n",
              "        document.querySelector('#id_4a7f12ae-ed56-4495-b08a-12f0f47c6dbd button.colab-df-generate');\n",
              "      buttonEl.style.display =\n",
              "        google.colab.kernel.accessAllowed ? 'block' : 'none';\n",
              "\n",
              "      buttonEl.onclick = () => {\n",
              "        google.colab.notebook.generateWithVariable('compare_results');\n",
              "      }\n",
              "      })();\n",
              "    </script>\n",
              "  </div>\n",
              "\n",
              "    </div>\n",
              "  </div>\n"
            ],
            "application/vnd.google.colaboratory.intrinsic+json": {
              "type": "dataframe",
              "variable_name": "compare_results",
              "summary": "{\n  \"name\": \"compare_results\",\n  \"rows\": 3,\n  \"fields\": [\n    {\n      \"column\": \"model_name\",\n      \"properties\": {\n        \"dtype\": \"string\",\n        \"num_unique_values\": 3,\n        \"samples\": [\n          \"FashionMNISTModelV0\",\n          \"FashionMNISTModelV1\",\n          \"FashionMNISTModelV2\"\n        ],\n        \"semantic_type\": \"\",\n        \"description\": \"\"\n      }\n    },\n    {\n      \"column\": \"model_loss\",\n      \"properties\": {\n        \"dtype\": \"number\",\n        \"std\": 0.07834802979411797,\n        \"min\": 0.3414860665798187,\n        \"max\": 0.4777321219444275,\n        \"num_unique_values\": 3,\n        \"samples\": [\n          0.4777321219444275,\n          0.47663894295692444,\n          0.3414860665798187\n        ],\n        \"semantic_type\": \"\",\n        \"description\": \"\"\n      }\n    },\n    {\n      \"column\": \"model_acc\",\n      \"properties\": {\n        \"dtype\": \"number\",\n        \"std\": 2.4932960334409935,\n        \"min\": 83.42651724815369,\n        \"max\": 87.77955174446106,\n        \"num_unique_values\": 3,\n        \"samples\": [\n          83.49640369415283,\n          83.42651724815369,\n          87.77955174446106\n        ],\n        \"semantic_type\": \"\",\n        \"description\": \"\"\n      }\n    }\n  ]\n}"
            }
          },
          "metadata": {},
          "execution_count": 50
        }
      ]
    },
    {
      "cell_type": "code",
      "source": [
        "# add training time to results comparison\n",
        "compare_results[\"training_time\"] = [total_train_time_model_0,\n",
        "                                  total_train_time_model_1,\n",
        "                                  total_train_time_model_2]\n",
        "compare_results"
      ],
      "metadata": {
        "colab": {
          "base_uri": "https://localhost:8080/",
          "height": 143
        },
        "id": "kJeBK9lEa8nH",
        "outputId": "59229903-c7da-4010-f227-987cd5c26af6"
      },
      "execution_count": null,
      "outputs": [
        {
          "output_type": "execute_result",
          "data": {
            "text/plain": [
              "            model_name  model_loss  model_acc  training_time\n",
              "0  FashionMNISTModelV0    0.477732  83.496404      38.232194\n",
              "1  FashionMNISTModelV1    0.476639  83.426517      46.998294\n",
              "2  FashionMNISTModelV2    0.341486  87.779552      53.404926"
            ],
            "text/html": [
              "\n",
              "  <div id=\"df-e05f6a12-e1c6-4ec8-bf8b-4bd62d1ba6ef\" class=\"colab-df-container\">\n",
              "    <div>\n",
              "<style scoped>\n",
              "    .dataframe tbody tr th:only-of-type {\n",
              "        vertical-align: middle;\n",
              "    }\n",
              "\n",
              "    .dataframe tbody tr th {\n",
              "        vertical-align: top;\n",
              "    }\n",
              "\n",
              "    .dataframe thead th {\n",
              "        text-align: right;\n",
              "    }\n",
              "</style>\n",
              "<table border=\"1\" class=\"dataframe\">\n",
              "  <thead>\n",
              "    <tr style=\"text-align: right;\">\n",
              "      <th></th>\n",
              "      <th>model_name</th>\n",
              "      <th>model_loss</th>\n",
              "      <th>model_acc</th>\n",
              "      <th>training_time</th>\n",
              "    </tr>\n",
              "  </thead>\n",
              "  <tbody>\n",
              "    <tr>\n",
              "      <th>0</th>\n",
              "      <td>FashionMNISTModelV0</td>\n",
              "      <td>0.477732</td>\n",
              "      <td>83.496404</td>\n",
              "      <td>38.232194</td>\n",
              "    </tr>\n",
              "    <tr>\n",
              "      <th>1</th>\n",
              "      <td>FashionMNISTModelV1</td>\n",
              "      <td>0.476639</td>\n",
              "      <td>83.426517</td>\n",
              "      <td>46.998294</td>\n",
              "    </tr>\n",
              "    <tr>\n",
              "      <th>2</th>\n",
              "      <td>FashionMNISTModelV2</td>\n",
              "      <td>0.341486</td>\n",
              "      <td>87.779552</td>\n",
              "      <td>53.404926</td>\n",
              "    </tr>\n",
              "  </tbody>\n",
              "</table>\n",
              "</div>\n",
              "    <div class=\"colab-df-buttons\">\n",
              "\n",
              "  <div class=\"colab-df-container\">\n",
              "    <button class=\"colab-df-convert\" onclick=\"convertToInteractive('df-e05f6a12-e1c6-4ec8-bf8b-4bd62d1ba6ef')\"\n",
              "            title=\"Convert this dataframe to an interactive table.\"\n",
              "            style=\"display:none;\">\n",
              "\n",
              "  <svg xmlns=\"http://www.w3.org/2000/svg\" height=\"24px\" viewBox=\"0 -960 960 960\">\n",
              "    <path d=\"M120-120v-720h720v720H120Zm60-500h600v-160H180v160Zm220 220h160v-160H400v160Zm0 220h160v-160H400v160ZM180-400h160v-160H180v160Zm440 0h160v-160H620v160ZM180-180h160v-160H180v160Zm440 0h160v-160H620v160Z\"/>\n",
              "  </svg>\n",
              "    </button>\n",
              "\n",
              "  <style>\n",
              "    .colab-df-container {\n",
              "      display:flex;\n",
              "      gap: 12px;\n",
              "    }\n",
              "\n",
              "    .colab-df-convert {\n",
              "      background-color: #E8F0FE;\n",
              "      border: none;\n",
              "      border-radius: 50%;\n",
              "      cursor: pointer;\n",
              "      display: none;\n",
              "      fill: #1967D2;\n",
              "      height: 32px;\n",
              "      padding: 0 0 0 0;\n",
              "      width: 32px;\n",
              "    }\n",
              "\n",
              "    .colab-df-convert:hover {\n",
              "      background-color: #E2EBFA;\n",
              "      box-shadow: 0px 1px 2px rgba(60, 64, 67, 0.3), 0px 1px 3px 1px rgba(60, 64, 67, 0.15);\n",
              "      fill: #174EA6;\n",
              "    }\n",
              "\n",
              "    .colab-df-buttons div {\n",
              "      margin-bottom: 4px;\n",
              "    }\n",
              "\n",
              "    [theme=dark] .colab-df-convert {\n",
              "      background-color: #3B4455;\n",
              "      fill: #D2E3FC;\n",
              "    }\n",
              "\n",
              "    [theme=dark] .colab-df-convert:hover {\n",
              "      background-color: #434B5C;\n",
              "      box-shadow: 0px 1px 3px 1px rgba(0, 0, 0, 0.15);\n",
              "      filter: drop-shadow(0px 1px 2px rgba(0, 0, 0, 0.3));\n",
              "      fill: #FFFFFF;\n",
              "    }\n",
              "  </style>\n",
              "\n",
              "    <script>\n",
              "      const buttonEl =\n",
              "        document.querySelector('#df-e05f6a12-e1c6-4ec8-bf8b-4bd62d1ba6ef button.colab-df-convert');\n",
              "      buttonEl.style.display =\n",
              "        google.colab.kernel.accessAllowed ? 'block' : 'none';\n",
              "\n",
              "      async function convertToInteractive(key) {\n",
              "        const element = document.querySelector('#df-e05f6a12-e1c6-4ec8-bf8b-4bd62d1ba6ef');\n",
              "        const dataTable =\n",
              "          await google.colab.kernel.invokeFunction('convertToInteractive',\n",
              "                                                    [key], {});\n",
              "        if (!dataTable) return;\n",
              "\n",
              "        const docLinkHtml = 'Like what you see? Visit the ' +\n",
              "          '<a target=\"_blank\" href=https://colab.research.google.com/notebooks/data_table.ipynb>data table notebook</a>'\n",
              "          + ' to learn more about interactive tables.';\n",
              "        element.innerHTML = '';\n",
              "        dataTable['output_type'] = 'display_data';\n",
              "        await google.colab.output.renderOutput(dataTable, element);\n",
              "        const docLink = document.createElement('div');\n",
              "        docLink.innerHTML = docLinkHtml;\n",
              "        element.appendChild(docLink);\n",
              "      }\n",
              "    </script>\n",
              "  </div>\n",
              "\n",
              "\n",
              "<div id=\"df-a0122297-f456-4b7c-b94b-b56668073baf\">\n",
              "  <button class=\"colab-df-quickchart\" onclick=\"quickchart('df-a0122297-f456-4b7c-b94b-b56668073baf')\"\n",
              "            title=\"Suggest charts\"\n",
              "            style=\"display:none;\">\n",
              "\n",
              "<svg xmlns=\"http://www.w3.org/2000/svg\" height=\"24px\"viewBox=\"0 0 24 24\"\n",
              "     width=\"24px\">\n",
              "    <g>\n",
              "        <path d=\"M19 3H5c-1.1 0-2 .9-2 2v14c0 1.1.9 2 2 2h14c1.1 0 2-.9 2-2V5c0-1.1-.9-2-2-2zM9 17H7v-7h2v7zm4 0h-2V7h2v10zm4 0h-2v-4h2v4z\"/>\n",
              "    </g>\n",
              "</svg>\n",
              "  </button>\n",
              "\n",
              "<style>\n",
              "  .colab-df-quickchart {\n",
              "      --bg-color: #E8F0FE;\n",
              "      --fill-color: #1967D2;\n",
              "      --hover-bg-color: #E2EBFA;\n",
              "      --hover-fill-color: #174EA6;\n",
              "      --disabled-fill-color: #AAA;\n",
              "      --disabled-bg-color: #DDD;\n",
              "  }\n",
              "\n",
              "  [theme=dark] .colab-df-quickchart {\n",
              "      --bg-color: #3B4455;\n",
              "      --fill-color: #D2E3FC;\n",
              "      --hover-bg-color: #434B5C;\n",
              "      --hover-fill-color: #FFFFFF;\n",
              "      --disabled-bg-color: #3B4455;\n",
              "      --disabled-fill-color: #666;\n",
              "  }\n",
              "\n",
              "  .colab-df-quickchart {\n",
              "    background-color: var(--bg-color);\n",
              "    border: none;\n",
              "    border-radius: 50%;\n",
              "    cursor: pointer;\n",
              "    display: none;\n",
              "    fill: var(--fill-color);\n",
              "    height: 32px;\n",
              "    padding: 0;\n",
              "    width: 32px;\n",
              "  }\n",
              "\n",
              "  .colab-df-quickchart:hover {\n",
              "    background-color: var(--hover-bg-color);\n",
              "    box-shadow: 0 1px 2px rgba(60, 64, 67, 0.3), 0 1px 3px 1px rgba(60, 64, 67, 0.15);\n",
              "    fill: var(--button-hover-fill-color);\n",
              "  }\n",
              "\n",
              "  .colab-df-quickchart-complete:disabled,\n",
              "  .colab-df-quickchart-complete:disabled:hover {\n",
              "    background-color: var(--disabled-bg-color);\n",
              "    fill: var(--disabled-fill-color);\n",
              "    box-shadow: none;\n",
              "  }\n",
              "\n",
              "  .colab-df-spinner {\n",
              "    border: 2px solid var(--fill-color);\n",
              "    border-color: transparent;\n",
              "    border-bottom-color: var(--fill-color);\n",
              "    animation:\n",
              "      spin 1s steps(1) infinite;\n",
              "  }\n",
              "\n",
              "  @keyframes spin {\n",
              "    0% {\n",
              "      border-color: transparent;\n",
              "      border-bottom-color: var(--fill-color);\n",
              "      border-left-color: var(--fill-color);\n",
              "    }\n",
              "    20% {\n",
              "      border-color: transparent;\n",
              "      border-left-color: var(--fill-color);\n",
              "      border-top-color: var(--fill-color);\n",
              "    }\n",
              "    30% {\n",
              "      border-color: transparent;\n",
              "      border-left-color: var(--fill-color);\n",
              "      border-top-color: var(--fill-color);\n",
              "      border-right-color: var(--fill-color);\n",
              "    }\n",
              "    40% {\n",
              "      border-color: transparent;\n",
              "      border-right-color: var(--fill-color);\n",
              "      border-top-color: var(--fill-color);\n",
              "    }\n",
              "    60% {\n",
              "      border-color: transparent;\n",
              "      border-right-color: var(--fill-color);\n",
              "    }\n",
              "    80% {\n",
              "      border-color: transparent;\n",
              "      border-right-color: var(--fill-color);\n",
              "      border-bottom-color: var(--fill-color);\n",
              "    }\n",
              "    90% {\n",
              "      border-color: transparent;\n",
              "      border-bottom-color: var(--fill-color);\n",
              "    }\n",
              "  }\n",
              "</style>\n",
              "\n",
              "  <script>\n",
              "    async function quickchart(key) {\n",
              "      const quickchartButtonEl =\n",
              "        document.querySelector('#' + key + ' button');\n",
              "      quickchartButtonEl.disabled = true;  // To prevent multiple clicks.\n",
              "      quickchartButtonEl.classList.add('colab-df-spinner');\n",
              "      try {\n",
              "        const charts = await google.colab.kernel.invokeFunction(\n",
              "            'suggestCharts', [key], {});\n",
              "      } catch (error) {\n",
              "        console.error('Error during call to suggestCharts:', error);\n",
              "      }\n",
              "      quickchartButtonEl.classList.remove('colab-df-spinner');\n",
              "      quickchartButtonEl.classList.add('colab-df-quickchart-complete');\n",
              "    }\n",
              "    (() => {\n",
              "      let quickchartButtonEl =\n",
              "        document.querySelector('#df-a0122297-f456-4b7c-b94b-b56668073baf button');\n",
              "      quickchartButtonEl.style.display =\n",
              "        google.colab.kernel.accessAllowed ? 'block' : 'none';\n",
              "    })();\n",
              "  </script>\n",
              "</div>\n",
              "\n",
              "  <div id=\"id_7e87a87c-1cc9-4582-a916-318ed652a6a8\">\n",
              "    <style>\n",
              "      .colab-df-generate {\n",
              "        background-color: #E8F0FE;\n",
              "        border: none;\n",
              "        border-radius: 50%;\n",
              "        cursor: pointer;\n",
              "        display: none;\n",
              "        fill: #1967D2;\n",
              "        height: 32px;\n",
              "        padding: 0 0 0 0;\n",
              "        width: 32px;\n",
              "      }\n",
              "\n",
              "      .colab-df-generate:hover {\n",
              "        background-color: #E2EBFA;\n",
              "        box-shadow: 0px 1px 2px rgba(60, 64, 67, 0.3), 0px 1px 3px 1px rgba(60, 64, 67, 0.15);\n",
              "        fill: #174EA6;\n",
              "      }\n",
              "\n",
              "      [theme=dark] .colab-df-generate {\n",
              "        background-color: #3B4455;\n",
              "        fill: #D2E3FC;\n",
              "      }\n",
              "\n",
              "      [theme=dark] .colab-df-generate:hover {\n",
              "        background-color: #434B5C;\n",
              "        box-shadow: 0px 1px 3px 1px rgba(0, 0, 0, 0.15);\n",
              "        filter: drop-shadow(0px 1px 2px rgba(0, 0, 0, 0.3));\n",
              "        fill: #FFFFFF;\n",
              "      }\n",
              "    </style>\n",
              "    <button class=\"colab-df-generate\" onclick=\"generateWithVariable('compare_results')\"\n",
              "            title=\"Generate code using this dataframe.\"\n",
              "            style=\"display:none;\">\n",
              "\n",
              "  <svg xmlns=\"http://www.w3.org/2000/svg\" height=\"24px\"viewBox=\"0 0 24 24\"\n",
              "       width=\"24px\">\n",
              "    <path d=\"M7,19H8.4L18.45,9,17,7.55,7,17.6ZM5,21V16.75L18.45,3.32a2,2,0,0,1,2.83,0l1.4,1.43a1.91,1.91,0,0,1,.58,1.4,1.91,1.91,0,0,1-.58,1.4L9.25,21ZM18.45,9,17,7.55Zm-12,3A5.31,5.31,0,0,0,4.9,8.1,5.31,5.31,0,0,0,1,6.5,5.31,5.31,0,0,0,4.9,4.9,5.31,5.31,0,0,0,6.5,1,5.31,5.31,0,0,0,8.1,4.9,5.31,5.31,0,0,0,12,6.5,5.46,5.46,0,0,0,6.5,12Z\"/>\n",
              "  </svg>\n",
              "    </button>\n",
              "    <script>\n",
              "      (() => {\n",
              "      const buttonEl =\n",
              "        document.querySelector('#id_7e87a87c-1cc9-4582-a916-318ed652a6a8 button.colab-df-generate');\n",
              "      buttonEl.style.display =\n",
              "        google.colab.kernel.accessAllowed ? 'block' : 'none';\n",
              "\n",
              "      buttonEl.onclick = () => {\n",
              "        google.colab.notebook.generateWithVariable('compare_results');\n",
              "      }\n",
              "      })();\n",
              "    </script>\n",
              "  </div>\n",
              "\n",
              "    </div>\n",
              "  </div>\n"
            ],
            "application/vnd.google.colaboratory.intrinsic+json": {
              "type": "dataframe",
              "variable_name": "compare_results",
              "summary": "{\n  \"name\": \"compare_results\",\n  \"rows\": 3,\n  \"fields\": [\n    {\n      \"column\": \"model_name\",\n      \"properties\": {\n        \"dtype\": \"string\",\n        \"num_unique_values\": 3,\n        \"samples\": [\n          \"FashionMNISTModelV0\",\n          \"FashionMNISTModelV1\",\n          \"FashionMNISTModelV2\"\n        ],\n        \"semantic_type\": \"\",\n        \"description\": \"\"\n      }\n    },\n    {\n      \"column\": \"model_loss\",\n      \"properties\": {\n        \"dtype\": \"number\",\n        \"std\": 0.07834802979411797,\n        \"min\": 0.3414860665798187,\n        \"max\": 0.4777321219444275,\n        \"num_unique_values\": 3,\n        \"samples\": [\n          0.4777321219444275,\n          0.47663894295692444,\n          0.3414860665798187\n        ],\n        \"semantic_type\": \"\",\n        \"description\": \"\"\n      }\n    },\n    {\n      \"column\": \"model_acc\",\n      \"properties\": {\n        \"dtype\": \"number\",\n        \"std\": 2.4932960334409935,\n        \"min\": 83.42651724815369,\n        \"max\": 87.77955174446106,\n        \"num_unique_values\": 3,\n        \"samples\": [\n          83.49640369415283,\n          83.42651724815369,\n          87.77955174446106\n        ],\n        \"semantic_type\": \"\",\n        \"description\": \"\"\n      }\n    },\n    {\n      \"column\": \"training_time\",\n      \"properties\": {\n        \"dtype\": \"number\",\n        \"std\": 7.616880773521344,\n        \"min\": 38.23219386200003,\n        \"max\": 53.40492578999999,\n        \"num_unique_values\": 3,\n        \"samples\": [\n          38.23219386200003,\n          46.99829392099991,\n          53.40492578999999\n        ],\n        \"semantic_type\": \"\",\n        \"description\": \"\"\n      }\n    }\n  ]\n}"
            }
          },
          "metadata": {},
          "execution_count": 51
        }
      ]
    },
    {
      "cell_type": "markdown",
      "metadata": {
        "id": "fbbe5832-1081-4c76-8d5b-06c7a06da7b9"
      },
      "source": [
        "It looks like our CNN (`FashionMNISTModelV2`) model performed the best (lowest loss, highest accuracy) but had the longest training time.\n",
        "\n",
        "And our baseline model (`FashionMNISTModelV0`) performed better than `model_1` (`FashionMNISTModelV1`).\n",
        "\n",
        "### Performance-speed tradeoff\n",
        "\n",
        "Something to be aware of in machine learning is the **performance-speed** tradeoff.\n",
        "\n",
        "Generally, you get better performance out of a larger, more complex model (like we did with `model_2`).\n",
        "\n",
        "However, this performance increase often comes at a sacrifice of training speed and inference speed.\n",
        "\n",
        "> **Note:** The training times you get will be very dependant on the hardware you use.\n",
        ">\n",
        "> Generally, the more CPU cores you have, the faster your models will train on CPU. And similar for GPUs.\n",
        ">\n",
        "> Newer hardware (in terms of age) will also often train models faster due to incorporating technology advances.\n",
        "\n",
        "How about we get visual?"
      ]
    },
    {
      "cell_type": "code",
      "source": [
        "# visualize our results\n",
        "compare_results.set_index(\"model_name\")[\"model_acc\"].plot(kind=\"barh\")\n",
        "plt.xlabel(\"Accuracy\")\n",
        "plt.ylabel(\"model\")"
      ],
      "metadata": {
        "colab": {
          "base_uri": "https://localhost:8080/",
          "height": 467
        },
        "id": "9yAPDY1Ka8kY",
        "outputId": "8306dae8-94ea-4a84-c2d1-a5526c32b789"
      },
      "execution_count": null,
      "outputs": [
        {
          "output_type": "execute_result",
          "data": {
            "text/plain": [
              "Text(0, 0.5, 'model')"
            ]
          },
          "metadata": {},
          "execution_count": 52
        },
        {
          "output_type": "display_data",
          "data": {
            "text/plain": [
              "<Figure size 640x480 with 1 Axes>"
            ],
            "image/png": "[encoded data removed]"
          },
          "metadata": {}
        }
      ]
    },
    {
      "cell_type": "markdown",
      "source": [
        "## 8. Make and evaluate random predictions with the best model"
      ],
      "metadata": {
        "id": "zjTatwR_e9Li"
      }
    },
    {
      "cell_type": "markdown",
      "source": [
        "**Understanding the Importance of Making Predictions in an ML Workflow**\n",
        "\n",
        "Making predictions is a crucial part of the machine learning (ML) workflow for several reasons:\n",
        "\n",
        "1. Model Evaluation: Predictions help assess the performance of your model. By comparing the predicted outcomes with the actual labels, you can determine how well your model is doing.\n",
        "2. Real-World Application: The primary goal of training a model is to make predictions on new, unseen data. This step demonstrates the model's utility in real-world scenarios.\n",
        "3. Error Analysis: By analyzing the predictions, you can identify patterns in errors, which can inform you on how to improve your model.\n",
        "4. Visualization: Visualizing predictions helps in understanding the model's decision-making process and communicating results to stakeholders."
      ],
      "metadata": {
        "id": "WvZDx-h-N0AO"
      }
    },
    {
      "cell_type": "code",
      "source": [
        "def make_predictions(model: torch.nn.Module,\n",
        "                     data: list,\n",
        "                     device: torch.device=device):\n",
        "    pred_probs = []\n",
        "    model.to(device)\n",
        "    model.eval()\n",
        "    with torch.inference_mode():\n",
        "        for sample in data:\n",
        "            # prepare the sample ( add a batch dimension and pass to target)\n",
        "            sample = torch.unsqueeze(sample, dim=0).to(device)\n",
        "            # forward pass\n",
        "            pred_logit = model(sample)\n",
        "            # get pred probs\n",
        "            pred_prob = torch.softmax(pred_logit.squeeze(), dim=0)\n",
        "            # get pred_prob off gpu to matplotlib(runs on cpu)\n",
        "            pred_probs.append(pred_prob.cpu())\n",
        "    return torch.stack(pred_probs)\n"
      ],
      "metadata": {
        "id": "-zHRntDsn_TH"
      },
      "execution_count": null,
      "outputs": []
    },
    {
      "cell_type": "code",
      "source": [
        "img, label = test_data[0]\n",
        "img.shape, label"
      ],
      "metadata": {
        "colab": {
          "base_uri": "https://localhost:8080/"
        },
        "id": "rlwvetrYvmPh",
        "outputId": "d612daa4-3bc6-422e-d77a-09f39bf24194"
      },
      "execution_count": null,
      "outputs": [
        {
          "output_type": "execute_result",
          "data": {
            "text/plain": [
              "(torch.Size([1, 28, 28]), 9)"
            ]
          },
          "metadata": {},
          "execution_count": 54
        }
      ]
    },
    {
      "cell_type": "code",
      "source": [
        "import random\n",
        "# random.seed(42)\n",
        "test_samples = []\n",
        "test_labels = []\n",
        "for sample, label in random.sample(list(test_data), k=9):\n",
        "    test_samples.append(sample)\n",
        "    test_labels.append(label)\n",
        "\n",
        "# view the first sample shape\n",
        "print(test_samples[0].shape)\n",
        "# show first sample\n",
        "plt.imshow(test_samples[0].squeeze(), cmap=\"gray\")"
      ],
      "metadata": {
        "id": "qMjVwRxjn_QN",
        "colab": {
          "base_uri": "https://localhost:8080/",
          "height": 467
        },
        "outputId": "3eee8074-cba7-4b83-a256-77b81489cc36"
      },
      "execution_count": null,
      "outputs": [
        {
          "output_type": "stream",
          "name": "stdout",
          "text": [
            "torch.Size([1, 28, 28])\n"
          ]
        },
        {
          "output_type": "execute_result",
          "data": {
            "text/plain": [
              "<matplotlib.image.AxesImage at 0x7bfdeb3d8d90>"
            ]
          },
          "metadata": {},
          "execution_count": 65
        },
        {
          "output_type": "display_data",
          "data": {
            "text/plain": [
              "<Figure size 640x480 with 1 Axes>"
            ],
            "image/png": "[encoded data removed]"
          },
          "metadata": {}
        }
      ]
    },
    {
      "cell_type": "code",
      "source": [
        "# make predidctions\n",
        "pred_probs = make_predictions(model=model_2,\n",
        "                              data=test_samples)\n",
        "# visualize the first 2 pred probs\n",
        "pred_probs[:2]"
      ],
      "metadata": {
        "id": "3kL-1xArn_Nj",
        "colab": {
          "base_uri": "https://localhost:8080/"
        },
        "outputId": "e33b28c5-d937-4e9c-b9a9-63f2559a90f9"
      },
      "execution_count": null,
      "outputs": [
        {
          "output_type": "execute_result",
          "data": {
            "text/plain": [
              "tensor([[6.0882e-05, 8.0146e-07, 1.6788e-05, 6.3303e-05, 3.1314e-06, 9.0425e-02,\n",
              "         3.0637e-05, 3.6253e-02, 1.7514e-03, 8.7139e-01],\n",
              "        [2.0058e-04, 1.0309e-06, 1.8490e-05, 1.3682e-05, 6.8922e-07, 1.4569e-03,\n",
              "         2.7543e-05, 9.5066e-01, 1.3504e-04, 4.7486e-02]])"
            ]
          },
          "metadata": {},
          "execution_count": 66
        }
      ]
    },
    {
      "cell_type": "code",
      "source": [
        "# find the maximum of each pred_prob using argmax\n",
        "pred_classes = pred_probs.argmax(dim=1)\n",
        "pred_classes"
      ],
      "metadata": {
        "id": "ONEF9N_Fn_Ks",
        "colab": {
          "base_uri": "https://localhost:8080/"
        },
        "outputId": "4d51b588-7a66-4ecd-8f39-e3b26d7fe0d8"
      },
      "execution_count": null,
      "outputs": [
        {
          "output_type": "execute_result",
          "data": {
            "text/plain": [
              "tensor([9, 7, 2, 0, 1, 0, 3, 5, 4])"
            ]
          },
          "metadata": {},
          "execution_count": 67
        }
      ]
    },
    {
      "cell_type": "code",
      "source": [
        "test_labels"
      ],
      "metadata": {
        "colab": {
          "base_uri": "https://localhost:8080/"
        },
        "id": "Cm7y-lwvxbHi",
        "outputId": "93b6a09b-8690-4882-fc20-28f95f3ffad8"
      },
      "execution_count": null,
      "outputs": [
        {
          "output_type": "execute_result",
          "data": {
            "text/plain": [
              "[9, 7, 2, 0, 1, 0, 4, 5, 4]"
            ]
          },
          "metadata": {},
          "execution_count": 68
        }
      ]
    },
    {
      "cell_type": "code",
      "source": [
        "class_names = train_data.classes\n",
        "class_names"
      ],
      "metadata": {
        "colab": {
          "base_uri": "https://localhost:8080/"
        },
        "id": "avscoy4XH3fm",
        "outputId": "4dd4bc5b-b814-486c-c78e-08a35fcab8d1"
      },
      "execution_count": null,
      "outputs": [
        {
          "output_type": "execute_result",
          "data": {
            "text/plain": [
              "['T-shirt/top',\n",
              " 'Trouser',\n",
              " 'Pullover',\n",
              " 'Dress',\n",
              " 'Coat',\n",
              " 'Sandal',\n",
              " 'Shirt',\n",
              " 'Sneaker',\n",
              " 'Bag',\n",
              " 'Ankle boot']"
            ]
          },
          "metadata": {},
          "execution_count": 69
        }
      ]
    },
    {
      "cell_type": "code",
      "source": [
        "# plot predictions\n",
        "plt.figure(figsize=(9,9))\n",
        "nrows = 3\n",
        "ncols = 3\n",
        "for i , sample in enumerate(test_samples):\n",
        "    # create subplot\n",
        "    plt.subplot(nrows, ncols, i+1)\n",
        "    # plot target image\n",
        "    plt.imshow(sample.squeeze(), cmap=\"gray\")\n",
        "    # find the prediction in txst form\n",
        "    pred_label = class_names[pred_classes[i]]\n",
        "    # get the truth label in text form\n",
        "    truth_label = class_names[test_labels[i]]\n",
        "    # create title for plot\n",
        "    title_text = f\"pred: {pred_label}   |   Truth: {truth_label}\"\n",
        "\n",
        "    # check for equality between pred and truth and change color of the titletext\n",
        "    if pred_label == truth_label:\n",
        "        plt.title(title_text, fontsize=10, c=\"g\")\n",
        "    else:\n",
        "        plt.title(title_text, fontsize=10, c=\"r\")\n"
      ],
      "metadata": {
        "colab": {
          "base_uri": "https://localhost:8080/",
          "height": 773
        },
        "id": "Go-QLu2CxhuP",
        "outputId": "96a98700-0474-4e9b-8e87-f223e7b04ace"
      },
      "execution_count": null,
      "outputs": [
        {
          "output_type": "display_data",
          "data": {
            "text/plain": [
              "<Figure size 900x900 with 9 Axes>"
            ],
            "image/png": "[encoded data removed]"
          },
          "metadata": {}
        }
      ]
    },
    {
      "cell_type": "markdown",
      "source": [
        "## 9. Making a confusion matrix for further prediction evaluation"
      ],
      "metadata": {
        "id": "CWAI9POsO3x_"
      }
    },
    {
      "cell_type": "markdown",
      "source": [
        "steps:\n",
        "1. make predictions with our trained model on the test dataset\n",
        "2. make a confusion matrix using `torchmetrics.ConfusionMatrix`\n",
        "3. plot the confusion matrix using mlxtend https://rasbt.github.io/mlxtend/user_guide/plotting/plot_confusion_matrix/#overview\n",
        "4."
      ],
      "metadata": {
        "id": "yEO1XsCpPgO-"
      }
    },
    {
      "cell_type": "code",
      "source": [
        "# import tqdm.auto\n",
        "from tqdm.auto import tqdm\n",
        "\n",
        "# make predictions with our trained model on the test dataset\n",
        "y_preds = []\n",
        "model_2.to(device)\n",
        "model_2.eval()\n",
        "with torch.inference_mode():\n",
        "    for X, y in tqdm(test_dataloader, desc=\"Making predictions...\"):\n",
        "        # send data to target device\n",
        "        X, y = X.to(device), y.to(device)\n",
        "        # do the forward pass\n",
        "        y_logit = model_2(X)\n",
        "        # turn logitts to pred_probs to pred_labels\n",
        "        y_pred = torch.softmax(y_logit.squeeze(), dim=0).argmax(dim=1)\n",
        "        # put prediction on cpu for evaluation\n",
        "        y_preds.append(y_pred.cpu())\n",
        "# concatenate list of preds to a tensor\n",
        "y_pred_tensor = torch.cat(y_preds)\n",
        "y_pred_tensor[:10]\n",
        "# make a confusion matrix using torchmetrics.ConfusionMatrix\n",
        "# plot the confusion matrix using mlxtend https://rasbt.github.io/mlxtend/user_guide/plotting/plot_confusion_matrix/#overview"
      ],
      "metadata": {
        "colab": {
          "base_uri": "https://localhost:8080/",
          "height": 67,
          "referenced_widgets": [
            "ea114c0ddb7a47ed94b9d053d5c9a79c",
            "aa4d2cd4a59b431083854e6b3a2f205f",
            "998221a09bbc4b6cbbf2e00716fc590a",
            "e694a6cf96d4491fb50d029e38028305",
            "c77e601acdb64022ac277c68bcb16b16",
            "2d97615cbad5497092e055bd3e87c6f7",
            "984588de129a458d8406b47c9f7cffa5",
            "03f088535138460cbfe70ce2cc2f2c58",
            "0b36b8031f894c1cb629c67ceaba01f8",
            "714a73b2763f4e68a104824b4b1bf485",
            "8b23b833777d4291aa441de7d7949e7b"
          ]
        },
        "id": "FhyOOln3Pb5i",
        "outputId": "824763ad-3193-4c72-bc9c-c92a1eaf0f1c"
      },
      "execution_count": null,
      "outputs": [
        {
          "output_type": "display_data",
          "data": {
            "text/plain": [
              "Making predictions...:   0%|          | 0/313 [00:00<?, ?it/s]"
            ],
            "application/vnd.jupyter.widget-view+json": {
              "version_major": 2,
              "version_minor": 0,
              "model_id": "ea114c0ddb7a47ed94b9d053d5c9a79c"
            }
          },
          "metadata": {}
        },
        {
          "output_type": "execute_result",
          "data": {
            "text/plain": [
              "tensor([9, 2, 1, 1, 6, 1, 4, 6, 5, 7])"
            ]
          },
          "metadata": {},
          "execution_count": 72
        }
      ]
    },
    {
      "cell_type": "code",
      "source": [
        "len(y_pred_tensor)"
      ],
      "metadata": {
        "colab": {
          "base_uri": "https://localhost:8080/"
        },
        "id": "EXsTqgSWUsqY",
        "outputId": "2d0287b3-9f1b-46bc-fae2-9470824b7927"
      },
      "execution_count": null,
      "outputs": [
        {
          "output_type": "execute_result",
          "data": {
            "text/plain": [
              "10000"
            ]
          },
          "metadata": {},
          "execution_count": 73
        }
      ]
    },
    {
      "cell_type": "code",
      "source": [
        "# make a confusion matrix using torchmetrics.ConfusionMatrix\n",
        "\n",
        "try:\n",
        "    import torchmetrics, mlxtend\n",
        "    print(f\"mlextend version: {mlxtend.__version__}\")\n",
        "    assert int(mlxtend.__version__split(\".\")[1] >= 19, \"mlxtend version should be 19 or higher\")\n",
        "except:\n",
        "    !pip install -q torchmetrics -U mlxtend\n",
        "    import torchmetrics, mlxtend\n",
        "    print(f\"mlextend version: {mlxtend.__version__}\")\n",
        "\n"
      ],
      "metadata": {
        "colab": {
          "base_uri": "https://localhost:8080/"
        },
        "id": "8AYELeRAU4QH",
        "outputId": "3bd02e87-6647-472d-a2f6-a86352c95b22"
      },
      "execution_count": null,
      "outputs": [
        {
          "output_type": "stream",
          "name": "stdout",
          "text": [
            "mlextend version: 0.22.0\n",
            "mlextend version: 0.22.0\n"
          ]
        }
      ]
    },
    {
      "cell_type": "code",
      "source": [
        "# make a confusion matrix using torchmetrics.ConfusionMatrix\n",
        "from torchmetrics import ConfusionMatrix\n",
        "from mlxtend.plotting import plot_confusion_matrix\n",
        "\n",
        "# setup confusion matrix instance and compare predictions to targets\n",
        "confmat = ConfusionMatrix(task=\"multiclass\", num_classes=len(class_names))\n",
        "confmat_tensor = confmat(preds = y_pred_tensor,\n",
        "                         target=test_data.targets)\n",
        "# plot confusion matrix\n",
        "fig, ax = plot_confusion_matrix(\n",
        "    conf_mat=confmat_tensor.numpy(),\n",
        "    class_names=class_names,\n",
        "    figsize=(10, 7)\n",
        ")"
      ],
      "metadata": {
        "colab": {
          "base_uri": "https://localhost:8080/",
          "height": 667
        },
        "id": "1YOp4CRtV2k5",
        "outputId": "b7b13d2c-368f-4e56-cd31-fd684f337185"
      },
      "execution_count": null,
      "outputs": [
        {
          "output_type": "display_data",
          "data": {
            "text/plain": [
              "<Figure size 1000x700 with 1 Axes>"
            ],
            "image/png": "[encoded data removed]"
          },
          "metadata": {}
        }
      ]
    },
    {
      "cell_type": "markdown",
      "source": [
        " **Probable Errors Made by Our Model**\n",
        "\n",
        "As seen in the confusion matrix, our model tends to make the following errors:\n",
        "\n",
        "- **T-shirt/Top vs. Shirt**: 204 instances\n",
        "- **Coat vs. Pullover**: 109/133 instances\n",
        "- **Shirt vs. Pullover**: 115 instances\n",
        "- **T-shirt vs. Dress**: 115 instances\n"
      ],
      "metadata": {
        "id": "HEGujyEaWeSc"
      }
    },
    {
      "cell_type": "markdown",
      "metadata": {
        "id": "25818e83-89de-496d-8b56-af4fc9f2acc5"
      },
      "source": [
        "## 10. Save and load best performing model\n",
        "\n",
        "Let's finish this section off by saving and loading in our best performing model.\n",
        "\n",
        "Recall from [notebook 01](https://www.learnpytorch.io/01_pytorch_workflow/#5-saving-and-loading-a-pytorch-model) we can save and load a PyTorch model using a combination of:\n",
        "* `torch.save` - a function to save a whole PyTorch model or a model's `state_dict()`.\n",
        "* `torch.load` - a function to load in a saved PyTorch object.\n",
        "* `torch.nn.Module.load_state_dict()` - a function to load a saved `state_dict()` into an existing model instance.\n",
        "\n",
        "You can see more of these three in the [PyTorch saving and loading models documentation](https://pytorch.org/tutorials/beginner/saving_loading_models.html).\n",
        "\n",
        "For now, let's save our `model_2`'s `state_dict()` then load it back in and evaluate it to make sure the save and load went correctly."
      ]
    },
    {
      "cell_type": "code",
      "source": [
        "from pathlib import Path\n",
        "\n",
        "# create model directory path\n",
        "MODEL_PATH = Path(\"models\")\n",
        "MODEL_PATH.mkdir(parents=True,\n",
        "                 exist_ok=True)\n",
        "# create model save\n",
        "MODEL_NAME = \"03_pytorch_computer_vision_model_2.pth\"\n",
        "MODEL_SAVE_PATH = MODEL_PATH / MODEL_NAME\n",
        "\n",
        "# save he model state dict\n",
        "print(f\"Saving model to : {MODEL_SAVE_PATH}\")\n",
        "torch.save(obj=model_2.state_dict(),\n",
        "           f=MODEL_SAVE_PATH)"
      ],
      "metadata": {
        "colab": {
          "base_uri": "https://localhost:8080/"
        },
        "id": "iPfXHcSOj77h",
        "outputId": "0dd85be4-bf8d-4605-f350-6bd42aa6c107"
      },
      "execution_count": null,
      "outputs": [
        {
          "output_type": "stream",
          "name": "stdout",
          "text": [
            "Saving model to : models/03_pytorch_computer_vision_model_2.pth\n"
          ]
        }
      ]
    },
    {
      "cell_type": "code",
      "source": [
        "# loading the saved model\n",
        "torch.manual_seed(42)\n",
        "\n",
        "loaded_model_2 = FashionMNISTModelV2(input_shape=1,\n",
        "                                     hidden_units=10,\n",
        "                                     output_units=len(class_names))\n",
        "\n",
        "# load the saved statedict\n",
        "loaded_model_2.load_state_dict(torch.load(f=MODEL_SAVE_PATH))\n",
        "\n",
        "# send model to target device\n",
        "loaded_model_2.to(device)"
      ],
      "metadata": {
        "colab": {
          "base_uri": "https://localhost:8080/"
        },
        "id": "Tk1hs8AcnJa1",
        "outputId": "c88a2ffb-b7e3-4040-ca2a-49b3cb3e90b1"
      },
      "execution_count": null,
      "outputs": [
        {
          "output_type": "execute_result",
          "data": {
            "text/plain": [
              "FashionMNISTModelV2(\n",
              "  (conv_block_1): Sequential(\n",
              "    (0): Conv2d(1, 10, kernel_size=(3, 3), stride=(1, 1), padding=(1, 1))\n",
              "    (1): ReLU()\n",
              "    (2): Conv2d(10, 10, kernel_size=(3, 3), stride=(1, 1), padding=(1, 1))\n",
              "    (3): ReLU()\n",
              "    (4): MaxPool2d(kernel_size=2, stride=2, padding=0, dilation=1, ceil_mode=False)\n",
              "  )\n",
              "  (conv_block_2): Sequential(\n",
              "    (0): Conv2d(10, 10, kernel_size=(3, 3), stride=(1, 1), padding=(1, 1))\n",
              "    (1): ReLU()\n",
              "    (2): Conv2d(10, 10, kernel_size=(3, 3), stride=(1, 1), padding=(1, 1))\n",
              "    (3): ReLU()\n",
              "    (4): MaxPool2d(kernel_size=2, stride=2, padding=0, dilation=1, ceil_mode=False)\n",
              "  )\n",
              "  (classifier): Sequential(\n",
              "    (0): Flatten(start_dim=1, end_dim=-1)\n",
              "    (1): Linear(in_features=490, out_features=10, bias=True)\n",
              "  )\n",
              ")"
            ]
          },
          "metadata": {},
          "execution_count": 97
        }
      ]
    },
    {
      "cell_type": "code",
      "source": [
        "# evaluate loaded model\n",
        "torch.manual_seed(42)\n",
        "\n",
        "loaded_model_2_results = eval_model(\n",
        "    model=loaded_model_2,\n",
        "    data_loader=test_dataloader,\n",
        "    loss_fn=loss_fn,\n",
        "    accuracy_fn=accuracy_fn,\n",
        "    device=device\n",
        ")\n",
        "loaded_model_2_results"
      ],
      "metadata": {
        "colab": {
          "base_uri": "https://localhost:8080/",
          "height": 104,
          "referenced_widgets": [
            "26cbcf26db1949bfae7b15daf9d9d47c",
            "54b17872853b44d6b3cf04908e61042d",
            "ab7fb4dba25a419988c4eb28d315f8dd",
            "39ce9281658f476495822ac7b006dbe8",
            "0da844211a214415ad0ae52d9b08da73",
            "611d9e04cb0644889f43bff992bafeb8",
            "df5ddc20c85a4581b2dbf8b7371e5e10",
            "4301489e7a914d538a9396eff16fb3de",
            "aa4677d8d0a44c4c83d41624140dd212",
            "4ac8f251f4934cc887b1352fc6bf598e",
            "f1ae9359fab345b2a018e0e079c7cca1"
          ]
        },
        "id": "pfmH-Ep5oNE7",
        "outputId": "9b8cd63a-4902-4d3f-d140-1dddd3e57627"
      },
      "execution_count": null,
      "outputs": [
        {
          "output_type": "display_data",
          "data": {
            "text/plain": [
              "  0%|          | 0/313 [00:00<?, ?it/s]"
            ],
            "application/vnd.jupyter.widget-view+json": {
              "version_major": 2,
              "version_minor": 0,
              "model_id": "26cbcf26db1949bfae7b15daf9d9d47c"
            }
          },
          "metadata": {}
        },
        {
          "output_type": "execute_result",
          "data": {
            "text/plain": [
              "{'model_name': 'FashionMNISTModelV2',\n",
              " 'model_loss': 0.3414860665798187,\n",
              " 'model_acc': 87.77955174446106}"
            ]
          },
          "metadata": {},
          "execution_count": 98
        }
      ]
    },
    {
      "cell_type": "code",
      "source": [
        "model_2_results"
      ],
      "metadata": {
        "colab": {
          "base_uri": "https://localhost:8080/"
        },
        "id": "az8a-8D5pDQX",
        "outputId": "8c20c72e-7033-4200-e7a4-80c80eb0e57e"
      },
      "execution_count": null,
      "outputs": [
        {
          "output_type": "execute_result",
          "data": {
            "text/plain": [
              "{'model_name': 'FashionMNISTModelV2',\n",
              " 'model_loss': 0.3414860665798187,\n",
              " 'model_acc': 87.77955174446106}"
            ]
          },
          "metadata": {},
          "execution_count": 94
        }
      ]
    },
    {
      "cell_type": "code",
      "source": [],
      "metadata": {
        "id": "1EQddF87pL2L"
      },
      "execution_count": null,
      "outputs": []
    }
  ]
}
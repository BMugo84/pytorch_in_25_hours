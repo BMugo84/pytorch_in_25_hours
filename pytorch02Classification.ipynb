{
  "nbformat": 4,
  "nbformat_minor": 0,
  "metadata": {
    "colab": {
      "provenance": [],
      "authorship_tag": "ABX9TyOVWuYQIDRJ2c8g/9Ze2bjj",
      "include_colab_link": true
    },
    "kernelspec": {
      "name": "python3",
      "display_name": "Python 3"
    },
    "language_info": {
      "name": "python"
    }
  },
  "cells": [
    {
      "cell_type": "markdown",
      "metadata": {
        "id": "view-in-github",
        "colab_type": "text"
      },
      "source": [
        "<a href=\"https://colab.research.google.com/github/BMugo84/pytorch_in_25_hours/blob/main/pytorch02Classification.ipynb\" target=\"_parent\"><img src=\"https://colab.research.google.com/assets/colab-badge.svg\" alt=\"Open In Colab\"/></a>"
      ]
    },
    {
      "cell_type": "markdown",
      "source": [
        "## Introduction to machine learning classification"
      ],
      "metadata": {
        "id": "dMgeE0IZpfwO"
      }
    },
    {
      "cell_type": "markdown",
      "source": [
        "\n",
        "## Classification input and outputs"
      ],
      "metadata": {
        "id": "5_wuRMHU99mB"
      }
    },
    {
      "cell_type": "markdown",
      "source": [
        "\n",
        "## Architecture of a classification neural network"
      ],
      "metadata": {
        "id": "xgGslIw--CYS"
      }
    },
    {
      "cell_type": "markdown",
      "source": [
        "\n",
        "## Turing our data into tensors"
      ],
      "metadata": {
        "id": "dC9dpe0t-DNC"
      }
    },
    {
      "cell_type": "markdown",
      "source": [
        "\n",
        "## Coding a neural network for classification data"
      ],
      "metadata": {
        "id": "WmHbRFs9-FVi"
      }
    },
    {
      "cell_type": "markdown",
      "source": [
        "\n",
        "## Using torch.nn.Sequential"
      ],
      "metadata": {
        "id": "lMzyrq2a-IZD"
      }
    },
    {
      "cell_type": "markdown",
      "source": [
        "\n",
        "## Loss, optimizer and evaluation functions for classification"
      ],
      "metadata": {
        "id": "Ap5Vtyfu-LET"
      }
    },
    {
      "cell_type": "markdown",
      "source": [
        "\n",
        "## From model logits to prediction probabilities to prediction labels"
      ],
      "metadata": {
        "id": "rRXn5MeG-L7j"
      }
    },
    {
      "cell_type": "markdown",
      "source": [
        "\n",
        "## Train and test loops"
      ],
      "metadata": {
        "id": "B16Vw-l--Mui"
      }
    },
    {
      "cell_type": "markdown",
      "source": [
        "\n",
        "## Discussing options to improve a model"
      ],
      "metadata": {
        "id": "yUpHN9PT-NZj"
      }
    },
    {
      "cell_type": "markdown",
      "source": [
        "\n",
        "## Creating a straight line dataset"
      ],
      "metadata": {
        "id": "U9kdav3w-ODi"
      }
    },
    {
      "cell_type": "markdown",
      "source": [
        "\n",
        "## Evaluating our model's predictions"
      ],
      "metadata": {
        "id": "26EhhigY-PAj"
      }
    },
    {
      "cell_type": "markdown",
      "source": [
        "\n",
        "## The missing piece: non-linearity"
      ],
      "metadata": {
        "id": "WB03-FjP-PnT"
      }
    },
    {
      "cell_type": "markdown",
      "source": [
        "\n",
        "## Putting it all together with a multiclass problem"
      ],
      "metadata": {
        "id": "pvE4M2JJ-QQj"
      }
    },
    {
      "cell_type": "markdown",
      "source": [
        "\n",
        "## Troubleshooting a mutli-class model"
      ],
      "metadata": {
        "id": "9wbgYCsw9cdy"
      }
    }
  ]
}
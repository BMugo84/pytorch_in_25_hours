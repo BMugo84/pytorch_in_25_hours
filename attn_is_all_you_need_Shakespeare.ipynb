{
  "cells": [
    {
      "cell_type": "markdown",
      "metadata": {
        "id": "view-in-github",
        "colab_type": "text"
      },
      "source": [
        "<a href=\"https://colab.research.google.com/github/BMugo84/pytorch_in_25_hours/blob/main/attn_is_all_you_need_Shakespeare.ipynb\" target=\"_parent\"><img src=\"https://colab.research.google.com/assets/colab-badge.svg\" alt=\"Open In Colab\"/></a>"
      ]
    },
    {
      "cell_type": "code",
      "source": [],
      "metadata": {
        "id": "A8-P7G35y2xT"
      },
      "execution_count": null,
      "outputs": []
    },
    {
      "cell_type": "markdown",
      "source": [
        "### Notes\n",
        "\n",
        "We build a Generatively Pretrained Transformer (GPT), following the paper \"Attention is All You Need\" and OpenAI's GPT-2 / GPT-3. We talk about connections to ChatGPT, which has taken the world by storm. We watch GitHub Copilot, itself a GPT, help us write a GPT (meta :D!) . I recommend people watch the earlier makemore videos to get comfortable with the autoregressive language modeling framework and basics of tensors and PyTorch nn, which we take for granted in this video.\n",
        "\n",
        "Links:\n",
        "- Google colab for the video: https://colab.research.google.com/dri...\n",
        "- GitHub repo for the video: https://github.com/karpathy/ng-video-...\n",
        "- Playlist of the whole Zero to Hero series so far:    • The spelled-out intro to neural netwo...  \n",
        "- nanoGPT repo: https://github.com/karpathy/nanoGPT\n",
        "- my website: https://karpathy.ai\n",
        "- my twitter:   / karpathy  \n",
        "- our Discord channel:   / discord  \n",
        "\n",
        "Supplementary links:\n",
        "- Attention is All You Need paper: https://arxiv.org/abs/1706.03762\n",
        "- OpenAI GPT-3 paper: https://arxiv.org/abs/2005.14165\n",
        "- OpenAI ChatGPT blog post: https://openai.com/blog/chatgpt/\n",
        "- The GPU I'm training the model on is from Lambda GPU Cloud, I think the best and easiest way to spin up an on-demand GPU instance in the cloud that you can ssh to: https://lambdalabs.com . If you prefer to work in notebooks, I think the easiest path today is Google Colab.\n",
        "\n",
        "Suggested exercises:\n",
        "- EX1: The n-dimensional tensor mastery challenge: Combine the `Head` and `MultiHeadAttention` into one class that processes all the heads in parallel, treating the heads as another batch dimension (answer is in nanoGPT).\n",
        "- EX2: Train the GPT on your own dataset of choice! What other data could be fun to blabber on about? (A fun advanced suggestion if you like: train a GPT to do addition of two numbers, i.e. a+b=c. You may find it helpful to predict the digits of c in reverse order, as the typical addition algorithm (that you're hoping it learns) would proceed right to left too. You may want to modify the data loader to simply serve random problems and skip the generation of train.bin, val.bin. You may want to mask out the loss at the input positions of a+b that just specify the problem using y=-1 in the targets (see CrossEntropyLoss ignore_index). Does your Transformer learn to add? Once you have this, swole doge project: build a calculator clone in GPT, for all of +-*/. Not an easy problem. You may need Chain of Thought traces.)\n",
        "- EX3: Find a dataset that is very large, so large that you can't see a gap between train and val loss. Pretrain the transformer on this data, then initialize with that model and finetune it on tiny shakespeare with a smaller number of steps and lower learning rate. Can you obtain a lower validation loss by the use of pretraining?\n",
        "- EX4: Read some transformer papers and implement one additional feature or change that people seem to use. Does it improve the performance of your GPT?\n"
      ],
      "metadata": {
        "id": "imFtkUwky30J"
      }
    },
    {
      "cell_type": "markdown",
      "metadata": {
        "id": "R8oaEERcYtAH"
      },
      "source": [
        "### 00:00:00 Intro: ChatGPT, Transformers, nanoGPT, Shakespeare  Baseline Language Modeling, Code Setup 00:07:52 Reading and Exploring the Data\n"
      ]
    },
    {
      "cell_type": "code",
      "execution_count": 1,
      "metadata": {
        "colab": {
          "base_uri": "https://localhost:8080/"
        },
        "id": "rYtguY_rClRa",
        "outputId": "538d7440-0665-4a4d-ffb6-282985a69a29"
      },
      "outputs": [
        {
          "output_type": "stream",
          "name": "stdout",
          "text": [
            "--2024-09-22 12:06:35--  https://raw.githubusercontent.com/karpathy/char-rnn/master/data/tinyshakespeare/input.txt\n",
            "Resolving raw.githubusercontent.com (raw.githubusercontent.com)... 185.199.109.133, 185.199.110.133, 185.199.108.133, ...\n",
            "Connecting to raw.githubusercontent.com (raw.githubusercontent.com)|185.199.109.133|:443... connected.\n",
            "HTTP request sent, awaiting response... 200 OK\n",
            "Length: 1115394 (1.1M) [text/plain]\n",
            "Saving to: ‘input.txt.1’\n",
            "\n",
            "input.txt.1         100%[===================>]   1.06M  5.17MB/s    in 0.2s    \n",
            "\n",
            "2024-09-22 12:06:36 (5.17 MB/s) - ‘input.txt.1’ saved [1115394/1115394]\n",
            "\n"
          ]
        }
      ],
      "source": [
        "# Download the dataset tiny Shakespear Dataset\n",
        "!wget https://raw.githubusercontent.com/karpathy/char-rnn/master/data/tinyshakespeare/input.txt"
      ]
    },
    {
      "cell_type": "code",
      "execution_count": 2,
      "metadata": {
        "id": "RHOoNZ54DW3U"
      },
      "outputs": [],
      "source": [
        "# read it in to inspect it\n",
        "with open(\"input.txt\", \"r\", encoding=\"utf-8\") as f:\n",
        "    text = f.read()"
      ]
    },
    {
      "cell_type": "code",
      "execution_count": 3,
      "metadata": {
        "colab": {
          "base_uri": "https://localhost:8080/"
        },
        "id": "q70XrB_UESVk",
        "outputId": "2febaba1-aa14-459c-c91e-4b78128780a7"
      },
      "outputs": [
        {
          "output_type": "stream",
          "name": "stdout",
          "text": [
            "Length of dataset in characters:  1115394\n"
          ]
        }
      ],
      "source": [
        "print(\"Length of dataset in characters: \", len(text))"
      ]
    },
    {
      "cell_type": "code",
      "execution_count": 4,
      "metadata": {
        "colab": {
          "base_uri": "https://localhost:8080/"
        },
        "id": "7wqeKSSMEbPk",
        "outputId": "ddb43ce1-c9c2-4bcd-cd9b-03c602c45e27"
      },
      "outputs": [
        {
          "output_type": "stream",
          "name": "stdout",
          "text": [
            "First Citizen:\n",
            "Before we proceed any further, hear me speak.\n",
            "\n",
            "All:\n",
            "Speak, speak.\n",
            "\n",
            "First Citizen:\n",
            "You\n"
          ]
        }
      ],
      "source": [
        "# looking at the first 1000 chars\n",
        "print(text[:100])"
      ]
    },
    {
      "cell_type": "markdown",
      "metadata": {
        "id": "O_o4qcyrYtAI"
      },
      "source": [
        "### 00:09:28 Tokenization, Train/Val Split\n"
      ]
    },
    {
      "cell_type": "code",
      "execution_count": 5,
      "metadata": {
        "colab": {
          "base_uri": "https://localhost:8080/"
        },
        "id": "3ULtkul-GDxZ",
        "outputId": "e89df305-b6cf-487b-a35a-425b4c179486"
      },
      "outputs": [
        {
          "output_type": "stream",
          "name": "stdout",
          "text": [
            "\n",
            " !$&',-.3:;?ABCDEFGHIJKLMNOPQRSTUVWXYZabcdefghijklmnopqrstuvwxyz\n",
            "65\n"
          ]
        }
      ],
      "source": [
        "# Check all unique characters in the test\n",
        "chars = sorted(list(set(text)))\n",
        "vocab_size = len(chars)\n",
        "print(''.join(chars))\n",
        "print(len(chars))"
      ]
    },
    {
      "cell_type": "code",
      "execution_count": 6,
      "metadata": {
        "colab": {
          "base_uri": "https://localhost:8080/"
        },
        "id": "QAM_q2z4GbRq",
        "outputId": "cb02e061-6acb-4c24-d85e-627076dbf1b9"
      },
      "outputs": [
        {
          "output_type": "stream",
          "name": "stdout",
          "text": [
            "[46, 47, 47, 1, 58, 46, 43, 56, 43]\n",
            "hii there\n"
          ]
        }
      ],
      "source": [
        "# create a mapping for characters to integers\n",
        "stoi = {ch:i for i, ch in enumerate(chars)} # string to integer\n",
        "itos = {i:ch for i, ch in enumerate(chars)}\n",
        "encode = lambda s: [stoi[c] for c in s] # ie take a string , output a list of integers\n",
        "decode = lambda l: \"\".join([itos[i] for i in l]) # ie take a list of integers, output a string\n",
        "\n",
        "print(encode(\"hii there\"))\n",
        "print(decode(encode(\"hii there\")))"
      ]
    },
    {
      "cell_type": "code",
      "execution_count": 6,
      "metadata": {
        "id": "Ul1IcN0tx1Mb"
      },
      "outputs": [],
      "source": []
    },
    {
      "cell_type": "code",
      "execution_count": 7,
      "metadata": {
        "id": "Hlcd0apQaYlv"
      },
      "outputs": [],
      "source": [
        "# # expanding the top code\n",
        "# stoi = {}\n",
        "# for i,ch in enumerate(chars):\n",
        "#     stoi[ch] = i\n",
        "# itos = {}\n",
        "# for i, ch in enumerate(chars):\n",
        "#     itos[i] = ch\n",
        "\n",
        "# def encodetst(s):\n",
        "#     intlist = []\n",
        "#     for c in s:\n",
        "#         intlist.append(stoi[c])\n",
        "#     return intlist\n",
        "# def decodetst(l):\n",
        "#     strlist = []\n",
        "#     for i in l:\n",
        "#         strlist.append(itos[i])\n",
        "#     return \"\".join(strlist)\n",
        "\n",
        "# print(encodetst(\"hii there\"))\n",
        "# print(decodetst(encodetst(\"hii there\")))"
      ]
    },
    {
      "cell_type": "code",
      "execution_count": 8,
      "metadata": {
        "colab": {
          "base_uri": "https://localhost:8080/"
        },
        "id": "JinOmIX0aq0H",
        "outputId": "edbdbbd3-4180-44f9-eb0b-8a8e8eb0bcfb"
      },
      "outputs": [
        {
          "output_type": "stream",
          "name": "stdout",
          "text": [
            "Requirement already satisfied: tiktoken in /usr/local/lib/python3.10/dist-packages (0.7.0)\n",
            "Requirement already satisfied: regex>=2022.1.18 in /usr/local/lib/python3.10/dist-packages (from tiktoken) (2024.9.11)\n",
            "Requirement already satisfied: requests>=2.26.0 in /usr/local/lib/python3.10/dist-packages (from tiktoken) (2.32.3)\n",
            "Requirement already satisfied: charset-normalizer<4,>=2 in /usr/local/lib/python3.10/dist-packages (from requests>=2.26.0->tiktoken) (3.3.2)\n",
            "Requirement already satisfied: idna<4,>=2.5 in /usr/local/lib/python3.10/dist-packages (from requests>=2.26.0->tiktoken) (3.10)\n",
            "Requirement already satisfied: urllib3<3,>=1.21.1 in /usr/local/lib/python3.10/dist-packages (from requests>=2.26.0->tiktoken) (2.0.7)\n",
            "Requirement already satisfied: certifi>=2017.4.17 in /usr/local/lib/python3.10/dist-packages (from requests>=2.26.0->tiktoken) (2024.8.30)\n"
          ]
        }
      ],
      "source": [
        "# testing tiktoken\n",
        "!pip install tiktoken\n",
        "\n",
        "import tiktoken\n",
        "enc = tiktoken.get_encoding(\"o200k_base\")\n",
        "assert enc.decode(enc.encode(\"hello world\")) == \"hello world\"\n",
        "\n",
        "# To get the tokeniser corresponding to a specific model in the OpenAI API:\n",
        "enc = tiktoken.encoding_for_model(\"gpt-4o\")"
      ]
    },
    {
      "cell_type": "code",
      "execution_count": 9,
      "metadata": {
        "colab": {
          "base_uri": "https://localhost:8080/"
        },
        "id": "eHZrPR6Ca97U",
        "outputId": "d6b0fda2-bb0f-4f67-e173-fba2b68177ef"
      },
      "outputs": [
        {
          "output_type": "stream",
          "name": "stdout",
          "text": [
            "[71, 4178, 612]\n"
          ]
        }
      ],
      "source": [
        "import tiktoken\n",
        "enc = tiktoken.get_encoding(\"gpt2\")\n",
        "print(enc.encode(\"hii there\"))"
      ]
    },
    {
      "cell_type": "code",
      "execution_count": 10,
      "metadata": {
        "colab": {
          "base_uri": "https://localhost:8080/"
        },
        "id": "26mSJx8Kb9bm",
        "outputId": "bb333644-60a1-46e1-d495-3e943d5b004a"
      },
      "outputs": [
        {
          "output_type": "stream",
          "name": "stdout",
          "text": [
            "torch.Size([1115394]) torch.int64\n",
            "tensor([18, 47, 56, 57, 58,  1, 15, 47, 58, 47, 64, 43, 52, 10,  0, 14, 43, 44,\n",
            "        53, 56, 43,  1, 61, 43,  1, 54, 56, 53, 41, 43, 43, 42,  1, 39, 52, 63,\n",
            "         1, 44, 59, 56, 58, 46, 43, 56,  6,  1, 46, 43, 39, 56,  1, 51, 43,  1,\n",
            "        57, 54, 43, 39, 49,  8,  0,  0, 13, 50, 50, 10,  0, 31, 54, 43, 39, 49,\n",
            "         6,  1, 57, 54, 43, 39, 49,  8,  0,  0, 18, 47, 56, 57, 58,  1, 15, 47,\n",
            "        58, 47, 64, 43, 52, 10,  0, 37, 53, 59])\n"
          ]
        }
      ],
      "source": [
        "# lets now encode the entire text dataset and store it into a torch.Tensor\n",
        "import torch\n",
        "data = torch.tensor(encode(text), dtype=torch.long)\n",
        "print(data.shape, data.dtype)\n",
        "print(data[:100])"
      ]
    },
    {
      "cell_type": "code",
      "execution_count": 11,
      "metadata": {
        "id": "k5S6OKlAdg1M"
      },
      "outputs": [],
      "source": [
        "# lets split the data into train and test datasets/validation\n",
        "n = int(0.9*len(data))\n",
        "train_data = data[:n]\n",
        "val_data = data[n:]"
      ]
    },
    {
      "cell_type": "markdown",
      "metadata": {
        "id": "9p6NB3BhYtAJ"
      },
      "source": [
        "### 00:14:27 Data Loader: Batches of Chunks of Data\n"
      ]
    },
    {
      "cell_type": "code",
      "execution_count": 12,
      "metadata": {
        "colab": {
          "base_uri": "https://localhost:8080/"
        },
        "id": "9oH5IC7yeM-6",
        "outputId": "e8261942-02c1-48e8-be5c-2abe764c7a0d"
      },
      "outputs": [
        {
          "output_type": "execute_result",
          "data": {
            "text/plain": [
              "tensor([18, 47, 56, 57, 58,  1, 15, 47, 58])"
            ]
          },
          "metadata": {},
          "execution_count": 12
        }
      ],
      "source": [
        "block_size = 8\n",
        "train_data[:block_size+1]"
      ]
    },
    {
      "cell_type": "code",
      "execution_count": 13,
      "metadata": {
        "colab": {
          "base_uri": "https://localhost:8080/"
        },
        "id": "GuiTAMVciXqn",
        "outputId": "c0b6af4a-2406-49c4-84c8-4b6ca0ceae02"
      },
      "outputs": [
        {
          "output_type": "stream",
          "name": "stdout",
          "text": [
            "when input is tensor([18]) the target: 47\n",
            "when input is tensor([18, 47]) the target: 56\n",
            "when input is tensor([18, 47, 56]) the target: 57\n",
            "when input is tensor([18, 47, 56, 57]) the target: 58\n",
            "when input is tensor([18, 47, 56, 57, 58]) the target: 1\n",
            "when input is tensor([18, 47, 56, 57, 58,  1]) the target: 15\n",
            "when input is tensor([18, 47, 56, 57, 58,  1, 15]) the target: 47\n",
            "when input is tensor([18, 47, 56, 57, 58,  1, 15, 47]) the target: 58\n"
          ]
        }
      ],
      "source": [
        "x = train_data[:block_size]\n",
        "y = train_data[1:block_size+1]\n",
        "for t in range(block_size):\n",
        "    context = x[:t+1]\n",
        "    target = y[t]\n",
        "    print(f\"when input is {context} the target: {target}\")"
      ]
    },
    {
      "cell_type": "markdown",
      "metadata": {
        "id": "pa4vXdxJuzzb"
      },
      "source": [
        "\n",
        "\n",
        "1. Setup:\n",
        "   - Block size = 8 (max context length)\n",
        "   - Batch size = 4 (parallel sequences)\n",
        "\n",
        "2. Data Selection:\n",
        "   - Choose train or val data\n",
        "   - Think of data as one long string of characters\n",
        "\n",
        "3. Batch Creation:\n",
        "   - Pick 4 random starting points in the data\n",
        "   - For each starting point:\n",
        "     * Input (X): Take 8 characters\n",
        "     * Target (Y): Take next 8 characters (offset by 1)\n",
        "\n",
        "4. Resulting Structure:\n",
        "   X (inputs):          Y (targets):\n",
        "   [char1, char2, ...] [char2, char3, ...]\n",
        "   [char1, char2, ...] [char2, char3, ...]\n",
        "   [char1, char2, ...] [char2, char3, ...]\n",
        "   [char1, char2, ...] [char2, char3, ...]\n",
        "\n",
        "5. Training Examples:\n",
        "   For each row:\n",
        "     Context    Target\n",
        "     c          h\n",
        "     ch         a\n",
        "     cha        r\n",
        "     char       3\n",
        "     ... (up to 8 characters)\n",
        "\n",
        "6. Key Points:\n",
        "   - 32 total examples (4 rows * 8 positions)\n",
        "   - Context grows from 1 to 8 characters\n",
        "   - Target is always the next character\n",
        "   - Model learns to predict next char given varying context lengths\n",
        "\n",
        "This structure allows efficient training on multiple sequences with various context lengths simultaneously."
      ]
    },
    {
      "cell_type": "markdown",
      "metadata": {
        "id": "ZNaX5uDP114F"
      },
      "source": [
        "\n",
        "\n",
        "So, when the lecturer says (B, T, C), they're referring to data with the following structure:\n",
        "- **Batch**: How many sequences are being processed at once.\n",
        "- **Time**: How many steps (words/tokens) are in each sequence.\n",
        "- **Channel**: The number of features representing each word or token (you’ll see this when you use embeddings).\n",
        "\n"
      ]
    },
    {
      "cell_type": "code",
      "execution_count": 14,
      "metadata": {
        "colab": {
          "base_uri": "https://localhost:8080/"
        },
        "id": "_YiruEpnjF6q",
        "outputId": "c1bb6928-aec1-4d14-8861-e10d87cd3468",
        "collapsed": true
      },
      "outputs": [
        {
          "output_type": "stream",
          "name": "stdout",
          "text": [
            "inputs:\n",
            "torch.Size([4, 8])\n",
            "tensor([[24, 43, 58,  5, 57,  1, 46, 43],\n",
            "        [44, 53, 56,  1, 58, 46, 39, 58],\n",
            "        [52, 58,  1, 58, 46, 39, 58,  1],\n",
            "        [25, 17, 27, 10,  0, 21,  1, 54]])\n",
            "targets\n",
            "torch.Size([4, 8])\n",
            "tensor([[43, 58,  5, 57,  1, 46, 43, 39],\n",
            "        [53, 56,  1, 58, 46, 39, 58,  1],\n",
            "        [58,  1, 58, 46, 39, 58,  1, 46],\n",
            "        [17, 27, 10,  0, 21,  1, 54, 39]])\n",
            "-----\n",
            "when input is [24] the target: 43\n",
            "when input is [24, 43] the target: 58\n",
            "when input is [24, 43, 58] the target: 5\n",
            "when input is [24, 43, 58, 5] the target: 57\n",
            "when input is [24, 43, 58, 5, 57] the target: 1\n",
            "when input is [24, 43, 58, 5, 57, 1] the target: 46\n",
            "when input is [24, 43, 58, 5, 57, 1, 46] the target: 43\n",
            "when input is [24, 43, 58, 5, 57, 1, 46, 43] the target: 39\n",
            "when input is [44] the target: 53\n",
            "when input is [44, 53] the target: 56\n",
            "when input is [44, 53, 56] the target: 1\n",
            "when input is [44, 53, 56, 1] the target: 58\n",
            "when input is [44, 53, 56, 1, 58] the target: 46\n",
            "when input is [44, 53, 56, 1, 58, 46] the target: 39\n",
            "when input is [44, 53, 56, 1, 58, 46, 39] the target: 58\n",
            "when input is [44, 53, 56, 1, 58, 46, 39, 58] the target: 1\n",
            "when input is [52] the target: 58\n",
            "when input is [52, 58] the target: 1\n",
            "when input is [52, 58, 1] the target: 58\n",
            "when input is [52, 58, 1, 58] the target: 46\n",
            "when input is [52, 58, 1, 58, 46] the target: 39\n",
            "when input is [52, 58, 1, 58, 46, 39] the target: 58\n",
            "when input is [52, 58, 1, 58, 46, 39, 58] the target: 1\n",
            "when input is [52, 58, 1, 58, 46, 39, 58, 1] the target: 46\n",
            "when input is [25] the target: 17\n",
            "when input is [25, 17] the target: 27\n",
            "when input is [25, 17, 27] the target: 10\n",
            "when input is [25, 17, 27, 10] the target: 0\n",
            "when input is [25, 17, 27, 10, 0] the target: 21\n",
            "when input is [25, 17, 27, 10, 0, 21] the target: 1\n",
            "when input is [25, 17, 27, 10, 0, 21, 1] the target: 54\n",
            "when input is [25, 17, 27, 10, 0, 21, 1, 54] the target: 39\n"
          ]
        }
      ],
      "source": [
        "# introducing batch dimension\n",
        "torch.manual_seed(1337)\n",
        "batch_size = 4 # how many independent sequence will we process in parallel\n",
        "block_size = 8 # what is the max context length for prediction\n",
        "\n",
        "def get_batch(split):\n",
        "    data = train_data if split == \"train\" else val_data # specify data\n",
        "    ix = torch.randint(len(data) - block_size, (batch_size,))\n",
        "    x = torch.stack([data[i:i+block_size] for i in ix])\n",
        "    y = torch.stack([data[i+1:i+block_size+1] for i in ix])\n",
        "    return x, y\n",
        "\n",
        "xb, yb = get_batch(\"train\")\n",
        "print('inputs:')\n",
        "print(xb.shape)\n",
        "print(xb)\n",
        "print('targets')\n",
        "print(yb.shape)\n",
        "print(yb)\n",
        "\n",
        "print('-----')\n",
        "\n",
        "for b in range(batch_size):\n",
        "    for t in range(block_size):\n",
        "        context = xb[b, :t+1]\n",
        "        target = yb[b,t]\n",
        "        print(f\"when input is {context.tolist()} the target: {target}\")\n",
        "\n",
        "\n"
      ]
    },
    {
      "cell_type": "code",
      "source": [
        "print(xb)"
      ],
      "metadata": {
        "id": "u8hm1IT7ec2F",
        "outputId": "b976cce9-a655-478f-ac6f-a5b9d5b6834a",
        "colab": {
          "base_uri": "https://localhost:8080/"
        }
      },
      "execution_count": 15,
      "outputs": [
        {
          "output_type": "stream",
          "name": "stdout",
          "text": [
            "tensor([[24, 43, 58,  5, 57,  1, 46, 43],\n",
            "        [44, 53, 56,  1, 58, 46, 39, 58],\n",
            "        [52, 58,  1, 58, 46, 39, 58,  1],\n",
            "        [25, 17, 27, 10,  0, 21,  1, 54]])\n"
          ]
        }
      ]
    },
    {
      "cell_type": "markdown",
      "metadata": {
        "id": "HJ0gULCbYtAK"
      },
      "source": [
        "### 00:22:11 Simplest Baseline: Bigram Language Model, Loss, Generation\n"
      ]
    },
    {
      "cell_type": "markdown",
      "metadata": {
        "id": "shES-8GEqDaK"
      },
      "source": [
        "\n",
        "\n",
        "This code is for a **Bigram Language Model** built using PyTorch. The goal of this model is to predict the next word in a sentence by looking at the current word. Let’s walk through the key elements:\n",
        "\n",
        "1. **Setting up PyTorch**:\n",
        "   - We first import PyTorch (`torch`), some neural network modules (`nn`), and set a manual seed to ensure reproducibility.\n",
        "\n",
        "2. **Defining the Model**:\n",
        "   - The class `BigramLanguageModel` is created as a type of neural network model (`nn.Module`).\n",
        "   - Inside the model’s `__init__` function, we initialize an embedding table (`self.token_embedding_table`) that converts words (or tokens) into vectors. This is like a dictionary where each word is assigned a unique vector.\n",
        "   - `vocab_size` tells the model how many unique words it should consider.\n",
        "\n",
        "3. **Forward Function**:\n",
        "   - The `forward` method is where the model does its main work. It takes in two inputs, `idx` (the current word indices) and `targets` (the next word indices, which we want to predict).\n",
        "   - The `self.token_embedding_table(idx)` converts the word indices (`idx`) into their corresponding vector representations. The result, `logits`, contains information about the likelihood of the next word in the sequence.\n",
        "\n",
        "4. **Output**:\n",
        "   - Finally, the model produces an output with a shape that corresponds to the batch size (`B`), the number of tokens in the sequence (`T`), and the number of possible next words (`C`, the vocabulary size).\n",
        "\n",
        "In simple terms, this model is learning how likely one word is to follow another by directly looking up its prediction from a table. It’s a basic building block for more complex language models.\n",
        "\n"
      ]
    },
    {
      "cell_type": "code",
      "execution_count": 15,
      "metadata": {
        "id": "4KPTgxlZqDIj"
      },
      "outputs": [],
      "source": []
    },
    {
      "cell_type": "markdown",
      "metadata": {
        "id": "67YYl-NKMHTy"
      },
      "source": [
        "![image.png](data:image/png;base64,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)"
      ]
    },
    {
      "cell_type": "markdown",
      "metadata": {
        "id": "8fjMPdScSdQ6"
      },
      "source": [
        "We expect our loss to be less than 4.1743 ie:\n",
        "\n",
        "```python\n",
        "import math\n",
        "\n",
        "result = -math.log(1/65)\n",
        "print(result)\n",
        "```\n",
        "\n",
        "```output\n",
        "4.174387269895637\n",
        "\n",
        "```"
      ]
    },
    {
      "cell_type": "code",
      "execution_count": 16,
      "metadata": {
        "colab": {
          "base_uri": "https://localhost:8080/"
        },
        "id": "jhWJz4nMTUzl",
        "outputId": "72f97ad3-22c4-4b14-91a1-8d1f9afdac74"
      },
      "outputs": [
        {
          "output_type": "stream",
          "name": "stdout",
          "text": [
            "4.174387269895637\n"
          ]
        }
      ],
      "source": [
        "import math\n",
        "\n",
        "result = -math.log(1/65)\n",
        "print(result)\n"
      ]
    },
    {
      "cell_type": "code",
      "execution_count": 17,
      "metadata": {
        "colab": {
          "base_uri": "https://localhost:8080/"
        },
        "id": "pW-9wAUQvpRY",
        "outputId": "757c0ea3-8f3e-4a74-bf7a-20af4ef6d10e"
      },
      "outputs": [
        {
          "output_type": "stream",
          "name": "stdout",
          "text": [
            "vocab_size:  65\n",
            "logits.shape:  torch.Size([32, 65])\n",
            "loss:  tensor(4.8786, grad_fn=<NllLossBackward0>)\n",
            "\n",
            "Sr?qP-QWktXoL&jLDJgOLVz'RIoDqHdhsV&vLLxatjscMpwLERSPyao.qfzs$Ys$zF-w,;eEkzxjgCKFChs!iWW.ObzDnxA Ms$3\n"
          ]
        }
      ],
      "source": [
        "import torch\n",
        "import torch.nn as nn\n",
        "from torch.nn import functional as F\n",
        "torch.manual_seed(1337)\n",
        "\n",
        "class BigramLanguageModel(nn.Module):\n",
        "    def __init__(self, vocab_size):\n",
        "        super().__init__()\n",
        "        # each token directly reads off the logits for the next token from a lookup table\n",
        "        self.token_embedding_table = nn.Embedding(vocab_size, vocab_size) # tool for converting our x inputs and y targets into vectors\n",
        "\n",
        "    def forward(self, idx, targets=None):\n",
        "        # idx and targets are both (B,T) tensor of integers\n",
        "        logits = self.token_embedding_table(idx) #(B,T,C)\n",
        "\n",
        "        if targets is None:\n",
        "            loss = None\n",
        "        else:\n",
        "            B, T, C = logits.shape\n",
        "            logits = logits.view(B*T, C)\n",
        "            targets = targets.view(B*T)\n",
        "            loss = F.cross_entropy(logits, targets)\n",
        "\n",
        "        return logits, loss\n",
        "\n",
        "    def generate(self, idx, max_new_tokens):\n",
        "        # idx is (B, T) array of indices in the current context\n",
        "        for _ in range(max_new_tokens):\n",
        "            # get the predictions\n",
        "            logits, loss = self(idx)\n",
        "            # focus only on the last step\n",
        "            logits = logits[:, -1, :] # from (B,T,C) to (B,C)\n",
        "            # apply softmax to get probabilities\n",
        "            probs = F.softmax(logits, dim=-1)\n",
        "            # sa,ple from the distribution\n",
        "            idx_next = torch.multinomial(probs, num_samples=1)\n",
        "            # append sampled index to the running sequence\n",
        "            idx = torch.cat((idx, idx_next), dim=1)\n",
        "        return idx\n",
        "\n",
        "\n",
        "m = BigramLanguageModel(vocab_size)\n",
        "logits, loss = m(xb, yb) # pass inputs and targets\n",
        "print(f\"vocab_size: \",vocab_size)\n",
        "print(f\"logits.shape: \",logits.shape)\n",
        "print(f\"loss: \",loss)\n",
        "\n",
        "# idx = torch.zeros((1,1), dtype=torch.long)\n",
        "# print(decode(m.generate(idx=idx, max_new_tokens=100)[0].tolist()))\n",
        "print(decode(m.generate(idx = torch.zeros((1, 1), dtype=torch.long), max_new_tokens=100)[0].tolist()))\n"
      ]
    },
    {
      "cell_type": "markdown",
      "metadata": {
        "id": "9hHXHuiiYtAK"
      },
      "source": [
        "### 00:34:53 Training the Bigram Model\n"
      ]
    },
    {
      "cell_type": "code",
      "source": [
        "# create a pytorch optimizer\n",
        "optimizer = torch.optim.AdamW(m.parameters(), lr=1e-3)"
      ],
      "metadata": {
        "id": "kUQ_3_6NkQh_"
      },
      "execution_count": 18,
      "outputs": []
    },
    {
      "cell_type": "code",
      "source": [
        "batch_size = 32\n",
        "losses = []  # List to store loss values\n",
        "\n",
        "for steps in range(10000):\n",
        "    # sample a batch of data\n",
        "    xb, yb = get_batch('train')\n",
        "\n",
        "    # evaluate the loss\n",
        "    logits, loss = m(xb, yb)\n",
        "    optimizer.zero_grad(set_to_none=True)\n",
        "    loss.backward()\n",
        "    optimizer.step()\n",
        "\n",
        "       # Store the loss value\n",
        "    losses.append(loss.item())\n",
        "\n",
        "    # Print loss every 1000 steps\n",
        "    if steps % 1000 == 0:\n",
        "        print(f'Step {steps}: Loss {loss.item():.4f}')\n",
        "\n"
      ],
      "metadata": {
        "colab": {
          "base_uri": "https://localhost:8080/"
        },
        "id": "S3gFivIYkPAr",
        "outputId": "557e3a14-9716-4d53-f32e-cdb7fd5a1a43"
      },
      "execution_count": 21,
      "outputs": [
        {
          "output_type": "stream",
          "name": "stdout",
          "text": [
            "Step 0: Loss 2.4184\n",
            "Step 1000: Loss 2.5300\n",
            "Step 2000: Loss 2.3797\n",
            "Step 3000: Loss 2.4651\n",
            "Step 4000: Loss 2.3533\n",
            "Step 5000: Loss 2.4624\n",
            "Step 6000: Loss 2.4510\n",
            "Step 7000: Loss 2.3258\n",
            "Step 8000: Loss 2.4357\n",
            "Step 9000: Loss 2.4936\n"
          ]
        }
      ]
    },
    {
      "cell_type": "code",
      "source": [
        "import matplotlib.pyplot as plt\n",
        "\n",
        "# Plotting the loss\n",
        "plt.figure(figsize=(10, 6))\n",
        "plt.plot(losses)\n",
        "plt.title('Training Loss Over Time')\n",
        "plt.xlabel('Steps')\n",
        "plt.ylabel('Loss')\n",
        "plt.grid(True)\n",
        "plt.show()"
      ],
      "metadata": {
        "colab": {
          "base_uri": "https://localhost:8080/",
          "height": 564
        },
        "id": "yDHHDeQCnYFT",
        "outputId": "6af55f68-b2ed-42b0-caf8-4c77b346e02e"
      },
      "execution_count": 22,
      "outputs": [
        {
          "output_type": "display_data",
          "data": {
            "text/plain": [
              "<Figure size 1000x600 with 1 Axes>"
            ],
            "image/png": "[encoded data removed]"
          },
          "metadata": {}
        }
      ]
    },
    {
      "cell_type": "code",
      "source": [
        "print(decode(m.generate(idx = torch.zeros((1, 1), dtype=torch.long), max_new_tokens=500)[0].tolist()))"
      ],
      "metadata": {
        "colab": {
          "base_uri": "https://localhost:8080/"
        },
        "id": "g4xUdFfwouBP",
        "outputId": "8a9df8fd-0873-4cfe-9228-4ec842d67550"
      },
      "execution_count": 25,
      "outputs": [
        {
          "output_type": "stream",
          "name": "stdout",
          "text": [
            "\n",
            "IUE:\n",
            "\n",
            "Towe.\n",
            "Whamo es t, tstt g t RTRushy,\n",
            "WAsbr spr my ou pl y,\n",
            "Witoft at o s me,\n",
            "Whabr'the Cicuomants awonte qungur thme wrar d parsupl by:\n",
            "'sul ve ave,\n",
            "Kconit ped bim; fam elathelch easutlll teye A d che'd, met its\n",
            "\n",
            "IVo wnkn cave!\n",
            "I thengr ts, IO t\n",
            "Hoyoolove\n",
            "ONCENo breppo onder t this r is.\n",
            "I ckend haiby Lulfaseabot alt mpw thar, d is cthe parn gers b, ace t d t tllined y sss u dst hothin h.\n",
            "An,\n",
            "\n",
            "QUThiroligmushielowilit?-f s aishe se achyano OUST:\n",
            "Juy, wn pr ber,\n",
            "KE w r wourw. thate ma ore,\n",
            "TO\n"
          ]
        }
      ]
    },
    {
      "cell_type": "markdown",
      "metadata": {
        "id": "bW9gmqtbYtAL"
      },
      "source": [
        "\n"
      ]
    },
    {
      "cell_type": "markdown",
      "metadata": {
        "id": "ZTSeujf4YtAL"
      },
      "source": [
        "### 00:38:00 Porting Our Code to a Script  Building the \"Self-Attention\"\n"
      ]
    },
    {
      "cell_type": "code",
      "source": [
        "%%writefile bigram.py\n",
        "import torch\n",
        "import torch.nn as nn\n",
        "from torch.nn import functional as F\n",
        "torch.manual_seed(1337)\n",
        "\n",
        "# Download the dataset tiny Shakespear Dataset\n",
        "!wget https://raw.githubusercontent.com/karpathy/char-rnn/master/data/tinyshakespeare/input.txt\n",
        "\n",
        "# read it in to inspect it\n",
        "with open(\"input.txt\", \"r\", encoding=\"utf-8\") as f:\n",
        "    text = f.read()\n",
        "\n",
        "print(\"Length of dataset in characters: \", len(text))\n",
        "\n",
        "# Check all unique characters in the test\n",
        "chars = sorted(list(set(text)))\n",
        "vocab_size = len(chars)\n",
        "print(''.join(chars))\n",
        "print(len(chars))\n",
        "\n",
        "\n",
        "# create a mapping for characters to integers\n",
        "stoi = {ch:i for i, ch in enumerate(chars)} # string to integer\n",
        "itos = {i:ch for i, ch in enumerate(chars)}\n",
        "encode = lambda s: [stoi[c] for c in s] # ie take a string , output a list of integers\n",
        "decode = lambda l: \"\".join([itos[i] for i in l]) # ie take a list of integers, output a string\n",
        "\n",
        "print(encode(\"hii there\"))\n",
        "print(decode(encode(\"hii there\")))\n",
        "\n",
        "\n",
        "# lets now encode the entire text dataset and store it into a torch.Tensor\n",
        "import torch\n",
        "data = torch.tensor(encode(text), dtype=torch.long)\n",
        "print(data.shape, data.dtype)\n",
        "print(data[:100])\n",
        "\n",
        "# lets split the data into train and test datasets/validation\n",
        "n = int(0.9*len(data))\n",
        "train_data = data[:n]\n",
        "val_data = data[n:]\n",
        "\n",
        "#dataloader Batches of chunks of data\n",
        "# define block size\n",
        "block_size = 8\n",
        "train_data[:block_size+1]\n",
        "\n",
        "x = train_data[:block_size]\n",
        "y = train_data[1:block_size+1]\n",
        "for t in range(block_size):\n",
        "    context = x[:t+1]\n",
        "    target = y[t]\n",
        "    print(f\"when input is {context} the target: {target}\")\n",
        "\n",
        "\n",
        "# introducing batch dimension\n",
        "torch.manual_seed(1337)\n",
        "batch_size = 4 # how many independent sequence will we process in parallel\n",
        "block_size = 8 # what is the max context length for prediction\n",
        "\n",
        "def get_batch(split):\n",
        "    data = train_data if split == \"train\" else val_data # specify data\n",
        "    ix = torch.randint(len(data) - block_size, (batch_size,))\n",
        "    x = torch.stack([data[i:i+block_size] for i in ix])\n",
        "    y = torch.stack([data[i+1:i+block_size+1] for i in ix])\n",
        "    return x, y\n",
        "\n",
        "xb, yb = get_batch(\"train\")\n",
        "print('inputs:')\n",
        "print(xb.shape)\n",
        "print(xb)\n",
        "print('targets')\n",
        "print(yb.shape)\n",
        "print(yb)\n",
        "\n",
        "print('-----')\n",
        "\n",
        "for b in range(batch_size):\n",
        "    for t in range(block_size):\n",
        "        context = xb[b, :t+1]\n",
        "        target = yb[b,t]\n",
        "        print(f\"when input is {context.tolist()} the target: {target}\")\n",
        "\n",
        "import torch\n",
        "import torch.nn as nn\n",
        "from torch.nn import functional as F\n",
        "torch.manual_seed(1337)\n",
        "\n",
        "class BigramLanguageModel(nn.Module):\n",
        "    def __init__(self, vocab_size):\n",
        "        super().__init__()\n",
        "        # each token directly reads off the logits for the next token from a lookup table\n",
        "        self.token_embedding_table = nn.Embedding(vocab_size, vocab_size) # tool for converting our x inputs and y targets into vectors\n",
        "\n",
        "    def forward(self, idx, targets=None):\n",
        "        # idx and targets are both (B,T) tensor of integers\n",
        "        logits = self.token_embedding_table(idx) #(B,T,C)\n",
        "\n",
        "        if targets is None:\n",
        "            loss = None\n",
        "        else:\n",
        "            B, T, C = logits.shape\n",
        "            logits = logits.view(B*T, C)\n",
        "            targets = targets.view(B*T)\n",
        "            loss = F.cross_entropy(logits, targets)\n",
        "\n",
        "        return logits, loss\n",
        "\n",
        "    def generate(self, idx, max_new_tokens):\n",
        "        # idx is (B, T) array of indices in the current context\n",
        "        for _ in range(max_new_tokens):\n",
        "            # get the predictions\n",
        "            logits, loss = self(idx)\n",
        "            # focus only on the last step\n",
        "            logits = logits[:, -1, :] # from (B,T,C) to (B,C)\n",
        "            # apply softmax to get probabilities\n",
        "            probs = F.softmax(logits, dim=-1)\n",
        "            # sa,ple from the distribution\n",
        "            idx_next = torch.multinomial(probs, num_samples=1)\n",
        "            # append sampled index to the running sequence\n",
        "            idx = torch.cat((idx, idx_next), dim=1)\n",
        "        return idx\n",
        "\n",
        "\n",
        "m = BigramLanguageModel(vocab_size)\n",
        "logits, loss = m(xb, yb) # pass inputs and targets\n",
        "print(f\"vocab_size: \",vocab_size)\n",
        "print(f\"logits.shape: \",logits.shape)\n",
        "print(f\"loss: \",loss)\n",
        "\n",
        "# idx = torch.zeros((1,1), dtype=torch.long)\n",
        "# print(decode(m.generate(idx=idx, max_new_tokens=100)[0].tolist()))\n",
        "print(decode(m.generate(idx = torch.zeros((1, 1), dtype=torch.long), max_new_tokens=100)[0].tolist()))\n",
        "\n",
        "# create a pytorch optimizer\n",
        "optimizer = torch.optim.AdamW(m.parameters(), lr=1e-3)\n",
        "\n",
        "batch_size = 32\n",
        "losses = []  # List to store loss values\n",
        "\n",
        "for steps in range(10000):\n",
        "    # sample a batch of data\n",
        "    xb, yb = get_batch('train')\n",
        "\n",
        "    # evaluate the loss\n",
        "    logits, loss = m(xb, yb)\n",
        "    optimizer.zero_grad(set_to_none=True)\n",
        "    loss.backward()\n",
        "    optimizer.step()\n",
        "\n",
        "       # Store the loss value\n",
        "    losses.append(loss.item())\n",
        "\n",
        "    # Print loss every 1000 steps\n",
        "    if steps % 1000 == 0:\n",
        "        print(f'Step {steps}: Loss {loss.item():.4f}')\n",
        "\n",
        "\n",
        "import matplotlib.pyplot as plt\n",
        "\n",
        "# Plotting the loss\n",
        "plt.figure(figsize=(10, 6))\n",
        "plt.plot(losses)\n",
        "plt.title('Training Loss Over Time')\n",
        "plt.xlabel('Steps')\n",
        "plt.ylabel('Loss')\n",
        "plt.grid(True)\n",
        "plt.show()"
      ],
      "metadata": {
        "id": "oB5nE5DQr_w6"
      },
      "execution_count": null,
      "outputs": []
    },
    {
      "cell_type": "markdown",
      "metadata": {
        "id": "qf9RxfV7YtAL"
      },
      "source": [
        "\n"
      ]
    },
    {
      "cell_type": "markdown",
      "metadata": {
        "id": "12PnGHwhYtAM"
      },
      "source": [
        "### 00:42:13 Version 1: Averaging Past Context with For Loops, the Weakest Form of Aggregation\n"
      ]
    },
    {
      "cell_type": "markdown",
      "metadata": {
        "id": "NtzTACcdYtAN"
      },
      "source": [
        "\n"
      ]
    },
    {
      "cell_type": "markdown",
      "metadata": {
        "id": "HzW4V92BYtAO"
      },
      "source": [
        "### 00:47:11 The Trick in Self-Attention: Matrix Multiply as Weighted Aggregation\n"
      ]
    },
    {
      "cell_type": "markdown",
      "metadata": {
        "id": "t7zl-IyrYtAO"
      },
      "source": [
        "\n"
      ]
    },
    {
      "cell_type": "markdown",
      "metadata": {
        "id": "Vdw6RFYzYtAO"
      },
      "source": [
        "### 00:51:54 Version 2: Using Matrix Multiply\n"
      ]
    },
    {
      "cell_type": "markdown",
      "metadata": {
        "id": "rBQNAfbkYtAP"
      },
      "source": [
        "\n"
      ]
    },
    {
      "cell_type": "markdown",
      "metadata": {
        "id": "LbIx4o8DYtAP"
      },
      "source": [
        "### 00:54:42 Version 3: Adding Softmax\n"
      ]
    },
    {
      "cell_type": "markdown",
      "metadata": {
        "id": "Xy5vzPT3YtAP"
      },
      "source": [
        "\n"
      ]
    },
    {
      "cell_type": "markdown",
      "metadata": {
        "id": "6ANE0xyUYtAP"
      },
      "source": [
        "### 00:58:26 Minor Code Cleanup\n"
      ]
    },
    {
      "cell_type": "markdown",
      "metadata": {
        "id": "fQYuDLhrYtAQ"
      },
      "source": [
        "\n"
      ]
    },
    {
      "cell_type": "markdown",
      "metadata": {
        "id": "pO_RWwQxYtAQ"
      },
      "source": [
        "### 01:00:18 Positional Encoding\n"
      ]
    },
    {
      "cell_type": "markdown",
      "metadata": {
        "id": "ETla4MgMYtAQ"
      },
      "source": [
        "\n"
      ]
    },
    {
      "cell_type": "markdown",
      "metadata": {
        "id": "WbQIfBiUYtAQ"
      },
      "source": [
        "### 01:02:00 The Crux of the Video: Version 4: Self-Attention\n"
      ]
    },
    {
      "cell_type": "markdown",
      "metadata": {
        "id": "hg5lUSn7YtAR"
      },
      "source": [
        "\n"
      ]
    },
    {
      "cell_type": "markdown",
      "metadata": {
        "id": "ayom4LenYtAR"
      },
      "source": [
        "### 01:11:38 Note 1: Attention as Communication\n"
      ]
    },
    {
      "cell_type": "markdown",
      "metadata": {
        "id": "KbzsoPx6YtAR"
      },
      "source": [
        "\n"
      ]
    },
    {
      "cell_type": "markdown",
      "metadata": {
        "id": "YBR8nm4yYtAS"
      },
      "source": [
        "### 01:12:46 Note 2: Attention Has No Notion of Space, Operates Over Sets\n"
      ]
    },
    {
      "cell_type": "markdown",
      "metadata": {
        "id": "d3B8e5DcYtAS"
      },
      "source": [
        "\n"
      ]
    },
    {
      "cell_type": "markdown",
      "metadata": {
        "id": "f4syBWzFYtAS"
      },
      "source": [
        "### 01:13:40 Note 3: There is No Communication Across Batch Dimension\n"
      ]
    },
    {
      "cell_type": "markdown",
      "metadata": {
        "id": "IVtGYq2PYtAT"
      },
      "source": [
        "\n"
      ]
    },
    {
      "cell_type": "markdown",
      "metadata": {
        "id": "Y5quIuPSYtAT"
      },
      "source": [
        "### 01:14:14 Note 4: Encoder Blocks vs. Decoder Blocks\n"
      ]
    },
    {
      "cell_type": "markdown",
      "metadata": {
        "id": "qqIkDLomYtAT"
      },
      "source": [
        "\n"
      ]
    },
    {
      "cell_type": "markdown",
      "metadata": {
        "id": "zD2qKNc-YtAU"
      },
      "source": [
        "### 01:15:39 Note 5: Attention vs. Self-Attention vs. Cross-Attention\n"
      ]
    },
    {
      "cell_type": "markdown",
      "metadata": {
        "id": "7izS12GaYtAU"
      },
      "source": [
        "\n"
      ]
    },
    {
      "cell_type": "markdown",
      "metadata": {
        "id": "kDj-zgyPYtAU"
      },
      "source": [
        "### 01:16:56 Note 6: \"Scaled\" Self-Attention. Why Divide by sqrt(Head_Size)\n"
      ]
    },
    {
      "cell_type": "markdown",
      "metadata": {
        "id": "Sw666ZlFYtAU"
      },
      "source": [
        "\n"
      ]
    },
    {
      "cell_type": "markdown",
      "metadata": {
        "id": "ZO4EDMoRYtAV"
      },
      "source": [
        "### 01:19:11 Building the Transformer: Inserting a Single Self-Attention Block to Our Network\n"
      ]
    },
    {
      "cell_type": "markdown",
      "metadata": {
        "id": "gh2Mpy4KYtAV"
      },
      "source": [
        "\n"
      ]
    },
    {
      "cell_type": "markdown",
      "metadata": {
        "id": "yQat9u_fYtAV"
      },
      "source": [
        "### 01:21:59 Multi-Headed Self-Attention\n"
      ]
    },
    {
      "cell_type": "markdown",
      "metadata": {
        "id": "IEf_Hm1CYtAV"
      },
      "source": [
        "\n"
      ]
    },
    {
      "cell_type": "markdown",
      "metadata": {
        "id": "wYA5SgcdYtAW"
      },
      "source": [
        "### 01:24:25 Feedforward Layers of Transformer Block\n"
      ]
    },
    {
      "cell_type": "markdown",
      "metadata": {
        "id": "GmWQqMBsYtAW"
      },
      "source": [
        "\n"
      ]
    },
    {
      "cell_type": "markdown",
      "metadata": {
        "id": "YzoQfB__YtAW"
      },
      "source": [
        "### 01:26:48 Residual Connections\n"
      ]
    },
    {
      "cell_type": "markdown",
      "metadata": {
        "id": "sBEqiizvYtAX"
      },
      "source": [
        "\n"
      ]
    },
    {
      "cell_type": "markdown",
      "metadata": {
        "id": "zpXDZmHVYtAX"
      },
      "source": [
        "### 01:32:51 Layernorm (and Its Relationship to Our Previous Batchnorm)\n"
      ]
    },
    {
      "cell_type": "markdown",
      "metadata": {
        "id": "I8EnOXqUYtAX"
      },
      "source": [
        "\n"
      ]
    },
    {
      "cell_type": "markdown",
      "metadata": {
        "id": "s8wWe5n9YtAX"
      },
      "source": [
        "### 01:37:49 Scaling Up the Model! Creating a Few Variables, Adding Dropout\n"
      ]
    },
    {
      "cell_type": "markdown",
      "metadata": {
        "id": "wrcNj3JkYtAY"
      },
      "source": [
        "\n"
      ]
    },
    {
      "cell_type": "markdown",
      "metadata": {
        "id": "KefVzbJRYtAY"
      },
      "source": [
        "### 01:42:39 Notes on Transformer: Encoder vs. Decoder vs. Both (?) Transformers\n"
      ]
    },
    {
      "cell_type": "markdown",
      "metadata": {
        "id": "bcPUoLk2YtAY"
      },
      "source": [
        "\n"
      ]
    },
    {
      "cell_type": "markdown",
      "metadata": {
        "id": "bHo3losqYtAY"
      },
      "source": [
        "### 01:46:22 Super Quick Walkthrough of nanoGPT, Batched Multi-Headed Self-Attention\n"
      ]
    },
    {
      "cell_type": "markdown",
      "metadata": {
        "id": "09guJJaLYtAY"
      },
      "source": [
        "\n"
      ]
    },
    {
      "cell_type": "markdown",
      "metadata": {
        "id": "yLwtZn4DYtAY"
      },
      "source": [
        "### 01:48:53 Back to ChatGPT, GPT-3, Pretraining vs. Finetuning, RLHF\n"
      ]
    },
    {
      "cell_type": "markdown",
      "metadata": {
        "id": "VKUxS2ZaYtAZ"
      },
      "source": [
        "\n"
      ]
    },
    {
      "cell_type": "markdown",
      "metadata": {
        "id": "4dQU3trTYtAZ"
      },
      "source": [
        "### 01:54:32 Conclusions"
      ]
    }
  ],
  "metadata": {
    "colab": {
      "provenance": [],
      "include_colab_link": true
    },
    "kernelspec": {
      "display_name": "Python 3",
      "name": "python3"
    },
    "language_info": {
      "name": "python"
    }
  },
  "nbformat": 4,
  "nbformat_minor": 0
}
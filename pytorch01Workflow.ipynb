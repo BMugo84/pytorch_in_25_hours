{
  "nbformat": 4,
  "nbformat_minor": 0,
  "metadata": {
    "colab": {
      "provenance": [],
      "authorship_tag": "ABX9TyO5pYrnES0SlX6mvFU2YpV+",
      "include_colab_link": true
    },
    "kernelspec": {
      "name": "python3",
      "display_name": "Python 3"
    },
    "language_info": {
      "name": "python"
    }
  },
  "cells": [
    {
      "cell_type": "markdown",
      "metadata": {
        "id": "view-in-github",
        "colab_type": "text"
      },
      "source": [
        "<a href=\"https://colab.research.google.com/github/BMugo84/pytorch_in_25_hours/blob/main/pytorch01Workflow.ipynb\" target=\"_parent\"><img src=\"https://colab.research.google.com/assets/colab-badge.svg\" alt=\"Open In Colab\"/></a>"
      ]
    },
    {
      "cell_type": "markdown",
      "source": [
        "# Pytorch workflow\n",
        "\n"
      ],
      "metadata": {
        "id": "tFDwg9apjjxv"
      }
    },
    {
      "cell_type": "markdown",
      "source": [
        "![picture](https://github.com/mrdbourke/pytorch-deep-learning/blob/main/images/01_a_pytorch_workflow.png?raw=true)"
      ],
      "metadata": {
        "id": "x4VvjcR_8-hS"
      }
    },
    {
      "cell_type": "markdown",
      "source": [
        "## Exploring a typical PyTorch end-end workflow"
      ],
      "metadata": {
        "id": "UQ4skMo27YW4"
      }
    },
    {
      "cell_type": "code",
      "source": [
        "what_were_covering = {1: \"data preperation and loading\",\n",
        "                      2: \"building a model or picking a pretrained one\",\n",
        "                      3: \"fiting the model to data\",\n",
        "                      4: \"making predictions and evaluating a model\",\n",
        "                      5: \"saving and loading a model\",\n",
        "                      6: \"putting it all together\"\n",
        "                      }"
      ],
      "metadata": {
        "id": "iIc3WPZ5kksU"
      },
      "execution_count": null,
      "outputs": []
    },
    {
      "cell_type": "code",
      "source": [
        "# imports\n",
        "import torch\n",
        "from torch import nn    #nn contains all of pytorch's building blocks for a neural network\n",
        "import matplotlib.pyplot as plt\n"
      ],
      "metadata": {
        "id": "oxlUD_xjlcpT"
      },
      "execution_count": null,
      "outputs": []
    },
    {
      "cell_type": "markdown",
      "source": [
        "### Preparing and loading data\n",
        "\n",
        "Types of data in machine learning:\n",
        "* excel spreadsheets\n",
        "* images\n",
        "* videos\n",
        "* audio\n",
        "* DNA\n",
        "* text\n",
        "\n",
        "ML is a game of two parts:\n",
        "1.   getting data into a numerical representation\n",
        "2.   build a model to learn patternsin that numerical representation\n",
        "\n",
        "we'll use a linear regression formulae to make a straight line with known parameters.\n",
        "\n",
        "Sure, here it is with bold and LaTeX:\n",
        "\n",
        "A linear regression line has an equation of the form `Y = a + bX`, where `X` is the explanatory variable and `Y` is the dependent variable. The slope of the line is `b`, and `a` is the intercept (the value of `y` when `x` = 0).\n",
        "\n",
        "\n"
      ],
      "metadata": {
        "id": "W9UAzXxSmL9I"
      }
    },
    {
      "cell_type": "code",
      "source": [
        "# create known parameters\n",
        "weight = 0.7    # b\n",
        "bias = 0.3      # a\n",
        "\n",
        "start = 0\n",
        "end = 1\n",
        "step = 0.02\n",
        "X = torch.arange(start, end, step).unsqueeze(dim=1)  #using X as a matrix\n",
        "y = bias + weight * X\n",
        "\n",
        "X[:10], y[:10]"
      ],
      "metadata": {
        "colab": {
          "base_uri": "https://localhost:8080/"
        },
        "id": "vG_1XbltmTUY",
        "outputId": "e6a95b82-4d8a-465d-ff50-006f470e18f4"
      },
      "execution_count": null,
      "outputs": [
        {
          "output_type": "execute_result",
          "data": {
            "text/plain": [
              "(tensor([[0.0000],\n",
              "         [0.0200],\n",
              "         [0.0400],\n",
              "         [0.0600],\n",
              "         [0.0800],\n",
              "         [0.1000],\n",
              "         [0.1200],\n",
              "         [0.1400],\n",
              "         [0.1600],\n",
              "         [0.1800]]),\n",
              " tensor([[0.3000],\n",
              "         [0.3140],\n",
              "         [0.3280],\n",
              "         [0.3420],\n",
              "         [0.3560],\n",
              "         [0.3700],\n",
              "         [0.3840],\n",
              "         [0.3980],\n",
              "         [0.4120],\n",
              "         [0.4260]]))"
            ]
          },
          "metadata": {},
          "execution_count": 4
        }
      ]
    },
    {
      "cell_type": "code",
      "source": [
        "len(X), len(y)"
      ],
      "metadata": {
        "colab": {
          "base_uri": "https://localhost:8080/"
        },
        "id": "cIbz33mosHDW",
        "outputId": "f0630460-fa00-4e38-af1b-3972b4d32be4"
      },
      "execution_count": null,
      "outputs": [
        {
          "output_type": "execute_result",
          "data": {
            "text/plain": [
              "(50, 50)"
            ]
          },
          "metadata": {},
          "execution_count": 5
        }
      ]
    },
    {
      "cell_type": "markdown",
      "source": [
        "### splitting data into training and testing sets\n",
        "\n",
        "Generization -. ability of a ML model to perform well on unseen data"
      ],
      "metadata": {
        "id": "nIgREsccsSnW"
      }
    },
    {
      "cell_type": "code",
      "source": [
        "# Create a train/test split\n",
        "\n",
        "train_split = int(0.8 * len(X))\n",
        "X_train, y_train = X[:train_split], y[:train_split]\n",
        "X_test, y_test = X[train_split:], y[train_split:]\n",
        "\n",
        "len(X_train), len(X_test)"
      ],
      "metadata": {
        "colab": {
          "base_uri": "https://localhost:8080/"
        },
        "id": "KPcfuvj5sfjn",
        "outputId": "9b9f1525-372b-4783-ce14-74896619db2d"
      },
      "execution_count": null,
      "outputs": [
        {
          "output_type": "execute_result",
          "data": {
            "text/plain": [
              "(40, 10)"
            ]
          },
          "metadata": {},
          "execution_count": 6
        }
      ]
    },
    {
      "cell_type": "markdown",
      "source": [
        "### Visualize our data"
      ],
      "metadata": {
        "id": "v9BIhPMJ5k_2"
      }
    },
    {
      "cell_type": "code",
      "source": [
        "def plot_preds(train_data=X_train,\n",
        "               train_labels=y_train,\n",
        "               test_data=X_test,\n",
        "               test_labels=y_test,\n",
        "               predictions=None\n",
        "               ):\n",
        "\n",
        "    \"\"\"\n",
        "    Plots training data, testdata and compares predictions\n",
        "    \"\"\"\n",
        "    plt.figure(figsize=(10, 7))\n",
        "\n",
        "    # plot training data in blue\n",
        "    plt.scatter(train_data, train_labels, c=\"b\", s=4, label=\"training data\")\n",
        "\n",
        "    # plot test data in green\n",
        "    plt.scatter(test_data, test_labels, c=\"g\", s=4, label=\"testing data\")\n",
        "\n",
        "    # check for predictions\n",
        "    if predictions is not None:\n",
        "        # plot preds if exist\n",
        "        plt.scatter(test_data, predictions, c=\"r\", s=4, label=\"Predictions\")\n",
        "\n",
        "    # show legend\n",
        "    plt.legend(prop={\"size\": 14});\n",
        "\n"
      ],
      "metadata": {
        "id": "s4WPIMsM6BNX"
      },
      "execution_count": null,
      "outputs": []
    },
    {
      "cell_type": "code",
      "source": [
        "plot_preds()"
      ],
      "metadata": {
        "colab": {
          "base_uri": "https://localhost:8080/",
          "height": 599
        },
        "id": "JKh4yw7U770p",
        "outputId": "c08df9dd-0059-4165-fa1a-8392bffc6ad8"
      },
      "execution_count": null,
      "outputs": [
        {
          "output_type": "display_data",
          "data": {
            "text/plain": [
              "<Figure size 1000x700 with 1 Axes>"
            ],
            "image/png": "[encoded data removed]"
          },
          "metadata": {}
        }
      ]
    },
    {
      "cell_type": "markdown",
      "source": [
        "### building a model\n",
        "\n",
        "what our model does:\n",
        "* start with random values(weights and bias)\n",
        "* look at training data and adjust random values to better suit the ideal values\n",
        "\n",
        "how does it do it?\n",
        "* gradient descent\n",
        "* backpropagation"
      ],
      "metadata": {
        "id": "-9RtDF_27-q7"
      }
    },
    {
      "cell_type": "code",
      "source": [
        "# building a linear regression class\n",
        "class LinearRegressionModel(nn.Module):     #-> nn.Modules base class for pytorch\n",
        "    def __init__(self):             # Call the constructor of the superclass (nn.Module)\n",
        "        super().__init__()\n",
        "        self.weights = nn.Parameter(torch.randn(1, requires_grad=True, dtype=torch.float))\n",
        "\n",
        "        self.bias = nn.Parameter(torch.randn(1, requires_grad=True, dtype=torch.float))\n",
        "\n",
        "    # forward method to define computation in the model\n",
        "    def forward(self, x: torch.Tensor) -> torch.Tensor:     # x isthe input data\n",
        "        return self.weights * x + self.bias                 # linear regression formula\n"
      ],
      "metadata": {
        "id": "lWGimXRT8k6I"
      },
      "execution_count": null,
      "outputs": []
    },
    {
      "cell_type": "markdown",
      "source": [
        "### pytoch building essentials\n",
        "\n",
        "\n",
        "| Module              | Description                                                                                     |\n",
        "|---------------------|-------------------------------------------------------------------------------------------------|\n",
        "| **torch.nn**        | Provides building blocks for creating computational graphs and defining neural network layers. |\n",
        "| **torch.nn.Parameter** | Represents a parameter to be learned by the model during training.                              |\n",
        "| **torch.nn.Module** | Serves as the base class for all neural network modules, requiring the `forward()` method to be overwritten. |\n",
        "| **torch.optim**     | Contains various optimization algorithms such as Adam, SGD, etc., for updating model parameters during training. |\n",
        "| **torch.utils.data.Dataset** | Abstract class for representing datasets in PyTorch, providing access to samples and their corresponding labels. |\n",
        "| **torch.utils.data.DataLoader** | Provides an iterator interface to batched data, allowing efficient loading and preprocessing of datasets for training and inference. |"
      ],
      "metadata": {
        "id": "EY4t2FH22oBQ"
      }
    },
    {
      "cell_type": "markdown",
      "source": [
        "### Checking the contents of our model\n",
        "\n",
        "we can check the contents of our model y using `.parameters`"
      ],
      "metadata": {
        "id": "P0Cc2_LC4wGX"
      }
    },
    {
      "cell_type": "code",
      "source": [
        "# create a random seed\n",
        "torch.manual_seed(42)\n",
        "\n",
        "# create an instance of the model\n",
        "model_0 = LinearRegressionModel()\n",
        "\n",
        "model_0.parameters()"
      ],
      "metadata": {
        "colab": {
          "base_uri": "https://localhost:8080/"
        },
        "id": "qGAUdKvNybIy",
        "outputId": "65ca8748-7bb9-4090-d0c2-cd5c49a23e59"
      },
      "execution_count": null,
      "outputs": [
        {
          "output_type": "execute_result",
          "data": {
            "text/plain": [
              "<generator object Module.parameters at 0x798792bef0d0>"
            ]
          },
          "metadata": {},
          "execution_count": 10
        }
      ]
    },
    {
      "cell_type": "code",
      "source": [
        "for param in model_0.parameters():\n",
        "    print(param)\n",
        "\n",
        "# or use\n",
        "list(model_0.parameters())"
      ],
      "metadata": {
        "colab": {
          "base_uri": "https://localhost:8080/"
        },
        "id": "hgedoASHyq97",
        "outputId": "d1940f43-eb1c-49cf-fab7-e7e7a229f596"
      },
      "execution_count": null,
      "outputs": [
        {
          "output_type": "stream",
          "name": "stdout",
          "text": [
            "Parameter containing:\n",
            "tensor([0.3367], requires_grad=True)\n",
            "Parameter containing:\n",
            "tensor([0.1288], requires_grad=True)\n"
          ]
        },
        {
          "output_type": "execute_result",
          "data": {
            "text/plain": [
              "[Parameter containing:\n",
              " tensor([0.3367], requires_grad=True),\n",
              " Parameter containing:\n",
              " tensor([0.1288], requires_grad=True)]"
            ]
          },
          "metadata": {},
          "execution_count": 11
        }
      ]
    },
    {
      "cell_type": "markdown",
      "source": [
        "** remember that random seed to maintainthe randomness **"
      ],
      "metadata": {
        "id": "I2uLUXP2zbqq"
      }
    },
    {
      "cell_type": "code",
      "source": [
        "# list named parameters\n",
        "model_0.state_dict()"
      ],
      "metadata": {
        "colab": {
          "base_uri": "https://localhost:8080/"
        },
        "id": "Q2GpeYfN0PN6",
        "outputId": "b9f2cede-2370-4cfe-9da0-5fa1431b7a24"
      },
      "execution_count": null,
      "outputs": [
        {
          "output_type": "execute_result",
          "data": {
            "text/plain": [
              "OrderedDict([('weights', tensor([0.3367])), ('bias', tensor([0.1288]))])"
            ]
          },
          "metadata": {},
          "execution_count": 12
        }
      ]
    },
    {
      "cell_type": "markdown",
      "source": [
        "### Making Predictions Using `torch.inference_mode`\n",
        "\n",
        "To evaluate our model's predictive performance, we'll assess its ability to predict `y_test` based on `x_test`. When we pass data through our model, it runs through the forward method."
      ],
      "metadata": {
        "id": "T1Tb_Hrq0WqA"
      }
    },
    {
      "cell_type": "code",
      "source": [
        "# make predictions with model\n",
        "with torch.inference_mode():        # inference==predictions\n",
        "    y_preds = model_0(X_test)       # check out https://x.com/PyTorch/status/1437838231505096708?lang=en for simpler explanation\n",
        "\n",
        "y_preds"
      ],
      "metadata": {
        "colab": {
          "base_uri": "https://localhost:8080/"
        },
        "id": "S46-6-Cj7nrh",
        "outputId": "68f48b29-abc7-437d-a290-85d11045c5c3"
      },
      "execution_count": null,
      "outputs": [
        {
          "output_type": "execute_result",
          "data": {
            "text/plain": [
              "tensor([[0.3982],\n",
              "        [0.4049],\n",
              "        [0.4116],\n",
              "        [0.4184],\n",
              "        [0.4251],\n",
              "        [0.4318],\n",
              "        [0.4386],\n",
              "        [0.4453],\n",
              "        [0.4520],\n",
              "        [0.4588]])"
            ]
          },
          "metadata": {},
          "execution_count": 13
        }
      ]
    },
    {
      "cell_type": "code",
      "source": [
        "plot_preds(predictions = y_preds)   # youll see that the preds(red) are far away from the blue/green dots"
      ],
      "metadata": {
        "colab": {
          "base_uri": "https://localhost:8080/",
          "height": 599
        },
        "id": "w_XjQJpo8PQM",
        "outputId": "8ea573dc-af76-46c1-c6af-2386a279a6ac"
      },
      "execution_count": null,
      "outputs": [
        {
          "output_type": "display_data",
          "data": {
            "text/plain": [
              "<Figure size 1000x700 with 1 Axes>"
            ],
            "image/png": "[encoded data removed]"
          },
          "metadata": {}
        }
      ]
    },
    {
      "cell_type": "markdown",
      "source": [
        "# Train model\n",
        "\n",
        "\n",
        "\n",
        "The whole idea of training is for a model to move from some unknown parameters to some known parameters, i.e., from a poor representation of data to a better representation of data.\n",
        "\n",
        "We need a way to measure how poor our models are doing.\n",
        "\n",
        "Method 1: Loss functions/cost function/criterion function - a function used to measure how wrong your model's predictions are.\n",
        "\n",
        "Method 2: Optimizer - takes into account the loss of a model and adjusts the model's parameters.eg weights and bias to improve the loss function\n",
        "\n",
        "for pytorch we need a `training loop` and a `testing loop`\n"
      ],
      "metadata": {
        "id": "LRUAwwKn8T7j"
      }
    },
    {
      "cell_type": "markdown",
      "source": [
        "L1Loss function/mean absolute error\n",
        "\n",
        "\n",
        "```\n",
        "L_1 = (1/n) * Σ |y_pred_i - y_true_i|\n",
        "```\n",
        "\n",
        "Where:\n",
        "- \\( L_1 \\) is the \\( L_1 \\) loss or Mean Absolute Error (MAE),\n",
        "- \\( n \\) is the number of samples,\n",
        "- \\( y_pred_i \\) is the predicted value for the \\( i \\)-th sample,\n",
        "- \\( y_true_i \\) is the true (actual) value for the \\( i \\)-th sample,\n",
        "- \\( | \\cdot | \\) represents the absolute value.\n",
        "\n",
        "This formula calculates the average absolute difference between predicted and true values across all samples in the dataset.\n",
        "\n",
        "the formulae is already set in pytorch as `L1Loss`\n",
        "\n",
        "\n",
        "Resource: https://pytorch.org/docs/stable/generated/torch.nn.L1Loss.html"
      ],
      "metadata": {
        "id": "Kz6PtqI9AhR0"
      }
    },
    {
      "cell_type": "markdown",
      "source": [
        "Here's a table highlighting the most commonly used optimization algorithms:\n",
        "\n",
        "| Algorithm  | Description                                                                                                   |\n",
        "|------------|---------------------------------------------------------------------------------------------------------------|\n",
        "| **Adam**   | A popular optimization algorithm that combines aspects of RMSprop and momentum methods for faster convergence. |\n",
        "| **SGD**    | Stochastic\\Random Gradient Descent, a fundamental optimization algorithm used in training neural networks.          |\n",
        "| **RMSprop**| Root Mean Square Propagation, similar to AdaGrad but with a moving average of squared gradients.             |\n",
        "| **Adagrad**| Adaptive Gradient Algorithm, adjusts the learning rate of each parameter based on the frequency of updates. |\n",
        "| **AdamW**  | Adam with weight decay, a variation of Adam that incorporates weight decay regularization.                   |\n",
        "| **RAdam**  | Rectified Adam, a modification of Adam that introduces a term to stabilize the adaptive learning rate.       |\n",
        "\n",
        "These algorithms are widely used in training neural networks due to their effectiveness in optimizing model parameters."
      ],
      "metadata": {
        "id": "ukXXH0BTD4HU"
      }
    },
    {
      "cell_type": "markdown",
      "source": [
        "### loss function"
      ],
      "metadata": {
        "id": "5Dz17w0Wvf-d"
      }
    },
    {
      "cell_type": "code",
      "source": [
        "# loss function setup using torch.nn.L1Loss()\n",
        "loss_fn = torch.nn.L1Loss()\n",
        "\n",
        "# setting up optimizers using torch.optim and stochastic gradient descent\n",
        "optimizer = torch.optim.SGD(params=model_0.parameters(),\n",
        "                            lr=0.01)                   # learning rate ie the steps between parameter change ie changes the weights tensor"
      ],
      "metadata": {
        "id": "xj44eiMIBwAz"
      },
      "execution_count": null,
      "outputs": []
    },
    {
      "cell_type": "markdown",
      "source": [
        "### buildinga training loop in\n",
        "\n",
        "### PyTorch Training Loop Steps\n",
        "\n",
        "1. **Forward Pass:** The model goes through all of the training data once, performing its `forward()` function calculations (`model(x_train)`).\n",
        "\n",
        "2. **Calculate the Loss:** The model's outputs (predictions) are compared to the ground truth and evaluated to see how wrong they are (`loss = loss_fn(y_pred, y_train)`).\n",
        "\n",
        "3. **Zero Gradients:** The optimizer's gradients are set to zero (they are accumulated by default) so they can be recalculated for the specific training step (`optimizer.zero_grad()`).\n",
        "\n",
        "4. **Perform Backpropagation on the Loss:** Computes the gradient of the loss with respect to every model parameter to be updated (each parameter with `requires_grad=True`). This is known as backpropagation, hence \"backwards\" (`loss.backward()`).\n",
        "\n",
        "5. **Step the Optimizer (Gradient Descent):** Update the parameters with `requires_grad=True` with respect to the loss gradients in order to improve them (`optimizer.step()`).\n",
        "\n",
        "\n"
      ],
      "metadata": {
        "id": "QASQWOFaMXrx"
      }
    },
    {
      "cell_type": "markdown",
      "source": [
        "![picture](https://github.com/BMugo84/pytorch_in_25_hours/blob/main/training_loop_visualized.png?raw=True)"
      ],
      "metadata": {
        "id": "PsYy1OD_J4mi"
      }
    },
    {
      "cell_type": "markdown",
      "source": [
        "![picture](https://github.com/mrdbourke/pytorch-deep-learning/blob/main/images/01-pytorch-training-loop-annotated.png?raw=True)"
      ],
      "metadata": {
        "id": "jN2Fa7o6FKua"
      }
    },
    {
      "cell_type": "code",
      "source": [
        "# adding a random seed\n",
        "torch.manual_seed(42)\n",
        "\n",
        "# epoch is one loop through the data\n",
        "epochs = 200\n",
        "\n",
        "# loop through the data\n",
        "for epoch in range(epochs):\n",
        "    # set the model to training mode\n",
        "    model_0.train()\n",
        "\n",
        "    # 1. forward pass\n",
        "    y_pred = model_0(X_train) # remember our formulae, y = a+bX where X=X_train\n",
        "\n",
        "    # 2. claculate the loss\n",
        "    loss = loss_fn(y_pred, y_train)  # L1Loss accepts input and target, which have to be of the same shape or use (preds,labels)\n",
        "    # print(f\"Loss: {loss}\" )\n",
        "\n",
        "    # 3. optimizer zero_grad\n",
        "    optimizer.zero_grad()\n",
        "\n",
        "    # 4. perform backpropagation on the loss wrt parameters\n",
        "    loss.backward()\n",
        "\n",
        "    # step the optimizer(gradient descent approaching 0)\n",
        "    optimizer.step()\n",
        "\n",
        "    # Print loss, weights, and biases in one line\n",
        "    print(f\"Epoch {epoch+1}/{epochs}, Loss: {loss.item()}, Weights: {model_0.weights.item()}, Bias: {model_0.bias.item()}\")\n",
        "\n",
        "\n",
        "    model_0.eval()  # turns off different settings in the model not needed for evaluation\n",
        "\n",
        "    # print(model_0.state_dict())"
      ],
      "metadata": {
        "colab": {
          "base_uri": "https://localhost:8080/"
        },
        "collapsed": true,
        "id": "Wk1yuG2XbpA7",
        "outputId": "952646c9-c976-47e4-ad2f-a6200ad5b9c2"
      },
      "execution_count": null,
      "outputs": [
        {
          "output_type": "stream",
          "name": "stdout",
          "text": [
            "Epoch 1/200, Loss: 0.024458957836031914, Weights: 0.5800304412841797, Bias: 0.3503098785877228\n",
            "Epoch 2/200, Loss: 0.024110013619065285, Weights: 0.5818304419517517, Bias: 0.3498098850250244\n",
            "Epoch 3/200, Loss: 0.02376994863152504, Weights: 0.58342045545578, Bias: 0.3488098978996277\n",
            "Epoch 4/200, Loss: 0.02342480979859829, Weights: 0.585220456123352, Bias: 0.3483099043369293\n",
            "Epoch 5/200, Loss: 0.023080935701727867, Weights: 0.5868104696273804, Bias: 0.3473099172115326\n",
            "Epoch 6/200, Loss: 0.022739607840776443, Weights: 0.5886104702949524, Bias: 0.34680992364883423\n",
            "Epoch 7/200, Loss: 0.022391926497220993, Weights: 0.5902004837989807, Bias: 0.3458099365234375\n",
            "Epoch 8/200, Loss: 0.022054409608244896, Weights: 0.5920004844665527, Bias: 0.34530994296073914\n",
            "Epoch 9/200, Loss: 0.02170540764927864, Weights: 0.5938004851341248, Bias: 0.34480994939804077\n",
            "Epoch 10/200, Loss: 0.021366719156503677, Weights: 0.5953904986381531, Bias: 0.34380996227264404\n",
            "Epoch 11/200, Loss: 0.021020207554101944, Weights: 0.5971904993057251, Bias: 0.3433099687099457\n",
            "Epoch 12/200, Loss: 0.020677709951996803, Weights: 0.5987805128097534, Bias: 0.34230998158454895\n",
            "Epoch 13/200, Loss: 0.02033500373363495, Weights: 0.6005805134773254, Bias: 0.3418099880218506\n",
            "Epoch 14/200, Loss: 0.01998869702219963, Weights: 0.6021705269813538, Bias: 0.34081000089645386\n",
            "Epoch 15/200, Loss: 0.019649803638458252, Weights: 0.6039705276489258, Bias: 0.3403100073337555\n",
            "Epoch 16/200, Loss: 0.019300809130072594, Weights: 0.6057705283164978, Bias: 0.33981001377105713\n",
            "Epoch 17/200, Loss: 0.018963487818837166, Weights: 0.6073605418205261, Bias: 0.3388100266456604\n",
            "Epoch 18/200, Loss: 0.01861560344696045, Weights: 0.6091605424880981, Bias: 0.33831003308296204\n",
            "Epoch 19/200, Loss: 0.018274478614330292, Weights: 0.6107505559921265, Bias: 0.3373100459575653\n",
            "Epoch 20/200, Loss: 0.017930403351783752, Weights: 0.6125505566596985, Bias: 0.33681005239486694\n",
            "Epoch 21/200, Loss: 0.01758546568453312, Weights: 0.6141405701637268, Bias: 0.3358100652694702\n",
            "Epoch 22/200, Loss: 0.017245199531316757, Weights: 0.6159405708312988, Bias: 0.33531007170677185\n",
            "Epoch 23/200, Loss: 0.016896454617381096, Weights: 0.6175305843353271, Bias: 0.3343100845813751\n",
            "Epoch 24/200, Loss: 0.01656000316143036, Weights: 0.6193305850028992, Bias: 0.33381009101867676\n",
            "Epoch 25/200, Loss: 0.016210997477173805, Weights: 0.6211305856704712, Bias: 0.3333100974559784\n",
            "Epoch 26/200, Loss: 0.01587124727666378, Weights: 0.6227205991744995, Bias: 0.33231011033058167\n",
            "Epoch 27/200, Loss: 0.015525798313319683, Weights: 0.6245205998420715, Bias: 0.3318101167678833\n",
            "Epoch 28/200, Loss: 0.015182236209511757, Weights: 0.6261106133460999, Bias: 0.3308101296424866\n",
            "Epoch 29/200, Loss: 0.014840595424175262, Weights: 0.6279106140136719, Bias: 0.3303101360797882\n",
            "Epoch 30/200, Loss: 0.01449323259294033, Weights: 0.6295006275177002, Bias: 0.3293101489543915\n",
            "Epoch 31/200, Loss: 0.014155393466353416, Weights: 0.6313006281852722, Bias: 0.3288101553916931\n",
            "Epoch 32/200, Loss: 0.013806397095322609, Weights: 0.6331006288528442, Bias: 0.32831016182899475\n",
            "Epoch 33/200, Loss: 0.013468016870319843, Weights: 0.6346906423568726, Bias: 0.327310174703598\n",
            "Epoch 34/200, Loss: 0.013121193274855614, Weights: 0.6364906430244446, Bias: 0.32681018114089966\n",
            "Epoch 35/200, Loss: 0.01277900766581297, Weights: 0.6380806565284729, Bias: 0.32581019401550293\n",
            "Epoch 36/200, Loss: 0.012435992248356342, Weights: 0.6398806571960449, Bias: 0.32531020045280457\n",
            "Epoch 37/200, Loss: 0.01208999752998352, Weights: 0.6414706707000732, Bias: 0.32431021332740784\n",
            "Epoch 38/200, Loss: 0.011750795878469944, Weights: 0.6432706713676453, Bias: 0.3238102197647095\n",
            "Epoch 39/200, Loss: 0.011401787400245667, Weights: 0.6450706720352173, Bias: 0.3233102262020111\n",
            "Epoch 40/200, Loss: 0.011064787395298481, Weights: 0.6466606855392456, Bias: 0.3223102390766144\n",
            "Epoch 41/200, Loss: 0.010716589167714119, Weights: 0.6484606862068176, Bias: 0.321810245513916\n",
            "Epoch 42/200, Loss: 0.010375778190791607, Weights: 0.650050699710846, Bias: 0.3208102583885193\n",
            "Epoch 43/200, Loss: 0.010031387209892273, Weights: 0.651850700378418, Bias: 0.3203102648258209\n",
            "Epoch 44/200, Loss: 0.009686763398349285, Weights: 0.6534407138824463, Bias: 0.3193102777004242\n",
            "Epoch 45/200, Loss: 0.009346187114715576, Weights: 0.6552407145500183, Bias: 0.31881028413772583\n",
            "Epoch 46/200, Loss: 0.008997755125164986, Weights: 0.6568307280540466, Bias: 0.3178102970123291\n",
            "Epoch 47/200, Loss: 0.008660981431603432, Weights: 0.6586307287216187, Bias: 0.31731030344963074\n",
            "Epoch 48/200, Loss: 0.008311985060572624, Weights: 0.6604307293891907, Bias: 0.3168103098869324\n",
            "Epoch 49/200, Loss: 0.007972544990479946, Weights: 0.662020742893219, Bias: 0.31581032276153564\n",
            "Epoch 50/200, Loss: 0.007626785431057215, Weights: 0.663820743560791, Bias: 0.3153103291988373\n",
            "Epoch 51/200, Loss: 0.0072835334576666355, Weights: 0.6654107570648193, Bias: 0.31431034207344055\n",
            "Epoch 52/200, Loss: 0.006941580679267645, Weights: 0.6672107577323914, Bias: 0.3138103485107422\n",
            "Epoch 53/200, Loss: 0.006594526115804911, Weights: 0.6688007712364197, Bias: 0.31281036138534546\n",
            "Epoch 54/200, Loss: 0.006256377790123224, Weights: 0.6706007719039917, Bias: 0.3123103678226471\n",
            "Epoch 55/200, Loss: 0.005907376762479544, Weights: 0.6724007725715637, Bias: 0.31181037425994873\n",
            "Epoch 56/200, Loss: 0.005569315515458584, Weights: 0.673990786075592, Bias: 0.310810387134552\n",
            "Epoch 57/200, Loss: 0.005222178064286709, Weights: 0.6757907867431641, Bias: 0.31031039357185364\n",
            "Epoch 58/200, Loss: 0.004880306776612997, Weights: 0.6773808002471924, Bias: 0.3093104064464569\n",
            "Epoch 59/200, Loss: 0.004536976106464863, Weights: 0.6791808009147644, Bias: 0.30881041288375854\n",
            "Epoch 60/200, Loss: 0.00419129803776741, Weights: 0.6807708144187927, Bias: 0.3078104257583618\n",
            "Epoch 61/200, Loss: 0.0038517764769494534, Weights: 0.6825708150863647, Bias: 0.30731043219566345\n",
            "Epoch 62/200, Loss: 0.0035027749836444855, Weights: 0.6843708157539368, Bias: 0.3068104386329651\n",
            "Epoch 63/200, Loss: 0.0031660839449614286, Weights: 0.6859608292579651, Bias: 0.30581045150756836\n",
            "Epoch 64/200, Loss: 0.002817571861669421, Weights: 0.6877608299255371, Bias: 0.30531045794487\n",
            "Epoch 65/200, Loss: 0.0024770735763013363, Weights: 0.6893508434295654, Bias: 0.30431047081947327\n",
            "Epoch 66/200, Loss: 0.0021323717664927244, Weights: 0.6911508440971375, Bias: 0.3038104772567749\n",
            "Epoch 67/200, Loss: 0.0017880648374557495, Weights: 0.6927408576011658, Bias: 0.3028104901313782\n",
            "Epoch 68/200, Loss: 0.0014518328243866563, Weights: 0.6947408318519592, Bias: 0.3028104901313782\n",
            "Epoch 69/200, Loss: 0.0011887758737429976, Weights: 0.6951308250427246, Bias: 0.29931047558784485\n",
            "Epoch 70/200, Loss: 0.0025885067880153656, Weights: 0.6990308165550232, Bias: 0.3093104660511017\n",
            "Epoch 71/200, Loss: 0.008932482451200485, Weights: 0.6951308250427246, Bias: 0.29931047558784485\n",
            "Epoch 72/200, Loss: 0.0025885067880153656, Weights: 0.6990308165550232, Bias: 0.3093104660511017\n",
            "Epoch 73/200, Loss: 0.008932482451200485, Weights: 0.6951308250427246, Bias: 0.29931047558784485\n",
            "Epoch 74/200, Loss: 0.0025885067880153656, Weights: 0.6990308165550232, Bias: 0.3093104660511017\n",
            "Epoch 75/200, Loss: 0.008932482451200485, Weights: 0.6951308250427246, Bias: 0.29931047558784485\n",
            "Epoch 76/200, Loss: 0.0025885067880153656, Weights: 0.6990308165550232, Bias: 0.3093104660511017\n",
            "Epoch 77/200, Loss: 0.008932482451200485, Weights: 0.6951308250427246, Bias: 0.29931047558784485\n",
            "Epoch 78/200, Loss: 0.0025885067880153656, Weights: 0.6990308165550232, Bias: 0.3093104660511017\n",
            "Epoch 79/200, Loss: 0.008932482451200485, Weights: 0.6951308250427246, Bias: 0.29931047558784485\n",
            "Epoch 80/200, Loss: 0.0025885067880153656, Weights: 0.6990308165550232, Bias: 0.3093104660511017\n",
            "Epoch 81/200, Loss: 0.008932482451200485, Weights: 0.6951308250427246, Bias: 0.29931047558784485\n",
            "Epoch 82/200, Loss: 0.0025885067880153656, Weights: 0.6990308165550232, Bias: 0.3093104660511017\n",
            "Epoch 83/200, Loss: 0.008932482451200485, Weights: 0.6951308250427246, Bias: 0.29931047558784485\n",
            "Epoch 84/200, Loss: 0.0025885067880153656, Weights: 0.6990308165550232, Bias: 0.3093104660511017\n",
            "Epoch 85/200, Loss: 0.008932482451200485, Weights: 0.6951308250427246, Bias: 0.29931047558784485\n",
            "Epoch 86/200, Loss: 0.0025885067880153656, Weights: 0.6990308165550232, Bias: 0.3093104660511017\n",
            "Epoch 87/200, Loss: 0.008932482451200485, Weights: 0.6951308250427246, Bias: 0.29931047558784485\n",
            "Epoch 88/200, Loss: 0.0025885067880153656, Weights: 0.6990308165550232, Bias: 0.3093104660511017\n",
            "Epoch 89/200, Loss: 0.008932482451200485, Weights: 0.6951308250427246, Bias: 0.29931047558784485\n",
            "Epoch 90/200, Loss: 0.0025885067880153656, Weights: 0.6990308165550232, Bias: 0.3093104660511017\n",
            "Epoch 91/200, Loss: 0.008932482451200485, Weights: 0.6951308250427246, Bias: 0.29931047558784485\n",
            "Epoch 92/200, Loss: 0.0025885067880153656, Weights: 0.6990308165550232, Bias: 0.3093104660511017\n",
            "Epoch 93/200, Loss: 0.008932482451200485, Weights: 0.6951308250427246, Bias: 0.29931047558784485\n",
            "Epoch 94/200, Loss: 0.0025885067880153656, Weights: 0.6990308165550232, Bias: 0.3093104660511017\n",
            "Epoch 95/200, Loss: 0.008932482451200485, Weights: 0.6951308250427246, Bias: 0.29931047558784485\n",
            "Epoch 96/200, Loss: 0.0025885067880153656, Weights: 0.6990308165550232, Bias: 0.3093104660511017\n",
            "Epoch 97/200, Loss: 0.008932482451200485, Weights: 0.6951308250427246, Bias: 0.29931047558784485\n",
            "Epoch 98/200, Loss: 0.0025885067880153656, Weights: 0.6990308165550232, Bias: 0.3093104660511017\n",
            "Epoch 99/200, Loss: 0.008932482451200485, Weights: 0.6951308250427246, Bias: 0.29931047558784485\n",
            "Epoch 100/200, Loss: 0.0025885067880153656, Weights: 0.6990308165550232, Bias: 0.3093104660511017\n",
            "Epoch 101/200, Loss: 0.008932482451200485, Weights: 0.6951308250427246, Bias: 0.29931047558784485\n",
            "Epoch 102/200, Loss: 0.0025885067880153656, Weights: 0.6990308165550232, Bias: 0.3093104660511017\n",
            "Epoch 103/200, Loss: 0.008932482451200485, Weights: 0.6951308250427246, Bias: 0.29931047558784485\n",
            "Epoch 104/200, Loss: 0.0025885067880153656, Weights: 0.6990308165550232, Bias: 0.3093104660511017\n",
            "Epoch 105/200, Loss: 0.008932482451200485, Weights: 0.6951308250427246, Bias: 0.29931047558784485\n",
            "Epoch 106/200, Loss: 0.0025885067880153656, Weights: 0.6990308165550232, Bias: 0.3093104660511017\n",
            "Epoch 107/200, Loss: 0.008932482451200485, Weights: 0.6951308250427246, Bias: 0.29931047558784485\n",
            "Epoch 108/200, Loss: 0.0025885067880153656, Weights: 0.6990308165550232, Bias: 0.3093104660511017\n",
            "Epoch 109/200, Loss: 0.008932482451200485, Weights: 0.6951308250427246, Bias: 0.29931047558784485\n",
            "Epoch 110/200, Loss: 0.0025885067880153656, Weights: 0.6990308165550232, Bias: 0.3093104660511017\n",
            "Epoch 111/200, Loss: 0.008932482451200485, Weights: 0.6951308250427246, Bias: 0.29931047558784485\n",
            "Epoch 112/200, Loss: 0.0025885067880153656, Weights: 0.6990308165550232, Bias: 0.3093104660511017\n",
            "Epoch 113/200, Loss: 0.008932482451200485, Weights: 0.6951308250427246, Bias: 0.29931047558784485\n",
            "Epoch 114/200, Loss: 0.0025885067880153656, Weights: 0.6990308165550232, Bias: 0.3093104660511017\n",
            "Epoch 115/200, Loss: 0.008932482451200485, Weights: 0.6951308250427246, Bias: 0.29931047558784485\n",
            "Epoch 116/200, Loss: 0.0025885067880153656, Weights: 0.6990308165550232, Bias: 0.3093104660511017\n",
            "Epoch 117/200, Loss: 0.008932482451200485, Weights: 0.6951308250427246, Bias: 0.29931047558784485\n",
            "Epoch 118/200, Loss: 0.0025885067880153656, Weights: 0.6990308165550232, Bias: 0.3093104660511017\n",
            "Epoch 119/200, Loss: 0.008932482451200485, Weights: 0.6951308250427246, Bias: 0.29931047558784485\n",
            "Epoch 120/200, Loss: 0.0025885067880153656, Weights: 0.6990308165550232, Bias: 0.3093104660511017\n",
            "Epoch 121/200, Loss: 0.008932482451200485, Weights: 0.6951308250427246, Bias: 0.29931047558784485\n",
            "Epoch 122/200, Loss: 0.0025885067880153656, Weights: 0.6990308165550232, Bias: 0.3093104660511017\n",
            "Epoch 123/200, Loss: 0.008932482451200485, Weights: 0.6951308250427246, Bias: 0.29931047558784485\n",
            "Epoch 124/200, Loss: 0.0025885067880153656, Weights: 0.6990308165550232, Bias: 0.3093104660511017\n",
            "Epoch 125/200, Loss: 0.008932482451200485, Weights: 0.6951308250427246, Bias: 0.29931047558784485\n",
            "Epoch 126/200, Loss: 0.0025885067880153656, Weights: 0.6990308165550232, Bias: 0.3093104660511017\n",
            "Epoch 127/200, Loss: 0.008932482451200485, Weights: 0.6951308250427246, Bias: 0.29931047558784485\n",
            "Epoch 128/200, Loss: 0.0025885067880153656, Weights: 0.6990308165550232, Bias: 0.3093104660511017\n",
            "Epoch 129/200, Loss: 0.008932482451200485, Weights: 0.6951308250427246, Bias: 0.29931047558784485\n",
            "Epoch 130/200, Loss: 0.0025885067880153656, Weights: 0.6990308165550232, Bias: 0.3093104660511017\n",
            "Epoch 131/200, Loss: 0.008932482451200485, Weights: 0.6951308250427246, Bias: 0.29931047558784485\n",
            "Epoch 132/200, Loss: 0.0025885067880153656, Weights: 0.6990308165550232, Bias: 0.3093104660511017\n",
            "Epoch 133/200, Loss: 0.008932482451200485, Weights: 0.6951308250427246, Bias: 0.29931047558784485\n",
            "Epoch 134/200, Loss: 0.0025885067880153656, Weights: 0.6990308165550232, Bias: 0.3093104660511017\n",
            "Epoch 135/200, Loss: 0.008932482451200485, Weights: 0.6951308250427246, Bias: 0.29931047558784485\n",
            "Epoch 136/200, Loss: 0.0025885067880153656, Weights: 0.6990308165550232, Bias: 0.3093104660511017\n",
            "Epoch 137/200, Loss: 0.008932482451200485, Weights: 0.6951308250427246, Bias: 0.29931047558784485\n",
            "Epoch 138/200, Loss: 0.0025885067880153656, Weights: 0.6990308165550232, Bias: 0.3093104660511017\n",
            "Epoch 139/200, Loss: 0.008932482451200485, Weights: 0.6951308250427246, Bias: 0.29931047558784485\n",
            "Epoch 140/200, Loss: 0.0025885067880153656, Weights: 0.6990308165550232, Bias: 0.3093104660511017\n",
            "Epoch 141/200, Loss: 0.008932482451200485, Weights: 0.6951308250427246, Bias: 0.29931047558784485\n",
            "Epoch 142/200, Loss: 0.0025885067880153656, Weights: 0.6990308165550232, Bias: 0.3093104660511017\n",
            "Epoch 143/200, Loss: 0.008932482451200485, Weights: 0.6951308250427246, Bias: 0.29931047558784485\n",
            "Epoch 144/200, Loss: 0.0025885067880153656, Weights: 0.6990308165550232, Bias: 0.3093104660511017\n",
            "Epoch 145/200, Loss: 0.008932482451200485, Weights: 0.6951308250427246, Bias: 0.29931047558784485\n",
            "Epoch 146/200, Loss: 0.0025885067880153656, Weights: 0.6990308165550232, Bias: 0.3093104660511017\n",
            "Epoch 147/200, Loss: 0.008932482451200485, Weights: 0.6951308250427246, Bias: 0.29931047558784485\n",
            "Epoch 148/200, Loss: 0.0025885067880153656, Weights: 0.6990308165550232, Bias: 0.3093104660511017\n",
            "Epoch 149/200, Loss: 0.008932482451200485, Weights: 0.6951308250427246, Bias: 0.29931047558784485\n",
            "Epoch 150/200, Loss: 0.0025885067880153656, Weights: 0.6990308165550232, Bias: 0.3093104660511017\n",
            "Epoch 151/200, Loss: 0.008932482451200485, Weights: 0.6951308250427246, Bias: 0.29931047558784485\n",
            "Epoch 152/200, Loss: 0.0025885067880153656, Weights: 0.6990308165550232, Bias: 0.3093104660511017\n",
            "Epoch 153/200, Loss: 0.008932482451200485, Weights: 0.6951308250427246, Bias: 0.29931047558784485\n",
            "Epoch 154/200, Loss: 0.0025885067880153656, Weights: 0.6990308165550232, Bias: 0.3093104660511017\n",
            "Epoch 155/200, Loss: 0.008932482451200485, Weights: 0.6951308250427246, Bias: 0.29931047558784485\n",
            "Epoch 156/200, Loss: 0.0025885067880153656, Weights: 0.6990308165550232, Bias: 0.3093104660511017\n",
            "Epoch 157/200, Loss: 0.008932482451200485, Weights: 0.6951308250427246, Bias: 0.29931047558784485\n",
            "Epoch 158/200, Loss: 0.0025885067880153656, Weights: 0.6990308165550232, Bias: 0.3093104660511017\n",
            "Epoch 159/200, Loss: 0.008932482451200485, Weights: 0.6951308250427246, Bias: 0.29931047558784485\n",
            "Epoch 160/200, Loss: 0.0025885067880153656, Weights: 0.6990308165550232, Bias: 0.3093104660511017\n",
            "Epoch 161/200, Loss: 0.008932482451200485, Weights: 0.6951308250427246, Bias: 0.29931047558784485\n",
            "Epoch 162/200, Loss: 0.0025885067880153656, Weights: 0.6990308165550232, Bias: 0.3093104660511017\n",
            "Epoch 163/200, Loss: 0.008932482451200485, Weights: 0.6951308250427246, Bias: 0.29931047558784485\n",
            "Epoch 164/200, Loss: 0.0025885067880153656, Weights: 0.6990308165550232, Bias: 0.3093104660511017\n",
            "Epoch 165/200, Loss: 0.008932482451200485, Weights: 0.6951308250427246, Bias: 0.29931047558784485\n",
            "Epoch 166/200, Loss: 0.0025885067880153656, Weights: 0.6990308165550232, Bias: 0.3093104660511017\n",
            "Epoch 167/200, Loss: 0.008932482451200485, Weights: 0.6951308250427246, Bias: 0.29931047558784485\n",
            "Epoch 168/200, Loss: 0.0025885067880153656, Weights: 0.6990308165550232, Bias: 0.3093104660511017\n",
            "Epoch 169/200, Loss: 0.008932482451200485, Weights: 0.6951308250427246, Bias: 0.29931047558784485\n",
            "Epoch 170/200, Loss: 0.0025885067880153656, Weights: 0.6990308165550232, Bias: 0.3093104660511017\n",
            "Epoch 171/200, Loss: 0.008932482451200485, Weights: 0.6951308250427246, Bias: 0.29931047558784485\n",
            "Epoch 172/200, Loss: 0.0025885067880153656, Weights: 0.6990308165550232, Bias: 0.3093104660511017\n",
            "Epoch 173/200, Loss: 0.008932482451200485, Weights: 0.6951308250427246, Bias: 0.29931047558784485\n",
            "Epoch 174/200, Loss: 0.0025885067880153656, Weights: 0.6990308165550232, Bias: 0.3093104660511017\n",
            "Epoch 175/200, Loss: 0.008932482451200485, Weights: 0.6951308250427246, Bias: 0.29931047558784485\n",
            "Epoch 176/200, Loss: 0.0025885067880153656, Weights: 0.6990308165550232, Bias: 0.3093104660511017\n",
            "Epoch 177/200, Loss: 0.008932482451200485, Weights: 0.6951308250427246, Bias: 0.29931047558784485\n",
            "Epoch 178/200, Loss: 0.0025885067880153656, Weights: 0.6990308165550232, Bias: 0.3093104660511017\n",
            "Epoch 179/200, Loss: 0.008932482451200485, Weights: 0.6951308250427246, Bias: 0.29931047558784485\n",
            "Epoch 180/200, Loss: 0.0025885067880153656, Weights: 0.6990308165550232, Bias: 0.3093104660511017\n",
            "Epoch 181/200, Loss: 0.008932482451200485, Weights: 0.6951308250427246, Bias: 0.29931047558784485\n",
            "Epoch 182/200, Loss: 0.0025885067880153656, Weights: 0.6990308165550232, Bias: 0.3093104660511017\n",
            "Epoch 183/200, Loss: 0.008932482451200485, Weights: 0.6951308250427246, Bias: 0.29931047558784485\n",
            "Epoch 184/200, Loss: 0.0025885067880153656, Weights: 0.6990308165550232, Bias: 0.3093104660511017\n",
            "Epoch 185/200, Loss: 0.008932482451200485, Weights: 0.6951308250427246, Bias: 0.29931047558784485\n",
            "Epoch 186/200, Loss: 0.0025885067880153656, Weights: 0.6990308165550232, Bias: 0.3093104660511017\n",
            "Epoch 187/200, Loss: 0.008932482451200485, Weights: 0.6951308250427246, Bias: 0.29931047558784485\n",
            "Epoch 188/200, Loss: 0.0025885067880153656, Weights: 0.6990308165550232, Bias: 0.3093104660511017\n",
            "Epoch 189/200, Loss: 0.008932482451200485, Weights: 0.6951308250427246, Bias: 0.29931047558784485\n",
            "Epoch 190/200, Loss: 0.0025885067880153656, Weights: 0.6990308165550232, Bias: 0.3093104660511017\n",
            "Epoch 191/200, Loss: 0.008932482451200485, Weights: 0.6951308250427246, Bias: 0.29931047558784485\n",
            "Epoch 192/200, Loss: 0.0025885067880153656, Weights: 0.6990308165550232, Bias: 0.3093104660511017\n",
            "Epoch 193/200, Loss: 0.008932482451200485, Weights: 0.6951308250427246, Bias: 0.29931047558784485\n",
            "Epoch 194/200, Loss: 0.0025885067880153656, Weights: 0.6990308165550232, Bias: 0.3093104660511017\n",
            "Epoch 195/200, Loss: 0.008932482451200485, Weights: 0.6951308250427246, Bias: 0.29931047558784485\n",
            "Epoch 196/200, Loss: 0.0025885067880153656, Weights: 0.6990308165550232, Bias: 0.3093104660511017\n",
            "Epoch 197/200, Loss: 0.008932482451200485, Weights: 0.6951308250427246, Bias: 0.29931047558784485\n",
            "Epoch 198/200, Loss: 0.0025885067880153656, Weights: 0.6990308165550232, Bias: 0.3093104660511017\n",
            "Epoch 199/200, Loss: 0.008932482451200485, Weights: 0.6951308250427246, Bias: 0.29931047558784485\n",
            "Epoch 200/200, Loss: 0.0025885067880153656, Weights: 0.6990308165550232, Bias: 0.3093104660511017\n"
          ]
        }
      ]
    },
    {
      "cell_type": "markdown",
      "source": [
        "\n",
        "\"The `.train()` method activates **dropout layers**, which randomly drop neurons during training to prevent overfitting and promote better generalization. Additionally, it switches **batch normalization layers** from using population statistics to using mini-batch statistics*(sample stats)*.\"\n",
        "\n",
        "The main function of `gradient descent` is indeed to minimize the loss function as much as possible with each step taken during optimization."
      ],
      "metadata": {
        "id": "kwP-0tGefotd"
      }
    },
    {
      "cell_type": "code",
      "source": [
        "model_0.state_dict(), (weight,bias)"
      ],
      "metadata": {
        "colab": {
          "base_uri": "https://localhost:8080/"
        },
        "id": "kuJ2miXvgJ4f",
        "outputId": "7057ebe3-22c0-44ca-988c-69cfc38f9001"
      },
      "execution_count": null,
      "outputs": [
        {
          "output_type": "execute_result",
          "data": {
            "text/plain": [
              "(OrderedDict([('weights', tensor([0.5784])), ('bias', tensor([0.3513]))]),\n",
              " (0.7, 0.3))"
            ]
          },
          "metadata": {},
          "execution_count": 99
        }
      ]
    },
    {
      "cell_type": "code",
      "source": [
        "model_0.state_dict(), (weight,bias)"
      ],
      "metadata": {
        "colab": {
          "base_uri": "https://localhost:8080/"
        },
        "id": "OE9ptHX5RMAs",
        "outputId": "3fef084d-3a9c-4318-b763-ff682ee4cd7a"
      },
      "execution_count": null,
      "outputs": [
        {
          "output_type": "execute_result",
          "data": {
            "text/plain": [
              "(OrderedDict([('weights', tensor([0.5784])), ('bias', tensor([0.3513]))]),\n",
              " (0.7, 0.3))"
            ]
          },
          "metadata": {},
          "execution_count": 100
        }
      ]
    },
    {
      "cell_type": "code",
      "source": [
        "plot_preds(predictions=y_preds)"
      ],
      "metadata": {
        "colab": {
          "base_uri": "https://localhost:8080/",
          "height": 599
        },
        "id": "yQhGyjEnbXSu",
        "outputId": "003a5bee-ba83-40a8-e527-b34a9666647c"
      },
      "execution_count": null,
      "outputs": [
        {
          "output_type": "display_data",
          "data": {
            "text/plain": [
              "<Figure size 1000x700 with 1 Axes>"
            ],
            "image/png": "[encoded data removed]"
          },
          "metadata": {}
        }
      ]
    },
    {
      "cell_type": "code",
      "source": [
        "with torch.inference_mode():\n",
        "    y_preds_new = model_0(X_test)\n",
        "\n",
        "plot_preds(predictions=y_preds_new)"
      ],
      "metadata": {
        "colab": {
          "base_uri": "https://localhost:8080/",
          "height": 599
        },
        "id": "F5m7qCBXa0l7",
        "outputId": "1396a376-ed69-4279-a935-63f93873add4"
      },
      "execution_count": null,
      "outputs": [
        {
          "output_type": "display_data",
          "data": {
            "text/plain": [
              "<Figure size 1000x700 with 1 Axes>"
            ],
            "image/png": "[encoded data removed]"
          },
          "metadata": {}
        }
      ]
    },
    {
      "cell_type": "markdown",
      "source": [
        "### adding testing"
      ],
      "metadata": {
        "id": "1Kd2gVvbgAk7"
      }
    },
    {
      "cell_type": "markdown",
      "source": [
        "![picture](https://github.com/BMugo84/pytorch_in_25_hours/blob/main/testing_loop.png?raw=True)"
      ],
      "metadata": {
        "id": "t5l1sTgq4-ef"
      }
    },
    {
      "cell_type": "code",
      "source": [
        "# adding a random seed\n",
        "torch.manual_seed(42)\n",
        "\n",
        "# epoch is one loop through the data\n",
        "epochs = 100\n",
        "\n",
        "# loop through the data\n",
        "for epoch in range(epochs):\n",
        "    # set the model to training mode\n",
        "    model_0.train()\n",
        "\n",
        "    # 1. forward pass\n",
        "    y_pred = model_0(X_train) # remember our formulae, y = a+bX where X=X_train\n",
        "\n",
        "    # 2. claculate the loss\n",
        "    loss = loss_fn(y_pred, y_train)  # L1Loss accepts input and target, which have to be of the same shape or use (preds,labels)\n",
        "    print(f\"Loss: {loss}\" )\n",
        "\n",
        "    # 3. optimizer zero_grad\n",
        "    optimizer.zero_grad()\n",
        "\n",
        "    # 4. perform backpropagation on the loss wrt parameters\n",
        "    loss.backward()\n",
        "\n",
        "    # step the optimizer(gradient descent approaching 0)\n",
        "    optimizer.step()\n",
        "\n",
        "\n",
        "    model_0.eval()  # turns off different settings in the model not needed for evaluation\n",
        "\n",
        "    # view whats happening\n",
        "    with torch.inference_mode():\n",
        "        # 1. forward pass\n",
        "        test_pred = model_0(X_test)\n",
        "\n",
        "        # 2. calculate loss\n",
        "        test_loss = loss_fn(test_pred, y_test)\n",
        "\n",
        "    if epoch % 10 == 0:\n",
        "        print(f\"Epoch: {epoch}  |   Loss: {loss}    |   Test Loss {test_loss}\")\n",
        "        print(model_0.state_dict())\n",
        "\n",
        "\n"
      ],
      "metadata": {
        "colab": {
          "base_uri": "https://localhost:8080/"
        },
        "collapsed": true,
        "id": "_jWTmVgsgiwo",
        "outputId": "9a5e67b0-ec13-43dd-b4c0-583af98e8490"
      },
      "execution_count": null,
      "outputs": [
        {
          "output_type": "stream",
          "name": "stdout",
          "text": [
            "Loss: 0.31288138031959534\n",
            "Epoch: 0  |   Loss: 0.31288138031959534    |   Test Loss 0.4945361614227295\n",
            "OrderedDict([('weights', tensor([0.3367])), ('bias', tensor([0.1288]))])\n",
            "Loss: 0.31288138031959534\n",
            "Loss: 0.31288138031959534\n",
            "Loss: 0.31288138031959534\n",
            "Loss: 0.31288138031959534\n",
            "Loss: 0.31288138031959534\n",
            "Loss: 0.31288138031959534\n",
            "Loss: 0.31288138031959534\n",
            "Loss: 0.31288138031959534\n",
            "Loss: 0.31288138031959534\n",
            "Loss: 0.31288138031959534\n",
            "Epoch: 10  |   Loss: 0.31288138031959534    |   Test Loss 0.4945361614227295\n",
            "OrderedDict([('weights', tensor([0.3367])), ('bias', tensor([0.1288]))])\n",
            "Loss: 0.31288138031959534\n",
            "Loss: 0.31288138031959534\n",
            "Loss: 0.31288138031959534\n",
            "Loss: 0.31288138031959534\n",
            "Loss: 0.31288138031959534\n",
            "Loss: 0.31288138031959534\n",
            "Loss: 0.31288138031959534\n",
            "Loss: 0.31288138031959534\n",
            "Loss: 0.31288138031959534\n",
            "Loss: 0.31288138031959534\n",
            "Epoch: 20  |   Loss: 0.31288138031959534    |   Test Loss 0.4945361614227295\n",
            "OrderedDict([('weights', tensor([0.3367])), ('bias', tensor([0.1288]))])\n",
            "Loss: 0.31288138031959534\n",
            "Loss: 0.31288138031959534\n",
            "Loss: 0.31288138031959534\n",
            "Loss: 0.31288138031959534\n",
            "Loss: 0.31288138031959534\n",
            "Loss: 0.31288138031959534\n",
            "Loss: 0.31288138031959534\n",
            "Loss: 0.31288138031959534\n",
            "Loss: 0.31288138031959534\n",
            "Loss: 0.31288138031959534\n",
            "Epoch: 30  |   Loss: 0.31288138031959534    |   Test Loss 0.4945361614227295\n",
            "OrderedDict([('weights', tensor([0.3367])), ('bias', tensor([0.1288]))])\n",
            "Loss: 0.31288138031959534\n",
            "Loss: 0.31288138031959534\n",
            "Loss: 0.31288138031959534\n",
            "Loss: 0.31288138031959534\n",
            "Loss: 0.31288138031959534\n",
            "Loss: 0.31288138031959534\n",
            "Loss: 0.31288138031959534\n",
            "Loss: 0.31288138031959534\n",
            "Loss: 0.31288138031959534\n",
            "Loss: 0.31288138031959534\n",
            "Epoch: 40  |   Loss: 0.31288138031959534    |   Test Loss 0.4945361614227295\n",
            "OrderedDict([('weights', tensor([0.3367])), ('bias', tensor([0.1288]))])\n",
            "Loss: 0.31288138031959534\n",
            "Loss: 0.31288138031959534\n",
            "Loss: 0.31288138031959534\n",
            "Loss: 0.31288138031959534\n",
            "Loss: 0.31288138031959534\n",
            "Loss: 0.31288138031959534\n",
            "Loss: 0.31288138031959534\n",
            "Loss: 0.31288138031959534\n",
            "Loss: 0.31288138031959534\n",
            "Loss: 0.31288138031959534\n",
            "Epoch: 50  |   Loss: 0.31288138031959534    |   Test Loss 0.4945361614227295\n",
            "OrderedDict([('weights', tensor([0.3367])), ('bias', tensor([0.1288]))])\n",
            "Loss: 0.31288138031959534\n",
            "Loss: 0.31288138031959534\n",
            "Loss: 0.31288138031959534\n",
            "Loss: 0.31288138031959534\n",
            "Loss: 0.31288138031959534\n",
            "Loss: 0.31288138031959534\n",
            "Loss: 0.31288138031959534\n",
            "Loss: 0.31288138031959534\n",
            "Loss: 0.31288138031959534\n",
            "Loss: 0.31288138031959534\n",
            "Epoch: 60  |   Loss: 0.31288138031959534    |   Test Loss 0.4945361614227295\n",
            "OrderedDict([('weights', tensor([0.3367])), ('bias', tensor([0.1288]))])\n",
            "Loss: 0.31288138031959534\n",
            "Loss: 0.31288138031959534\n",
            "Loss: 0.31288138031959534\n",
            "Loss: 0.31288138031959534\n",
            "Loss: 0.31288138031959534\n",
            "Loss: 0.31288138031959534\n",
            "Loss: 0.31288138031959534\n",
            "Loss: 0.31288138031959534\n",
            "Loss: 0.31288138031959534\n",
            "Loss: 0.31288138031959534\n",
            "Epoch: 70  |   Loss: 0.31288138031959534    |   Test Loss 0.4945361614227295\n",
            "OrderedDict([('weights', tensor([0.3367])), ('bias', tensor([0.1288]))])\n",
            "Loss: 0.31288138031959534\n",
            "Loss: 0.31288138031959534\n",
            "Loss: 0.31288138031959534\n",
            "Loss: 0.31288138031959534\n",
            "Loss: 0.31288138031959534\n",
            "Loss: 0.31288138031959534\n",
            "Loss: 0.31288138031959534\n",
            "Loss: 0.31288138031959534\n",
            "Loss: 0.31288138031959534\n",
            "Loss: 0.31288138031959534\n",
            "Epoch: 80  |   Loss: 0.31288138031959534    |   Test Loss 0.4945361614227295\n",
            "OrderedDict([('weights', tensor([0.3367])), ('bias', tensor([0.1288]))])\n",
            "Loss: 0.31288138031959534\n",
            "Loss: 0.31288138031959534\n",
            "Loss: 0.31288138031959534\n",
            "Loss: 0.31288138031959534\n",
            "Loss: 0.31288138031959534\n",
            "Loss: 0.31288138031959534\n",
            "Loss: 0.31288138031959534\n",
            "Loss: 0.31288138031959534\n",
            "Loss: 0.31288138031959534\n",
            "Loss: 0.31288138031959534\n",
            "Epoch: 90  |   Loss: 0.31288138031959534    |   Test Loss 0.4945361614227295\n",
            "OrderedDict([('weights', tensor([0.3367])), ('bias', tensor([0.1288]))])\n",
            "Loss: 0.31288138031959534\n",
            "Loss: 0.31288138031959534\n",
            "Loss: 0.31288138031959534\n",
            "Loss: 0.31288138031959534\n",
            "Loss: 0.31288138031959534\n",
            "Loss: 0.31288138031959534\n",
            "Loss: 0.31288138031959534\n",
            "Loss: 0.31288138031959534\n",
            "Loss: 0.31288138031959534\n"
          ]
        }
      ]
    },
    {
      "cell_type": "code",
      "source": [
        "with torch.inference_mode():\n",
        "    y_preds_new = model_0(X_test)\n",
        "\n",
        "plot_preds(predictions=y_preds_new)"
      ],
      "metadata": {
        "colab": {
          "base_uri": "https://localhost:8080/",
          "height": 599
        },
        "id": "g_OWu0ykivoL",
        "outputId": "9ddd6618-9982-40a4-f4d7-e529d47693c2"
      },
      "execution_count": null,
      "outputs": [
        {
          "output_type": "display_data",
          "data": {
            "text/plain": [
              "<Figure size 1000x700 with 1 Axes>"
            ],
            "image/png": "[encoded data removed]"
          },
          "metadata": {}
        }
      ]
    },
    {
      "cell_type": "code",
      "source": [
        "weight,bias"
      ],
      "metadata": {
        "colab": {
          "base_uri": "https://localhost:8080/"
        },
        "id": "747hqzpuj1UL",
        "outputId": "e0a97786-17fb-4f87-9110-6b4fddf26eb0"
      },
      "execution_count": null,
      "outputs": [
        {
          "output_type": "execute_result",
          "data": {
            "text/plain": [
              "(0.7, 0.3)"
            ]
          },
          "metadata": {},
          "execution_count": 110
        }
      ]
    },
    {
      "cell_type": "code",
      "source": [
        "model_0.state_dict()"
      ],
      "metadata": {
        "colab": {
          "base_uri": "https://localhost:8080/"
        },
        "id": "dc3uJQjej3Se",
        "outputId": "9759778e-39f8-45fd-c22b-44d36beef69b"
      },
      "execution_count": null,
      "outputs": [
        {
          "output_type": "execute_result",
          "data": {
            "text/plain": [
              "OrderedDict([('weights', tensor([0.6990])), ('bias', tensor([0.3093]))])"
            ]
          },
          "metadata": {},
          "execution_count": 111
        }
      ]
    },
    {
      "cell_type": "markdown",
      "source": [
        "### tracking loss values and test loss values"
      ],
      "metadata": {
        "id": "33jnamXmkVkc"
      }
    },
    {
      "cell_type": "code",
      "source": [
        "# adding a random seed\n",
        "torch.manual_seed(42)\n",
        "\n",
        "# epoch is one loop through the data\n",
        "epochs = 200\n",
        "\n",
        "# keeping track\n",
        "epoch_count = []\n",
        "loss_values = []\n",
        "test_loss_values = []\n",
        "\n",
        "# loop through the data\n",
        "for epoch in range(epochs):\n",
        "    # set the model to training mode\n",
        "    model_0.train()\n",
        "\n",
        "    # 1. forward pass\n",
        "    y_pred = model_0(X_train) # remember our formulae, y = a+bX where X=X_train\n",
        "\n",
        "    # 2. claculate the loss\n",
        "    loss = loss_fn(y_pred, y_train)  # L1Loss accepts input and target, which have to be of the same shape or use (preds,labels)\n",
        "    # print(f\"Loss: {loss}\" )\n",
        "\n",
        "    # 3. optimizer zero_grad\n",
        "    optimizer.zero_grad()\n",
        "\n",
        "    # 4. perform backpropagation on the loss wrt parameters\n",
        "    loss.backward()\n",
        "\n",
        "    # step the optimizer(gradient descent approaching 0)\n",
        "    optimizer.step()\n",
        "\n",
        "\n",
        "    model_0.eval()  # turns off different settings in the model not needed for evaluation\n",
        "\n",
        "    # view whats happening\n",
        "    with torch.inference_mode():\n",
        "        # 1. forward pass\n",
        "        test_pred = model_0(X_test)\n",
        "\n",
        "        # 2. calculate loss\n",
        "        test_loss = loss_fn(test_pred, y_test)\n",
        "\n",
        "    if epoch % 10 == 0:\n",
        "        epoch_count.append(epoch)\n",
        "        loss_values.append(loss)\n",
        "        test_loss_values.append(test_loss)\n",
        "        print(f\"Epoch: {epoch}  |   Loss: {loss}    |   Test Loss {test_loss}\")\n",
        "        print(model_0.state_dict())"
      ],
      "metadata": {
        "colab": {
          "base_uri": "https://localhost:8080/"
        },
        "id": "phvjgnB7k43N",
        "outputId": "e7cd96c4-84a5-46f8-dd12-4f7588686140"
      },
      "execution_count": null,
      "outputs": [
        {
          "output_type": "stream",
          "name": "stdout",
          "text": [
            "Epoch: 0  |   Loss: 0.31288138031959534    |   Test Loss 0.48106518387794495\n",
            "OrderedDict([('weights', tensor([0.3406])), ('bias', tensor([0.1388]))])\n",
            "Epoch: 10  |   Loss: 0.1976713240146637    |   Test Loss 0.3463551998138428\n",
            "OrderedDict([('weights', tensor([0.3796])), ('bias', tensor([0.2388]))])\n",
            "Epoch: 20  |   Loss: 0.08908725529909134    |   Test Loss 0.21729660034179688\n",
            "OrderedDict([('weights', tensor([0.4184])), ('bias', tensor([0.3333]))])\n",
            "Epoch: 30  |   Loss: 0.053148526698350906    |   Test Loss 0.14464017748832703\n",
            "OrderedDict([('weights', tensor([0.4512])), ('bias', tensor([0.3768]))])\n",
            "Epoch: 40  |   Loss: 0.04543796554207802    |   Test Loss 0.11360953003168106\n",
            "OrderedDict([('weights', tensor([0.4748])), ('bias', tensor([0.3868]))])\n",
            "Epoch: 50  |   Loss: 0.04167863354086876    |   Test Loss 0.09919948130846024\n",
            "OrderedDict([('weights', tensor([0.4938])), ('bias', tensor([0.3843]))])\n",
            "Epoch: 60  |   Loss: 0.03818932920694351    |   Test Loss 0.08886633068323135\n",
            "OrderedDict([('weights', tensor([0.5116])), ('bias', tensor([0.3788]))])\n",
            "Epoch: 70  |   Loss: 0.03476089984178543    |   Test Loss 0.0805937647819519\n",
            "OrderedDict([('weights', tensor([0.5288])), ('bias', tensor([0.3718]))])\n",
            "Epoch: 80  |   Loss: 0.03132382780313492    |   Test Loss 0.07232122868299484\n",
            "OrderedDict([('weights', tensor([0.5459])), ('bias', tensor([0.3648]))])\n",
            "Epoch: 90  |   Loss: 0.02788739837706089    |   Test Loss 0.06473556160926819\n",
            "OrderedDict([('weights', tensor([0.5629])), ('bias', tensor([0.3573]))])\n",
            "Epoch: 100  |   Loss: 0.024458957836031914    |   Test Loss 0.05646304413676262\n",
            "OrderedDict([('weights', tensor([0.5800])), ('bias', tensor([0.3503]))])\n",
            "Epoch: 110  |   Loss: 0.021020207554101944    |   Test Loss 0.04819049686193466\n",
            "OrderedDict([('weights', tensor([0.5972])), ('bias', tensor([0.3433]))])\n",
            "Epoch: 120  |   Loss: 0.01758546568453312    |   Test Loss 0.04060482233762741\n",
            "OrderedDict([('weights', tensor([0.6141])), ('bias', tensor([0.3358]))])\n",
            "Epoch: 130  |   Loss: 0.014155393466353416    |   Test Loss 0.03233227878808975\n",
            "OrderedDict([('weights', tensor([0.6313])), ('bias', tensor([0.3288]))])\n",
            "Epoch: 140  |   Loss: 0.010716589167714119    |   Test Loss 0.024059748277068138\n",
            "OrderedDict([('weights', tensor([0.6485])), ('bias', tensor([0.3218]))])\n",
            "Epoch: 150  |   Loss: 0.0072835334576666355    |   Test Loss 0.016474086791276932\n",
            "OrderedDict([('weights', tensor([0.6654])), ('bias', tensor([0.3143]))])\n",
            "Epoch: 160  |   Loss: 0.0038517764769494534    |   Test Loss 0.008201557211577892\n",
            "OrderedDict([('weights', tensor([0.6826])), ('bias', tensor([0.3073]))])\n",
            "Epoch: 170  |   Loss: 0.008932482451200485    |   Test Loss 0.005023092031478882\n",
            "OrderedDict([('weights', tensor([0.6951])), ('bias', tensor([0.2993]))])\n",
            "Epoch: 180  |   Loss: 0.008932482451200485    |   Test Loss 0.005023092031478882\n",
            "OrderedDict([('weights', tensor([0.6951])), ('bias', tensor([0.2993]))])\n",
            "Epoch: 190  |   Loss: 0.008932482451200485    |   Test Loss 0.005023092031478882\n",
            "OrderedDict([('weights', tensor([0.6951])), ('bias', tensor([0.2993]))])\n"
          ]
        }
      ]
    },
    {
      "cell_type": "code",
      "source": [
        "import numpy as np\n",
        "# convert loss values to numpy\n",
        "loss_values_np = np.array(torch.tensor(loss_values).numpy())\n",
        "\n",
        "# plot the loss curves\n",
        "\n",
        "plt.plot(epoch_count, loss_values_np, label = \"Train loss\")\n",
        "plt.plot(epoch_count, test_loss_values, label = \"Test loss\")\n",
        "plt.title(\"training and test loss curves\")\n",
        "plt.ylabel(\"Loss\")\n",
        "plt.xlabel(\"Epochs\")\n",
        "plt.legend();"
      ],
      "metadata": {
        "colab": {
          "base_uri": "https://localhost:8080/",
          "height": 472
        },
        "id": "xx1Y4WrAnZvg",
        "outputId": "bbc22e5e-d6a0-4104-b4ea-7ce95175a99c"
      },
      "execution_count": null,
      "outputs": [
        {
          "output_type": "display_data",
          "data": {
            "text/plain": [
              "<Figure size 640x480 with 1 Axes>"
            ],
            "image/png": "[encoded data removed]"
          },
          "metadata": {}
        }
      ]
    },
    {
      "cell_type": "code",
      "source": [
        "with torch.inference_mode():\n",
        "    y_preds_new = model_0(X_test)\n",
        "\n",
        "plot_preds(predictions=y_preds_new)"
      ],
      "metadata": {
        "colab": {
          "base_uri": "https://localhost:8080/",
          "height": 599
        },
        "id": "5zxTNTXjZkRZ",
        "outputId": "1d0359e1-5fe9-44b0-ece4-fcb56afc284a"
      },
      "execution_count": null,
      "outputs": [
        {
          "output_type": "display_data",
          "data": {
            "text/plain": [
              "<Figure size 1000x700 with 1 Axes>"
            ],
            "image/png": "[encoded data removed]"
          },
          "metadata": {}
        }
      ]
    },
    {
      "cell_type": "markdown",
      "source": [
        "# saving the model"
      ],
      "metadata": {
        "id": "0-IZczWNxJ39"
      }
    },
    {
      "cell_type": "markdown",
      "source": [
        "\n",
        "There are three main methods you should know about for saving and loading models in PyTorch:\n",
        "\n",
        "1. **`torch.save()`:** This method allows you to save a PyTorch object in Python pickle format.\n",
        "\n",
        "2. **`torch.load()`:** This method allows you to load a saved PyTorch model.\n",
        "\n",
        "3. **`torch.nn.Module.load_state_dict()`:** This method allows you to load a model's saved state dictionary.\n",
        "\n",
        "[Learn more](https://pytorch.org/tutorials/beginner/saving_loading_models.html#:~:text=To%20save%20multiple%20components%2C%20organize,locally%20using%20torch.load()%20.)\n",
        "\n",
        "---\n",
        "\n"
      ],
      "metadata": {
        "id": "hg6lL8_-yKGi"
      }
    },
    {
      "cell_type": "code",
      "source": [
        "# Print model's state_dict\n",
        "print(\"Model's state_dict:\")\n",
        "for param_tensor in model_0.state_dict():\n",
        "    print(param_tensor, \"\\t\", model_0.state_dict()[param_tensor].size())"
      ],
      "metadata": {
        "colab": {
          "base_uri": "https://localhost:8080/"
        },
        "id": "AyVutZS-Qusd",
        "outputId": "86a8d526-6e5d-407d-de69-6b678348520c"
      },
      "execution_count": null,
      "outputs": [
        {
          "output_type": "stream",
          "name": "stdout",
          "text": [
            "Model's state_dict:\n",
            "weights \t torch.Size([1])\n",
            "bias \t torch.Size([1])\n"
          ]
        }
      ]
    },
    {
      "cell_type": "markdown",
      "source": [
        "#### torch.save\n",
        "\n",
        "`torch.save(obj, f, pickle_module=pickle, pickle_protocol=DEFAULT_PROTOCOL, _use_new_zipfile_serialization=True)`\n",
        "Saves an object to a disk file.\n",
        "\n",
        "Parameters\n",
        "* `obj (object)` – saved object\n",
        "\n",
        "* `f (Union[str, PathLike, BinaryIO, IO[bytes]])` – a file-like object (has to implement write and flush) or a string or os.PathLike object containing a file name\n",
        "\n",
        "* `pickle_module (Any)` – module used for pickling metadata and objects\n",
        "\n",
        "* `pickle_protocol (int)` – can be specified to override the default protocol"
      ],
      "metadata": {
        "id": "NLG9Bh1OVDmA"
      }
    },
    {
      "cell_type": "code",
      "source": [
        "# saving our model\n",
        "from pathlib import Path\n",
        "\n",
        "# 1. create models directory\n",
        "MODEL_PATH = Path(\"models\")\n",
        "MODEL_PATH.mkdir(parents=True, exist_ok=True)\n",
        "\n",
        "# 2. cretae model save path\n",
        "MODEL_NAME = \"pytorch01workflow_model.pth\"  # saving as .pt or .pth pytorch file extension\n",
        "MODEL_SAVE_PATH = MODEL_PATH / MODEL_NAME\n",
        "\n",
        "# 3. save the model state dict\n",
        "print(f\"saving model to {MODEL_SAVE_PATH}\")\n",
        "torch.save(obj=model_0.state_dict(),\n",
        "           f=MODEL_SAVE_PATH)\n"
      ],
      "metadata": {
        "id": "GbZXkXwKouoK",
        "colab": {
          "base_uri": "https://localhost:8080/"
        },
        "outputId": "a9281fed-07fe-487f-a22d-3b95af4b493f"
      },
      "execution_count": null,
      "outputs": [
        {
          "output_type": "stream",
          "name": "stdout",
          "text": [
            "saving model to models/pytorch01workflow_model.pth\n"
          ]
        }
      ]
    },
    {
      "cell_type": "code",
      "source": [
        "## loading a Pytorch model\n",
        "\n",
        "model = torch.load(f=\"/content/models/pytorch01workflow_model.pth\")"
      ],
      "metadata": {
        "id": "-dmEFK2wO2Vb"
      },
      "execution_count": null,
      "outputs": []
    },
    {
      "cell_type": "code",
      "source": [
        "# to load in a saved state-dict, we have to instantiate a new instance of our model class\n",
        "loaded_model_0 = LinearRegressionModel()\n",
        "\n",
        "# load the saved state_dict of model\n",
        "loaded_model_0.load_state_dict(torch.load(f=\"/content/models/pytorch01workflow_model.pth\"))"
      ],
      "metadata": {
        "colab": {
          "base_uri": "https://localhost:8080/"
        },
        "id": "h0E1ntLRWqyi",
        "outputId": "160483ce-66f7-46f2-825f-48833e035013"
      },
      "execution_count": null,
      "outputs": [
        {
          "output_type": "execute_result",
          "data": {
            "text/plain": [
              "<All keys matched successfully>"
            ]
          },
          "metadata": {},
          "execution_count": 22
        }
      ]
    },
    {
      "cell_type": "code",
      "source": [
        "# making some predictions with our model\n",
        "\n",
        "loaded_model_0.eval()\n",
        "with torch.inference_mode():\n",
        "    loaded_model_preds = loaded_model_0(X_test)\n",
        "loaded_model_preds"
      ],
      "metadata": {
        "colab": {
          "base_uri": "https://localhost:8080/"
        },
        "id": "frGqnEYKY9Zk",
        "outputId": "84e07d76-b78f-4669-904a-2e345fc001e3"
      },
      "execution_count": null,
      "outputs": [
        {
          "output_type": "execute_result",
          "data": {
            "text/plain": [
              "tensor([[0.8685],\n",
              "        [0.8825],\n",
              "        [0.8965],\n",
              "        [0.9105],\n",
              "        [0.9245],\n",
              "        [0.9384],\n",
              "        [0.9524],\n",
              "        [0.9664],\n",
              "        [0.9804],\n",
              "        [0.9944]])"
            ]
          },
          "metadata": {},
          "execution_count": 23
        }
      ]
    },
    {
      "cell_type": "code",
      "source": [
        "y_preds_new == loaded_model_preds"
      ],
      "metadata": {
        "colab": {
          "base_uri": "https://localhost:8080/"
        },
        "id": "U32379aRZRto",
        "outputId": "f18f6abf-0c0d-4cfc-b088-cc658d9c429d"
      },
      "execution_count": null,
      "outputs": [
        {
          "output_type": "execute_result",
          "data": {
            "text/plain": [
              "tensor([[True],\n",
              "        [True],\n",
              "        [True],\n",
              "        [True],\n",
              "        [True],\n",
              "        [True],\n",
              "        [True],\n",
              "        [True],\n",
              "        [True],\n",
              "        [True]])"
            ]
          },
          "metadata": {},
          "execution_count": 26
        }
      ]
    },
    {
      "cell_type": "markdown",
      "source": [
        "# Putting it all together in one place"
      ],
      "metadata": {
        "id": "kGz-z7iLQ-I8"
      }
    },
    {
      "cell_type": "markdown",
      "source": [
        "### import necessarry dependancies"
      ],
      "metadata": {
        "id": "PxPYAsvFRyjr"
      }
    },
    {
      "cell_type": "code",
      "source": [
        "import torch\n",
        "from torch import nn\n",
        "import matplotlib.pyplot as plt\n"
      ],
      "metadata": {
        "id": "bi7q99RSRFpD"
      },
      "execution_count": 2,
      "outputs": []
    },
    {
      "cell_type": "code",
      "source": [
        "# create device agnostic code\n",
        "\n",
        "device = \"cuda\" if torch.cuda.is_available() else \"cpu\"\n",
        "device"
      ],
      "metadata": {
        "colab": {
          "base_uri": "https://localhost:8080/",
          "height": 35
        },
        "id": "NlC1Y8AdRi9c",
        "outputId": "5592d627-c547-460b-f4dc-f77670f0382f"
      },
      "execution_count": 3,
      "outputs": [
        {
          "output_type": "execute_result",
          "data": {
            "text/plain": [
              "'cpu'"
            ],
            "application/vnd.google.colaboratory.intrinsic+json": {
              "type": "string"
            }
          },
          "metadata": {},
          "execution_count": 3
        }
      ]
    },
    {
      "cell_type": "markdown",
      "source": [
        "### 6.1 Data"
      ],
      "metadata": {
        "id": "pFO7aEi5RrFj"
      }
    },
    {
      "cell_type": "code",
      "source": [
        "# create some data using y = a + bX\n",
        "weight = 0.7\n",
        "bias = 0.3\n",
        "\n",
        "# create range values\n",
        "start = 0\n",
        "end = 1\n",
        "step = 0.02\n",
        "\n",
        "# create X and y( feautures and labels)\n",
        "X = torch.arange(start, end, step).unsqueeze(dim=1)\n",
        "y = bias + X * weight\n",
        "\n",
        "# visualize\n",
        "X[:10], y[:10]"
      ],
      "metadata": {
        "colab": {
          "base_uri": "https://localhost:8080/"
        },
        "id": "NpU-t9d-SOe1",
        "outputId": "11c08fb8-9eb7-4b99-9cf8-4513f4f63d64"
      },
      "execution_count": 4,
      "outputs": [
        {
          "output_type": "execute_result",
          "data": {
            "text/plain": [
              "(tensor([[0.0000],\n",
              "         [0.0200],\n",
              "         [0.0400],\n",
              "         [0.0600],\n",
              "         [0.0800],\n",
              "         [0.1000],\n",
              "         [0.1200],\n",
              "         [0.1400],\n",
              "         [0.1600],\n",
              "         [0.1800]]),\n",
              " tensor([[0.3000],\n",
              "         [0.3140],\n",
              "         [0.3280],\n",
              "         [0.3420],\n",
              "         [0.3560],\n",
              "         [0.3700],\n",
              "         [0.3840],\n",
              "         [0.3980],\n",
              "         [0.4120],\n",
              "         [0.4260]]))"
            ]
          },
          "metadata": {},
          "execution_count": 4
        }
      ]
    },
    {
      "cell_type": "code",
      "source": [
        "# split the data\n",
        "train_split = int(0.8 * len(X))\n",
        "X_train, y_train = X[:train_split], y[:train_split]\n",
        "X_test, y_test = X[train_split:], y[train_split:]\n",
        "len(X_train), len(X_test), len(y_train), len(y_test)"
      ],
      "metadata": {
        "colab": {
          "base_uri": "https://localhost:8080/"
        },
        "id": "HuOjbGkBTNBF",
        "outputId": "17891db9-8cbe-4a43-cdb8-1ad5667cc7e8"
      },
      "execution_count": 5,
      "outputs": [
        {
          "output_type": "execute_result",
          "data": {
            "text/plain": [
              "(40, 10, 40, 10)"
            ]
          },
          "metadata": {},
          "execution_count": 5
        }
      ]
    },
    {
      "cell_type": "code",
      "source": [
        "# visualize data\n",
        "def plot_preds(train_data, train_labels,test_data, test_labels, predictions=None):\n",
        "    \"\"\"\n",
        "    args:\n",
        "        train_data: training data\n",
        "        train_labels: training labels\n",
        "        test_data: test data\n",
        "        test_labels: test labels\n",
        "        predictions: predictions\n",
        "    \"\"\"\n",
        "    plt.figure(figsize=(10, 7))\n",
        "    # plot training data in blue\n",
        "    plt.scatter(train_data, train_labels, c=\"b\", s=4, label=\"Training data\")\n",
        "    # plot test data\n",
        "    plt.scatter(test_data, test_labels, c=\"g\", s=4, label=\"Testing data\")\n",
        "\n",
        "    # if predictions exist, plot them\n",
        "    if predictions is not None:\n",
        "        # plot the predictions if they exist\n",
        "        plt.scatter(test_data, predictions, c=\"r\", s=4, label=\"Predictions\")\n",
        "\n",
        "    # create a legend\n",
        "    plt.legend(prop={\"size\": 14});"
      ],
      "metadata": {
        "id": "SCAnYEM3Tv2Z"
      },
      "execution_count": 6,
      "outputs": []
    },
    {
      "cell_type": "code",
      "source": [
        "plot_preds(X_train, y_train, X_test, y_test)"
      ],
      "metadata": {
        "colab": {
          "base_uri": "https://localhost:8080/",
          "height": 599
        },
        "id": "MN14pBs-V3tt",
        "outputId": "d54ad310-7930-4d7d-b139-099b8885b91f"
      },
      "execution_count": 7,
      "outputs": [
        {
          "output_type": "display_data",
          "data": {
            "text/plain": [
              "<Figure size 1000x700 with 1 Axes>"
            ],
            "image/png": "[encoded data removed]"
          },
          "metadata": {}
        }
      ]
    },
    {
      "cell_type": "markdown",
      "source": [
        "### 6.2 building a pytorch linear model"
      ],
      "metadata": {
        "id": "pFAm9kO3WCCu"
      }
    },
    {
      "cell_type": "code",
      "source": [
        "# create a linear model by subclassing nn.Module\n",
        "class LinearRegressionModelV2(nn.Module):\n",
        "    def __init__(self):\n",
        "        super().__init__()\n",
        "        # using nn.linear() for creating model parameters https://pytorch.org/docs/stable/generated/torch.nn.Linear.html#torch.nn.Linear\n",
        "        self.linear_layer = nn.Linear(in_features=1,    #dims of X\n",
        "                                      out_features=1)   #dims of y\n",
        "\n",
        "    def forward(self, x: torch.Tensor) -> torch.Tensor:\n",
        "        return self.linear_layer(x)\n",
        "\n",
        "# set manual seed ie random seed\n",
        "torch.manual_seed(42)\n",
        "model_1 = LinearRegressionModelV2()\n",
        "model_1, model_1.state_dict()\n"
      ],
      "metadata": {
        "colab": {
          "base_uri": "https://localhost:8080/"
        },
        "id": "jJS9vkBiWWvv",
        "outputId": "29a51280-05a2-47e0-ec3f-3a5ecfc87e63"
      },
      "execution_count": 8,
      "outputs": [
        {
          "output_type": "execute_result",
          "data": {
            "text/plain": [
              "(LinearRegressionModelV2(\n",
              "   (linear_layer): Linear(in_features=1, out_features=1, bias=True)\n",
              " ),\n",
              " OrderedDict([('linear_layer.weight', tensor([[0.7645]])),\n",
              "              ('linear_layer.bias', tensor([0.8300]))]))"
            ]
          },
          "metadata": {},
          "execution_count": 8
        }
      ]
    },
    {
      "cell_type": "code",
      "source": [
        "# set the model to use target device. this enables the model to be ingrained into the devices' memory\n",
        "model_1.to(device)\n",
        "next(model_1.parameters()).device"
      ],
      "metadata": {
        "colab": {
          "base_uri": "https://localhost:8080/"
        },
        "id": "IdJZMb8fZd14",
        "outputId": "1a1a1869-5716-48f8-9387-fa58c71676b8"
      },
      "execution_count": 9,
      "outputs": [
        {
          "output_type": "execute_result",
          "data": {
            "text/plain": [
              "device(type='cpu')"
            ]
          },
          "metadata": {},
          "execution_count": 9
        }
      ]
    },
    {
      "cell_type": "markdown",
      "source": [
        "### 6.3 training"
      ],
      "metadata": {
        "id": "2nQqlYOLazC7"
      }
    },
    {
      "cell_type": "markdown",
      "source": [
        "we need a\n",
        "* loss function\n",
        "* optimizer\n",
        "* training loop\n",
        "* testing loop"
      ],
      "metadata": {
        "id": "dcJCNnSLa8FZ"
      }
    },
    {
      "cell_type": "code",
      "source": [
        "# loss function\n",
        "loss_fn = nn.L1Loss()\n",
        "\n",
        "# optimizer\n",
        "optimizer = torch.optim.SGD(params=model_1.parameters(),\n",
        "                            lr=0.01)\n"
      ],
      "metadata": {
        "id": "u8yM2UqJbMhN"
      },
      "execution_count": 10,
      "outputs": []
    },
    {
      "cell_type": "code",
      "source": [
        "# set random seed\n",
        "torch.manual_seed(42)\n",
        "\n",
        "# set epochs ie no of loops\n",
        "epochs = 200\n",
        "\n",
        "for epoch in range(epochs):\n",
        "    # set to training mode\n",
        "    model_1.train()\n",
        "\n",
        "    # forward pass\n",
        "    y_pred = model_1(X_train)\n",
        "\n",
        "    # calculate the loss\n",
        "    loss = loss_fn(y_pred, y_train)\n",
        "\n",
        "    # optimizer zero grad\n",
        "    optimizer.zero_grad()\n",
        "\n",
        "    # backpropagation\n",
        "    loss.backward()\n",
        "\n",
        "    # optimizer step\n",
        "    optimizer.step()\n",
        "\n",
        "    ### testing\n",
        "    model_1.eval()\n",
        "    with torch.inference_mode():\n",
        "        test_pred = model_1(X_test)\n",
        "        test_loss = loss_fn(test_pred, y_test)\n",
        "\n",
        "    # visualize\n",
        "    if epoch % 10 == 0:\n",
        "        print(f\"Epoch: {epoch} | Loss: {loss} | Test loss: {test_loss}\")"
      ],
      "metadata": {
        "colab": {
          "base_uri": "https://localhost:8080/"
        },
        "id": "VjYlKd99biQd",
        "outputId": "9d24f08e-b012-4b93-9bbe-481ae9cfb923"
      },
      "execution_count": 11,
      "outputs": [
        {
          "output_type": "stream",
          "name": "stdout",
          "text": [
            "Epoch: 0 | Loss: 0.5551779866218567 | Test loss: 0.5739762187004089\n",
            "Epoch: 10 | Loss: 0.4399680495262146 | Test loss: 0.4392663538455963\n",
            "Epoch: 20 | Loss: 0.3247582018375397 | Test loss: 0.30455657839775085\n",
            "Epoch: 30 | Loss: 0.20954827964305878 | Test loss: 0.16984674334526062\n",
            "Epoch: 40 | Loss: 0.09433844685554504 | Test loss: 0.03513689711689949\n",
            "Epoch: 50 | Loss: 0.023886386305093765 | Test loss: 0.04784906655550003\n",
            "Epoch: 60 | Loss: 0.0199567973613739 | Test loss: 0.04580312222242355\n",
            "Epoch: 70 | Loss: 0.016517987474799156 | Test loss: 0.0375305712223053\n",
            "Epoch: 80 | Loss: 0.013089170679450035 | Test loss: 0.029944902285933495\n",
            "Epoch: 90 | Loss: 0.009653178043663502 | Test loss: 0.02167237363755703\n",
            "Epoch: 100 | Loss: 0.006215679459273815 | Test loss: 0.014086711220443249\n",
            "Epoch: 110 | Loss: 0.002787243574857712 | Test loss: 0.005814164876937866\n",
            "Epoch: 120 | Loss: 0.0012645035749301314 | Test loss: 0.013801807537674904\n",
            "Epoch: 130 | Loss: 0.0012645035749301314 | Test loss: 0.013801807537674904\n",
            "Epoch: 140 | Loss: 0.0012645035749301314 | Test loss: 0.013801807537674904\n",
            "Epoch: 150 | Loss: 0.0012645035749301314 | Test loss: 0.013801807537674904\n",
            "Epoch: 160 | Loss: 0.0012645035749301314 | Test loss: 0.013801807537674904\n",
            "Epoch: 170 | Loss: 0.0012645035749301314 | Test loss: 0.013801807537674904\n",
            "Epoch: 180 | Loss: 0.0012645035749301314 | Test loss: 0.013801807537674904\n",
            "Epoch: 190 | Loss: 0.0012645035749301314 | Test loss: 0.013801807537674904\n"
          ]
        }
      ]
    },
    {
      "cell_type": "code",
      "source": [
        "# visualize if we approached our required parameters\n",
        "model_1.state_dict(), weight, bias"
      ],
      "metadata": {
        "colab": {
          "base_uri": "https://localhost:8080/"
        },
        "id": "Ja4m9NFpfK3e",
        "outputId": "9b10f1ea-e93e-459f-eadf-1e8e45f10e7c"
      },
      "execution_count": 12,
      "outputs": [
        {
          "output_type": "execute_result",
          "data": {
            "text/plain": [
              "(OrderedDict([('linear_layer.weight', tensor([[0.6968]])),\n",
              "              ('linear_layer.bias', tensor([0.3025]))]),\n",
              " 0.7,\n",
              " 0.3)"
            ]
          },
          "metadata": {},
          "execution_count": 12
        }
      ]
    },
    {
      "cell_type": "code",
      "source": [
        "with torch.inference_mode():\n",
        "    y_preds = model_1(X_test)\n",
        "y_preds"
      ],
      "metadata": {
        "colab": {
          "base_uri": "https://localhost:8080/"
        },
        "id": "uCUXXFUGfsko",
        "outputId": "717258e6-ead0-409d-9fac-87e2b0e83aa3"
      },
      "execution_count": 13,
      "outputs": [
        {
          "output_type": "execute_result",
          "data": {
            "text/plain": [
              "tensor([[0.8600],\n",
              "        [0.8739],\n",
              "        [0.8878],\n",
              "        [0.9018],\n",
              "        [0.9157],\n",
              "        [0.9296],\n",
              "        [0.9436],\n",
              "        [0.9575],\n",
              "        [0.9714],\n",
              "        [0.9854]])"
            ]
          },
          "metadata": {},
          "execution_count": 13
        }
      ]
    },
    {
      "cell_type": "code",
      "source": [
        "plot_preds(train_data=X_train,\n",
        "           train_labels=y_train,\n",
        "           test_data=X_test,\n",
        "           test_labels=y_test,\n",
        "           predictions= y_preds)"
      ],
      "metadata": {
        "colab": {
          "base_uri": "https://localhost:8080/",
          "height": 599
        },
        "id": "3QMEJ7Itgkd6",
        "outputId": "e5347fb0-70a2-4554-edce-1ceff7636ca6"
      },
      "execution_count": 14,
      "outputs": [
        {
          "output_type": "display_data",
          "data": {
            "text/plain": [
              "<Figure size 1000x700 with 1 Axes>"
            ],
            "image/png": "[encoded data removed]"
          },
          "metadata": {}
        }
      ]
    },
    {
      "cell_type": "code",
      "source": [
        "### 6.5 saving the model\n",
        "\n",
        "# saving our model\n",
        "from pathlib import Path\n",
        "\n",
        "# 1. create models directory\n",
        "MODEL_PATH = Path(\"models\")\n",
        "MODEL_PATH.mkdir(parents=True, exist_ok=True)\n",
        "\n",
        "# 2. cretae model save path\n",
        "MODEL_NAME = \"pytorch01workflowmodel_V2.pth\"  # saving as .pt or .pth pytorch file extension\n",
        "MODEL_SAVE_PATH = MODEL_PATH / MODEL_NAME\n",
        "\n",
        "# 3. save the model state dict\n",
        "print(f\"saving model to {MODEL_SAVE_PATH}\")\n",
        "torch.save(obj=model_1.state_dict(),\n",
        "           f=MODEL_SAVE_PATH)"
      ],
      "metadata": {
        "colab": {
          "base_uri": "https://localhost:8080/"
        },
        "id": "0FNPNBfGh3FW",
        "outputId": "c4a9891f-8617-4faa-fb9b-49842e24d950"
      },
      "execution_count": 16,
      "outputs": [
        {
          "output_type": "stream",
          "name": "stdout",
          "text": [
            "saving model to models/pytorch01workflowmodel_V2.pth\n"
          ]
        }
      ]
    },
    {
      "cell_type": "code",
      "source": [
        "# loading the model\n",
        "loaded_model_1 = LinearRegressionModelV2()\n",
        "\n",
        "# loading the models state_dict\n",
        "loaded_model_1.load_state_dict(torch.load(f=\"/content/models/pytorch01workflowmodel_V2.pth\"))\n",
        "\n",
        "#put the model to the device\n",
        "loaded_model_1.to(device)"
      ],
      "metadata": {
        "colab": {
          "base_uri": "https://localhost:8080/"
        },
        "id": "cF3zu1eDidaM",
        "outputId": "f8a730b9-342e-4080-c78d-555267dc5c84"
      },
      "execution_count": 17,
      "outputs": [
        {
          "output_type": "execute_result",
          "data": {
            "text/plain": [
              "LinearRegressionModelV2(\n",
              "  (linear_layer): Linear(in_features=1, out_features=1, bias=True)\n",
              ")"
            ]
          },
          "metadata": {},
          "execution_count": 17
        }
      ]
    },
    {
      "cell_type": "code",
      "source": [
        "with torch.inference_mode():\n",
        "    loaded_model_1_preds = loaded_model_1(X_test)\n",
        "loaded_model_1_preds"
      ],
      "metadata": {
        "colab": {
          "base_uri": "https://localhost:8080/"
        },
        "id": "ymR0P9ORJFhv",
        "outputId": "394d939f-6e32-4519-f44f-3f6af23a012c"
      },
      "execution_count": 18,
      "outputs": [
        {
          "output_type": "execute_result",
          "data": {
            "text/plain": [
              "tensor([[0.8600],\n",
              "        [0.8739],\n",
              "        [0.8878],\n",
              "        [0.9018],\n",
              "        [0.9157],\n",
              "        [0.9296],\n",
              "        [0.9436],\n",
              "        [0.9575],\n",
              "        [0.9714],\n",
              "        [0.9854]])"
            ]
          },
          "metadata": {},
          "execution_count": 18
        }
      ]
    },
    {
      "cell_type": "code",
      "source": [
        "y_preds == loaded_model_1_preds"
      ],
      "metadata": {
        "colab": {
          "base_uri": "https://localhost:8080/"
        },
        "id": "D5lGLdnkJNqe",
        "outputId": "41c4627a-aec2-4e34-9998-f7e2b7a91ce4"
      },
      "execution_count": 20,
      "outputs": [
        {
          "output_type": "execute_result",
          "data": {
            "text/plain": [
              "tensor([[True],\n",
              "        [True],\n",
              "        [True],\n",
              "        [True],\n",
              "        [True],\n",
              "        [True],\n",
              "        [True],\n",
              "        [True],\n",
              "        [True],\n",
              "        [True]])"
            ]
          },
          "metadata": {},
          "execution_count": 20
        }
      ]
    },
    {
      "cell_type": "code",
      "source": [],
      "metadata": {
        "id": "0odt8qmFJREP"
      },
      "execution_count": null,
      "outputs": []
    }
  ]
}
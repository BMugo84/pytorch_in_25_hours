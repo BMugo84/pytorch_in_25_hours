{
  "nbformat": 4,
  "nbformat_minor": 0,
  "metadata": {
    "colab": {
      "provenance": [],
      "authorship_tag": "ABX9TyN+EI2k5Rdd8U8nbQqBwf5F",
      "include_colab_link": true
    },
    "kernelspec": {
      "name": "python3",
      "display_name": "Python 3"
    },
    "language_info": {
      "name": "python"
    }
  },
  "cells": [
    {
      "cell_type": "markdown",
      "metadata": {
        "id": "view-in-github",
        "colab_type": "text"
      },
      "source": [
        "<a href=\"https://colab.research.google.com/github/BMugo84/pytorch_in_25_hours/blob/main/08_pytorch_paper_replicating.ipynb\" target=\"_parent\"><img src=\"https://colab.research.google.com/assets/colab-badge.svg\" alt=\"Open In Colab\"/></a>"
      ]
    },
    {
      "cell_type": "markdown",
      "source": [
        "\n",
        "**Notes:  Reading Machine Learning Papers**\n",
        "\n",
        "**Paper:** An image is worth 16x16 words (Attention is all you need)\n",
        "\n",
        "**Transformers:** This is a deep-learning model that adopts the mechanism of self-attention, differentially weighing the significance of each part of input data (Wikipedia).\n",
        "\n",
        "**Attention:** This is the most vivid part of an image that captures your eyes and delivers the image as a whole. E.g., a dog in the grass by a tree under daylight.\n",
        "\n",
        "Attention uses selective focus, importance weighting, context dependence, relationships, and probabilistic models.\n",
        "\n",
        "**Sources:**\n",
        "- arxiv.org\n",
        "- AK-Twitter (@akallz)\n",
        "- vit-pytorch\n",
        "- paperswithcode.com\n",
        "\n",
        "We will transform the paper into a usable/deeper-get set.\n",
        "\n",
        "**Paper overview:**\n",
        "1. Get set up\n",
        "2. Introduce machine learning paper replication\n",
        "3. Replicate ViT for food-vision-mini\n",
        "4. Train a custom ViT\n",
        "5. Feature extraction with a pretrained ViT\n",
        "\n",
        "---"
      ],
      "metadata": {
        "id": "L7PbeNgy1_Bf"
      }
    }
  ]
}